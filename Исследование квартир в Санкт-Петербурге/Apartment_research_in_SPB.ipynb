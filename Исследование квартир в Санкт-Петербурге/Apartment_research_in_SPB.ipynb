{
 "cells": [
  {
   "cell_type": "markdown",
   "id": "f677b494",
   "metadata": {},
   "source": [
    "## Яндекс недвижимость"
   ]
  },
  {
   "cell_type": "markdown",
   "id": "6f56e5dd",
   "metadata": {},
   "source": [
    "Задача проекта: по предоставленных данным установить параметры по которым в дальнейшем будет возможно определять рыночную стоимость объектов недвижимости."
   ]
  },
  {
   "cell_type": "markdown",
   "id": "10a8ed37",
   "metadata": {},
   "source": [
    "## 1 Обзор данных"
   ]
  },
  {
   "cell_type": "code",
   "execution_count": 1,
   "id": "160ae760",
   "metadata": {},
   "outputs": [],
   "source": [
    "import pandas as pd \n",
    "import datetime as dt\n",
    "import matplotlib.pyplot as plt\n",
    "import seaborn as sns"
   ]
  },
  {
   "cell_type": "code",
   "execution_count": 2,
   "id": "5769f364",
   "metadata": {},
   "outputs": [
    {
     "data": {
      "text/html": [
       "<div>\n",
       "<style scoped>\n",
       "    .dataframe tbody tr th:only-of-type {\n",
       "        vertical-align: middle;\n",
       "    }\n",
       "\n",
       "    .dataframe tbody tr th {\n",
       "        vertical-align: top;\n",
       "    }\n",
       "\n",
       "    .dataframe thead th {\n",
       "        text-align: right;\n",
       "    }\n",
       "</style>\n",
       "<table border=\"1\" class=\"dataframe\">\n",
       "  <thead>\n",
       "    <tr style=\"text-align: right;\">\n",
       "      <th></th>\n",
       "      <th>total_images</th>\n",
       "      <th>last_price</th>\n",
       "      <th>total_area</th>\n",
       "      <th>first_day_exposition</th>\n",
       "      <th>rooms</th>\n",
       "      <th>ceiling_height</th>\n",
       "      <th>floors_total</th>\n",
       "      <th>living_area</th>\n",
       "      <th>floor</th>\n",
       "      <th>is_apartment</th>\n",
       "      <th>...</th>\n",
       "      <th>kitchen_area</th>\n",
       "      <th>balcony</th>\n",
       "      <th>locality_name</th>\n",
       "      <th>airports_nearest</th>\n",
       "      <th>cityCenters_nearest</th>\n",
       "      <th>parks_around3000</th>\n",
       "      <th>parks_nearest</th>\n",
       "      <th>ponds_around3000</th>\n",
       "      <th>ponds_nearest</th>\n",
       "      <th>days_exposition</th>\n",
       "    </tr>\n",
       "  </thead>\n",
       "  <tbody>\n",
       "    <tr>\n",
       "      <th>0</th>\n",
       "      <td>20</td>\n",
       "      <td>13000000.0</td>\n",
       "      <td>108.0</td>\n",
       "      <td>2019-03-07T00:00:00</td>\n",
       "      <td>3</td>\n",
       "      <td>2.70</td>\n",
       "      <td>16.0</td>\n",
       "      <td>51.0</td>\n",
       "      <td>8</td>\n",
       "      <td>NaN</td>\n",
       "      <td>...</td>\n",
       "      <td>25.0</td>\n",
       "      <td>NaN</td>\n",
       "      <td>Санкт-Петербург</td>\n",
       "      <td>18863.0</td>\n",
       "      <td>16028.0</td>\n",
       "      <td>1.0</td>\n",
       "      <td>482.0</td>\n",
       "      <td>2.0</td>\n",
       "      <td>755.0</td>\n",
       "      <td>NaN</td>\n",
       "    </tr>\n",
       "    <tr>\n",
       "      <th>1</th>\n",
       "      <td>7</td>\n",
       "      <td>3350000.0</td>\n",
       "      <td>40.4</td>\n",
       "      <td>2018-12-04T00:00:00</td>\n",
       "      <td>1</td>\n",
       "      <td>NaN</td>\n",
       "      <td>11.0</td>\n",
       "      <td>18.6</td>\n",
       "      <td>1</td>\n",
       "      <td>NaN</td>\n",
       "      <td>...</td>\n",
       "      <td>11.0</td>\n",
       "      <td>2.0</td>\n",
       "      <td>посёлок Шушары</td>\n",
       "      <td>12817.0</td>\n",
       "      <td>18603.0</td>\n",
       "      <td>0.0</td>\n",
       "      <td>NaN</td>\n",
       "      <td>0.0</td>\n",
       "      <td>NaN</td>\n",
       "      <td>81.0</td>\n",
       "    </tr>\n",
       "    <tr>\n",
       "      <th>2</th>\n",
       "      <td>10</td>\n",
       "      <td>5196000.0</td>\n",
       "      <td>56.0</td>\n",
       "      <td>2015-08-20T00:00:00</td>\n",
       "      <td>2</td>\n",
       "      <td>NaN</td>\n",
       "      <td>5.0</td>\n",
       "      <td>34.3</td>\n",
       "      <td>4</td>\n",
       "      <td>NaN</td>\n",
       "      <td>...</td>\n",
       "      <td>8.3</td>\n",
       "      <td>0.0</td>\n",
       "      <td>Санкт-Петербург</td>\n",
       "      <td>21741.0</td>\n",
       "      <td>13933.0</td>\n",
       "      <td>1.0</td>\n",
       "      <td>90.0</td>\n",
       "      <td>2.0</td>\n",
       "      <td>574.0</td>\n",
       "      <td>558.0</td>\n",
       "    </tr>\n",
       "    <tr>\n",
       "      <th>3</th>\n",
       "      <td>0</td>\n",
       "      <td>64900000.0</td>\n",
       "      <td>159.0</td>\n",
       "      <td>2015-07-24T00:00:00</td>\n",
       "      <td>3</td>\n",
       "      <td>NaN</td>\n",
       "      <td>14.0</td>\n",
       "      <td>NaN</td>\n",
       "      <td>9</td>\n",
       "      <td>NaN</td>\n",
       "      <td>...</td>\n",
       "      <td>NaN</td>\n",
       "      <td>0.0</td>\n",
       "      <td>Санкт-Петербург</td>\n",
       "      <td>28098.0</td>\n",
       "      <td>6800.0</td>\n",
       "      <td>2.0</td>\n",
       "      <td>84.0</td>\n",
       "      <td>3.0</td>\n",
       "      <td>234.0</td>\n",
       "      <td>424.0</td>\n",
       "    </tr>\n",
       "    <tr>\n",
       "      <th>4</th>\n",
       "      <td>2</td>\n",
       "      <td>10000000.0</td>\n",
       "      <td>100.0</td>\n",
       "      <td>2018-06-19T00:00:00</td>\n",
       "      <td>2</td>\n",
       "      <td>3.03</td>\n",
       "      <td>14.0</td>\n",
       "      <td>32.0</td>\n",
       "      <td>13</td>\n",
       "      <td>NaN</td>\n",
       "      <td>...</td>\n",
       "      <td>41.0</td>\n",
       "      <td>NaN</td>\n",
       "      <td>Санкт-Петербург</td>\n",
       "      <td>31856.0</td>\n",
       "      <td>8098.0</td>\n",
       "      <td>2.0</td>\n",
       "      <td>112.0</td>\n",
       "      <td>1.0</td>\n",
       "      <td>48.0</td>\n",
       "      <td>121.0</td>\n",
       "    </tr>\n",
       "  </tbody>\n",
       "</table>\n",
       "<p>5 rows × 22 columns</p>\n",
       "</div>"
      ],
      "text/plain": [
       "   total_images  last_price  total_area first_day_exposition  rooms  \\\n",
       "0            20  13000000.0       108.0  2019-03-07T00:00:00      3   \n",
       "1             7   3350000.0        40.4  2018-12-04T00:00:00      1   \n",
       "2            10   5196000.0        56.0  2015-08-20T00:00:00      2   \n",
       "3             0  64900000.0       159.0  2015-07-24T00:00:00      3   \n",
       "4             2  10000000.0       100.0  2018-06-19T00:00:00      2   \n",
       "\n",
       "   ceiling_height  floors_total  living_area  floor is_apartment  ...  \\\n",
       "0            2.70          16.0         51.0      8          NaN  ...   \n",
       "1             NaN          11.0         18.6      1          NaN  ...   \n",
       "2             NaN           5.0         34.3      4          NaN  ...   \n",
       "3             NaN          14.0          NaN      9          NaN  ...   \n",
       "4            3.03          14.0         32.0     13          NaN  ...   \n",
       "\n",
       "   kitchen_area  balcony    locality_name  airports_nearest  \\\n",
       "0          25.0      NaN  Санкт-Петербург           18863.0   \n",
       "1          11.0      2.0   посёлок Шушары           12817.0   \n",
       "2           8.3      0.0  Санкт-Петербург           21741.0   \n",
       "3           NaN      0.0  Санкт-Петербург           28098.0   \n",
       "4          41.0      NaN  Санкт-Петербург           31856.0   \n",
       "\n",
       "  cityCenters_nearest  parks_around3000  parks_nearest  ponds_around3000  \\\n",
       "0             16028.0               1.0          482.0               2.0   \n",
       "1             18603.0               0.0            NaN               0.0   \n",
       "2             13933.0               1.0           90.0               2.0   \n",
       "3              6800.0               2.0           84.0               3.0   \n",
       "4              8098.0               2.0          112.0               1.0   \n",
       "\n",
       "   ponds_nearest  days_exposition  \n",
       "0          755.0              NaN  \n",
       "1            NaN             81.0  \n",
       "2          574.0            558.0  \n",
       "3          234.0            424.0  \n",
       "4           48.0            121.0  \n",
       "\n",
       "[5 rows x 22 columns]"
      ]
     },
     "metadata": {},
     "output_type": "display_data"
    },
    {
     "name": "stdout",
     "output_type": "stream",
     "text": [
      "<class 'pandas.core.frame.DataFrame'>\n",
      "RangeIndex: 23699 entries, 0 to 23698\n",
      "Data columns (total 22 columns):\n",
      " #   Column                Non-Null Count  Dtype  \n",
      "---  ------                --------------  -----  \n",
      " 0   total_images          23699 non-null  int64  \n",
      " 1   last_price            23699 non-null  float64\n",
      " 2   total_area            23699 non-null  float64\n",
      " 3   first_day_exposition  23699 non-null  object \n",
      " 4   rooms                 23699 non-null  int64  \n",
      " 5   ceiling_height        14504 non-null  float64\n",
      " 6   floors_total          23613 non-null  float64\n",
      " 7   living_area           21796 non-null  float64\n",
      " 8   floor                 23699 non-null  int64  \n",
      " 9   is_apartment          2775 non-null   object \n",
      " 10  studio                23699 non-null  bool   \n",
      " 11  open_plan             23699 non-null  bool   \n",
      " 12  kitchen_area          21421 non-null  float64\n",
      " 13  balcony               12180 non-null  float64\n",
      " 14  locality_name         23650 non-null  object \n",
      " 15  airports_nearest      18157 non-null  float64\n",
      " 16  cityCenters_nearest   18180 non-null  float64\n",
      " 17  parks_around3000      18181 non-null  float64\n",
      " 18  parks_nearest         8079 non-null   float64\n",
      " 19  ponds_around3000      18181 non-null  float64\n",
      " 20  ponds_nearest         9110 non-null   float64\n",
      " 21  days_exposition       20518 non-null  float64\n",
      "dtypes: bool(2), float64(14), int64(3), object(3)\n",
      "memory usage: 3.7+ MB\n"
     ]
    }
   ],
   "source": [
    "df = pd.read_csv('/datasets/real_estate_data.csv', sep = '\\t')\n",
    "\n",
    "display(df.head())\n",
    "\n",
    "df.info()"
   ]
  },
  {
   "cell_type": "markdown",
   "id": "2ba3a02a",
   "metadata": {},
   "source": [
    "Согласно документации к данным:\n",
    "\n",
    "* `total_images` — число фотографий квартиры в объявлении;\n",
    "* `last_price` — цена на момент снятия с публикации;  \n",
    "* `total_area` — площадь квартиры в квадратных метрах;\n",
    "* `first_day_exposition` — дата публикации;\n",
    "* `rooms` — число комнат;\n",
    "* `ceiling_height` — высота потолков;\n",
    "* `floors_total` — всего этажей в доме;\n",
    "* `living_area` — жилая площадь в квадратных метрах;\n",
    "* `floor` — этаж;\n",
    "* `is_apartment` — апартаменты (булев тип);\n",
    "* `studio` — квартира-студия (булев тип);\n",
    "* `open_plan` — свободная планировка;\n",
    "* `kitchen_area` — площадь кухни в квадратных метрах;\n",
    "* `balcony` — число балконов;\n",
    "* `locality_name` — название населенного пункта;\n",
    "* `airports_nearest` — расстояние до ближайшего аэропорта в метрах;\n",
    "* `cityCenters_nearest` — расстояние до центра города;\n",
    "* `parks_around3000` — число парков в радиусе 3 км;\n",
    "* `parks_nearest` — расстояние до ближайшего  парка;\n",
    "* `ponds_around3000` — число водоёмов в радиусе 3 км;\n",
    "* `ponds_nearest` — расстояние до ближайшего водоёма;\n",
    "* `days_exposition` — сколько дней было размещено объявление (от публикации до снятия)."
   ]
  },
  {
   "cell_type": "code",
   "execution_count": 3,
   "id": "a803463a",
   "metadata": {},
   "outputs": [
    {
     "data": {
      "image/png": "[encoded data removed]",
      "text/plain": [
       "<Figure size 1440x1440 with 20 Axes>"
      ]
     },
     "metadata": {
      "needs_background": "light"
     },
     "output_type": "display_data"
    }
   ],
   "source": [
    "df.hist(figsize = (20, 20))\n",
    "plt.show()"
   ]
  },
  {
   "cell_type": "markdown",
   "id": "c3f5ad9b",
   "metadata": {},
   "source": [
    "## 2 Предобработка данных"
   ]
  },
  {
   "cell_type": "markdown",
   "id": "c56c2d20",
   "metadata": {},
   "source": [
    "Первым делом проверим столбцы на наличие пропущенных значений:"
   ]
  },
  {
   "cell_type": "code",
   "execution_count": 4,
   "id": "6ae566fd",
   "metadata": {},
   "outputs": [
    {
     "name": "stdout",
     "output_type": "stream",
     "text": [
      "total_images кол-во пропусков: 0\n",
      "last_price кол-во пропусков: 0\n",
      "total_area кол-во пропусков: 0\n",
      "first_day_exposition кол-во пропусков: 0\n",
      "rooms кол-во пропусков: 0\n",
      "ceiling_height кол-во пропусков: 9195\n",
      "floors_total кол-во пропусков: 86\n",
      "living_area кол-во пропусков: 1903\n",
      "floor кол-во пропусков: 0\n",
      "is_apartment кол-во пропусков: 20924\n",
      "studio кол-во пропусков: 0\n",
      "open_plan кол-во пропусков: 0\n",
      "kitchen_area кол-во пропусков: 2278\n",
      "balcony кол-во пропусков: 11519\n",
      "locality_name кол-во пропусков: 49\n",
      "airports_nearest кол-во пропусков: 5542\n",
      "cityCenters_nearest кол-во пропусков: 5519\n",
      "parks_around3000 кол-во пропусков: 5518\n",
      "parks_nearest кол-во пропусков: 15620\n",
      "ponds_around3000 кол-во пропусков: 5518\n",
      "ponds_nearest кол-во пропусков: 14589\n",
      "days_exposition кол-во пропусков: 3181\n"
     ]
    }
   ],
   "source": [
    "for elem in df:\n",
    "    print(elem, 'кол-во пропусков:', df[elem].isna().sum())"
   ]
  },
  {
   "cell_type": "markdown",
   "id": "aad83cd3",
   "metadata": {},
   "source": [
    "В столбце is_apartment должны находится булевы значения, но находятся строчные, проверим какие значения присутствуют в столбце."
   ]
  },
  {
   "cell_type": "code",
   "execution_count": 5,
   "id": "1b8eae9c",
   "metadata": {},
   "outputs": [
    {
     "name": "stdout",
     "output_type": "stream",
     "text": [
      "False    2725\n",
      "True       50\n",
      "Name: is_apartment, dtype: int64\n"
     ]
    }
   ],
   "source": [
    "print(df['is_apartment'].value_counts())"
   ]
  },
  {
   "cell_type": "markdown",
   "id": "e56e675c",
   "metadata": {},
   "source": [
    "В столбце много пропусков и несоответствующий тип данных. Изменим тип данных на булевый и проверим на наличие пропусков."
   ]
  },
  {
   "cell_type": "code",
   "execution_count": 6,
   "id": "443a23b0",
   "metadata": {},
   "outputs": [
    {
     "name": "stdout",
     "output_type": "stream",
     "text": [
      "Кол-во пропущенных значений в столбце is_apartment:\n",
      " 0\n",
      "Кол-во уникальных значений в столбце is_apartment:\n",
      " True     20974\n",
      "False     2725\n",
      "Name: is_apartment, dtype: int64\n"
     ]
    }
   ],
   "source": [
    "df['is_apartment'] = df['is_apartment'].astype('bool') #изменяем тип данных в столбце на булевый\n",
    "\n",
    "print('Кол-во пропущенных значений в столбце is_apartment:\\n', df['is_apartment'].isna().sum()) \n",
    "\n",
    "print('Кол-во уникальных значений в столбце is_apartment:\\n', df['is_apartment'].value_counts())"
   ]
  },
  {
   "cell_type": "markdown",
   "id": "f29e4357",
   "metadata": {},
   "source": [
    "В столбце где показано количество балконов почти половина данных пропущенно, заменим пропуски на нулевое значение (скорее всего человек мог не указать для своего объявления кол-во балконов просто потому что их нет)."
   ]
  },
  {
   "cell_type": "code",
   "execution_count": 7,
   "id": "63c8717e",
   "metadata": {},
   "outputs": [
    {
     "name": "stdout",
     "output_type": "stream",
     "text": [
      "Кол-во пропущенных значений в столбце balcony:\n",
      " 0\n",
      "Кол-во уникальных значений в столбце balcony\n",
      " 0.0    15277\n",
      "1.0     4195\n",
      "2.0     3659\n",
      "5.0      304\n",
      "4.0      183\n",
      "3.0       81\n",
      "Name: balcony, dtype: int64\n"
     ]
    }
   ],
   "source": [
    "df['balcony'] = df['balcony'].fillna(value = 0) #заменим пропущенные значения на 0\n",
    "\n",
    "print('Кол-во пропущенных значений в столбце balcony:\\n', df['balcony'].isna().sum())\n",
    "\n",
    "print('Кол-во уникальных значений в столбце balcony\\n', df['balcony'].value_counts())"
   ]
  },
  {
   "cell_type": "markdown",
   "id": "c4604da6",
   "metadata": {},
   "source": [
    "В таблице присутствует столбец где отображена иноформация о дате публиукации объявления, столбец имеет значения строчного типа, изменим на более удобный, то есть datetime."
   ]
  },
  {
   "cell_type": "code",
   "execution_count": 8,
   "id": "64ed2e25",
   "metadata": {},
   "outputs": [
    {
     "name": "stdout",
     "output_type": "stream",
     "text": [
      "<class 'pandas.core.frame.DataFrame'>\n",
      "RangeIndex: 23699 entries, 0 to 23698\n",
      "Data columns (total 22 columns):\n",
      " #   Column                Non-Null Count  Dtype         \n",
      "---  ------                --------------  -----         \n",
      " 0   total_images          23699 non-null  int64         \n",
      " 1   last_price            23699 non-null  float64       \n",
      " 2   total_area            23699 non-null  float64       \n",
      " 3   first_day_exposition  23699 non-null  datetime64[ns]\n",
      " 4   rooms                 23699 non-null  int64         \n",
      " 5   ceiling_height        14504 non-null  float64       \n",
      " 6   floors_total          23613 non-null  float64       \n",
      " 7   living_area           21796 non-null  float64       \n",
      " 8   floor                 23699 non-null  int64         \n",
      " 9   is_apartment          23699 non-null  bool          \n",
      " 10  studio                23699 non-null  bool          \n",
      " 11  open_plan             23699 non-null  bool          \n",
      " 12  kitchen_area          21421 non-null  float64       \n",
      " 13  balcony               23699 non-null  float64       \n",
      " 14  locality_name         23650 non-null  object        \n",
      " 15  airports_nearest      18157 non-null  float64       \n",
      " 16  cityCenters_nearest   18180 non-null  float64       \n",
      " 17  parks_around3000      18181 non-null  float64       \n",
      " 18  parks_nearest         8079 non-null   float64       \n",
      " 19  ponds_around3000      18181 non-null  float64       \n",
      " 20  ponds_nearest         9110 non-null   float64       \n",
      " 21  days_exposition       20518 non-null  float64       \n",
      "dtypes: bool(3), datetime64[ns](1), float64(14), int64(3), object(1)\n",
      "memory usage: 3.5+ MB\n"
     ]
    }
   ],
   "source": [
    "df['first_day_exposition'] = pd.to_datetime(df['first_day_exposition'], format = '%Y-%m-%dT%H:%M:%S') #изменим тип данных строный на тип datetime\n",
    "\n",
    "df.info()"
   ]
  },
  {
   "cell_type": "markdown",
   "id": "0d3b313a",
   "metadata": {},
   "source": [
    "Причина пропущенных значений в столбце balcony скорее всего человеческий фактор, человек мог просто не указать того чего нет, в столбце is_apartment был неправильный тип данных изменив на булевый пропусков в столбце не осталось, в данном столбце большее кол-во значений присуще 0, это можно объяснить тем что недвижимость имеющюю статус апартаменты стали строить не так давно, это довольно новый тип жилья, соответственно по отношению к уже построенным домам оно будет гораздо меньше."
   ]
  },
  {
   "cell_type": "code",
   "execution_count": 9,
   "id": "6c0e1ff6",
   "metadata": {},
   "outputs": [
    {
     "name": "stdout",
     "output_type": "stream",
     "text": [
      "<class 'pandas.core.frame.DataFrame'>\n",
      "RangeIndex: 23699 entries, 0 to 23698\n",
      "Data columns (total 22 columns):\n",
      " #   Column                Non-Null Count  Dtype         \n",
      "---  ------                --------------  -----         \n",
      " 0   total_images          23699 non-null  int64         \n",
      " 1   last_price            23699 non-null  float64       \n",
      " 2   total_area            23699 non-null  float64       \n",
      " 3   first_day_exposition  23699 non-null  datetime64[ns]\n",
      " 4   rooms                 23699 non-null  int64         \n",
      " 5   ceiling_height        14504 non-null  float64       \n",
      " 6   floors_total          23613 non-null  float64       \n",
      " 7   living_area           21796 non-null  float64       \n",
      " 8   floor                 23699 non-null  int64         \n",
      " 9   is_apartment          23699 non-null  bool          \n",
      " 10  studio                23699 non-null  bool          \n",
      " 11  open_plan             23699 non-null  bool          \n",
      " 12  kitchen_area          21421 non-null  float64       \n",
      " 13  balcony               23699 non-null  float64       \n",
      " 14  locality_name         23650 non-null  object        \n",
      " 15  airports_nearest      18157 non-null  float64       \n",
      " 16  cityCenters_nearest   18180 non-null  float64       \n",
      " 17  parks_around3000      18181 non-null  float64       \n",
      " 18  parks_nearest         8079 non-null   float64       \n",
      " 19  ponds_around3000      18181 non-null  float64       \n",
      " 20  ponds_nearest         9110 non-null   float64       \n",
      " 21  days_exposition       20518 non-null  float64       \n",
      "dtypes: bool(3), datetime64[ns](1), float64(14), int64(3), object(1)\n",
      "memory usage: 3.5+ MB\n"
     ]
    }
   ],
   "source": [
    "df.info() "
   ]
  },
  {
   "cell_type": "code",
   "execution_count": 10,
   "id": "7b511bcb",
   "metadata": {},
   "outputs": [
    {
     "name": "stdout",
     "output_type": "stream",
     "text": [
      "<class 'pandas.core.frame.DataFrame'>\n",
      "RangeIndex: 23699 entries, 0 to 23698\n",
      "Data columns (total 22 columns):\n",
      " #   Column                Non-Null Count  Dtype         \n",
      "---  ------                --------------  -----         \n",
      " 0   total_images          23699 non-null  int64         \n",
      " 1   last_price            23699 non-null  float32       \n",
      " 2   total_area            23699 non-null  float32       \n",
      " 3   first_day_exposition  23699 non-null  datetime64[ns]\n",
      " 4   rooms                 23699 non-null  int64         \n",
      " 5   ceiling_height        14504 non-null  float64       \n",
      " 6   floors_total          23613 non-null  float64       \n",
      " 7   living_area           21796 non-null  float64       \n",
      " 8   floor                 23699 non-null  int64         \n",
      " 9   is_apartment          23699 non-null  bool          \n",
      " 10  studio                23699 non-null  bool          \n",
      " 11  open_plan             23699 non-null  bool          \n",
      " 12  kitchen_area          21421 non-null  float64       \n",
      " 13  balcony               23699 non-null  float64       \n",
      " 14  locality_name         23650 non-null  object        \n",
      " 15  airports_nearest      18157 non-null  float64       \n",
      " 16  cityCenters_nearest   18180 non-null  float64       \n",
      " 17  parks_around3000      18181 non-null  float64       \n",
      " 18  parks_nearest         8079 non-null   float64       \n",
      " 19  ponds_around3000      18181 non-null  float64       \n",
      " 20  ponds_nearest         9110 non-null   float64       \n",
      " 21  days_exposition       20518 non-null  float64       \n",
      "dtypes: bool(3), datetime64[ns](1), float32(2), float64(12), int64(3), object(1)\n",
      "memory usage: 3.3+ MB\n"
     ]
    }
   ],
   "source": [
    "df['last_price'] = df['last_price'].astype('float32')\n",
    "df['total_area'] = df['total_area'].astype('float32')\n",
    "\n",
    "df.info()"
   ]
  },
  {
   "cell_type": "markdown",
   "id": "589844b8",
   "metadata": {},
   "source": [
    "<div class=\"alert alert-warning\">\n",
    "<b>⚠️ Комментарий ревьюера:</b> Можно еще заменить тип данных с float64 на float32 для экономии памяти"
   ]
  },
  {
   "cell_type": "markdown",
   "id": "c34317e9",
   "metadata": {},
   "source": [
    "<div class=\"alert alert-info\"> <b>Комментарий студента:</b> Попробовал изменить тип данных на float32.</div>"
   ]
  },
  {
   "cell_type": "markdown",
   "id": "88b8e4da",
   "metadata": {},
   "source": [
    "<div class=\"alert alert-success\">\n",
    "<b>✔️ Комментарий ревьюера V2:</b> Отлично! "
   ]
  },
  {
   "cell_type": "markdown",
   "id": "472889bf",
   "metadata": {},
   "source": [
    "## 3 Категоризация  данных"
   ]
  },
  {
   "cell_type": "markdown",
   "id": "7c2282dc",
   "metadata": {},
   "source": [
    "Для дальнейшего анализа данных обавим следующие столбцы в таблицу:\n",
    "\n",
    "* `meter_price` — цена квадратного метра;\n",
    "* `publication_day` — день недели когда опубликовали объявление;  \n",
    "* `publication_month` — месяц когда опубликовали объявление;\n",
    "* `publication_year` — год когда опубликовали объявление;\n",
    "* `apartment_floor` — этаж квартиры;\n",
    "* `living_to_total` — отношение жилой и общей площади;\n",
    "* `kitchen_to_total` — отношение площади кухни к общей."
   ]
  },
  {
   "cell_type": "markdown",
   "id": "334e4ef8",
   "metadata": {},
   "source": [
    "Цена квадратного метра высчитывается по формуле = цена на момент снятия с публикации / общая площадь квартиры."
   ]
  },
  {
   "cell_type": "code",
   "execution_count": 11,
   "id": "6fb784cf",
   "metadata": {
    "scrolled": true
   },
   "outputs": [
    {
     "data": {
      "text/html": [
       "<div>\n",
       "<style scoped>\n",
       "    .dataframe tbody tr th:only-of-type {\n",
       "        vertical-align: middle;\n",
       "    }\n",
       "\n",
       "    .dataframe tbody tr th {\n",
       "        vertical-align: top;\n",
       "    }\n",
       "\n",
       "    .dataframe thead th {\n",
       "        text-align: right;\n",
       "    }\n",
       "</style>\n",
       "<table border=\"1\" class=\"dataframe\">\n",
       "  <thead>\n",
       "    <tr style=\"text-align: right;\">\n",
       "      <th></th>\n",
       "      <th>total_images</th>\n",
       "      <th>last_price</th>\n",
       "      <th>total_area</th>\n",
       "      <th>first_day_exposition</th>\n",
       "      <th>rooms</th>\n",
       "      <th>ceiling_height</th>\n",
       "      <th>floors_total</th>\n",
       "      <th>living_area</th>\n",
       "      <th>floor</th>\n",
       "      <th>is_apartment</th>\n",
       "      <th>...</th>\n",
       "      <th>balcony</th>\n",
       "      <th>locality_name</th>\n",
       "      <th>airports_nearest</th>\n",
       "      <th>cityCenters_nearest</th>\n",
       "      <th>parks_around3000</th>\n",
       "      <th>parks_nearest</th>\n",
       "      <th>ponds_around3000</th>\n",
       "      <th>ponds_nearest</th>\n",
       "      <th>days_exposition</th>\n",
       "      <th>meter_price</th>\n",
       "    </tr>\n",
       "  </thead>\n",
       "  <tbody>\n",
       "    <tr>\n",
       "      <th>0</th>\n",
       "      <td>20</td>\n",
       "      <td>13000000.0</td>\n",
       "      <td>108.000000</td>\n",
       "      <td>2019-03-07</td>\n",
       "      <td>3</td>\n",
       "      <td>2.70</td>\n",
       "      <td>16.0</td>\n",
       "      <td>51.0</td>\n",
       "      <td>8</td>\n",
       "      <td>True</td>\n",
       "      <td>...</td>\n",
       "      <td>0.0</td>\n",
       "      <td>Санкт-Петербург</td>\n",
       "      <td>18863.0</td>\n",
       "      <td>16028.0</td>\n",
       "      <td>1.0</td>\n",
       "      <td>482.0</td>\n",
       "      <td>2.0</td>\n",
       "      <td>755.0</td>\n",
       "      <td>NaN</td>\n",
       "      <td>120370.367188</td>\n",
       "    </tr>\n",
       "    <tr>\n",
       "      <th>1</th>\n",
       "      <td>7</td>\n",
       "      <td>3350000.0</td>\n",
       "      <td>40.400002</td>\n",
       "      <td>2018-12-04</td>\n",
       "      <td>1</td>\n",
       "      <td>NaN</td>\n",
       "      <td>11.0</td>\n",
       "      <td>18.6</td>\n",
       "      <td>1</td>\n",
       "      <td>True</td>\n",
       "      <td>...</td>\n",
       "      <td>2.0</td>\n",
       "      <td>посёлок Шушары</td>\n",
       "      <td>12817.0</td>\n",
       "      <td>18603.0</td>\n",
       "      <td>0.0</td>\n",
       "      <td>NaN</td>\n",
       "      <td>0.0</td>\n",
       "      <td>NaN</td>\n",
       "      <td>81.0</td>\n",
       "      <td>82920.789062</td>\n",
       "    </tr>\n",
       "    <tr>\n",
       "      <th>2</th>\n",
       "      <td>10</td>\n",
       "      <td>5196000.0</td>\n",
       "      <td>56.000000</td>\n",
       "      <td>2015-08-20</td>\n",
       "      <td>2</td>\n",
       "      <td>NaN</td>\n",
       "      <td>5.0</td>\n",
       "      <td>34.3</td>\n",
       "      <td>4</td>\n",
       "      <td>True</td>\n",
       "      <td>...</td>\n",
       "      <td>0.0</td>\n",
       "      <td>Санкт-Петербург</td>\n",
       "      <td>21741.0</td>\n",
       "      <td>13933.0</td>\n",
       "      <td>1.0</td>\n",
       "      <td>90.0</td>\n",
       "      <td>2.0</td>\n",
       "      <td>574.0</td>\n",
       "      <td>558.0</td>\n",
       "      <td>92785.710938</td>\n",
       "    </tr>\n",
       "    <tr>\n",
       "      <th>3</th>\n",
       "      <td>0</td>\n",
       "      <td>64900000.0</td>\n",
       "      <td>159.000000</td>\n",
       "      <td>2015-07-24</td>\n",
       "      <td>3</td>\n",
       "      <td>NaN</td>\n",
       "      <td>14.0</td>\n",
       "      <td>NaN</td>\n",
       "      <td>9</td>\n",
       "      <td>True</td>\n",
       "      <td>...</td>\n",
       "      <td>0.0</td>\n",
       "      <td>Санкт-Петербург</td>\n",
       "      <td>28098.0</td>\n",
       "      <td>6800.0</td>\n",
       "      <td>2.0</td>\n",
       "      <td>84.0</td>\n",
       "      <td>3.0</td>\n",
       "      <td>234.0</td>\n",
       "      <td>424.0</td>\n",
       "      <td>408176.093750</td>\n",
       "    </tr>\n",
       "    <tr>\n",
       "      <th>4</th>\n",
       "      <td>2</td>\n",
       "      <td>10000000.0</td>\n",
       "      <td>100.000000</td>\n",
       "      <td>2018-06-19</td>\n",
       "      <td>2</td>\n",
       "      <td>3.03</td>\n",
       "      <td>14.0</td>\n",
       "      <td>32.0</td>\n",
       "      <td>13</td>\n",
       "      <td>True</td>\n",
       "      <td>...</td>\n",
       "      <td>0.0</td>\n",
       "      <td>Санкт-Петербург</td>\n",
       "      <td>31856.0</td>\n",
       "      <td>8098.0</td>\n",
       "      <td>2.0</td>\n",
       "      <td>112.0</td>\n",
       "      <td>1.0</td>\n",
       "      <td>48.0</td>\n",
       "      <td>121.0</td>\n",
       "      <td>100000.000000</td>\n",
       "    </tr>\n",
       "  </tbody>\n",
       "</table>\n",
       "<p>5 rows × 23 columns</p>\n",
       "</div>"
      ],
      "text/plain": [
       "   total_images  last_price  total_area first_day_exposition  rooms  \\\n",
       "0            20  13000000.0  108.000000           2019-03-07      3   \n",
       "1             7   3350000.0   40.400002           2018-12-04      1   \n",
       "2            10   5196000.0   56.000000           2015-08-20      2   \n",
       "3             0  64900000.0  159.000000           2015-07-24      3   \n",
       "4             2  10000000.0  100.000000           2018-06-19      2   \n",
       "\n",
       "   ceiling_height  floors_total  living_area  floor  is_apartment  ...  \\\n",
       "0            2.70          16.0         51.0      8          True  ...   \n",
       "1             NaN          11.0         18.6      1          True  ...   \n",
       "2             NaN           5.0         34.3      4          True  ...   \n",
       "3             NaN          14.0          NaN      9          True  ...   \n",
       "4            3.03          14.0         32.0     13          True  ...   \n",
       "\n",
       "   balcony    locality_name  airports_nearest  cityCenters_nearest  \\\n",
       "0      0.0  Санкт-Петербург           18863.0              16028.0   \n",
       "1      2.0   посёлок Шушары           12817.0              18603.0   \n",
       "2      0.0  Санкт-Петербург           21741.0              13933.0   \n",
       "3      0.0  Санкт-Петербург           28098.0               6800.0   \n",
       "4      0.0  Санкт-Петербург           31856.0               8098.0   \n",
       "\n",
       "  parks_around3000  parks_nearest  ponds_around3000  ponds_nearest  \\\n",
       "0              1.0          482.0               2.0          755.0   \n",
       "1              0.0            NaN               0.0            NaN   \n",
       "2              1.0           90.0               2.0          574.0   \n",
       "3              2.0           84.0               3.0          234.0   \n",
       "4              2.0          112.0               1.0           48.0   \n",
       "\n",
       "   days_exposition    meter_price  \n",
       "0              NaN  120370.367188  \n",
       "1             81.0   82920.789062  \n",
       "2            558.0   92785.710938  \n",
       "3            424.0  408176.093750  \n",
       "4            121.0  100000.000000  \n",
       "\n",
       "[5 rows x 23 columns]"
      ]
     },
     "metadata": {},
     "output_type": "display_data"
    }
   ],
   "source": [
    "df['meter_price'] = df['last_price'] / df ['total_area'] #добавляем и расчитываем цену\n",
    "\n",
    "display(df.head()) #проверяем корректность вычислений"
   ]
  },
  {
   "cell_type": "markdown",
   "id": "8f5aad60",
   "metadata": {},
   "source": [
    "Чтобы добавить столбцы с днём недели, месяцем и годом, используем стобец first_day_exposition, в нём храняться все нужные нам данные."
   ]
  },
  {
   "cell_type": "code",
   "execution_count": 12,
   "id": "635d627b",
   "metadata": {},
   "outputs": [
    {
     "data": {
      "text/html": [
       "<div>\n",
       "<style scoped>\n",
       "    .dataframe tbody tr th:only-of-type {\n",
       "        vertical-align: middle;\n",
       "    }\n",
       "\n",
       "    .dataframe tbody tr th {\n",
       "        vertical-align: top;\n",
       "    }\n",
       "\n",
       "    .dataframe thead th {\n",
       "        text-align: right;\n",
       "    }\n",
       "</style>\n",
       "<table border=\"1\" class=\"dataframe\">\n",
       "  <thead>\n",
       "    <tr style=\"text-align: right;\">\n",
       "      <th></th>\n",
       "      <th>total_images</th>\n",
       "      <th>last_price</th>\n",
       "      <th>total_area</th>\n",
       "      <th>first_day_exposition</th>\n",
       "      <th>rooms</th>\n",
       "      <th>ceiling_height</th>\n",
       "      <th>floors_total</th>\n",
       "      <th>living_area</th>\n",
       "      <th>floor</th>\n",
       "      <th>is_apartment</th>\n",
       "      <th>...</th>\n",
       "      <th>parks_around3000</th>\n",
       "      <th>parks_nearest</th>\n",
       "      <th>ponds_around3000</th>\n",
       "      <th>ponds_nearest</th>\n",
       "      <th>days_exposition</th>\n",
       "      <th>meter_price</th>\n",
       "      <th>publication_day_prom</th>\n",
       "      <th>publication_month</th>\n",
       "      <th>publication_year</th>\n",
       "      <th>publication_day</th>\n",
       "    </tr>\n",
       "  </thead>\n",
       "  <tbody>\n",
       "    <tr>\n",
       "      <th>0</th>\n",
       "      <td>20</td>\n",
       "      <td>13000000.0</td>\n",
       "      <td>108.000000</td>\n",
       "      <td>2019-03-07</td>\n",
       "      <td>3</td>\n",
       "      <td>2.70</td>\n",
       "      <td>16.0</td>\n",
       "      <td>51.0</td>\n",
       "      <td>8</td>\n",
       "      <td>True</td>\n",
       "      <td>...</td>\n",
       "      <td>1.0</td>\n",
       "      <td>482.0</td>\n",
       "      <td>2.0</td>\n",
       "      <td>755.0</td>\n",
       "      <td>NaN</td>\n",
       "      <td>120370.367188</td>\n",
       "      <td>3</td>\n",
       "      <td>3</td>\n",
       "      <td>2019</td>\n",
       "      <td>четверг</td>\n",
       "    </tr>\n",
       "    <tr>\n",
       "      <th>1</th>\n",
       "      <td>7</td>\n",
       "      <td>3350000.0</td>\n",
       "      <td>40.400002</td>\n",
       "      <td>2018-12-04</td>\n",
       "      <td>1</td>\n",
       "      <td>NaN</td>\n",
       "      <td>11.0</td>\n",
       "      <td>18.6</td>\n",
       "      <td>1</td>\n",
       "      <td>True</td>\n",
       "      <td>...</td>\n",
       "      <td>0.0</td>\n",
       "      <td>NaN</td>\n",
       "      <td>0.0</td>\n",
       "      <td>NaN</td>\n",
       "      <td>81.0</td>\n",
       "      <td>82920.789062</td>\n",
       "      <td>1</td>\n",
       "      <td>12</td>\n",
       "      <td>2018</td>\n",
       "      <td>вторник</td>\n",
       "    </tr>\n",
       "    <tr>\n",
       "      <th>2</th>\n",
       "      <td>10</td>\n",
       "      <td>5196000.0</td>\n",
       "      <td>56.000000</td>\n",
       "      <td>2015-08-20</td>\n",
       "      <td>2</td>\n",
       "      <td>NaN</td>\n",
       "      <td>5.0</td>\n",
       "      <td>34.3</td>\n",
       "      <td>4</td>\n",
       "      <td>True</td>\n",
       "      <td>...</td>\n",
       "      <td>1.0</td>\n",
       "      <td>90.0</td>\n",
       "      <td>2.0</td>\n",
       "      <td>574.0</td>\n",
       "      <td>558.0</td>\n",
       "      <td>92785.710938</td>\n",
       "      <td>3</td>\n",
       "      <td>8</td>\n",
       "      <td>2015</td>\n",
       "      <td>четверг</td>\n",
       "    </tr>\n",
       "    <tr>\n",
       "      <th>3</th>\n",
       "      <td>0</td>\n",
       "      <td>64900000.0</td>\n",
       "      <td>159.000000</td>\n",
       "      <td>2015-07-24</td>\n",
       "      <td>3</td>\n",
       "      <td>NaN</td>\n",
       "      <td>14.0</td>\n",
       "      <td>NaN</td>\n",
       "      <td>9</td>\n",
       "      <td>True</td>\n",
       "      <td>...</td>\n",
       "      <td>2.0</td>\n",
       "      <td>84.0</td>\n",
       "      <td>3.0</td>\n",
       "      <td>234.0</td>\n",
       "      <td>424.0</td>\n",
       "      <td>408176.093750</td>\n",
       "      <td>4</td>\n",
       "      <td>7</td>\n",
       "      <td>2015</td>\n",
       "      <td>пятница</td>\n",
       "    </tr>\n",
       "    <tr>\n",
       "      <th>4</th>\n",
       "      <td>2</td>\n",
       "      <td>10000000.0</td>\n",
       "      <td>100.000000</td>\n",
       "      <td>2018-06-19</td>\n",
       "      <td>2</td>\n",
       "      <td>3.03</td>\n",
       "      <td>14.0</td>\n",
       "      <td>32.0</td>\n",
       "      <td>13</td>\n",
       "      <td>True</td>\n",
       "      <td>...</td>\n",
       "      <td>2.0</td>\n",
       "      <td>112.0</td>\n",
       "      <td>1.0</td>\n",
       "      <td>48.0</td>\n",
       "      <td>121.0</td>\n",
       "      <td>100000.000000</td>\n",
       "      <td>1</td>\n",
       "      <td>6</td>\n",
       "      <td>2018</td>\n",
       "      <td>вторник</td>\n",
       "    </tr>\n",
       "  </tbody>\n",
       "</table>\n",
       "<p>5 rows × 27 columns</p>\n",
       "</div>"
      ],
      "text/plain": [
       "   total_images  last_price  total_area first_day_exposition  rooms  \\\n",
       "0            20  13000000.0  108.000000           2019-03-07      3   \n",
       "1             7   3350000.0   40.400002           2018-12-04      1   \n",
       "2            10   5196000.0   56.000000           2015-08-20      2   \n",
       "3             0  64900000.0  159.000000           2015-07-24      3   \n",
       "4             2  10000000.0  100.000000           2018-06-19      2   \n",
       "\n",
       "   ceiling_height  floors_total  living_area  floor  is_apartment  ...  \\\n",
       "0            2.70          16.0         51.0      8          True  ...   \n",
       "1             NaN          11.0         18.6      1          True  ...   \n",
       "2             NaN           5.0         34.3      4          True  ...   \n",
       "3             NaN          14.0          NaN      9          True  ...   \n",
       "4            3.03          14.0         32.0     13          True  ...   \n",
       "\n",
       "   parks_around3000  parks_nearest  ponds_around3000  ponds_nearest  \\\n",
       "0               1.0          482.0               2.0          755.0   \n",
       "1               0.0            NaN               0.0            NaN   \n",
       "2               1.0           90.0               2.0          574.0   \n",
       "3               2.0           84.0               3.0          234.0   \n",
       "4               2.0          112.0               1.0           48.0   \n",
       "\n",
       "  days_exposition    meter_price  publication_day_prom  publication_month  \\\n",
       "0             NaN  120370.367188                     3                  3   \n",
       "1            81.0   82920.789062                     1                 12   \n",
       "2           558.0   92785.710938                     3                  8   \n",
       "3           424.0  408176.093750                     4                  7   \n",
       "4           121.0  100000.000000                     1                  6   \n",
       "\n",
       "   publication_year  publication_day  \n",
       "0              2019          четверг  \n",
       "1              2018          вторник  \n",
       "2              2015          четверг  \n",
       "3              2015          пятница  \n",
       "4              2018          вторник  \n",
       "\n",
       "[5 rows x 27 columns]"
      ]
     },
     "metadata": {},
     "output_type": "display_data"
    }
   ],
   "source": [
    "df['publication_day_prom'] = df['first_day_exposition'].dt.dayofweek #получаем номер дня недели\n",
    "\n",
    "df['publication_month'] = df['first_day_exposition'].dt.month #получаем номер месяца\n",
    "\n",
    "df['publication_year'] = df['first_day_exposition'].dt.year #получаем номер года\n",
    "\n",
    "def categorization_day(prom):\n",
    "    temp = prom['publication_day_prom'] \n",
    "    if temp == 0:\n",
    "        return 'понедельник'\n",
    "    elif temp == 1:\n",
    "        return 'вторник'\n",
    "    elif temp == 2:\n",
    "        return 'среда'\n",
    "    elif temp == 3:\n",
    "        return 'четверг'\n",
    "    elif temp == 4:\n",
    "        return 'пятница'\n",
    "    elif temp == 5:\n",
    "        return 'суббота'\n",
    "    else:\n",
    "        return 'воскресенье'\n",
    "    \n",
    "df['publication_day'] = df.apply(categorization_day, axis = 1)\n",
    "\n",
    "display(df.head()) #проверим работу функции"
   ]
  },
  {
   "cell_type": "markdown",
   "id": "daf6a04c",
   "metadata": {},
   "source": [
    "<div class=\"alert alert-warning\">\n",
    "<b>⚠️ Комментарий ревьюера:</b> Обычно в датафреймах содержатся данные за несколько лет. Важно выбрать корректный метод для вычленения месяца, иначе месяца разных годов могут стать одним месяцем (метод month может привести к ошибке). Обрати внимание на метод astype('datetime64[M]'). Для его использования не нужно обращаться к pd.DatetimeIndex. В данной работе нам не нужно разделять месяца разных годов. Это практичеый совет на будущее:) "
   ]
  },
  {
   "cell_type": "markdown",
   "id": "e9d55ac9",
   "metadata": {},
   "source": [
    "Для категоризации этажей на соответсвующих жилому помещению создадим функцию."
   ]
  },
  {
   "cell_type": "code",
   "execution_count": 13,
   "id": "5d309602",
   "metadata": {},
   "outputs": [
    {
     "data": {
      "text/html": [
       "<div>\n",
       "<style scoped>\n",
       "    .dataframe tbody tr th:only-of-type {\n",
       "        vertical-align: middle;\n",
       "    }\n",
       "\n",
       "    .dataframe tbody tr th {\n",
       "        vertical-align: top;\n",
       "    }\n",
       "\n",
       "    .dataframe thead th {\n",
       "        text-align: right;\n",
       "    }\n",
       "</style>\n",
       "<table border=\"1\" class=\"dataframe\">\n",
       "  <thead>\n",
       "    <tr style=\"text-align: right;\">\n",
       "      <th></th>\n",
       "      <th>total_images</th>\n",
       "      <th>last_price</th>\n",
       "      <th>total_area</th>\n",
       "      <th>first_day_exposition</th>\n",
       "      <th>rooms</th>\n",
       "      <th>ceiling_height</th>\n",
       "      <th>floors_total</th>\n",
       "      <th>living_area</th>\n",
       "      <th>floor</th>\n",
       "      <th>is_apartment</th>\n",
       "      <th>...</th>\n",
       "      <th>parks_nearest</th>\n",
       "      <th>ponds_around3000</th>\n",
       "      <th>ponds_nearest</th>\n",
       "      <th>days_exposition</th>\n",
       "      <th>meter_price</th>\n",
       "      <th>publication_day_prom</th>\n",
       "      <th>publication_month</th>\n",
       "      <th>publication_year</th>\n",
       "      <th>publication_day</th>\n",
       "      <th>apartment_floor</th>\n",
       "    </tr>\n",
       "  </thead>\n",
       "  <tbody>\n",
       "    <tr>\n",
       "      <th>0</th>\n",
       "      <td>20</td>\n",
       "      <td>13000000.0</td>\n",
       "      <td>108.000000</td>\n",
       "      <td>2019-03-07</td>\n",
       "      <td>3</td>\n",
       "      <td>2.70</td>\n",
       "      <td>16.0</td>\n",
       "      <td>51.00</td>\n",
       "      <td>8</td>\n",
       "      <td>True</td>\n",
       "      <td>...</td>\n",
       "      <td>482.0</td>\n",
       "      <td>2.0</td>\n",
       "      <td>755.0</td>\n",
       "      <td>NaN</td>\n",
       "      <td>120370.367188</td>\n",
       "      <td>3</td>\n",
       "      <td>3</td>\n",
       "      <td>2019</td>\n",
       "      <td>четверг</td>\n",
       "      <td>другой</td>\n",
       "    </tr>\n",
       "    <tr>\n",
       "      <th>1</th>\n",
       "      <td>7</td>\n",
       "      <td>3350000.0</td>\n",
       "      <td>40.400002</td>\n",
       "      <td>2018-12-04</td>\n",
       "      <td>1</td>\n",
       "      <td>NaN</td>\n",
       "      <td>11.0</td>\n",
       "      <td>18.60</td>\n",
       "      <td>1</td>\n",
       "      <td>True</td>\n",
       "      <td>...</td>\n",
       "      <td>NaN</td>\n",
       "      <td>0.0</td>\n",
       "      <td>NaN</td>\n",
       "      <td>81.0</td>\n",
       "      <td>82920.789062</td>\n",
       "      <td>1</td>\n",
       "      <td>12</td>\n",
       "      <td>2018</td>\n",
       "      <td>вторник</td>\n",
       "      <td>первый</td>\n",
       "    </tr>\n",
       "    <tr>\n",
       "      <th>2</th>\n",
       "      <td>10</td>\n",
       "      <td>5196000.0</td>\n",
       "      <td>56.000000</td>\n",
       "      <td>2015-08-20</td>\n",
       "      <td>2</td>\n",
       "      <td>NaN</td>\n",
       "      <td>5.0</td>\n",
       "      <td>34.30</td>\n",
       "      <td>4</td>\n",
       "      <td>True</td>\n",
       "      <td>...</td>\n",
       "      <td>90.0</td>\n",
       "      <td>2.0</td>\n",
       "      <td>574.0</td>\n",
       "      <td>558.0</td>\n",
       "      <td>92785.710938</td>\n",
       "      <td>3</td>\n",
       "      <td>8</td>\n",
       "      <td>2015</td>\n",
       "      <td>четверг</td>\n",
       "      <td>другой</td>\n",
       "    </tr>\n",
       "    <tr>\n",
       "      <th>3</th>\n",
       "      <td>0</td>\n",
       "      <td>64900000.0</td>\n",
       "      <td>159.000000</td>\n",
       "      <td>2015-07-24</td>\n",
       "      <td>3</td>\n",
       "      <td>NaN</td>\n",
       "      <td>14.0</td>\n",
       "      <td>NaN</td>\n",
       "      <td>9</td>\n",
       "      <td>True</td>\n",
       "      <td>...</td>\n",
       "      <td>84.0</td>\n",
       "      <td>3.0</td>\n",
       "      <td>234.0</td>\n",
       "      <td>424.0</td>\n",
       "      <td>408176.093750</td>\n",
       "      <td>4</td>\n",
       "      <td>7</td>\n",
       "      <td>2015</td>\n",
       "      <td>пятница</td>\n",
       "      <td>другой</td>\n",
       "    </tr>\n",
       "    <tr>\n",
       "      <th>4</th>\n",
       "      <td>2</td>\n",
       "      <td>10000000.0</td>\n",
       "      <td>100.000000</td>\n",
       "      <td>2018-06-19</td>\n",
       "      <td>2</td>\n",
       "      <td>3.03</td>\n",
       "      <td>14.0</td>\n",
       "      <td>32.00</td>\n",
       "      <td>13</td>\n",
       "      <td>True</td>\n",
       "      <td>...</td>\n",
       "      <td>112.0</td>\n",
       "      <td>1.0</td>\n",
       "      <td>48.0</td>\n",
       "      <td>121.0</td>\n",
       "      <td>100000.000000</td>\n",
       "      <td>1</td>\n",
       "      <td>6</td>\n",
       "      <td>2018</td>\n",
       "      <td>вторник</td>\n",
       "      <td>другой</td>\n",
       "    </tr>\n",
       "    <tr>\n",
       "      <th>5</th>\n",
       "      <td>10</td>\n",
       "      <td>2890000.0</td>\n",
       "      <td>30.400000</td>\n",
       "      <td>2018-09-10</td>\n",
       "      <td>1</td>\n",
       "      <td>NaN</td>\n",
       "      <td>12.0</td>\n",
       "      <td>14.40</td>\n",
       "      <td>5</td>\n",
       "      <td>True</td>\n",
       "      <td>...</td>\n",
       "      <td>NaN</td>\n",
       "      <td>NaN</td>\n",
       "      <td>NaN</td>\n",
       "      <td>55.0</td>\n",
       "      <td>95065.789062</td>\n",
       "      <td>0</td>\n",
       "      <td>9</td>\n",
       "      <td>2018</td>\n",
       "      <td>понедельник</td>\n",
       "      <td>другой</td>\n",
       "    </tr>\n",
       "    <tr>\n",
       "      <th>6</th>\n",
       "      <td>6</td>\n",
       "      <td>3700000.0</td>\n",
       "      <td>37.299999</td>\n",
       "      <td>2017-11-02</td>\n",
       "      <td>1</td>\n",
       "      <td>NaN</td>\n",
       "      <td>26.0</td>\n",
       "      <td>10.60</td>\n",
       "      <td>6</td>\n",
       "      <td>True</td>\n",
       "      <td>...</td>\n",
       "      <td>NaN</td>\n",
       "      <td>0.0</td>\n",
       "      <td>NaN</td>\n",
       "      <td>155.0</td>\n",
       "      <td>99195.710938</td>\n",
       "      <td>3</td>\n",
       "      <td>11</td>\n",
       "      <td>2017</td>\n",
       "      <td>четверг</td>\n",
       "      <td>другой</td>\n",
       "    </tr>\n",
       "    <tr>\n",
       "      <th>7</th>\n",
       "      <td>5</td>\n",
       "      <td>7915000.0</td>\n",
       "      <td>71.599998</td>\n",
       "      <td>2019-04-18</td>\n",
       "      <td>2</td>\n",
       "      <td>NaN</td>\n",
       "      <td>24.0</td>\n",
       "      <td>NaN</td>\n",
       "      <td>22</td>\n",
       "      <td>True</td>\n",
       "      <td>...</td>\n",
       "      <td>NaN</td>\n",
       "      <td>0.0</td>\n",
       "      <td>NaN</td>\n",
       "      <td>NaN</td>\n",
       "      <td>110544.695312</td>\n",
       "      <td>3</td>\n",
       "      <td>4</td>\n",
       "      <td>2019</td>\n",
       "      <td>четверг</td>\n",
       "      <td>другой</td>\n",
       "    </tr>\n",
       "    <tr>\n",
       "      <th>8</th>\n",
       "      <td>20</td>\n",
       "      <td>2900000.0</td>\n",
       "      <td>33.160000</td>\n",
       "      <td>2018-05-23</td>\n",
       "      <td>1</td>\n",
       "      <td>NaN</td>\n",
       "      <td>27.0</td>\n",
       "      <td>15.43</td>\n",
       "      <td>26</td>\n",
       "      <td>True</td>\n",
       "      <td>...</td>\n",
       "      <td>NaN</td>\n",
       "      <td>NaN</td>\n",
       "      <td>NaN</td>\n",
       "      <td>189.0</td>\n",
       "      <td>87454.765625</td>\n",
       "      <td>2</td>\n",
       "      <td>5</td>\n",
       "      <td>2018</td>\n",
       "      <td>среда</td>\n",
       "      <td>другой</td>\n",
       "    </tr>\n",
       "    <tr>\n",
       "      <th>9</th>\n",
       "      <td>18</td>\n",
       "      <td>5400000.0</td>\n",
       "      <td>61.000000</td>\n",
       "      <td>2017-02-26</td>\n",
       "      <td>3</td>\n",
       "      <td>2.50</td>\n",
       "      <td>9.0</td>\n",
       "      <td>43.60</td>\n",
       "      <td>7</td>\n",
       "      <td>True</td>\n",
       "      <td>...</td>\n",
       "      <td>NaN</td>\n",
       "      <td>0.0</td>\n",
       "      <td>NaN</td>\n",
       "      <td>289.0</td>\n",
       "      <td>88524.593750</td>\n",
       "      <td>6</td>\n",
       "      <td>2</td>\n",
       "      <td>2017</td>\n",
       "      <td>воскресенье</td>\n",
       "      <td>другой</td>\n",
       "    </tr>\n",
       "    <tr>\n",
       "      <th>10</th>\n",
       "      <td>5</td>\n",
       "      <td>5050000.0</td>\n",
       "      <td>39.599998</td>\n",
       "      <td>2017-11-16</td>\n",
       "      <td>1</td>\n",
       "      <td>2.67</td>\n",
       "      <td>12.0</td>\n",
       "      <td>20.30</td>\n",
       "      <td>3</td>\n",
       "      <td>True</td>\n",
       "      <td>...</td>\n",
       "      <td>310.0</td>\n",
       "      <td>2.0</td>\n",
       "      <td>553.0</td>\n",
       "      <td>137.0</td>\n",
       "      <td>127525.257812</td>\n",
       "      <td>3</td>\n",
       "      <td>11</td>\n",
       "      <td>2017</td>\n",
       "      <td>четверг</td>\n",
       "      <td>другой</td>\n",
       "    </tr>\n",
       "    <tr>\n",
       "      <th>11</th>\n",
       "      <td>9</td>\n",
       "      <td>3300000.0</td>\n",
       "      <td>44.000000</td>\n",
       "      <td>2018-08-27</td>\n",
       "      <td>2</td>\n",
       "      <td>NaN</td>\n",
       "      <td>5.0</td>\n",
       "      <td>31.00</td>\n",
       "      <td>4</td>\n",
       "      <td>False</td>\n",
       "      <td>...</td>\n",
       "      <td>NaN</td>\n",
       "      <td>0.0</td>\n",
       "      <td>NaN</td>\n",
       "      <td>7.0</td>\n",
       "      <td>75000.000000</td>\n",
       "      <td>0</td>\n",
       "      <td>8</td>\n",
       "      <td>2018</td>\n",
       "      <td>понедельник</td>\n",
       "      <td>другой</td>\n",
       "    </tr>\n",
       "    <tr>\n",
       "      <th>12</th>\n",
       "      <td>10</td>\n",
       "      <td>3890000.0</td>\n",
       "      <td>54.000000</td>\n",
       "      <td>2016-06-30</td>\n",
       "      <td>2</td>\n",
       "      <td>NaN</td>\n",
       "      <td>5.0</td>\n",
       "      <td>30.00</td>\n",
       "      <td>5</td>\n",
       "      <td>True</td>\n",
       "      <td>...</td>\n",
       "      <td>NaN</td>\n",
       "      <td>NaN</td>\n",
       "      <td>NaN</td>\n",
       "      <td>90.0</td>\n",
       "      <td>72037.039062</td>\n",
       "      <td>3</td>\n",
       "      <td>6</td>\n",
       "      <td>2016</td>\n",
       "      <td>четверг</td>\n",
       "      <td>последний</td>\n",
       "    </tr>\n",
       "    <tr>\n",
       "      <th>13</th>\n",
       "      <td>20</td>\n",
       "      <td>3550000.0</td>\n",
       "      <td>42.799999</td>\n",
       "      <td>2017-07-01</td>\n",
       "      <td>2</td>\n",
       "      <td>2.56</td>\n",
       "      <td>5.0</td>\n",
       "      <td>27.00</td>\n",
       "      <td>5</td>\n",
       "      <td>True</td>\n",
       "      <td>...</td>\n",
       "      <td>294.0</td>\n",
       "      <td>3.0</td>\n",
       "      <td>298.0</td>\n",
       "      <td>366.0</td>\n",
       "      <td>82943.929688</td>\n",
       "      <td>5</td>\n",
       "      <td>7</td>\n",
       "      <td>2017</td>\n",
       "      <td>суббота</td>\n",
       "      <td>последний</td>\n",
       "    </tr>\n",
       "    <tr>\n",
       "      <th>14</th>\n",
       "      <td>1</td>\n",
       "      <td>4400000.0</td>\n",
       "      <td>36.000000</td>\n",
       "      <td>2016-06-23</td>\n",
       "      <td>1</td>\n",
       "      <td>NaN</td>\n",
       "      <td>6.0</td>\n",
       "      <td>17.00</td>\n",
       "      <td>1</td>\n",
       "      <td>True</td>\n",
       "      <td>...</td>\n",
       "      <td>NaN</td>\n",
       "      <td>1.0</td>\n",
       "      <td>96.0</td>\n",
       "      <td>203.0</td>\n",
       "      <td>122222.218750</td>\n",
       "      <td>3</td>\n",
       "      <td>6</td>\n",
       "      <td>2016</td>\n",
       "      <td>четверг</td>\n",
       "      <td>первый</td>\n",
       "    </tr>\n",
       "  </tbody>\n",
       "</table>\n",
       "<p>15 rows × 28 columns</p>\n",
       "</div>"
      ],
      "text/plain": [
       "    total_images  last_price  total_area first_day_exposition  rooms  \\\n",
       "0             20  13000000.0  108.000000           2019-03-07      3   \n",
       "1              7   3350000.0   40.400002           2018-12-04      1   \n",
       "2             10   5196000.0   56.000000           2015-08-20      2   \n",
       "3              0  64900000.0  159.000000           2015-07-24      3   \n",
       "4              2  10000000.0  100.000000           2018-06-19      2   \n",
       "5             10   2890000.0   30.400000           2018-09-10      1   \n",
       "6              6   3700000.0   37.299999           2017-11-02      1   \n",
       "7              5   7915000.0   71.599998           2019-04-18      2   \n",
       "8             20   2900000.0   33.160000           2018-05-23      1   \n",
       "9             18   5400000.0   61.000000           2017-02-26      3   \n",
       "10             5   5050000.0   39.599998           2017-11-16      1   \n",
       "11             9   3300000.0   44.000000           2018-08-27      2   \n",
       "12            10   3890000.0   54.000000           2016-06-30      2   \n",
       "13            20   3550000.0   42.799999           2017-07-01      2   \n",
       "14             1   4400000.0   36.000000           2016-06-23      1   \n",
       "\n",
       "    ceiling_height  floors_total  living_area  floor  is_apartment  ...  \\\n",
       "0             2.70          16.0        51.00      8          True  ...   \n",
       "1              NaN          11.0        18.60      1          True  ...   \n",
       "2              NaN           5.0        34.30      4          True  ...   \n",
       "3              NaN          14.0          NaN      9          True  ...   \n",
       "4             3.03          14.0        32.00     13          True  ...   \n",
       "5              NaN          12.0        14.40      5          True  ...   \n",
       "6              NaN          26.0        10.60      6          True  ...   \n",
       "7              NaN          24.0          NaN     22          True  ...   \n",
       "8              NaN          27.0        15.43     26          True  ...   \n",
       "9             2.50           9.0        43.60      7          True  ...   \n",
       "10            2.67          12.0        20.30      3          True  ...   \n",
       "11             NaN           5.0        31.00      4         False  ...   \n",
       "12             NaN           5.0        30.00      5          True  ...   \n",
       "13            2.56           5.0        27.00      5          True  ...   \n",
       "14             NaN           6.0        17.00      1          True  ...   \n",
       "\n",
       "    parks_nearest  ponds_around3000  ponds_nearest  days_exposition  \\\n",
       "0           482.0               2.0          755.0              NaN   \n",
       "1             NaN               0.0            NaN             81.0   \n",
       "2            90.0               2.0          574.0            558.0   \n",
       "3            84.0               3.0          234.0            424.0   \n",
       "4           112.0               1.0           48.0            121.0   \n",
       "5             NaN               NaN            NaN             55.0   \n",
       "6             NaN               0.0            NaN            155.0   \n",
       "7             NaN               0.0            NaN              NaN   \n",
       "8             NaN               NaN            NaN            189.0   \n",
       "9             NaN               0.0            NaN            289.0   \n",
       "10          310.0               2.0          553.0            137.0   \n",
       "11            NaN               0.0            NaN              7.0   \n",
       "12            NaN               NaN            NaN             90.0   \n",
       "13          294.0               3.0          298.0            366.0   \n",
       "14            NaN               1.0           96.0            203.0   \n",
       "\n",
       "      meter_price  publication_day_prom  publication_month  publication_year  \\\n",
       "0   120370.367188                     3                  3              2019   \n",
       "1    82920.789062                     1                 12              2018   \n",
       "2    92785.710938                     3                  8              2015   \n",
       "3   408176.093750                     4                  7              2015   \n",
       "4   100000.000000                     1                  6              2018   \n",
       "5    95065.789062                     0                  9              2018   \n",
       "6    99195.710938                     3                 11              2017   \n",
       "7   110544.695312                     3                  4              2019   \n",
       "8    87454.765625                     2                  5              2018   \n",
       "9    88524.593750                     6                  2              2017   \n",
       "10  127525.257812                     3                 11              2017   \n",
       "11   75000.000000                     0                  8              2018   \n",
       "12   72037.039062                     3                  6              2016   \n",
       "13   82943.929688                     5                  7              2017   \n",
       "14  122222.218750                     3                  6              2016   \n",
       "\n",
       "    publication_day  apartment_floor  \n",
       "0           четверг           другой  \n",
       "1           вторник           первый  \n",
       "2           четверг           другой  \n",
       "3           пятница           другой  \n",
       "4           вторник           другой  \n",
       "5       понедельник           другой  \n",
       "6           четверг           другой  \n",
       "7           четверг           другой  \n",
       "8             среда           другой  \n",
       "9       воскресенье           другой  \n",
       "10          четверг           другой  \n",
       "11      понедельник           другой  \n",
       "12          четверг        последний  \n",
       "13          суббота        последний  \n",
       "14          четверг           первый  \n",
       "\n",
       "[15 rows x 28 columns]"
      ]
     },
     "metadata": {},
     "output_type": "display_data"
    }
   ],
   "source": [
    "def categorization_floor(prom):\n",
    "    floor = prom['floor']\n",
    "    floors_total = prom['floors_total']\n",
    "    \n",
    "    if floor == 1:\n",
    "        return 'первый'\n",
    "    elif floor == floors_total:\n",
    "        return 'последний'\n",
    "    else:\n",
    "        return 'другой'\n",
    "    \n",
    "df['apartment_floor'] = df.apply(categorization_floor, axis = 1)\n",
    "\n",
    "display(df.head(15))"
   ]
  },
  {
   "cell_type": "markdown",
   "id": "5ae33fb8",
   "metadata": {},
   "source": [
    "Для вычисления отношения жилой и общей площади воспользуемся данными из столбцов living_area и total_area, соответственно для кухни и общей площади используем данные из столбца kitchen_area."
   ]
  },
  {
   "cell_type": "code",
   "execution_count": 14,
   "id": "e2a67022",
   "metadata": {},
   "outputs": [
    {
     "data": {
      "text/html": [
       "<div>\n",
       "<style scoped>\n",
       "    .dataframe tbody tr th:only-of-type {\n",
       "        vertical-align: middle;\n",
       "    }\n",
       "\n",
       "    .dataframe tbody tr th {\n",
       "        vertical-align: top;\n",
       "    }\n",
       "\n",
       "    .dataframe thead th {\n",
       "        text-align: right;\n",
       "    }\n",
       "</style>\n",
       "<table border=\"1\" class=\"dataframe\">\n",
       "  <thead>\n",
       "    <tr style=\"text-align: right;\">\n",
       "      <th></th>\n",
       "      <th>total_images</th>\n",
       "      <th>last_price</th>\n",
       "      <th>total_area</th>\n",
       "      <th>first_day_exposition</th>\n",
       "      <th>rooms</th>\n",
       "      <th>ceiling_height</th>\n",
       "      <th>floors_total</th>\n",
       "      <th>living_area</th>\n",
       "      <th>floor</th>\n",
       "      <th>is_apartment</th>\n",
       "      <th>...</th>\n",
       "      <th>ponds_nearest</th>\n",
       "      <th>days_exposition</th>\n",
       "      <th>meter_price</th>\n",
       "      <th>publication_day_prom</th>\n",
       "      <th>publication_month</th>\n",
       "      <th>publication_year</th>\n",
       "      <th>publication_day</th>\n",
       "      <th>apartment_floor</th>\n",
       "      <th>living_to_total</th>\n",
       "      <th>kitchen_to_total</th>\n",
       "    </tr>\n",
       "  </thead>\n",
       "  <tbody>\n",
       "    <tr>\n",
       "      <th>0</th>\n",
       "      <td>20</td>\n",
       "      <td>13000000.0</td>\n",
       "      <td>108.000000</td>\n",
       "      <td>2019-03-07</td>\n",
       "      <td>3</td>\n",
       "      <td>2.70</td>\n",
       "      <td>16.0</td>\n",
       "      <td>51.0</td>\n",
       "      <td>8</td>\n",
       "      <td>True</td>\n",
       "      <td>...</td>\n",
       "      <td>755.0</td>\n",
       "      <td>NaN</td>\n",
       "      <td>120370.367188</td>\n",
       "      <td>3</td>\n",
       "      <td>3</td>\n",
       "      <td>2019</td>\n",
       "      <td>четверг</td>\n",
       "      <td>другой</td>\n",
       "      <td>0.472222</td>\n",
       "      <td>0.231481</td>\n",
       "    </tr>\n",
       "    <tr>\n",
       "      <th>1</th>\n",
       "      <td>7</td>\n",
       "      <td>3350000.0</td>\n",
       "      <td>40.400002</td>\n",
       "      <td>2018-12-04</td>\n",
       "      <td>1</td>\n",
       "      <td>NaN</td>\n",
       "      <td>11.0</td>\n",
       "      <td>18.6</td>\n",
       "      <td>1</td>\n",
       "      <td>True</td>\n",
       "      <td>...</td>\n",
       "      <td>NaN</td>\n",
       "      <td>81.0</td>\n",
       "      <td>82920.789062</td>\n",
       "      <td>1</td>\n",
       "      <td>12</td>\n",
       "      <td>2018</td>\n",
       "      <td>вторник</td>\n",
       "      <td>первый</td>\n",
       "      <td>0.460396</td>\n",
       "      <td>0.272277</td>\n",
       "    </tr>\n",
       "    <tr>\n",
       "      <th>2</th>\n",
       "      <td>10</td>\n",
       "      <td>5196000.0</td>\n",
       "      <td>56.000000</td>\n",
       "      <td>2015-08-20</td>\n",
       "      <td>2</td>\n",
       "      <td>NaN</td>\n",
       "      <td>5.0</td>\n",
       "      <td>34.3</td>\n",
       "      <td>4</td>\n",
       "      <td>True</td>\n",
       "      <td>...</td>\n",
       "      <td>574.0</td>\n",
       "      <td>558.0</td>\n",
       "      <td>92785.710938</td>\n",
       "      <td>3</td>\n",
       "      <td>8</td>\n",
       "      <td>2015</td>\n",
       "      <td>четверг</td>\n",
       "      <td>другой</td>\n",
       "      <td>0.612500</td>\n",
       "      <td>0.148214</td>\n",
       "    </tr>\n",
       "    <tr>\n",
       "      <th>3</th>\n",
       "      <td>0</td>\n",
       "      <td>64900000.0</td>\n",
       "      <td>159.000000</td>\n",
       "      <td>2015-07-24</td>\n",
       "      <td>3</td>\n",
       "      <td>NaN</td>\n",
       "      <td>14.0</td>\n",
       "      <td>NaN</td>\n",
       "      <td>9</td>\n",
       "      <td>True</td>\n",
       "      <td>...</td>\n",
       "      <td>234.0</td>\n",
       "      <td>424.0</td>\n",
       "      <td>408176.093750</td>\n",
       "      <td>4</td>\n",
       "      <td>7</td>\n",
       "      <td>2015</td>\n",
       "      <td>пятница</td>\n",
       "      <td>другой</td>\n",
       "      <td>NaN</td>\n",
       "      <td>NaN</td>\n",
       "    </tr>\n",
       "    <tr>\n",
       "      <th>4</th>\n",
       "      <td>2</td>\n",
       "      <td>10000000.0</td>\n",
       "      <td>100.000000</td>\n",
       "      <td>2018-06-19</td>\n",
       "      <td>2</td>\n",
       "      <td>3.03</td>\n",
       "      <td>14.0</td>\n",
       "      <td>32.0</td>\n",
       "      <td>13</td>\n",
       "      <td>True</td>\n",
       "      <td>...</td>\n",
       "      <td>48.0</td>\n",
       "      <td>121.0</td>\n",
       "      <td>100000.000000</td>\n",
       "      <td>1</td>\n",
       "      <td>6</td>\n",
       "      <td>2018</td>\n",
       "      <td>вторник</td>\n",
       "      <td>другой</td>\n",
       "      <td>0.320000</td>\n",
       "      <td>0.410000</td>\n",
       "    </tr>\n",
       "  </tbody>\n",
       "</table>\n",
       "<p>5 rows × 30 columns</p>\n",
       "</div>"
      ],
      "text/plain": [
       "   total_images  last_price  total_area first_day_exposition  rooms  \\\n",
       "0            20  13000000.0  108.000000           2019-03-07      3   \n",
       "1             7   3350000.0   40.400002           2018-12-04      1   \n",
       "2            10   5196000.0   56.000000           2015-08-20      2   \n",
       "3             0  64900000.0  159.000000           2015-07-24      3   \n",
       "4             2  10000000.0  100.000000           2018-06-19      2   \n",
       "\n",
       "   ceiling_height  floors_total  living_area  floor  is_apartment  ...  \\\n",
       "0            2.70          16.0         51.0      8          True  ...   \n",
       "1             NaN          11.0         18.6      1          True  ...   \n",
       "2             NaN           5.0         34.3      4          True  ...   \n",
       "3             NaN          14.0          NaN      9          True  ...   \n",
       "4            3.03          14.0         32.0     13          True  ...   \n",
       "\n",
       "   ponds_nearest  days_exposition    meter_price  publication_day_prom  \\\n",
       "0          755.0              NaN  120370.367188                     3   \n",
       "1            NaN             81.0   82920.789062                     1   \n",
       "2          574.0            558.0   92785.710938                     3   \n",
       "3          234.0            424.0  408176.093750                     4   \n",
       "4           48.0            121.0  100000.000000                     1   \n",
       "\n",
       "  publication_month  publication_year  publication_day  apartment_floor  \\\n",
       "0                 3              2019          четверг           другой   \n",
       "1                12              2018          вторник           первый   \n",
       "2                 8              2015          четверг           другой   \n",
       "3                 7              2015          пятница           другой   \n",
       "4                 6              2018          вторник           другой   \n",
       "\n",
       "   living_to_total  kitchen_to_total  \n",
       "0         0.472222          0.231481  \n",
       "1         0.460396          0.272277  \n",
       "2         0.612500          0.148214  \n",
       "3              NaN               NaN  \n",
       "4         0.320000          0.410000  \n",
       "\n",
       "[5 rows x 30 columns]"
      ]
     },
     "metadata": {},
     "output_type": "display_data"
    }
   ],
   "source": [
    "df['living_to_total'] = df['living_area'] / df['total_area'] \n",
    "\n",
    "df['kitchen_to_total'] = df['kitchen_area'] / df['total_area']\n",
    "\n",
    "display(df.head())"
   ]
  },
  {
   "cell_type": "markdown",
   "id": "30ceda80",
   "metadata": {},
   "source": [
    "## 4 Исследовательский анализ"
   ]
  },
  {
   "cell_type": "markdown",
   "id": "4cb81dd1",
   "metadata": {},
   "source": [
    "Изучим следующие параметры: площадь, цена, число комнат, высота потолков. Построим гистограммы для каждого параметра."
   ]
  },
  {
   "cell_type": "code",
   "execution_count": 15,
   "id": "71ac7290",
   "metadata": {},
   "outputs": [
    {
     "data": {
      "image/png": "[encoded data removed]",
      "text/plain": [
       "<Figure size 432x288 with 1 Axes>"
      ]
     },
     "metadata": {
      "needs_background": "light"
     },
     "output_type": "display_data"
    },
    {
     "data": {
      "image/png": "[encoded data removed]",
      "text/plain": [
       "<Figure size 432x288 with 1 Axes>"
      ]
     },
     "metadata": {
      "needs_background": "light"
     },
     "output_type": "display_data"
    },
    {
     "data": {
      "image/png": "[encoded data removed]",
      "text/plain": [
       "<Figure size 432x288 with 1 Axes>"
      ]
     },
     "metadata": {
      "needs_background": "light"
     },
     "output_type": "display_data"
    },
    {
     "data": {
      "image/png": "[encoded data removed]",
      "text/plain": [
       "<Figure size 432x288 with 1 Axes>"
      ]
     },
     "metadata": {
      "needs_background": "light"
     },
     "output_type": "display_data"
    }
   ],
   "source": [
    "pd.Series(df['total_area']).plot(kind = 'hist', bins = 100)\n",
    "plt.xlabel(\"Square\")\n",
    "plt.ylabel(\"Frequency\")\n",
    "plt.show()\n",
    "\n",
    "pd.Series(df['meter_price']).plot(kind = 'hist', bins = 100)\n",
    "plt.xlabel(\"Price per meter\")\n",
    "plt.ylabel(\"Frequency\")\n",
    "plt.show()\n",
    "\n",
    "pd.Series(df['rooms']).plot(kind = 'hist', bins = 100)\n",
    "plt.xlabel(\"Rooms\")\n",
    "plt.ylabel(\"Frequency\")\n",
    "plt.show()\n",
    "\n",
    "pd.Series(df['ceiling_height']).plot(kind = 'hist', bins = 100)\n",
    "plt.xlabel(\"Ceiling height\")\n",
    "plt.ylabel(\"Frequency\")\n",
    "plt.show()"
   ]
  },
  {
   "cell_type": "markdown",
   "id": "bda31548",
   "metadata": {},
   "source": [
    "Изучим время продажи квартиры. Построим гистограмму."
   ]
  },
  {
   "cell_type": "code",
   "execution_count": 16,
   "id": "d4df38df",
   "metadata": {},
   "outputs": [
    {
     "data": {
      "image/png": "[encoded data removed]",
      "text/plain": [
       "<Figure size 432x288 with 1 Axes>"
      ]
     },
     "metadata": {
      "needs_background": "light"
     },
     "output_type": "display_data"
    }
   ],
   "source": [
    "pd.Series(df['days_exposition']).plot(kind = 'hist', title = 'days_exposition', bins = 100, range = (0, 1400))\n",
    "plt.show()"
   ]
  },
  {
   "cell_type": "markdown",
   "id": "8a0c753b",
   "metadata": {},
   "source": [
    "Выедеи среднее и медиану столбца."
   ]
  },
  {
   "cell_type": "code",
   "execution_count": 17,
   "id": "359ad791",
   "metadata": {},
   "outputs": [
    {
     "name": "stdout",
     "output_type": "stream",
     "text": [
      "count    20518.000000\n",
      "mean       180.888634\n",
      "std        219.727988\n",
      "min          1.000000\n",
      "25%         45.000000\n",
      "50%         95.000000\n",
      "75%        232.000000\n",
      "max       1580.000000\n",
      "Name: days_exposition, dtype: float64\n"
     ]
    }
   ],
   "source": [
    "print(df['days_exposition'].describe())"
   ]
  },
  {
   "cell_type": "markdown",
   "id": "a8156963",
   "metadata": {},
   "source": [
    "Минимальное время за которое продали квартиры равно 1 дню, максмимальное время составляет 1580 дней. В среднем время продажи составляет 180 дней, при этом половина всех предложений было реализованно за 95 дней."
   ]
  },
  {
   "cell_type": "markdown",
   "id": "06468316",
   "metadata": {},
   "source": [
    "### Уберём лишние значения"
   ]
  },
  {
   "cell_type": "markdown",
   "id": "03f4cb3a",
   "metadata": {},
   "source": [
    "На гистограмме времени продажи квартиры заметно, что продаж продолжительность более 600 дней немного, они сливаются с нулём. Так же довольно много случаев когда квартира продавалась очень быстро, уберём значения ниже 65 дней."
   ]
  },
  {
   "cell_type": "code",
   "execution_count": 18,
   "id": "d0226ef9",
   "metadata": {},
   "outputs": [
    {
     "data": {
      "image/png": "[encoded data removed]",
      "text/plain": [
       "<Figure size 432x288 with 1 Axes>"
      ]
     },
     "metadata": {
      "needs_background": "light"
     },
     "output_type": "display_data"
    },
    {
     "data": {
      "text/plain": [
       "(-10.0, 1000.0)"
      ]
     },
     "execution_count": 18,
     "metadata": {},
     "output_type": "execute_result"
    },
    {
     "data": {
      "image/png": "[encoded data removed]",
      "text/plain": [
       "<Figure size 432x288 with 1 Axes>"
      ]
     },
     "metadata": {
      "needs_background": "light"
     },
     "output_type": "display_data"
    }
   ],
   "source": [
    "good_df = df.query('days_exposition < 1000')\n",
    "good_df = df.query('days_exposition > 0')\n",
    "\n",
    "pd.Series(good_df['days_exposition']).plot(kind = 'hist', title = 'days_exposition', bins = 100, range = (0, 800))\n",
    "plt.xlabel(\"Days\")\n",
    "plt.ylabel(\"Frequency\")\n",
    "plt.show()\n",
    "\n",
    "good_df.boxplot('days_exposition')\n",
    "plt.ylim(-10, 1000)"
   ]
  },
  {
   "cell_type": "code",
   "execution_count": 19,
   "id": "fc43835a",
   "metadata": {},
   "outputs": [
    {
     "data": {
      "image/png": "[encoded data removed]",
      "text/plain": [
       "<Figure size 432x288 with 1 Axes>"
      ]
     },
     "metadata": {
      "needs_background": "light"
     },
     "output_type": "display_data"
    }
   ],
   "source": [
    "good_df = df.query('days_exposition < 600')\n",
    "good_df = good_df.query('days_exposition > 65')\n",
    "\n",
    "pd.Series(good_df['days_exposition']).plot(kind = 'hist', title = 'days_exposition', bins = 100, range = (0, 800))\n",
    "plt.xlabel(\"Days\")\n",
    "plt.ylabel(\"Frequency\")\n",
    "plt.show()"
   ]
  },
  {
   "cell_type": "markdown",
   "id": "340ccd1e",
   "metadata": {},
   "source": [
    "На гистограммах плщади и кол-ва комнат есть значения сливающиеся с нулем, уберём их."
   ]
  },
  {
   "cell_type": "code",
   "execution_count": 20,
   "id": "59fcdb95",
   "metadata": {},
   "outputs": [
    {
     "data": {
      "image/png": "[encoded data removed]",
      "text/plain": [
       "<Figure size 432x288 with 1 Axes>"
      ]
     },
     "metadata": {
      "needs_background": "light"
     },
     "output_type": "display_data"
    },
    {
     "data": {
      "image/png": "[encoded data removed]",
      "text/plain": [
       "<Figure size 432x288 with 1 Axes>"
      ]
     },
     "metadata": {
      "needs_background": "light"
     },
     "output_type": "display_data"
    }
   ],
   "source": [
    "good_total_area = df.query('total_area < 200')\n",
    "\n",
    "pd.Series(good_total_area['total_area']).plot(kind = 'hist', bins = 100)\n",
    "plt.xlabel(\"Square\")\n",
    "plt.ylabel(\"Frequency\")\n",
    "plt.show()\n",
    "\n",
    "good_rooms = df.query('rooms < 6')\n",
    "\n",
    "pd.Series(good_rooms['rooms']).plot(kind = 'hist', bins = 100)\n",
    "plt.xlabel(\"Rooms\")\n",
    "plt.ylabel(\"Frequency\")\n",
    "plt.show()"
   ]
  },
  {
   "cell_type": "markdown",
   "id": "7ecd4ebb",
   "metadata": {},
   "source": [
    "### Определение факторов влияющих на стоимость квартиры"
   ]
  },
  {
   "cell_type": "markdown",
   "id": "518167a8",
   "metadata": {},
   "source": [
    "Проверим как сильно влияет площадь квартиры, кол-во комнат, расположение относительно центра города на цену квартиры."
   ]
  },
  {
   "cell_type": "code",
   "execution_count": 21,
   "id": "9374204c",
   "metadata": {},
   "outputs": [
    {
     "data": {
      "image/png": "[encoded data removed]",
      "text/plain": [
       "<Figure size 720x720 with 20 Axes>"
      ]
     },
     "metadata": {
      "needs_background": "light"
     },
     "output_type": "display_data"
    }
   ],
   "source": [
    "sns.pairplot(df[['last_price', 'total_area', 'rooms', 'cityCenters_nearest']].corr())\n",
    "plt.show()"
   ]
  },
  {
   "cell_type": "markdown",
   "id": "422beefd",
   "metadata": {},
   "source": [
    "Изучив корреляционные матрицы можно сделать вывод, что больше всего влияние на стоимость квартиры оказывет её площадь средний коэффициент корреляции площади и стоимость квартиры приблизительно 0,7, чем больше площадь тем больше её стоимость. Количество комнат так же влияет на стоимость, но не так сильно как площадь средний коэффициент корреляции составляет приблизительно 0,5, чем больше комнат в квартире, тем больше её стоимость. Удаление от центра города влияет на стоимость квартиры отрицательно, чем больше квартира удалена от центра тем меньше её стоимость, средний коэффциент составляет -0,2."
   ]
  },
  {
   "cell_type": "code",
   "execution_count": 22,
   "id": "7a7a36fc",
   "metadata": {},
   "outputs": [
    {
     "data": {
      "image/png": "[encoded data removed]",
      "text/plain": [
       "<Figure size 432x288 with 1 Axes>"
      ]
     },
     "metadata": {
      "needs_background": "light"
     },
     "output_type": "display_data"
    }
   ],
   "source": [
    "floor_group = df.groupby('apartment_floor')['last_price'].sum().sort_values()\n",
    "\n",
    "floor_group.plot(kind = 'bar')\n",
    "\n",
    "#df.plot(kind = 'scatter', x = 'apartment_floor', y = 'last_price')\n",
    "\n",
    "plt.xticks(rotation = 45)\n",
    "plt.show()"
   ]
  },
  {
   "cell_type": "code",
   "execution_count": 23,
   "id": "f35a66c1",
   "metadata": {},
   "outputs": [
    {
     "data": {
      "image/png": "[encoded data removed]",
      "text/plain": [
       "<Figure size 432x288 with 1 Axes>"
      ]
     },
     "metadata": {
      "needs_background": "light"
     },
     "output_type": "display_data"
    },
    {
     "data": {
      "image/png": "[encoded data removed]",
      "text/plain": [
       "<Figure size 432x288 with 1 Axes>"
      ]
     },
     "metadata": {
      "needs_background": "light"
     },
     "output_type": "display_data"
    },
    {
     "data": {
      "image/png": "[encoded data removed]",
      "text/plain": [
       "<Figure size 432x288 with 1 Axes>"
      ]
     },
     "metadata": {
      "needs_background": "light"
     },
     "output_type": "display_data"
    }
   ],
   "source": [
    "day_group = df.groupby('publication_day')['last_price'].sum().sort_values()\n",
    "day_group.plot(kind = 'bar')\n",
    "\n",
    "plt.xticks(rotation = 45)\n",
    "plt.show()\n",
    "\n",
    "month_group = df.groupby('publication_month')['last_price'].sum().sort_values()\n",
    "month_group.plot(kind = 'bar')\n",
    "\n",
    "plt.xticks(rotation = 0)\n",
    "plt.show()\n",
    "\n",
    "year_group = df.groupby('publication_year')['last_price'].sum().sort_values()\n",
    "year_group.plot(kind = 'bar')\n",
    "\n",
    "plt.xticks(rotation = 45)\n",
    "plt.show()"
   ]
  },
  {
   "cell_type": "markdown",
   "id": "e148727f",
   "metadata": {},
   "source": [
    "### Населённые пункты с наибольшим числом объявлений"
   ]
  },
  {
   "cell_type": "code",
   "execution_count": 24,
   "id": "7e6e024b",
   "metadata": {
    "scrolled": true
   },
   "outputs": [
    {
     "data": {
      "text/html": [
       "<div>\n",
       "<style scoped>\n",
       "    .dataframe tbody tr th:only-of-type {\n",
       "        vertical-align: middle;\n",
       "    }\n",
       "\n",
       "    .dataframe tbody tr th {\n",
       "        vertical-align: top;\n",
       "    }\n",
       "\n",
       "    .dataframe thead tr th {\n",
       "        text-align: left;\n",
       "    }\n",
       "\n",
       "    .dataframe thead tr:last-of-type th {\n",
       "        text-align: right;\n",
       "    }\n",
       "</style>\n",
       "<table border=\"1\" class=\"dataframe\">\n",
       "  <thead>\n",
       "    <tr>\n",
       "      <th></th>\n",
       "      <th>count</th>\n",
       "      <th>mean</th>\n",
       "      <th>max</th>\n",
       "      <th>min</th>\n",
       "    </tr>\n",
       "    <tr>\n",
       "      <th></th>\n",
       "      <th>meter_price</th>\n",
       "      <th>meter_price</th>\n",
       "      <th>meter_price</th>\n",
       "      <th>meter_price</th>\n",
       "    </tr>\n",
       "    <tr>\n",
       "      <th>locality_name</th>\n",
       "      <th></th>\n",
       "      <th></th>\n",
       "      <th></th>\n",
       "      <th></th>\n",
       "    </tr>\n",
       "  </thead>\n",
       "  <tbody>\n",
       "    <tr>\n",
       "      <th>Бокситогорск</th>\n",
       "      <td>16</td>\n",
       "      <td>17551.591797</td>\n",
       "      <td>21590.908203</td>\n",
       "      <td>14444.444336</td>\n",
       "    </tr>\n",
       "    <tr>\n",
       "      <th>Волосово</th>\n",
       "      <td>36</td>\n",
       "      <td>40183.324219</td>\n",
       "      <td>52030.453125</td>\n",
       "      <td>25000.000000</td>\n",
       "    </tr>\n",
       "    <tr>\n",
       "      <th>Волхов</th>\n",
       "      <td>111</td>\n",
       "      <td>35087.679688</td>\n",
       "      <td>48275.863281</td>\n",
       "      <td>20063.695312</td>\n",
       "    </tr>\n",
       "    <tr>\n",
       "      <th>Всеволожск</th>\n",
       "      <td>398</td>\n",
       "      <td>68654.476562</td>\n",
       "      <td>640422.375000</td>\n",
       "      <td>31400.000000</td>\n",
       "    </tr>\n",
       "    <tr>\n",
       "      <th>Выборг</th>\n",
       "      <td>237</td>\n",
       "      <td>58141.910156</td>\n",
       "      <td>107473.117188</td>\n",
       "      <td>18750.000000</td>\n",
       "    </tr>\n",
       "  </tbody>\n",
       "</table>\n",
       "</div>"
      ],
      "text/plain": [
       "                    count          mean            max           min\n",
       "              meter_price   meter_price    meter_price   meter_price\n",
       "locality_name                                                       \n",
       "Бокситогорск           16  17551.591797   21590.908203  14444.444336\n",
       "Волосово               36  40183.324219   52030.453125  25000.000000\n",
       "Волхов                111  35087.679688   48275.863281  20063.695312\n",
       "Всеволожск            398  68654.476562  640422.375000  31400.000000\n",
       "Выборг                237  58141.910156  107473.117188  18750.000000"
      ]
     },
     "metadata": {},
     "output_type": "display_data"
    },
    {
     "data": {
      "text/html": [
       "<div>\n",
       "<style scoped>\n",
       "    .dataframe tbody tr th:only-of-type {\n",
       "        vertical-align: middle;\n",
       "    }\n",
       "\n",
       "    .dataframe tbody tr th {\n",
       "        vertical-align: top;\n",
       "    }\n",
       "\n",
       "    .dataframe thead tr th {\n",
       "        text-align: left;\n",
       "    }\n",
       "\n",
       "    .dataframe thead tr:last-of-type th {\n",
       "        text-align: right;\n",
       "    }\n",
       "</style>\n",
       "<table border=\"1\" class=\"dataframe\">\n",
       "  <thead>\n",
       "    <tr>\n",
       "      <th></th>\n",
       "      <th>count</th>\n",
       "      <th>mean</th>\n",
       "      <th>max</th>\n",
       "      <th>min</th>\n",
       "    </tr>\n",
       "    <tr>\n",
       "      <th></th>\n",
       "      <th>meter_price</th>\n",
       "      <th>meter_price</th>\n",
       "      <th>meter_price</th>\n",
       "      <th>meter_price</th>\n",
       "    </tr>\n",
       "    <tr>\n",
       "      <th>locality_name</th>\n",
       "      <th></th>\n",
       "      <th></th>\n",
       "      <th></th>\n",
       "      <th></th>\n",
       "    </tr>\n",
       "  </thead>\n",
       "  <tbody>\n",
       "    <tr>\n",
       "      <th>Санкт-Петербург</th>\n",
       "      <td>15721</td>\n",
       "      <td>114849</td>\n",
       "      <td>1907500</td>\n",
       "      <td>111</td>\n",
       "    </tr>\n",
       "    <tr>\n",
       "      <th>посёлок Мурино</th>\n",
       "      <td>522</td>\n",
       "      <td>85752</td>\n",
       "      <td>138580</td>\n",
       "      <td>50000</td>\n",
       "    </tr>\n",
       "    <tr>\n",
       "      <th>посёлок Шушары</th>\n",
       "      <td>440</td>\n",
       "      <td>78677</td>\n",
       "      <td>147826</td>\n",
       "      <td>47700</td>\n",
       "    </tr>\n",
       "    <tr>\n",
       "      <th>Всеволожск</th>\n",
       "      <td>398</td>\n",
       "      <td>68654</td>\n",
       "      <td>640422</td>\n",
       "      <td>31400</td>\n",
       "    </tr>\n",
       "    <tr>\n",
       "      <th>Пушкин</th>\n",
       "      <td>369</td>\n",
       "      <td>103125</td>\n",
       "      <td>256521</td>\n",
       "      <td>59836</td>\n",
       "    </tr>\n",
       "    <tr>\n",
       "      <th>Колпино</th>\n",
       "      <td>338</td>\n",
       "      <td>75424</td>\n",
       "      <td>125000</td>\n",
       "      <td>47957</td>\n",
       "    </tr>\n",
       "    <tr>\n",
       "      <th>посёлок Парголово</th>\n",
       "      <td>327</td>\n",
       "      <td>90175</td>\n",
       "      <td>138522</td>\n",
       "      <td>39205</td>\n",
       "    </tr>\n",
       "    <tr>\n",
       "      <th>Гатчина</th>\n",
       "      <td>307</td>\n",
       "      <td>68746</td>\n",
       "      <td>146315</td>\n",
       "      <td>10507</td>\n",
       "    </tr>\n",
       "    <tr>\n",
       "      <th>деревня Кудрово</th>\n",
       "      <td>299</td>\n",
       "      <td>92473</td>\n",
       "      <td>142857</td>\n",
       "      <td>54160</td>\n",
       "    </tr>\n",
       "    <tr>\n",
       "      <th>Выборг</th>\n",
       "      <td>237</td>\n",
       "      <td>58141</td>\n",
       "      <td>107473</td>\n",
       "      <td>18750</td>\n",
       "    </tr>\n",
       "  </tbody>\n",
       "</table>\n",
       "</div>"
      ],
      "text/plain": [
       "                        count        mean         max         min\n",
       "                  meter_price meter_price meter_price meter_price\n",
       "locality_name                                                    \n",
       "Санкт-Петербург         15721      114849     1907500         111\n",
       "посёлок Мурино            522       85752      138580       50000\n",
       "посёлок Шушары            440       78677      147826       47700\n",
       "Всеволожск                398       68654      640422       31400\n",
       "Пушкин                    369      103125      256521       59836\n",
       "Колпино                   338       75424      125000       47957\n",
       "посёлок Парголово         327       90175      138522       39205\n",
       "Гатчина                   307       68746      146315       10507\n",
       "деревня Кудрово           299       92473      142857       54160\n",
       "Выборг                    237       58141      107473       18750"
      ]
     },
     "metadata": {},
     "output_type": "display_data"
    }
   ],
   "source": [
    "top_10_citys = df.pivot_table(index = ['locality_name'], values = ['meter_price'], aggfunc = ['count', 'mean', 'max', 'min'])\n",
    "\n",
    "display(top_10_citys.head())\n",
    "\n",
    "top_10_citys['mean', 'meter_price'] = top_10_citys['mean', 'meter_price'].astype('int')\n",
    "top_10_citys['max', 'meter_price'] = top_10_citys['max', 'meter_price'].astype('int')\n",
    "top_10_citys['min', 'meter_price'] = top_10_citys['min', 'meter_price'].astype('int')\n",
    "\n",
    "display(top_10_citys.sort_values(('count','meter_price'), ascending = False).head(10))\n"
   ]
  },
  {
   "cell_type": "markdown",
   "id": "fd3642d7",
   "metadata": {},
   "source": [
    "Построив сводную таблицу и получив первые 10 населённых пунктов с самым большим кол-вом объявлений можно сделать вывод, что в Санкт-Петербурге самая минимальная и самая максимальная цена за квадратный метр."
   ]
  },
  {
   "cell_type": "markdown",
   "id": "6a6abbc9",
   "metadata": {},
   "source": [
    "### Изучение предложения квартир в Санкт-Петербурге"
   ]
  },
  {
   "cell_type": "markdown",
   "id": "5938f5bc",
   "metadata": {},
   "source": [
    "Создадим столбец где будет хранится расстояние до центра в километрах и выделим предложения только из Петербурга."
   ]
  },
  {
   "cell_type": "code",
   "execution_count": 25,
   "id": "117eca23",
   "metadata": {},
   "outputs": [
    {
     "data": {
      "text/html": [
       "<div>\n",
       "<style scoped>\n",
       "    .dataframe tbody tr th:only-of-type {\n",
       "        vertical-align: middle;\n",
       "    }\n",
       "\n",
       "    .dataframe tbody tr th {\n",
       "        vertical-align: top;\n",
       "    }\n",
       "\n",
       "    .dataframe thead th {\n",
       "        text-align: right;\n",
       "    }\n",
       "</style>\n",
       "<table border=\"1\" class=\"dataframe\">\n",
       "  <thead>\n",
       "    <tr style=\"text-align: right;\">\n",
       "      <th></th>\n",
       "      <th>total_images</th>\n",
       "      <th>last_price</th>\n",
       "      <th>total_area</th>\n",
       "      <th>first_day_exposition</th>\n",
       "      <th>rooms</th>\n",
       "      <th>ceiling_height</th>\n",
       "      <th>floors_total</th>\n",
       "      <th>living_area</th>\n",
       "      <th>floor</th>\n",
       "      <th>is_apartment</th>\n",
       "      <th>...</th>\n",
       "      <th>days_exposition</th>\n",
       "      <th>meter_price</th>\n",
       "      <th>publication_day_prom</th>\n",
       "      <th>publication_month</th>\n",
       "      <th>publication_year</th>\n",
       "      <th>publication_day</th>\n",
       "      <th>apartment_floor</th>\n",
       "      <th>living_to_total</th>\n",
       "      <th>kitchen_to_total</th>\n",
       "      <th>city_kilometer</th>\n",
       "    </tr>\n",
       "  </thead>\n",
       "  <tbody>\n",
       "    <tr>\n",
       "      <th>0</th>\n",
       "      <td>20</td>\n",
       "      <td>13000000.0</td>\n",
       "      <td>108.000000</td>\n",
       "      <td>2019-03-07</td>\n",
       "      <td>3</td>\n",
       "      <td>2.70</td>\n",
       "      <td>16.0</td>\n",
       "      <td>51.0</td>\n",
       "      <td>8</td>\n",
       "      <td>True</td>\n",
       "      <td>...</td>\n",
       "      <td>NaN</td>\n",
       "      <td>120370.367188</td>\n",
       "      <td>3</td>\n",
       "      <td>3</td>\n",
       "      <td>2019</td>\n",
       "      <td>четверг</td>\n",
       "      <td>другой</td>\n",
       "      <td>0.472222</td>\n",
       "      <td>0.231481</td>\n",
       "      <td>16</td>\n",
       "    </tr>\n",
       "    <tr>\n",
       "      <th>1</th>\n",
       "      <td>10</td>\n",
       "      <td>5196000.0</td>\n",
       "      <td>56.000000</td>\n",
       "      <td>2015-08-20</td>\n",
       "      <td>2</td>\n",
       "      <td>NaN</td>\n",
       "      <td>5.0</td>\n",
       "      <td>34.3</td>\n",
       "      <td>4</td>\n",
       "      <td>True</td>\n",
       "      <td>...</td>\n",
       "      <td>558.0</td>\n",
       "      <td>92785.710938</td>\n",
       "      <td>3</td>\n",
       "      <td>8</td>\n",
       "      <td>2015</td>\n",
       "      <td>четверг</td>\n",
       "      <td>другой</td>\n",
       "      <td>0.612500</td>\n",
       "      <td>0.148214</td>\n",
       "      <td>13</td>\n",
       "    </tr>\n",
       "    <tr>\n",
       "      <th>2</th>\n",
       "      <td>0</td>\n",
       "      <td>64900000.0</td>\n",
       "      <td>159.000000</td>\n",
       "      <td>2015-07-24</td>\n",
       "      <td>3</td>\n",
       "      <td>NaN</td>\n",
       "      <td>14.0</td>\n",
       "      <td>NaN</td>\n",
       "      <td>9</td>\n",
       "      <td>True</td>\n",
       "      <td>...</td>\n",
       "      <td>424.0</td>\n",
       "      <td>408176.093750</td>\n",
       "      <td>4</td>\n",
       "      <td>7</td>\n",
       "      <td>2015</td>\n",
       "      <td>пятница</td>\n",
       "      <td>другой</td>\n",
       "      <td>NaN</td>\n",
       "      <td>NaN</td>\n",
       "      <td>6</td>\n",
       "    </tr>\n",
       "    <tr>\n",
       "      <th>3</th>\n",
       "      <td>2</td>\n",
       "      <td>10000000.0</td>\n",
       "      <td>100.000000</td>\n",
       "      <td>2018-06-19</td>\n",
       "      <td>2</td>\n",
       "      <td>3.03</td>\n",
       "      <td>14.0</td>\n",
       "      <td>32.0</td>\n",
       "      <td>13</td>\n",
       "      <td>True</td>\n",
       "      <td>...</td>\n",
       "      <td>121.0</td>\n",
       "      <td>100000.000000</td>\n",
       "      <td>1</td>\n",
       "      <td>6</td>\n",
       "      <td>2018</td>\n",
       "      <td>вторник</td>\n",
       "      <td>другой</td>\n",
       "      <td>0.320000</td>\n",
       "      <td>0.410000</td>\n",
       "      <td>8</td>\n",
       "    </tr>\n",
       "    <tr>\n",
       "      <th>4</th>\n",
       "      <td>5</td>\n",
       "      <td>7915000.0</td>\n",
       "      <td>71.599998</td>\n",
       "      <td>2019-04-18</td>\n",
       "      <td>2</td>\n",
       "      <td>NaN</td>\n",
       "      <td>24.0</td>\n",
       "      <td>NaN</td>\n",
       "      <td>22</td>\n",
       "      <td>True</td>\n",
       "      <td>...</td>\n",
       "      <td>NaN</td>\n",
       "      <td>110544.695312</td>\n",
       "      <td>3</td>\n",
       "      <td>4</td>\n",
       "      <td>2019</td>\n",
       "      <td>четверг</td>\n",
       "      <td>другой</td>\n",
       "      <td>NaN</td>\n",
       "      <td>0.263966</td>\n",
       "      <td>11</td>\n",
       "    </tr>\n",
       "  </tbody>\n",
       "</table>\n",
       "<p>5 rows × 31 columns</p>\n",
       "</div>"
      ],
      "text/plain": [
       "   total_images  last_price  total_area first_day_exposition  rooms  \\\n",
       "0            20  13000000.0  108.000000           2019-03-07      3   \n",
       "1            10   5196000.0   56.000000           2015-08-20      2   \n",
       "2             0  64900000.0  159.000000           2015-07-24      3   \n",
       "3             2  10000000.0  100.000000           2018-06-19      2   \n",
       "4             5   7915000.0   71.599998           2019-04-18      2   \n",
       "\n",
       "   ceiling_height  floors_total  living_area  floor  is_apartment  ...  \\\n",
       "0            2.70          16.0         51.0      8          True  ...   \n",
       "1             NaN           5.0         34.3      4          True  ...   \n",
       "2             NaN          14.0          NaN      9          True  ...   \n",
       "3            3.03          14.0         32.0     13          True  ...   \n",
       "4             NaN          24.0          NaN     22          True  ...   \n",
       "\n",
       "   days_exposition    meter_price  publication_day_prom  publication_month  \\\n",
       "0              NaN  120370.367188                     3                  3   \n",
       "1            558.0   92785.710938                     3                  8   \n",
       "2            424.0  408176.093750                     4                  7   \n",
       "3            121.0  100000.000000                     1                  6   \n",
       "4              NaN  110544.695312                     3                  4   \n",
       "\n",
       "  publication_year  publication_day  apartment_floor  living_to_total  \\\n",
       "0             2019          четверг           другой         0.472222   \n",
       "1             2015          четверг           другой         0.612500   \n",
       "2             2015          пятница           другой              NaN   \n",
       "3             2018          вторник           другой         0.320000   \n",
       "4             2019          четверг           другой              NaN   \n",
       "\n",
       "   kitchen_to_total  city_kilometer  \n",
       "0          0.231481              16  \n",
       "1          0.148214              13  \n",
       "2               NaN               6  \n",
       "3          0.410000               8  \n",
       "4          0.263966              11  \n",
       "\n",
       "[5 rows x 31 columns]"
      ]
     },
     "metadata": {},
     "output_type": "display_data"
    }
   ],
   "source": [
    "df['city_kilometer'] = df['cityCenters_nearest'] / 1000\n",
    "df['city_kilometer'] = df['city_kilometer'].fillna(df['city_kilometer'].mean())\n",
    "df['city_kilometer'] = df['city_kilometer'].astype('int')\n",
    "\n",
    "data_spb = df.loc[df['locality_name'] == 'Санкт-Петербург']\n",
    "\n",
    "data_spb.reset_index(drop=True, inplace=True)\n",
    "                    \n",
    "display(data_spb.head())"
   ]
  },
  {
   "cell_type": "markdown",
   "id": "52bf1424",
   "metadata": {},
   "source": [
    "Построим график зависимости цены от удалённости от центра."
   ]
  },
  {
   "cell_type": "code",
   "execution_count": 26,
   "id": "02c6eb0c",
   "metadata": {},
   "outputs": [
    {
     "data": {
      "image/png": "[encoded data removed]",
      "text/plain": [
       "<Figure size 432x288 with 1 Axes>"
      ]
     },
     "metadata": {
      "needs_background": "light"
     },
     "output_type": "display_data"
    }
   ],
   "source": [
    "data_spb.plot(kind = 'scatter', x = 'city_kilometer', y = 'last_price')\n",
    "plt.show()"
   ]
  },
  {
   "cell_type": "markdown",
   "id": "0e29ce31",
   "metadata": {},
   "source": [
    "Из графика можно сделать вывод, что центр города закнчивается на границе 7 километров, после этого расстояния цена сильно снижается по сравнению с предложениями удаение от центра которых составлет менее 7 километров."
   ]
  },
  {
   "cell_type": "markdown",
   "id": "faa547bc",
   "metadata": {},
   "source": [
    "### Квартиры в центре города"
   ]
  },
  {
   "cell_type": "markdown",
   "id": "13be7841",
   "metadata": {},
   "source": [
    "Выделим квартиры в центре и проанализирум какие факторы влияют на цену квартиры."
   ]
  },
  {
   "cell_type": "code",
   "execution_count": 27,
   "id": "2c4ecb8f",
   "metadata": {},
   "outputs": [
    {
     "data": {
      "text/html": [
       "<div>\n",
       "<style scoped>\n",
       "    .dataframe tbody tr th:only-of-type {\n",
       "        vertical-align: middle;\n",
       "    }\n",
       "\n",
       "    .dataframe tbody tr th {\n",
       "        vertical-align: top;\n",
       "    }\n",
       "\n",
       "    .dataframe thead th {\n",
       "        text-align: right;\n",
       "    }\n",
       "</style>\n",
       "<table border=\"1\" class=\"dataframe\">\n",
       "  <thead>\n",
       "    <tr style=\"text-align: right;\">\n",
       "      <th></th>\n",
       "      <th>total_images</th>\n",
       "      <th>last_price</th>\n",
       "      <th>total_area</th>\n",
       "      <th>first_day_exposition</th>\n",
       "      <th>rooms</th>\n",
       "      <th>ceiling_height</th>\n",
       "      <th>floors_total</th>\n",
       "      <th>living_area</th>\n",
       "      <th>floor</th>\n",
       "      <th>is_apartment</th>\n",
       "      <th>...</th>\n",
       "      <th>days_exposition</th>\n",
       "      <th>meter_price</th>\n",
       "      <th>publication_day_prom</th>\n",
       "      <th>publication_month</th>\n",
       "      <th>publication_year</th>\n",
       "      <th>publication_day</th>\n",
       "      <th>apartment_floor</th>\n",
       "      <th>living_to_total</th>\n",
       "      <th>kitchen_to_total</th>\n",
       "      <th>city_kilometer</th>\n",
       "    </tr>\n",
       "  </thead>\n",
       "  <tbody>\n",
       "    <tr>\n",
       "      <th>0</th>\n",
       "      <td>0</td>\n",
       "      <td>64900000.0</td>\n",
       "      <td>159.000000</td>\n",
       "      <td>2015-07-24</td>\n",
       "      <td>3</td>\n",
       "      <td>NaN</td>\n",
       "      <td>14.0</td>\n",
       "      <td>NaN</td>\n",
       "      <td>9</td>\n",
       "      <td>True</td>\n",
       "      <td>...</td>\n",
       "      <td>424.0</td>\n",
       "      <td>408176.093750</td>\n",
       "      <td>4</td>\n",
       "      <td>7</td>\n",
       "      <td>2015</td>\n",
       "      <td>пятница</td>\n",
       "      <td>другой</td>\n",
       "      <td>NaN</td>\n",
       "      <td>NaN</td>\n",
       "      <td>6</td>\n",
       "    </tr>\n",
       "    <tr>\n",
       "      <th>1</th>\n",
       "      <td>8</td>\n",
       "      <td>6500000.0</td>\n",
       "      <td>97.199997</td>\n",
       "      <td>2015-10-31</td>\n",
       "      <td>2</td>\n",
       "      <td>NaN</td>\n",
       "      <td>3.0</td>\n",
       "      <td>46.5</td>\n",
       "      <td>1</td>\n",
       "      <td>True</td>\n",
       "      <td>...</td>\n",
       "      <td>265.0</td>\n",
       "      <td>66872.429688</td>\n",
       "      <td>5</td>\n",
       "      <td>10</td>\n",
       "      <td>2015</td>\n",
       "      <td>суббота</td>\n",
       "      <td>первый</td>\n",
       "      <td>0.478395</td>\n",
       "      <td>0.201646</td>\n",
       "      <td>2</td>\n",
       "    </tr>\n",
       "    <tr>\n",
       "      <th>2</th>\n",
       "      <td>6</td>\n",
       "      <td>15500000.0</td>\n",
       "      <td>149.000000</td>\n",
       "      <td>2017-06-26</td>\n",
       "      <td>5</td>\n",
       "      <td>NaN</td>\n",
       "      <td>5.0</td>\n",
       "      <td>104.0</td>\n",
       "      <td>4</td>\n",
       "      <td>True</td>\n",
       "      <td>...</td>\n",
       "      <td>644.0</td>\n",
       "      <td>104026.843750</td>\n",
       "      <td>0</td>\n",
       "      <td>6</td>\n",
       "      <td>2017</td>\n",
       "      <td>понедельник</td>\n",
       "      <td>другой</td>\n",
       "      <td>0.697987</td>\n",
       "      <td>0.114094</td>\n",
       "      <td>3</td>\n",
       "    </tr>\n",
       "    <tr>\n",
       "      <th>3</th>\n",
       "      <td>7</td>\n",
       "      <td>45000000.0</td>\n",
       "      <td>161.000000</td>\n",
       "      <td>2017-10-17</td>\n",
       "      <td>3</td>\n",
       "      <td>3.2</td>\n",
       "      <td>8.0</td>\n",
       "      <td>38.0</td>\n",
       "      <td>4</td>\n",
       "      <td>True</td>\n",
       "      <td>...</td>\n",
       "      <td>541.0</td>\n",
       "      <td>279503.093750</td>\n",
       "      <td>1</td>\n",
       "      <td>10</td>\n",
       "      <td>2017</td>\n",
       "      <td>вторник</td>\n",
       "      <td>другой</td>\n",
       "      <td>0.236025</td>\n",
       "      <td>0.310559</td>\n",
       "      <td>6</td>\n",
       "    </tr>\n",
       "    <tr>\n",
       "      <th>4</th>\n",
       "      <td>20</td>\n",
       "      <td>11795000.0</td>\n",
       "      <td>136.000000</td>\n",
       "      <td>2017-09-22</td>\n",
       "      <td>6</td>\n",
       "      <td>3.0</td>\n",
       "      <td>2.0</td>\n",
       "      <td>94.0</td>\n",
       "      <td>2</td>\n",
       "      <td>True</td>\n",
       "      <td>...</td>\n",
       "      <td>NaN</td>\n",
       "      <td>86727.937500</td>\n",
       "      <td>4</td>\n",
       "      <td>9</td>\n",
       "      <td>2017</td>\n",
       "      <td>пятница</td>\n",
       "      <td>последний</td>\n",
       "      <td>0.691176</td>\n",
       "      <td>0.080882</td>\n",
       "      <td>6</td>\n",
       "    </tr>\n",
       "  </tbody>\n",
       "</table>\n",
       "<p>5 rows × 31 columns</p>\n",
       "</div>"
      ],
      "text/plain": [
       "   total_images  last_price  total_area first_day_exposition  rooms  \\\n",
       "0             0  64900000.0  159.000000           2015-07-24      3   \n",
       "1             8   6500000.0   97.199997           2015-10-31      2   \n",
       "2             6  15500000.0  149.000000           2017-06-26      5   \n",
       "3             7  45000000.0  161.000000           2017-10-17      3   \n",
       "4            20  11795000.0  136.000000           2017-09-22      6   \n",
       "\n",
       "   ceiling_height  floors_total  living_area  floor  is_apartment  ...  \\\n",
       "0             NaN          14.0          NaN      9          True  ...   \n",
       "1             NaN           3.0         46.5      1          True  ...   \n",
       "2             NaN           5.0        104.0      4          True  ...   \n",
       "3             3.2           8.0         38.0      4          True  ...   \n",
       "4             3.0           2.0         94.0      2          True  ...   \n",
       "\n",
       "   days_exposition    meter_price  publication_day_prom  publication_month  \\\n",
       "0            424.0  408176.093750                     4                  7   \n",
       "1            265.0   66872.429688                     5                 10   \n",
       "2            644.0  104026.843750                     0                  6   \n",
       "3            541.0  279503.093750                     1                 10   \n",
       "4              NaN   86727.937500                     4                  9   \n",
       "\n",
       "  publication_year  publication_day  apartment_floor  living_to_total  \\\n",
       "0             2015          пятница           другой              NaN   \n",
       "1             2015          суббота           первый         0.478395   \n",
       "2             2017      понедельник           другой         0.697987   \n",
       "3             2017          вторник           другой         0.236025   \n",
       "4             2017          пятница        последний         0.691176   \n",
       "\n",
       "   kitchen_to_total  city_kilometer  \n",
       "0               NaN               6  \n",
       "1          0.201646               2  \n",
       "2          0.114094               3  \n",
       "3          0.310559               6  \n",
       "4          0.080882               6  \n",
       "\n",
       "[5 rows x 31 columns]"
      ]
     },
     "metadata": {},
     "output_type": "display_data"
    }
   ],
   "source": [
    "data_spb_7_km = data_spb.loc[data_spb['city_kilometer'] < 7]\n",
    "\n",
    "data_spb_7_km.reset_index(drop=True, inplace=True)\n",
    "\n",
    "display(data_spb_7_km.head())"
   ]
  },
  {
   "cell_type": "markdown",
   "id": "aee96abe",
   "metadata": {},
   "source": [
    "Построим график зависимости цены от числа комнат."
   ]
  },
  {
   "cell_type": "code",
   "execution_count": 28,
   "id": "fafc27f0",
   "metadata": {},
   "outputs": [
    {
     "data": {
      "image/png": "[encoded data removed]",
      "text/plain": [
       "<Figure size 432x288 with 1 Axes>"
      ]
     },
     "metadata": {
      "needs_background": "light"
     },
     "output_type": "display_data"
    }
   ],
   "source": [
    "data_spb_7_km.plot(kind = 'scatter', x = 'rooms', y = 'last_price')\n",
    "plt.show()"
   ]
  },
  {
   "cell_type": "markdown",
   "id": "ff883543",
   "metadata": {},
   "source": [
    "На этом графике видно что по учеличению числа комнат цена растёт, самая дорогая квартира имеет 7 комнат."
   ]
  },
  {
   "cell_type": "markdown",
   "id": "d80b6485",
   "metadata": {},
   "source": [
    "Посторим график зависимости цены от этажа на котором она находится."
   ]
  },
  {
   "cell_type": "code",
   "execution_count": 29,
   "id": "b994d5f6",
   "metadata": {},
   "outputs": [
    {
     "data": {
      "image/png": "[encoded data removed]",
      "text/plain": [
       "<Figure size 432x288 with 1 Axes>"
      ]
     },
     "metadata": {
      "needs_background": "light"
     },
     "output_type": "display_data"
    }
   ],
   "source": [
    "data_spb_7_km.plot(kind = 'scatter', x = 'floor', y = 'last_price')\n",
    "plt.show()"
   ]
  },
  {
   "cell_type": "markdown",
   "id": "57c9704b",
   "metadata": {},
   "source": [
    "Как видно на графике самые дорогие квартиры расположены на 10 этаже, но в большем кол-ве дорогостоящие квартиры находтся на 3 - 5 этажах."
   ]
  },
  {
   "cell_type": "markdown",
   "id": "6cac827a",
   "metadata": {},
   "source": [
    "Построим график зависимости даты размещения от цены квартиры."
   ]
  },
  {
   "cell_type": "code",
   "execution_count": 30,
   "id": "a0c8c433",
   "metadata": {},
   "outputs": [
    {
     "data": {
      "image/png": "[encoded data removed]",
      "text/plain": [
       "<Figure size 432x288 with 1 Axes>"
      ]
     },
     "metadata": {
      "needs_background": "light"
     },
     "output_type": "display_data"
    },
    {
     "data": {
      "image/png": "[encoded data removed]",
      "text/plain": [
       "<Figure size 432x288 with 1 Axes>"
      ]
     },
     "metadata": {
      "needs_background": "light"
     },
     "output_type": "display_data"
    },
    {
     "data": {
      "image/png": "[encoded data removed]",
      "text/plain": [
       "<Figure size 432x288 with 1 Axes>"
      ]
     },
     "metadata": {
      "needs_background": "light"
     },
     "output_type": "display_data"
    }
   ],
   "source": [
    "data_spb_7_km.plot(kind = 'scatter', x = 'publication_day', y = 'last_price')\n",
    "plt.xticks(rotation = 45)\n",
    "plt.show()\n",
    "\n",
    "data_spb_7_km.plot(kind = 'scatter', x = 'publication_month', y = 'last_price')\n",
    "plt.show()\n",
    "\n",
    "data_spb_7_km.plot(kind = 'scatter', x = 'publication_year', y = 'last_price')\n",
    "plt.show()"
   ]
  },
  {
   "cell_type": "markdown",
   "id": "91d468ca",
   "metadata": {},
   "source": [
    "Из графиков отражающих время публикации объявления можно сделать выод, что цена публикации не сильно зависит от дня недели когда было выложенно объявление, кждый день недели была примерно одинаковая стимость. Если посмотреть на второй график можно заметить, что самая больша цена на квартиру была заявленна в середине весны, самая минимальная в середине лета. В 2014 году больше всего объявлений с низкой ценной по сравнению с остальными годами публикации, в 2015 году можно заметить одни из самых дорогих объявлений."
   ]
  },
  {
   "cell_type": "code",
   "execution_count": 31,
   "id": "b1c386f0",
   "metadata": {},
   "outputs": [
    {
     "name": "stdout",
     "output_type": "stream",
     "text": [
      "Средняя цена квартиры в центре города:\n",
      " 14967530.0\n",
      "Средняя цена квартиры за пределами центра:\n",
      " 6001693.0\n"
     ]
    },
    {
     "data": {
      "text/html": [
       "<div>\n",
       "<style scoped>\n",
       "    .dataframe tbody tr th:only-of-type {\n",
       "        vertical-align: middle;\n",
       "    }\n",
       "\n",
       "    .dataframe tbody tr th {\n",
       "        vertical-align: top;\n",
       "    }\n",
       "\n",
       "    .dataframe thead th {\n",
       "        text-align: right;\n",
       "    }\n",
       "</style>\n",
       "<table border=\"1\" class=\"dataframe\">\n",
       "  <thead>\n",
       "    <tr style=\"text-align: right;\">\n",
       "      <th></th>\n",
       "      <th>total_images</th>\n",
       "      <th>last_price</th>\n",
       "      <th>total_area</th>\n",
       "      <th>first_day_exposition</th>\n",
       "      <th>rooms</th>\n",
       "      <th>ceiling_height</th>\n",
       "      <th>floors_total</th>\n",
       "      <th>living_area</th>\n",
       "      <th>floor</th>\n",
       "      <th>is_apartment</th>\n",
       "      <th>...</th>\n",
       "      <th>days_exposition</th>\n",
       "      <th>meter_price</th>\n",
       "      <th>publication_day_prom</th>\n",
       "      <th>publication_month</th>\n",
       "      <th>publication_year</th>\n",
       "      <th>publication_day</th>\n",
       "      <th>apartment_floor</th>\n",
       "      <th>living_to_total</th>\n",
       "      <th>kitchen_to_total</th>\n",
       "      <th>city_kilometer</th>\n",
       "    </tr>\n",
       "  </thead>\n",
       "  <tbody>\n",
       "    <tr>\n",
       "      <th>0</th>\n",
       "      <td>20</td>\n",
       "      <td>13000000.0</td>\n",
       "      <td>108.000000</td>\n",
       "      <td>2019-03-07</td>\n",
       "      <td>3</td>\n",
       "      <td>2.70</td>\n",
       "      <td>16.0</td>\n",
       "      <td>51.0</td>\n",
       "      <td>8</td>\n",
       "      <td>True</td>\n",
       "      <td>...</td>\n",
       "      <td>NaN</td>\n",
       "      <td>120370.367188</td>\n",
       "      <td>3</td>\n",
       "      <td>3</td>\n",
       "      <td>2019</td>\n",
       "      <td>четверг</td>\n",
       "      <td>другой</td>\n",
       "      <td>0.472222</td>\n",
       "      <td>0.231481</td>\n",
       "      <td>16</td>\n",
       "    </tr>\n",
       "    <tr>\n",
       "      <th>1</th>\n",
       "      <td>10</td>\n",
       "      <td>5196000.0</td>\n",
       "      <td>56.000000</td>\n",
       "      <td>2015-08-20</td>\n",
       "      <td>2</td>\n",
       "      <td>NaN</td>\n",
       "      <td>5.0</td>\n",
       "      <td>34.3</td>\n",
       "      <td>4</td>\n",
       "      <td>True</td>\n",
       "      <td>...</td>\n",
       "      <td>558.0</td>\n",
       "      <td>92785.710938</td>\n",
       "      <td>3</td>\n",
       "      <td>8</td>\n",
       "      <td>2015</td>\n",
       "      <td>четверг</td>\n",
       "      <td>другой</td>\n",
       "      <td>0.612500</td>\n",
       "      <td>0.148214</td>\n",
       "      <td>13</td>\n",
       "    </tr>\n",
       "    <tr>\n",
       "      <th>2</th>\n",
       "      <td>0</td>\n",
       "      <td>64900000.0</td>\n",
       "      <td>159.000000</td>\n",
       "      <td>2015-07-24</td>\n",
       "      <td>3</td>\n",
       "      <td>NaN</td>\n",
       "      <td>14.0</td>\n",
       "      <td>NaN</td>\n",
       "      <td>9</td>\n",
       "      <td>True</td>\n",
       "      <td>...</td>\n",
       "      <td>424.0</td>\n",
       "      <td>408176.093750</td>\n",
       "      <td>4</td>\n",
       "      <td>7</td>\n",
       "      <td>2015</td>\n",
       "      <td>пятница</td>\n",
       "      <td>другой</td>\n",
       "      <td>NaN</td>\n",
       "      <td>NaN</td>\n",
       "      <td>6</td>\n",
       "    </tr>\n",
       "    <tr>\n",
       "      <th>3</th>\n",
       "      <td>2</td>\n",
       "      <td>10000000.0</td>\n",
       "      <td>100.000000</td>\n",
       "      <td>2018-06-19</td>\n",
       "      <td>2</td>\n",
       "      <td>3.03</td>\n",
       "      <td>14.0</td>\n",
       "      <td>32.0</td>\n",
       "      <td>13</td>\n",
       "      <td>True</td>\n",
       "      <td>...</td>\n",
       "      <td>121.0</td>\n",
       "      <td>100000.000000</td>\n",
       "      <td>1</td>\n",
       "      <td>6</td>\n",
       "      <td>2018</td>\n",
       "      <td>вторник</td>\n",
       "      <td>другой</td>\n",
       "      <td>0.320000</td>\n",
       "      <td>0.410000</td>\n",
       "      <td>8</td>\n",
       "    </tr>\n",
       "    <tr>\n",
       "      <th>4</th>\n",
       "      <td>5</td>\n",
       "      <td>7915000.0</td>\n",
       "      <td>71.599998</td>\n",
       "      <td>2019-04-18</td>\n",
       "      <td>2</td>\n",
       "      <td>NaN</td>\n",
       "      <td>24.0</td>\n",
       "      <td>NaN</td>\n",
       "      <td>22</td>\n",
       "      <td>True</td>\n",
       "      <td>...</td>\n",
       "      <td>NaN</td>\n",
       "      <td>110544.695312</td>\n",
       "      <td>3</td>\n",
       "      <td>4</td>\n",
       "      <td>2019</td>\n",
       "      <td>четверг</td>\n",
       "      <td>другой</td>\n",
       "      <td>NaN</td>\n",
       "      <td>0.263966</td>\n",
       "      <td>11</td>\n",
       "    </tr>\n",
       "  </tbody>\n",
       "</table>\n",
       "<p>5 rows × 31 columns</p>\n",
       "</div>"
      ],
      "text/plain": [
       "   total_images  last_price  total_area first_day_exposition  rooms  \\\n",
       "0            20  13000000.0  108.000000           2019-03-07      3   \n",
       "1            10   5196000.0   56.000000           2015-08-20      2   \n",
       "2             0  64900000.0  159.000000           2015-07-24      3   \n",
       "3             2  10000000.0  100.000000           2018-06-19      2   \n",
       "4             5   7915000.0   71.599998           2019-04-18      2   \n",
       "\n",
       "   ceiling_height  floors_total  living_area  floor  is_apartment  ...  \\\n",
       "0            2.70          16.0         51.0      8          True  ...   \n",
       "1             NaN           5.0         34.3      4          True  ...   \n",
       "2             NaN          14.0          NaN      9          True  ...   \n",
       "3            3.03          14.0         32.0     13          True  ...   \n",
       "4             NaN          24.0          NaN     22          True  ...   \n",
       "\n",
       "   days_exposition    meter_price  publication_day_prom  publication_month  \\\n",
       "0              NaN  120370.367188                     3                  3   \n",
       "1            558.0   92785.710938                     3                  8   \n",
       "2            424.0  408176.093750                     4                  7   \n",
       "3            121.0  100000.000000                     1                  6   \n",
       "4              NaN  110544.695312                     3                  4   \n",
       "\n",
       "  publication_year  publication_day  apartment_floor  living_to_total  \\\n",
       "0             2019          четверг           другой         0.472222   \n",
       "1             2015          четверг           другой         0.612500   \n",
       "2             2015          пятница           другой              NaN   \n",
       "3             2018          вторник           другой         0.320000   \n",
       "4             2019          четверг           другой              NaN   \n",
       "\n",
       "   kitchen_to_total  city_kilometer  \n",
       "0          0.231481              16  \n",
       "1          0.148214              13  \n",
       "2               NaN               6  \n",
       "3          0.410000               8  \n",
       "4          0.263966              11  \n",
       "\n",
       "[5 rows x 31 columns]"
      ]
     },
     "execution_count": 31,
     "metadata": {},
     "output_type": "execute_result"
    }
   ],
   "source": [
    "mean_spb = data_spb_7_km['last_price'].mean()\n",
    "\n",
    "print('Средняя цена квартиры в центре города:\\n', mean_spb)\n",
    "\n",
    "data_not_centre = data_spb.loc[data_spb['city_kilometer'] > 7]\n",
    "mean_not_centre = data_not_centre['last_price'].mean()\n",
    "\n",
    "print('Средняя цена квартиры за пределами центра:\\n', mean_not_centre)\n",
    "\n",
    "data_spb.head()"
   ]
  },
  {
   "cell_type": "markdown",
   "id": "4c6e3135",
   "metadata": {},
   "source": [
    "### Средняя цена каждого километра"
   ]
  },
  {
   "cell_type": "code",
   "execution_count": 44,
   "id": "c6136eda",
   "metadata": {},
   "outputs": [
    {
     "data": {
      "text/html": [
       "<div>\n",
       "<style scoped>\n",
       "    .dataframe tbody tr th:only-of-type {\n",
       "        vertical-align: middle;\n",
       "    }\n",
       "\n",
       "    .dataframe tbody tr th {\n",
       "        vertical-align: top;\n",
       "    }\n",
       "\n",
       "    .dataframe thead th {\n",
       "        text-align: right;\n",
       "    }\n",
       "</style>\n",
       "<table border=\"1\" class=\"dataframe\">\n",
       "  <thead>\n",
       "    <tr style=\"text-align: right;\">\n",
       "      <th></th>\n",
       "      <th>total_images</th>\n",
       "      <th>last_price</th>\n",
       "      <th>total_area</th>\n",
       "      <th>first_day_exposition</th>\n",
       "      <th>rooms</th>\n",
       "      <th>ceiling_height</th>\n",
       "      <th>floors_total</th>\n",
       "      <th>living_area</th>\n",
       "      <th>floor</th>\n",
       "      <th>is_apartment</th>\n",
       "      <th>...</th>\n",
       "      <th>days_exposition</th>\n",
       "      <th>meter_price</th>\n",
       "      <th>publication_day_prom</th>\n",
       "      <th>publication_month</th>\n",
       "      <th>publication_year</th>\n",
       "      <th>publication_day</th>\n",
       "      <th>apartment_floor</th>\n",
       "      <th>living_to_total</th>\n",
       "      <th>kitchen_to_total</th>\n",
       "      <th>city_kilometer</th>\n",
       "    </tr>\n",
       "  </thead>\n",
       "  <tbody>\n",
       "    <tr>\n",
       "      <th>0</th>\n",
       "      <td>0</td>\n",
       "      <td>64900000.0</td>\n",
       "      <td>159.000000</td>\n",
       "      <td>2015-07-24</td>\n",
       "      <td>3</td>\n",
       "      <td>NaN</td>\n",
       "      <td>14.0</td>\n",
       "      <td>NaN</td>\n",
       "      <td>9</td>\n",
       "      <td>True</td>\n",
       "      <td>...</td>\n",
       "      <td>424.0</td>\n",
       "      <td>408176.093750</td>\n",
       "      <td>4</td>\n",
       "      <td>7</td>\n",
       "      <td>2015</td>\n",
       "      <td>пятница</td>\n",
       "      <td>другой</td>\n",
       "      <td>NaN</td>\n",
       "      <td>NaN</td>\n",
       "      <td>6</td>\n",
       "    </tr>\n",
       "    <tr>\n",
       "      <th>1</th>\n",
       "      <td>8</td>\n",
       "      <td>6500000.0</td>\n",
       "      <td>97.199997</td>\n",
       "      <td>2015-10-31</td>\n",
       "      <td>2</td>\n",
       "      <td>NaN</td>\n",
       "      <td>3.0</td>\n",
       "      <td>46.5</td>\n",
       "      <td>1</td>\n",
       "      <td>True</td>\n",
       "      <td>...</td>\n",
       "      <td>265.0</td>\n",
       "      <td>66872.429688</td>\n",
       "      <td>5</td>\n",
       "      <td>10</td>\n",
       "      <td>2015</td>\n",
       "      <td>суббота</td>\n",
       "      <td>первый</td>\n",
       "      <td>0.478395</td>\n",
       "      <td>0.201646</td>\n",
       "      <td>2</td>\n",
       "    </tr>\n",
       "    <tr>\n",
       "      <th>2</th>\n",
       "      <td>6</td>\n",
       "      <td>15500000.0</td>\n",
       "      <td>149.000000</td>\n",
       "      <td>2017-06-26</td>\n",
       "      <td>5</td>\n",
       "      <td>NaN</td>\n",
       "      <td>5.0</td>\n",
       "      <td>104.0</td>\n",
       "      <td>4</td>\n",
       "      <td>True</td>\n",
       "      <td>...</td>\n",
       "      <td>644.0</td>\n",
       "      <td>104026.843750</td>\n",
       "      <td>0</td>\n",
       "      <td>6</td>\n",
       "      <td>2017</td>\n",
       "      <td>понедельник</td>\n",
       "      <td>другой</td>\n",
       "      <td>0.697987</td>\n",
       "      <td>0.114094</td>\n",
       "      <td>3</td>\n",
       "    </tr>\n",
       "    <tr>\n",
       "      <th>3</th>\n",
       "      <td>7</td>\n",
       "      <td>45000000.0</td>\n",
       "      <td>161.000000</td>\n",
       "      <td>2017-10-17</td>\n",
       "      <td>3</td>\n",
       "      <td>3.2</td>\n",
       "      <td>8.0</td>\n",
       "      <td>38.0</td>\n",
       "      <td>4</td>\n",
       "      <td>True</td>\n",
       "      <td>...</td>\n",
       "      <td>541.0</td>\n",
       "      <td>279503.093750</td>\n",
       "      <td>1</td>\n",
       "      <td>10</td>\n",
       "      <td>2017</td>\n",
       "      <td>вторник</td>\n",
       "      <td>другой</td>\n",
       "      <td>0.236025</td>\n",
       "      <td>0.310559</td>\n",
       "      <td>6</td>\n",
       "    </tr>\n",
       "    <tr>\n",
       "      <th>4</th>\n",
       "      <td>20</td>\n",
       "      <td>11795000.0</td>\n",
       "      <td>136.000000</td>\n",
       "      <td>2017-09-22</td>\n",
       "      <td>6</td>\n",
       "      <td>3.0</td>\n",
       "      <td>2.0</td>\n",
       "      <td>94.0</td>\n",
       "      <td>2</td>\n",
       "      <td>True</td>\n",
       "      <td>...</td>\n",
       "      <td>NaN</td>\n",
       "      <td>86727.937500</td>\n",
       "      <td>4</td>\n",
       "      <td>9</td>\n",
       "      <td>2017</td>\n",
       "      <td>пятница</td>\n",
       "      <td>последний</td>\n",
       "      <td>0.691176</td>\n",
       "      <td>0.080882</td>\n",
       "      <td>6</td>\n",
       "    </tr>\n",
       "  </tbody>\n",
       "</table>\n",
       "<p>5 rows × 31 columns</p>\n",
       "</div>"
      ],
      "text/plain": [
       "   total_images  last_price  total_area first_day_exposition  rooms  \\\n",
       "0             0  64900000.0  159.000000           2015-07-24      3   \n",
       "1             8   6500000.0   97.199997           2015-10-31      2   \n",
       "2             6  15500000.0  149.000000           2017-06-26      5   \n",
       "3             7  45000000.0  161.000000           2017-10-17      3   \n",
       "4            20  11795000.0  136.000000           2017-09-22      6   \n",
       "\n",
       "   ceiling_height  floors_total  living_area  floor  is_apartment  ...  \\\n",
       "0             NaN          14.0          NaN      9          True  ...   \n",
       "1             NaN           3.0         46.5      1          True  ...   \n",
       "2             NaN           5.0        104.0      4          True  ...   \n",
       "3             3.2           8.0         38.0      4          True  ...   \n",
       "4             3.0           2.0         94.0      2          True  ...   \n",
       "\n",
       "   days_exposition    meter_price  publication_day_prom  publication_month  \\\n",
       "0            424.0  408176.093750                     4                  7   \n",
       "1            265.0   66872.429688                     5                 10   \n",
       "2            644.0  104026.843750                     0                  6   \n",
       "3            541.0  279503.093750                     1                 10   \n",
       "4              NaN   86727.937500                     4                  9   \n",
       "\n",
       "  publication_year  publication_day  apartment_floor  living_to_total  \\\n",
       "0             2015          пятница           другой              NaN   \n",
       "1             2015          суббота           первый         0.478395   \n",
       "2             2017      понедельник           другой         0.697987   \n",
       "3             2017          вторник           другой         0.236025   \n",
       "4             2017          пятница        последний         0.691176   \n",
       "\n",
       "   kitchen_to_total  city_kilometer  \n",
       "0               NaN               6  \n",
       "1          0.201646               2  \n",
       "2          0.114094               3  \n",
       "3          0.310559               6  \n",
       "4          0.080882               6  \n",
       "\n",
       "[5 rows x 31 columns]"
      ]
     },
     "metadata": {},
     "output_type": "display_data"
    },
    {
     "data": {
      "image/png": "[encoded data removed]",
      "text/plain": [
       "<Figure size 432x288 with 1 Axes>"
      ]
     },
     "metadata": {
      "needs_background": "light"
     },
     "output_type": "display_data"
    }
   ],
   "source": [
    "data_spb_7_km_two = data_spb.loc[data_spb['city_kilometer'] < 7]\n",
    "data_spb_7_km_two = data_spb_7_km_two.loc[data_spb_7_km_two['city_kilometer'] > 0]\n",
    "data_spb_7_km_two.reset_index(drop=True, inplace=True)\n",
    "\n",
    "display(data_spb_7_km_two.head())\n",
    "\n",
    "data_spb_7_km_two['kilometer_price'] = data_spb_7_km_two['last_price'] / data_spb_7_km_two['city_kilometer']\n",
    "\n",
    "result = data_spb_7_km_two.groupby('city_kilometer')['kilometer_price'].sum().sort_values()\n",
    "result.plot(kind = 'bar')\n",
    "\n",
    "plt.xticks(rotation = 45)\n",
    "plt.show()"
   ]
  },
  {
   "cell_type": "markdown",
   "id": "ea8e621f",
   "metadata": {},
   "source": [
    "### Общий вывод"
   ]
  },
  {
   "cell_type": "markdown",
   "id": "77fcdfac",
   "metadata": {},
   "source": [
    "Для исследования сервиса был предоставлен файл с информацией о продажах квартир в России. Для проведения исследования факторов влияющих на продажи квартир я провел предобработку данных, изменил тип данных некоторых столбцов в некотрых из которых были некорректны, а так же заменил пропущенные значения. Убрав лишние значения (которые выбиваются из нормального распределения) я выделил часть данных имеющих отнощение только к городу Санкт-Петербург. Далее я выделил факторы влияющие на стоимость квартиры в городе, такие как: кол-во комнат, этаж на которм расположена квартира, время когда объявление о пражи появилось в сервисе. В конце исследования я выделил информацию о квартирах расположенных в центре города (не более 7 км от центра) и сравнил среднюю стоимость квартиры в центре и за его пределами (средня цена в центре города более чем в два раза превышает среднюю цену за центром города), также я изучил влияние расстония от центра города на стоимость жилья (чем ближе к центру города находятся квартиры, тем больше их стоимость)."
   ]
  }
 ],
 "metadata": {
  "ExecuteTimeLog": [
   {
    "duration": 789,
    "start_time": "2022-06-20T12:23:13.000Z"
   },
   {
    "duration": 104,
    "start_time": "2022-06-20T12:23:13.792Z"
   },
   {
    "duration": 1,
    "start_time": "2022-06-20T12:23:13.897Z"
   },
   {
    "duration": 0,
    "start_time": "2022-06-20T12:23:13.899Z"
   },
   {
    "duration": 0,
    "start_time": "2022-06-20T12:23:13.900Z"
   },
   {
    "duration": 0,
    "start_time": "2022-06-20T12:23:13.901Z"
   },
   {
    "duration": 0,
    "start_time": "2022-06-20T12:23:13.902Z"
   },
   {
    "duration": 0,
    "start_time": "2022-06-20T12:23:13.902Z"
   },
   {
    "duration": 0,
    "start_time": "2022-06-20T12:23:13.903Z"
   },
   {
    "duration": 0,
    "start_time": "2022-06-20T12:23:13.904Z"
   },
   {
    "duration": 0,
    "start_time": "2022-06-20T12:23:13.905Z"
   },
   {
    "duration": 0,
    "start_time": "2022-06-20T12:23:13.906Z"
   },
   {
    "duration": 0,
    "start_time": "2022-06-20T12:23:13.907Z"
   },
   {
    "duration": 0,
    "start_time": "2022-06-20T12:23:13.908Z"
   },
   {
    "duration": 0,
    "start_time": "2022-06-20T12:23:13.929Z"
   },
   {
    "duration": 0,
    "start_time": "2022-06-20T12:23:13.930Z"
   },
   {
    "duration": 0,
    "start_time": "2022-06-20T12:23:13.931Z"
   },
   {
    "duration": 0,
    "start_time": "2022-06-20T12:23:13.932Z"
   },
   {
    "duration": 0,
    "start_time": "2022-06-20T12:23:13.932Z"
   },
   {
    "duration": 0,
    "start_time": "2022-06-20T12:23:13.933Z"
   },
   {
    "duration": 0,
    "start_time": "2022-06-20T12:23:13.934Z"
   },
   {
    "duration": 0,
    "start_time": "2022-06-20T12:23:13.935Z"
   },
   {
    "duration": 0,
    "start_time": "2022-06-20T12:23:13.936Z"
   },
   {
    "duration": 0,
    "start_time": "2022-06-20T12:23:13.937Z"
   },
   {
    "duration": 0,
    "start_time": "2022-06-20T12:23:13.938Z"
   },
   {
    "duration": 0,
    "start_time": "2022-06-20T12:23:13.939Z"
   },
   {
    "duration": 0,
    "start_time": "2022-06-20T12:23:13.940Z"
   },
   {
    "duration": 0,
    "start_time": "2022-06-20T12:23:13.940Z"
   },
   {
    "duration": 44,
    "start_time": "2022-06-20T12:23:34.898Z"
   },
   {
    "duration": 170,
    "start_time": "2022-06-20T12:24:28.549Z"
   },
   {
    "duration": 645,
    "start_time": "2022-06-20T12:24:35.549Z"
   },
   {
    "duration": 112,
    "start_time": "2022-06-20T12:24:36.196Z"
   },
   {
    "duration": 25,
    "start_time": "2022-06-20T12:24:36.312Z"
   },
   {
    "duration": 5,
    "start_time": "2022-06-20T12:24:36.339Z"
   },
   {
    "duration": 9,
    "start_time": "2022-06-20T12:24:36.346Z"
   },
   {
    "duration": 7,
    "start_time": "2022-06-20T12:24:36.356Z"
   },
   {
    "duration": 17,
    "start_time": "2022-06-20T12:24:36.364Z"
   },
   {
    "duration": 47,
    "start_time": "2022-06-20T12:24:36.383Z"
   },
   {
    "duration": 25,
    "start_time": "2022-06-20T12:24:36.433Z"
   },
   {
    "duration": 239,
    "start_time": "2022-06-20T12:24:36.460Z"
   },
   {
    "duration": 341,
    "start_time": "2022-06-20T12:24:36.701Z"
   },
   {
    "duration": 24,
    "start_time": "2022-06-20T12:24:37.043Z"
   },
   {
    "duration": 899,
    "start_time": "2022-06-20T12:24:37.068Z"
   },
   {
    "duration": 324,
    "start_time": "2022-06-20T12:24:37.969Z"
   },
   {
    "duration": 6,
    "start_time": "2022-06-20T12:24:38.295Z"
   },
   {
    "duration": 239,
    "start_time": "2022-06-20T12:24:38.303Z"
   },
   {
    "duration": 172,
    "start_time": "2022-06-20T12:24:38.544Z"
   },
   {
    "duration": 169,
    "start_time": "2022-06-20T12:24:38.717Z"
   },
   {
    "duration": 167,
    "start_time": "2022-06-20T12:24:38.888Z"
   },
   {
    "duration": 161,
    "start_time": "2022-06-20T12:24:39.057Z"
   },
   {
    "duration": 489,
    "start_time": "2022-06-20T12:24:39.219Z"
   },
   {
    "duration": 48,
    "start_time": "2022-06-20T12:24:39.710Z"
   },
   {
    "duration": 29,
    "start_time": "2022-06-20T12:24:39.760Z"
   },
   {
    "duration": 174,
    "start_time": "2022-06-20T12:24:39.790Z"
   },
   {
    "duration": 31,
    "start_time": "2022-06-20T12:24:39.966Z"
   },
   {
    "duration": 232,
    "start_time": "2022-06-20T12:24:39.999Z"
   },
   {
    "duration": 140,
    "start_time": "2022-06-20T12:24:40.235Z"
   },
   {
    "duration": 403,
    "start_time": "2022-06-20T12:24:40.376Z"
   },
   {
    "duration": 70,
    "start_time": "2022-06-20T12:27:07.297Z"
   },
   {
    "duration": 5,
    "start_time": "2022-06-20T12:27:23.546Z"
   },
   {
    "duration": 16,
    "start_time": "2022-06-20T12:27:30.810Z"
   },
   {
    "duration": 17,
    "start_time": "2022-06-20T12:28:23.393Z"
   },
   {
    "duration": 911,
    "start_time": "2022-06-20T12:37:59.084Z"
   },
   {
    "duration": 778,
    "start_time": "2022-06-20T12:38:29.288Z"
   },
   {
    "duration": 852,
    "start_time": "2022-06-20T12:38:50.529Z"
   },
   {
    "duration": 990,
    "start_time": "2022-06-20T12:42:01.714Z"
   },
   {
    "duration": 887,
    "start_time": "2022-06-20T16:18:42.474Z"
   },
   {
    "duration": 345,
    "start_time": "2022-06-20T16:18:43.363Z"
   },
   {
    "duration": 18,
    "start_time": "2022-06-20T16:18:43.709Z"
   },
   {
    "duration": 6,
    "start_time": "2022-06-20T16:18:43.729Z"
   },
   {
    "duration": 24,
    "start_time": "2022-06-20T16:18:43.737Z"
   },
   {
    "duration": 7,
    "start_time": "2022-06-20T16:18:43.763Z"
   },
   {
    "duration": 17,
    "start_time": "2022-06-20T16:18:43.772Z"
   },
   {
    "duration": 11,
    "start_time": "2022-06-20T16:18:43.791Z"
   },
   {
    "duration": 17,
    "start_time": "2022-06-20T16:18:43.803Z"
   },
   {
    "duration": 53,
    "start_time": "2022-06-20T16:18:43.821Z"
   },
   {
    "duration": 239,
    "start_time": "2022-06-20T16:18:43.876Z"
   },
   {
    "duration": 328,
    "start_time": "2022-06-20T16:18:44.116Z"
   },
   {
    "duration": 29,
    "start_time": "2022-06-20T16:18:44.446Z"
   },
   {
    "duration": 923,
    "start_time": "2022-06-20T16:18:44.478Z"
   },
   {
    "duration": 305,
    "start_time": "2022-06-20T16:18:45.402Z"
   },
   {
    "duration": 9,
    "start_time": "2022-06-20T16:18:45.709Z"
   },
   {
    "duration": 281,
    "start_time": "2022-06-20T16:18:45.720Z"
   },
   {
    "duration": 174,
    "start_time": "2022-06-20T16:18:46.002Z"
   },
   {
    "duration": 201,
    "start_time": "2022-06-20T16:18:46.178Z"
   },
   {
    "duration": 180,
    "start_time": "2022-06-20T16:18:46.381Z"
   },
   {
    "duration": 173,
    "start_time": "2022-06-20T16:18:46.562Z"
   },
   {
    "duration": 588,
    "start_time": "2022-06-20T16:18:46.738Z"
   },
   {
    "duration": 78,
    "start_time": "2022-06-20T16:18:47.328Z"
   },
   {
    "duration": 35,
    "start_time": "2022-06-20T16:18:47.412Z"
   },
   {
    "duration": 164,
    "start_time": "2022-06-20T16:18:47.449Z"
   },
   {
    "duration": 24,
    "start_time": "2022-06-20T16:18:47.614Z"
   },
   {
    "duration": 230,
    "start_time": "2022-06-20T16:18:47.639Z"
   },
   {
    "duration": 138,
    "start_time": "2022-06-20T16:18:47.871Z"
   },
   {
    "duration": 396,
    "start_time": "2022-06-20T16:18:48.011Z"
   },
   {
    "duration": 263,
    "start_time": "2022-06-20T16:19:08.377Z"
   },
   {
    "duration": 235,
    "start_time": "2022-06-20T16:19:12.226Z"
   },
   {
    "duration": 255,
    "start_time": "2022-06-20T16:19:16.262Z"
   },
   {
    "duration": 294,
    "start_time": "2022-06-20T16:19:20.422Z"
   },
   {
    "duration": 309,
    "start_time": "2022-06-20T16:19:27.463Z"
   },
   {
    "duration": 1533,
    "start_time": "2022-06-20T16:24:07.847Z"
   },
   {
    "duration": 153,
    "start_time": "2022-06-20T16:24:14.283Z"
   },
   {
    "duration": 293,
    "start_time": "2022-06-20T16:24:18.923Z"
   },
   {
    "duration": 310,
    "start_time": "2022-06-20T16:24:31.167Z"
   },
   {
    "duration": 445,
    "start_time": "2022-06-20T16:24:53.089Z"
   },
   {
    "duration": 323,
    "start_time": "2022-06-20T16:27:22.022Z"
   },
   {
    "duration": 1161,
    "start_time": "2022-06-20T16:28:29.594Z"
   },
   {
    "duration": 417,
    "start_time": "2022-06-20T16:29:13.156Z"
   },
   {
    "duration": 517,
    "start_time": "2022-06-20T16:30:36.976Z"
   },
   {
    "duration": 350,
    "start_time": "2022-06-20T16:31:10.596Z"
   },
   {
    "duration": 339,
    "start_time": "2022-06-20T16:31:15.448Z"
   },
   {
    "duration": 543,
    "start_time": "2022-06-20T16:31:48.272Z"
   },
   {
    "duration": 386,
    "start_time": "2022-06-20T16:31:52.284Z"
   },
   {
    "duration": 390,
    "start_time": "2022-06-20T16:31:58.627Z"
   },
   {
    "duration": 364,
    "start_time": "2022-06-20T16:32:04.075Z"
   },
   {
    "duration": 481,
    "start_time": "2022-06-20T16:32:09.038Z"
   },
   {
    "duration": 329,
    "start_time": "2022-06-20T16:34:15.697Z"
   },
   {
    "duration": 330,
    "start_time": "2022-06-20T16:34:20.374Z"
   },
   {
    "duration": 359,
    "start_time": "2022-06-20T16:35:50.850Z"
   },
   {
    "duration": 441,
    "start_time": "2022-06-20T16:36:11.124Z"
   },
   {
    "duration": 560,
    "start_time": "2022-06-20T16:37:36.352Z"
   },
   {
    "duration": 608,
    "start_time": "2022-06-20T16:40:02.990Z"
   },
   {
    "duration": 699,
    "start_time": "2022-06-20T16:43:31.019Z"
   },
   {
    "duration": 605,
    "start_time": "2022-06-20T16:43:34.522Z"
   },
   {
    "duration": 656,
    "start_time": "2022-06-20T16:44:08.131Z"
   },
   {
    "duration": 562,
    "start_time": "2022-06-20T16:44:11.080Z"
   },
   {
    "duration": 568,
    "start_time": "2022-06-20T16:44:14.280Z"
   },
   {
    "duration": 468,
    "start_time": "2022-06-20T16:44:41.343Z"
   },
   {
    "duration": 382,
    "start_time": "2022-06-20T16:44:49.580Z"
   },
   {
    "duration": 456,
    "start_time": "2022-06-20T16:44:56.533Z"
   },
   {
    "duration": 387,
    "start_time": "2022-06-20T16:45:04.933Z"
   },
   {
    "duration": 554,
    "start_time": "2022-06-20T16:45:07.522Z"
   },
   {
    "duration": 415,
    "start_time": "2022-06-20T16:47:08.959Z"
   },
   {
    "duration": 393,
    "start_time": "2022-06-20T16:47:13.225Z"
   },
   {
    "duration": 449,
    "start_time": "2022-06-20T16:47:22.843Z"
   },
   {
    "duration": 522,
    "start_time": "2022-06-20T16:47:25.546Z"
   },
   {
    "duration": 410,
    "start_time": "2022-06-20T16:47:28.760Z"
   },
   {
    "duration": 421,
    "start_time": "2022-06-20T16:47:31.485Z"
   },
   {
    "duration": 544,
    "start_time": "2022-06-20T16:47:34.325Z"
   },
   {
    "duration": 563,
    "start_time": "2022-06-20T16:47:37.433Z"
   },
   {
    "duration": 420,
    "start_time": "2022-06-20T16:47:40.097Z"
   },
   {
    "duration": 484,
    "start_time": "2022-06-20T16:47:42.684Z"
   },
   {
    "duration": 566,
    "start_time": "2022-06-20T16:47:45.421Z"
   },
   {
    "duration": 48,
    "start_time": "2022-06-20T16:50:36.257Z"
   },
   {
    "duration": 18,
    "start_time": "2022-06-20T16:50:41.774Z"
   },
   {
    "duration": 402,
    "start_time": "2022-06-20T16:53:03.080Z"
   },
   {
    "duration": 398,
    "start_time": "2022-06-20T16:53:06.096Z"
   },
   {
    "duration": 341,
    "start_time": "2022-06-20T16:53:10.346Z"
   },
   {
    "duration": 431,
    "start_time": "2022-06-20T16:53:14.114Z"
   },
   {
    "duration": 356,
    "start_time": "2022-06-20T16:53:17.522Z"
   },
   {
    "duration": 854,
    "start_time": "2022-06-25T11:19:07.003Z"
   },
   {
    "duration": 202,
    "start_time": "2022-06-25T11:19:07.859Z"
   },
   {
    "duration": 22,
    "start_time": "2022-06-25T11:19:08.063Z"
   },
   {
    "duration": 6,
    "start_time": "2022-06-25T11:19:08.087Z"
   },
   {
    "duration": 10,
    "start_time": "2022-06-25T11:19:08.095Z"
   },
   {
    "duration": 31,
    "start_time": "2022-06-25T11:19:08.107Z"
   },
   {
    "duration": 28,
    "start_time": "2022-06-25T11:19:08.139Z"
   },
   {
    "duration": 13,
    "start_time": "2022-06-25T11:19:08.168Z"
   },
   {
    "duration": 17,
    "start_time": "2022-06-25T11:19:08.183Z"
   },
   {
    "duration": 53,
    "start_time": "2022-06-25T11:19:08.203Z"
   },
   {
    "duration": 275,
    "start_time": "2022-06-25T11:19:08.258Z"
   },
   {
    "duration": 381,
    "start_time": "2022-06-25T11:19:08.539Z"
   },
   {
    "duration": 28,
    "start_time": "2022-06-25T11:19:08.928Z"
   },
   {
    "duration": 995,
    "start_time": "2022-06-25T11:19:08.958Z"
   },
   {
    "duration": 301,
    "start_time": "2022-06-25T11:19:09.955Z"
   },
   {
    "duration": 8,
    "start_time": "2022-06-25T11:19:10.257Z"
   },
   {
    "duration": 348,
    "start_time": "2022-06-25T11:19:10.266Z"
   },
   {
    "duration": 185,
    "start_time": "2022-06-25T11:19:10.615Z"
   },
   {
    "duration": 184,
    "start_time": "2022-06-25T11:19:10.801Z"
   },
   {
    "duration": 176,
    "start_time": "2022-06-25T11:19:10.986Z"
   },
   {
    "duration": 170,
    "start_time": "2022-06-25T11:19:11.164Z"
   },
   {
    "duration": 505,
    "start_time": "2022-06-25T11:19:11.335Z"
   },
   {
    "duration": 113,
    "start_time": "2022-06-25T11:19:11.842Z"
   },
   {
    "duration": 25,
    "start_time": "2022-06-25T11:19:11.957Z"
   },
   {
    "duration": 169,
    "start_time": "2022-06-25T11:19:11.983Z"
   },
   {
    "duration": 24,
    "start_time": "2022-06-25T11:19:12.154Z"
   },
   {
    "duration": 166,
    "start_time": "2022-06-25T11:19:12.179Z"
   },
   {
    "duration": 140,
    "start_time": "2022-06-25T11:19:12.348Z"
   },
   {
    "duration": 464,
    "start_time": "2022-06-25T11:19:12.490Z"
   },
   {
    "duration": 394,
    "start_time": "2022-06-25T11:24:06.278Z"
   },
   {
    "duration": 1485,
    "start_time": "2022-06-25T11:24:46.516Z"
   },
   {
    "duration": 480,
    "start_time": "2022-06-25T11:24:52.744Z"
   },
   {
    "duration": 369,
    "start_time": "2022-06-25T11:24:59.049Z"
   },
   {
    "duration": 390,
    "start_time": "2022-06-25T11:25:18.512Z"
   },
   {
    "duration": 467,
    "start_time": "2022-06-25T11:25:25.413Z"
   },
   {
    "duration": 379,
    "start_time": "2022-06-25T11:25:28.974Z"
   },
   {
    "duration": 411,
    "start_time": "2022-06-25T11:25:33.075Z"
   },
   {
    "duration": 344,
    "start_time": "2022-06-25T11:25:41.500Z"
   },
   {
    "duration": 421,
    "start_time": "2022-06-25T11:25:57.187Z"
   },
   {
    "duration": 368,
    "start_time": "2022-06-25T11:26:01.063Z"
   },
   {
    "duration": 366,
    "start_time": "2022-06-25T11:26:05.426Z"
   },
   {
    "duration": 352,
    "start_time": "2022-06-25T11:26:08.656Z"
   },
   {
    "duration": 452,
    "start_time": "2022-06-25T11:26:13.002Z"
   },
   {
    "duration": 458,
    "start_time": "2022-06-25T11:26:15.963Z"
   },
   {
    "duration": 359,
    "start_time": "2022-06-25T11:26:18.825Z"
   },
   {
    "duration": 431,
    "start_time": "2022-06-25T11:26:21.787Z"
   },
   {
    "duration": 411,
    "start_time": "2022-06-25T11:26:26.926Z"
   },
   {
    "duration": 385,
    "start_time": "2022-06-25T11:26:44.825Z"
   },
   {
    "duration": 377,
    "start_time": "2022-06-25T11:26:47.688Z"
   },
   {
    "duration": 438,
    "start_time": "2022-06-25T11:26:51.102Z"
   },
   {
    "duration": 371,
    "start_time": "2022-06-25T11:26:53.941Z"
   },
   {
    "duration": 399,
    "start_time": "2022-06-25T11:26:56.852Z"
   },
   {
    "duration": 343,
    "start_time": "2022-06-25T11:27:00.666Z"
   },
   {
    "duration": 476,
    "start_time": "2022-06-25T11:27:03.468Z"
   },
   {
    "duration": 355,
    "start_time": "2022-06-25T11:27:09.037Z"
   },
   {
    "duration": 351,
    "start_time": "2022-06-25T11:27:11.930Z"
   },
   {
    "duration": 420,
    "start_time": "2022-06-25T11:27:16.301Z"
   },
   {
    "duration": 333,
    "start_time": "2022-06-25T11:27:19.476Z"
   },
   {
    "duration": 335,
    "start_time": "2022-06-25T11:27:21.665Z"
   },
   {
    "duration": 339,
    "start_time": "2022-06-25T11:27:24.776Z"
   },
   {
    "duration": 465,
    "start_time": "2022-06-25T11:27:26.777Z"
   },
   {
    "duration": 340,
    "start_time": "2022-06-25T11:27:28.666Z"
   },
   {
    "duration": 345,
    "start_time": "2022-06-25T11:27:30.700Z"
   },
   {
    "duration": 329,
    "start_time": "2022-06-25T11:27:32.868Z"
   },
   {
    "duration": 537,
    "start_time": "2022-06-25T11:27:37.115Z"
   },
   {
    "duration": 384,
    "start_time": "2022-06-25T11:29:41.627Z"
   },
   {
    "duration": 278,
    "start_time": "2022-06-25T11:30:05.271Z"
   },
   {
    "duration": 289,
    "start_time": "2022-06-25T11:30:13.363Z"
   },
   {
    "duration": 441,
    "start_time": "2022-06-25T11:32:19.878Z"
   },
   {
    "duration": 369,
    "start_time": "2022-06-25T11:32:28.991Z"
   },
   {
    "duration": 700,
    "start_time": "2022-06-25T11:32:37.252Z"
   },
   {
    "duration": 134,
    "start_time": "2022-06-25T11:32:37.954Z"
   },
   {
    "duration": 19,
    "start_time": "2022-06-25T11:32:38.089Z"
   },
   {
    "duration": 5,
    "start_time": "2022-06-25T11:32:38.111Z"
   },
   {
    "duration": 29,
    "start_time": "2022-06-25T11:32:38.118Z"
   },
   {
    "duration": 10,
    "start_time": "2022-06-25T11:32:38.148Z"
   },
   {
    "duration": 24,
    "start_time": "2022-06-25T11:32:38.160Z"
   },
   {
    "duration": 13,
    "start_time": "2022-06-25T11:32:38.186Z"
   },
   {
    "duration": 35,
    "start_time": "2022-06-25T11:32:38.200Z"
   },
   {
    "duration": 39,
    "start_time": "2022-06-25T11:32:38.241Z"
   },
   {
    "duration": 298,
    "start_time": "2022-06-25T11:32:38.281Z"
   },
   {
    "duration": 373,
    "start_time": "2022-06-25T11:32:38.581Z"
   },
   {
    "duration": 25,
    "start_time": "2022-06-25T11:32:38.956Z"
   },
   {
    "duration": 1038,
    "start_time": "2022-06-25T11:32:38.982Z"
   },
   {
    "duration": 347,
    "start_time": "2022-06-25T11:32:40.022Z"
   },
   {
    "duration": 10,
    "start_time": "2022-06-25T11:32:40.371Z"
   },
   {
    "duration": 126,
    "start_time": "2022-06-25T11:32:40.383Z"
   },
   {
    "duration": 0,
    "start_time": "2022-06-25T11:32:40.511Z"
   },
   {
    "duration": 0,
    "start_time": "2022-06-25T11:32:40.513Z"
   },
   {
    "duration": 0,
    "start_time": "2022-06-25T11:32:40.514Z"
   },
   {
    "duration": 0,
    "start_time": "2022-06-25T11:32:40.530Z"
   },
   {
    "duration": 0,
    "start_time": "2022-06-25T11:32:40.531Z"
   },
   {
    "duration": 0,
    "start_time": "2022-06-25T11:32:40.532Z"
   },
   {
    "duration": 0,
    "start_time": "2022-06-25T11:32:40.533Z"
   },
   {
    "duration": 0,
    "start_time": "2022-06-25T11:32:40.534Z"
   },
   {
    "duration": 0,
    "start_time": "2022-06-25T11:32:40.534Z"
   },
   {
    "duration": 0,
    "start_time": "2022-06-25T11:32:40.539Z"
   },
   {
    "duration": 0,
    "start_time": "2022-06-25T11:32:40.540Z"
   },
   {
    "duration": 0,
    "start_time": "2022-06-25T11:32:40.543Z"
   },
   {
    "duration": 0,
    "start_time": "2022-06-25T11:32:40.548Z"
   },
   {
    "duration": 28,
    "start_time": "2022-06-25T11:33:05.876Z"
   },
   {
    "duration": 472,
    "start_time": "2022-06-25T11:33:26.702Z"
   },
   {
    "duration": 406,
    "start_time": "2022-06-25T11:33:38.913Z"
   },
   {
    "duration": 431,
    "start_time": "2022-06-25T11:33:46.367Z"
   },
   {
    "duration": 399,
    "start_time": "2022-06-25T11:33:55.452Z"
   },
   {
    "duration": 431,
    "start_time": "2022-06-25T11:34:13.626Z"
   },
   {
    "duration": 291,
    "start_time": "2022-06-25T11:34:14.201Z"
   },
   {
    "duration": 956,
    "start_time": "2022-06-25T11:34:46.305Z"
   },
   {
    "duration": 2439,
    "start_time": "2022-06-25T11:34:54.904Z"
   },
   {
    "duration": 1108,
    "start_time": "2022-06-25T11:35:01.781Z"
   },
   {
    "duration": 1036,
    "start_time": "2022-06-25T11:39:02.417Z"
   },
   {
    "duration": 1150,
    "start_time": "2022-06-25T11:39:05.958Z"
   },
   {
    "duration": 2260,
    "start_time": "2022-06-25T11:39:09.743Z"
   },
   {
    "duration": 1082,
    "start_time": "2022-06-25T11:39:16.418Z"
   },
   {
    "duration": 764,
    "start_time": "2022-06-25T11:46:10.960Z"
   },
   {
    "duration": 983,
    "start_time": "2022-06-25T11:46:35.574Z"
   },
   {
    "duration": 1138,
    "start_time": "2022-06-25T11:47:03.520Z"
   },
   {
    "duration": 189,
    "start_time": "2022-06-25T11:49:21.885Z"
   },
   {
    "duration": 218,
    "start_time": "2022-06-25T11:49:24.613Z"
   },
   {
    "duration": 213,
    "start_time": "2022-06-25T11:49:25.156Z"
   },
   {
    "duration": 171,
    "start_time": "2022-06-25T11:49:25.675Z"
   },
   {
    "duration": 674,
    "start_time": "2022-06-25T11:49:26.123Z"
   },
   {
    "duration": 91,
    "start_time": "2022-06-25T11:49:26.974Z"
   },
   {
    "duration": 43,
    "start_time": "2022-06-25T11:49:28.198Z"
   },
   {
    "duration": 186,
    "start_time": "2022-06-25T11:49:28.863Z"
   },
   {
    "duration": 24,
    "start_time": "2022-06-25T11:49:30.259Z"
   },
   {
    "duration": 165,
    "start_time": "2022-06-25T11:49:30.910Z"
   },
   {
    "duration": 147,
    "start_time": "2022-06-25T11:49:31.562Z"
   },
   {
    "duration": 575,
    "start_time": "2022-06-25T11:49:32.270Z"
   },
   {
    "duration": 15,
    "start_time": "2022-06-25T15:46:01.220Z"
   },
   {
    "duration": 1050,
    "start_time": "2022-06-25T16:37:41.496Z"
   },
   {
    "duration": 120,
    "start_time": "2022-06-25T16:37:42.548Z"
   },
   {
    "duration": 16,
    "start_time": "2022-06-25T16:37:42.669Z"
   },
   {
    "duration": 5,
    "start_time": "2022-06-25T16:37:42.686Z"
   },
   {
    "duration": 10,
    "start_time": "2022-06-25T16:37:42.693Z"
   },
   {
    "duration": 8,
    "start_time": "2022-06-25T16:37:42.704Z"
   },
   {
    "duration": 24,
    "start_time": "2022-06-25T16:37:42.729Z"
   },
   {
    "duration": 9,
    "start_time": "2022-06-25T16:37:42.755Z"
   },
   {
    "duration": 21,
    "start_time": "2022-06-25T16:37:42.765Z"
   },
   {
    "duration": 25,
    "start_time": "2022-06-25T16:37:42.788Z"
   },
   {
    "duration": 254,
    "start_time": "2022-06-25T16:37:42.814Z"
   },
   {
    "duration": 311,
    "start_time": "2022-06-25T16:37:43.069Z"
   },
   {
    "duration": 26,
    "start_time": "2022-06-25T16:37:43.382Z"
   },
   {
    "duration": 1037,
    "start_time": "2022-06-25T16:37:43.409Z"
   },
   {
    "duration": 247,
    "start_time": "2022-06-25T16:37:44.447Z"
   },
   {
    "duration": 8,
    "start_time": "2022-06-25T16:37:44.695Z"
   },
   {
    "duration": 381,
    "start_time": "2022-06-25T16:37:44.704Z"
   },
   {
    "duration": 340,
    "start_time": "2022-06-25T16:37:45.087Z"
   },
   {
    "duration": 482,
    "start_time": "2022-06-25T16:37:45.429Z"
   },
   {
    "duration": 23,
    "start_time": "2022-06-25T16:37:45.913Z"
   },
   {
    "duration": 206,
    "start_time": "2022-06-25T16:37:45.939Z"
   },
   {
    "duration": 558,
    "start_time": "2022-06-25T16:37:46.148Z"
   },
   {
    "duration": 46,
    "start_time": "2022-06-25T16:37:46.708Z"
   },
   {
    "duration": 26,
    "start_time": "2022-06-25T16:37:46.755Z"
   },
   {
    "duration": 184,
    "start_time": "2022-06-25T16:37:46.783Z"
   },
   {
    "duration": 22,
    "start_time": "2022-06-25T16:37:46.969Z"
   },
   {
    "duration": 248,
    "start_time": "2022-06-25T16:37:46.992Z"
   },
   {
    "duration": 123,
    "start_time": "2022-06-25T16:37:47.243Z"
   },
   {
    "duration": 407,
    "start_time": "2022-06-25T16:37:47.368Z"
   },
   {
    "duration": 2198,
    "start_time": "2022-06-25T16:38:37.204Z"
   },
   {
    "duration": 2038,
    "start_time": "2022-06-25T16:39:49.491Z"
   },
   {
    "duration": 143,
    "start_time": "2022-06-25T16:43:51.822Z"
   },
   {
    "duration": 292,
    "start_time": "2022-06-25T16:44:46.060Z"
   },
   {
    "duration": 145,
    "start_time": "2022-06-25T16:45:58.774Z"
   },
   {
    "duration": 1572,
    "start_time": "2022-06-25T16:47:35.802Z"
   },
   {
    "duration": 1119,
    "start_time": "2022-06-25T16:48:14.772Z"
   },
   {
    "duration": 138,
    "start_time": "2022-06-25T16:48:15.893Z"
   },
   {
    "duration": 24,
    "start_time": "2022-06-25T16:48:16.032Z"
   },
   {
    "duration": 20,
    "start_time": "2022-06-25T16:48:16.059Z"
   },
   {
    "duration": 29,
    "start_time": "2022-06-25T16:48:16.082Z"
   },
   {
    "duration": 33,
    "start_time": "2022-06-25T16:48:16.113Z"
   },
   {
    "duration": 34,
    "start_time": "2022-06-25T16:48:16.147Z"
   },
   {
    "duration": 18,
    "start_time": "2022-06-25T16:48:16.183Z"
   },
   {
    "duration": 29,
    "start_time": "2022-06-25T16:48:16.203Z"
   },
   {
    "duration": 47,
    "start_time": "2022-06-25T16:48:16.236Z"
   },
   {
    "duration": 254,
    "start_time": "2022-06-25T16:48:16.284Z"
   },
   {
    "duration": 315,
    "start_time": "2022-06-25T16:48:16.540Z"
   },
   {
    "duration": 26,
    "start_time": "2022-06-25T16:48:16.858Z"
   },
   {
    "duration": 1021,
    "start_time": "2022-06-25T16:48:16.885Z"
   },
   {
    "duration": 252,
    "start_time": "2022-06-25T16:48:17.908Z"
   },
   {
    "duration": 8,
    "start_time": "2022-06-25T16:48:18.162Z"
   },
   {
    "duration": 391,
    "start_time": "2022-06-25T16:48:18.172Z"
   },
   {
    "duration": 355,
    "start_time": "2022-06-25T16:48:18.565Z"
   },
   {
    "duration": 491,
    "start_time": "2022-06-25T16:48:18.921Z"
   },
   {
    "duration": 2174,
    "start_time": "2022-06-25T16:48:19.414Z"
   },
   {
    "duration": 1264,
    "start_time": "2022-06-25T16:48:21.590Z"
   },
   {
    "duration": 47,
    "start_time": "2022-06-25T16:48:22.856Z"
   },
   {
    "duration": 56,
    "start_time": "2022-06-25T16:48:22.905Z"
   },
   {
    "duration": 177,
    "start_time": "2022-06-25T16:48:22.963Z"
   },
   {
    "duration": 29,
    "start_time": "2022-06-25T16:48:23.142Z"
   },
   {
    "duration": 151,
    "start_time": "2022-06-25T16:48:23.173Z"
   },
   {
    "duration": 137,
    "start_time": "2022-06-25T16:48:23.326Z"
   },
   {
    "duration": 450,
    "start_time": "2022-06-25T16:48:23.466Z"
   },
   {
    "duration": 1385,
    "start_time": "2022-06-25T16:48:50.402Z"
   },
   {
    "duration": 1542,
    "start_time": "2022-06-25T16:49:35.702Z"
   },
   {
    "duration": 1477,
    "start_time": "2022-06-25T16:49:54.826Z"
   },
   {
    "duration": 181,
    "start_time": "2022-06-25T16:52:29.328Z"
   },
   {
    "duration": 1310,
    "start_time": "2022-06-25T16:52:36.227Z"
   },
   {
    "duration": 1286,
    "start_time": "2022-06-25T16:53:51.627Z"
   },
   {
    "duration": 650,
    "start_time": "2022-06-25T16:54:07.476Z"
   },
   {
    "duration": 159,
    "start_time": "2022-06-25T16:54:25.065Z"
   },
   {
    "duration": 135,
    "start_time": "2022-06-25T16:54:38.227Z"
   },
   {
    "duration": 139,
    "start_time": "2022-06-25T16:54:53.330Z"
   },
   {
    "duration": 1084,
    "start_time": "2022-06-25T16:55:05.330Z"
   },
   {
    "duration": 122,
    "start_time": "2022-06-25T16:55:06.416Z"
   },
   {
    "duration": 16,
    "start_time": "2022-06-25T16:55:06.539Z"
   },
   {
    "duration": 5,
    "start_time": "2022-06-25T16:55:06.556Z"
   },
   {
    "duration": 32,
    "start_time": "2022-06-25T16:55:06.562Z"
   },
   {
    "duration": 12,
    "start_time": "2022-06-25T16:55:06.595Z"
   },
   {
    "duration": 32,
    "start_time": "2022-06-25T16:55:06.608Z"
   },
   {
    "duration": 20,
    "start_time": "2022-06-25T16:55:06.642Z"
   },
   {
    "duration": 14,
    "start_time": "2022-06-25T16:55:06.664Z"
   },
   {
    "duration": 27,
    "start_time": "2022-06-25T16:55:06.680Z"
   },
   {
    "duration": 245,
    "start_time": "2022-06-25T16:55:06.708Z"
   },
   {
    "duration": 286,
    "start_time": "2022-06-25T16:55:06.955Z"
   },
   {
    "duration": 22,
    "start_time": "2022-06-25T16:55:07.242Z"
   },
   {
    "duration": 973,
    "start_time": "2022-06-25T16:55:07.266Z"
   },
   {
    "duration": 245,
    "start_time": "2022-06-25T16:55:08.241Z"
   },
   {
    "duration": 9,
    "start_time": "2022-06-25T16:55:08.487Z"
   },
   {
    "duration": 396,
    "start_time": "2022-06-25T16:55:08.498Z"
   },
   {
    "duration": 349,
    "start_time": "2022-06-25T16:55:08.896Z"
   },
   {
    "duration": 469,
    "start_time": "2022-06-25T16:55:09.247Z"
   },
   {
    "duration": 2063,
    "start_time": "2022-06-25T16:55:09.718Z"
   },
   {
    "duration": 168,
    "start_time": "2022-06-25T16:55:11.783Z"
   },
   {
    "duration": 144,
    "start_time": "2022-06-25T16:55:11.952Z"
   },
   {
    "duration": 140,
    "start_time": "2022-06-25T16:55:12.097Z"
   },
   {
    "duration": 42,
    "start_time": "2022-06-25T16:55:12.239Z"
   },
   {
    "duration": 25,
    "start_time": "2022-06-25T16:55:12.282Z"
   },
   {
    "duration": 179,
    "start_time": "2022-06-25T16:55:12.309Z"
   },
   {
    "duration": 23,
    "start_time": "2022-06-25T16:55:12.490Z"
   },
   {
    "duration": 137,
    "start_time": "2022-06-25T16:55:12.516Z"
   },
   {
    "duration": 122,
    "start_time": "2022-06-25T16:55:12.654Z"
   },
   {
    "duration": 417,
    "start_time": "2022-06-25T16:55:12.778Z"
   },
   {
    "duration": 148,
    "start_time": "2022-06-25T16:55:52.992Z"
   },
   {
    "duration": 242,
    "start_time": "2022-06-25T16:56:19.214Z"
   },
   {
    "duration": 186,
    "start_time": "2022-06-25T16:56:24.939Z"
   },
   {
    "duration": 174,
    "start_time": "2022-06-25T16:58:07.078Z"
   },
   {
    "duration": 103,
    "start_time": "2022-06-25T16:58:24.466Z"
   },
   {
    "duration": 577,
    "start_time": "2022-06-25T16:58:51.995Z"
   },
   {
    "duration": 158,
    "start_time": "2022-06-25T16:59:15.446Z"
   },
   {
    "duration": 136,
    "start_time": "2022-06-25T16:59:44.205Z"
   },
   {
    "duration": 163,
    "start_time": "2022-06-25T16:59:50.128Z"
   },
   {
    "duration": 193,
    "start_time": "2022-06-25T17:03:05.272Z"
   },
   {
    "duration": 135,
    "start_time": "2022-06-25T17:03:40.169Z"
   },
   {
    "duration": 154,
    "start_time": "2022-06-25T17:03:54.401Z"
   },
   {
    "duration": 222,
    "start_time": "2022-06-25T17:04:04.434Z"
   },
   {
    "duration": 136,
    "start_time": "2022-06-25T17:05:58.559Z"
   },
   {
    "duration": 139,
    "start_time": "2022-06-25T17:06:07.812Z"
   },
   {
    "duration": 160,
    "start_time": "2022-06-25T17:06:37.049Z"
   },
   {
    "duration": 191,
    "start_time": "2022-06-25T17:06:56.136Z"
   },
   {
    "duration": 145,
    "start_time": "2022-06-25T17:09:09.191Z"
   },
   {
    "duration": 142,
    "start_time": "2022-06-25T17:09:36.774Z"
   },
   {
    "duration": 158,
    "start_time": "2022-06-25T17:09:40.812Z"
   },
   {
    "duration": 134,
    "start_time": "2022-06-25T17:09:52.615Z"
   },
   {
    "duration": 196,
    "start_time": "2022-06-25T17:10:08.237Z"
   },
   {
    "duration": 577,
    "start_time": "2022-06-25T17:10:13.213Z"
   },
   {
    "duration": 1294,
    "start_time": "2022-06-26T12:36:32.777Z"
   },
   {
    "duration": 762,
    "start_time": "2022-06-26T12:36:34.073Z"
   },
   {
    "duration": 17,
    "start_time": "2022-06-26T12:36:34.837Z"
   },
   {
    "duration": 12,
    "start_time": "2022-06-26T12:36:34.856Z"
   },
   {
    "duration": 23,
    "start_time": "2022-06-26T12:36:34.875Z"
   },
   {
    "duration": 7,
    "start_time": "2022-06-26T12:36:34.900Z"
   },
   {
    "duration": 18,
    "start_time": "2022-06-26T12:36:34.908Z"
   },
   {
    "duration": 11,
    "start_time": "2022-06-26T12:36:34.927Z"
   },
   {
    "duration": 31,
    "start_time": "2022-06-26T12:36:34.940Z"
   },
   {
    "duration": 28,
    "start_time": "2022-06-26T12:36:34.974Z"
   },
   {
    "duration": 260,
    "start_time": "2022-06-26T12:36:35.004Z"
   },
   {
    "duration": 312,
    "start_time": "2022-06-26T12:36:35.266Z"
   },
   {
    "duration": 26,
    "start_time": "2022-06-26T12:36:35.580Z"
   },
   {
    "duration": 1042,
    "start_time": "2022-06-26T12:36:35.608Z"
   },
   {
    "duration": 242,
    "start_time": "2022-06-26T12:36:36.660Z"
   },
   {
    "duration": 7,
    "start_time": "2022-06-26T12:36:36.903Z"
   },
   {
    "duration": 408,
    "start_time": "2022-06-26T12:36:36.912Z"
   },
   {
    "duration": 380,
    "start_time": "2022-06-26T12:36:37.322Z"
   },
   {
    "duration": 535,
    "start_time": "2022-06-26T12:36:37.703Z"
   },
   {
    "duration": 2271,
    "start_time": "2022-06-26T12:36:38.239Z"
   },
   {
    "duration": 186,
    "start_time": "2022-06-26T12:36:40.512Z"
   },
   {
    "duration": 152,
    "start_time": "2022-06-26T12:36:40.700Z"
   },
   {
    "duration": 141,
    "start_time": "2022-06-26T12:36:40.859Z"
   },
   {
    "duration": 42,
    "start_time": "2022-06-26T12:36:41.001Z"
   },
   {
    "duration": 48,
    "start_time": "2022-06-26T12:36:41.044Z"
   },
   {
    "duration": 170,
    "start_time": "2022-06-26T12:36:41.094Z"
   },
   {
    "duration": 27,
    "start_time": "2022-06-26T12:36:41.265Z"
   },
   {
    "duration": 141,
    "start_time": "2022-06-26T12:36:41.295Z"
   },
   {
    "duration": 138,
    "start_time": "2022-06-26T12:36:41.438Z"
   },
   {
    "duration": 403,
    "start_time": "2022-06-26T12:36:41.578Z"
   },
   {
    "duration": 148,
    "start_time": "2022-06-26T12:47:59.291Z"
   },
   {
    "duration": 232,
    "start_time": "2022-06-26T12:48:02.402Z"
   },
   {
    "duration": 144,
    "start_time": "2022-06-26T12:48:14.990Z"
   },
   {
    "duration": 164,
    "start_time": "2022-06-26T12:48:33.014Z"
   },
   {
    "duration": 127,
    "start_time": "2022-06-26T12:48:40.202Z"
   },
   {
    "duration": 218,
    "start_time": "2022-06-26T12:48:51.354Z"
   },
   {
    "duration": 629,
    "start_time": "2022-06-26T12:48:53.891Z"
   },
   {
    "duration": 693,
    "start_time": "2022-06-26T12:49:04.170Z"
   },
   {
    "duration": 100,
    "start_time": "2022-06-26T12:50:29.454Z"
   },
   {
    "duration": 10,
    "start_time": "2022-06-26T12:50:32.653Z"
   },
   {
    "duration": 599,
    "start_time": "2022-06-26T12:50:38.271Z"
   },
   {
    "duration": 172,
    "start_time": "2022-06-26T12:50:50.605Z"
   },
   {
    "duration": 589,
    "start_time": "2022-06-26T12:51:09.381Z"
   },
   {
    "duration": 481,
    "start_time": "2022-06-26T12:51:15.795Z"
   },
   {
    "duration": 624,
    "start_time": "2022-06-26T12:51:21.604Z"
   },
   {
    "duration": 534,
    "start_time": "2022-06-26T12:51:58.842Z"
   },
   {
    "duration": 206,
    "start_time": "2022-06-26T12:52:57.517Z"
   },
   {
    "duration": 500,
    "start_time": "2022-06-26T12:53:50.776Z"
   },
   {
    "duration": 496,
    "start_time": "2022-06-26T12:58:41.827Z"
   },
   {
    "duration": 548,
    "start_time": "2022-06-26T12:58:57.608Z"
   },
   {
    "duration": 696,
    "start_time": "2022-06-26T12:59:03.634Z"
   },
   {
    "duration": 1149,
    "start_time": "2022-06-26T13:02:22.611Z"
   },
   {
    "duration": 139,
    "start_time": "2022-06-26T13:02:23.764Z"
   },
   {
    "duration": 23,
    "start_time": "2022-06-26T13:02:23.905Z"
   },
   {
    "duration": 30,
    "start_time": "2022-06-26T13:02:23.931Z"
   },
   {
    "duration": 35,
    "start_time": "2022-06-26T13:02:23.965Z"
   },
   {
    "duration": 15,
    "start_time": "2022-06-26T13:02:24.002Z"
   },
   {
    "duration": 25,
    "start_time": "2022-06-26T13:02:24.019Z"
   },
   {
    "duration": 13,
    "start_time": "2022-06-26T13:02:24.046Z"
   },
   {
    "duration": 24,
    "start_time": "2022-06-26T13:02:24.066Z"
   },
   {
    "duration": 38,
    "start_time": "2022-06-26T13:02:24.093Z"
   },
   {
    "duration": 284,
    "start_time": "2022-06-26T13:02:24.133Z"
   },
   {
    "duration": 320,
    "start_time": "2022-06-26T13:02:24.419Z"
   },
   {
    "duration": 42,
    "start_time": "2022-06-26T13:02:24.740Z"
   },
   {
    "duration": 1120,
    "start_time": "2022-06-26T13:02:24.784Z"
   },
   {
    "duration": 272,
    "start_time": "2022-06-26T13:02:25.906Z"
   },
   {
    "duration": 9,
    "start_time": "2022-06-26T13:02:26.180Z"
   },
   {
    "duration": 404,
    "start_time": "2022-06-26T13:02:26.190Z"
   },
   {
    "duration": 386,
    "start_time": "2022-06-26T13:02:26.596Z"
   },
   {
    "duration": 572,
    "start_time": "2022-06-26T13:02:26.983Z"
   },
   {
    "duration": 2211,
    "start_time": "2022-06-26T13:02:27.557Z"
   },
   {
    "duration": 166,
    "start_time": "2022-06-26T13:02:29.777Z"
   },
   {
    "duration": 304,
    "start_time": "2022-06-26T13:02:29.944Z"
   },
   {
    "duration": 0,
    "start_time": "2022-06-26T13:02:30.250Z"
   },
   {
    "duration": 0,
    "start_time": "2022-06-26T13:02:30.251Z"
   },
   {
    "duration": 0,
    "start_time": "2022-06-26T13:02:30.252Z"
   },
   {
    "duration": 0,
    "start_time": "2022-06-26T13:02:30.253Z"
   },
   {
    "duration": 0,
    "start_time": "2022-06-26T13:02:30.263Z"
   },
   {
    "duration": 0,
    "start_time": "2022-06-26T13:02:30.263Z"
   },
   {
    "duration": 0,
    "start_time": "2022-06-26T13:02:30.264Z"
   },
   {
    "duration": 1112,
    "start_time": "2022-06-26T13:05:58.540Z"
   },
   {
    "duration": 142,
    "start_time": "2022-06-26T13:05:59.654Z"
   },
   {
    "duration": 18,
    "start_time": "2022-06-26T13:05:59.798Z"
   },
   {
    "duration": 5,
    "start_time": "2022-06-26T13:05:59.818Z"
   },
   {
    "duration": 9,
    "start_time": "2022-06-26T13:05:59.824Z"
   },
   {
    "duration": 16,
    "start_time": "2022-06-26T13:05:59.860Z"
   },
   {
    "duration": 19,
    "start_time": "2022-06-26T13:05:59.878Z"
   },
   {
    "duration": 11,
    "start_time": "2022-06-26T13:05:59.899Z"
   },
   {
    "duration": 16,
    "start_time": "2022-06-26T13:05:59.911Z"
   },
   {
    "duration": 55,
    "start_time": "2022-06-26T13:05:59.929Z"
   },
   {
    "duration": 248,
    "start_time": "2022-06-26T13:05:59.986Z"
   },
   {
    "duration": 321,
    "start_time": "2022-06-26T13:06:00.236Z"
   },
   {
    "duration": 29,
    "start_time": "2022-06-26T13:06:00.564Z"
   },
   {
    "duration": 1008,
    "start_time": "2022-06-26T13:06:00.595Z"
   },
   {
    "duration": 261,
    "start_time": "2022-06-26T13:06:01.605Z"
   },
   {
    "duration": 8,
    "start_time": "2022-06-26T13:06:01.876Z"
   },
   {
    "duration": 428,
    "start_time": "2022-06-26T13:06:01.886Z"
   },
   {
    "duration": 355,
    "start_time": "2022-06-26T13:06:02.316Z"
   },
   {
    "duration": 527,
    "start_time": "2022-06-26T13:06:02.673Z"
   },
   {
    "duration": 2186,
    "start_time": "2022-06-26T13:06:03.202Z"
   },
   {
    "duration": 184,
    "start_time": "2022-06-26T13:06:05.390Z"
   },
   {
    "duration": 518,
    "start_time": "2022-06-26T13:06:05.576Z"
   },
   {
    "duration": 43,
    "start_time": "2022-06-26T13:06:06.096Z"
   },
   {
    "duration": 51,
    "start_time": "2022-06-26T13:06:06.141Z"
   },
   {
    "duration": 180,
    "start_time": "2022-06-26T13:06:06.193Z"
   },
   {
    "duration": 22,
    "start_time": "2022-06-26T13:06:06.375Z"
   },
   {
    "duration": 147,
    "start_time": "2022-06-26T13:06:06.399Z"
   },
   {
    "duration": 144,
    "start_time": "2022-06-26T13:06:06.549Z"
   },
   {
    "duration": 413,
    "start_time": "2022-06-26T13:06:06.695Z"
   },
   {
    "duration": 1086,
    "start_time": "2022-06-26T13:06:58.102Z"
   },
   {
    "duration": 129,
    "start_time": "2022-06-26T13:06:59.190Z"
   },
   {
    "duration": 22,
    "start_time": "2022-06-26T13:06:59.320Z"
   },
   {
    "duration": 14,
    "start_time": "2022-06-26T13:06:59.360Z"
   },
   {
    "duration": 9,
    "start_time": "2022-06-26T13:06:59.376Z"
   },
   {
    "duration": 7,
    "start_time": "2022-06-26T13:06:59.387Z"
   },
   {
    "duration": 19,
    "start_time": "2022-06-26T13:06:59.396Z"
   },
   {
    "duration": 58,
    "start_time": "2022-06-26T13:06:59.417Z"
   },
   {
    "duration": 16,
    "start_time": "2022-06-26T13:06:59.476Z"
   },
   {
    "duration": 25,
    "start_time": "2022-06-26T13:06:59.495Z"
   },
   {
    "duration": 264,
    "start_time": "2022-06-26T13:06:59.522Z"
   },
   {
    "duration": 309,
    "start_time": "2022-06-26T13:06:59.788Z"
   },
   {
    "duration": 22,
    "start_time": "2022-06-26T13:07:00.099Z"
   },
   {
    "duration": 1016,
    "start_time": "2022-06-26T13:07:00.122Z"
   },
   {
    "duration": 247,
    "start_time": "2022-06-26T13:07:01.139Z"
   },
   {
    "duration": 7,
    "start_time": "2022-06-26T13:07:01.388Z"
   },
   {
    "duration": 398,
    "start_time": "2022-06-26T13:07:01.397Z"
   },
   {
    "duration": 374,
    "start_time": "2022-06-26T13:07:01.796Z"
   },
   {
    "duration": 511,
    "start_time": "2022-06-26T13:07:02.178Z"
   },
   {
    "duration": 2427,
    "start_time": "2022-06-26T13:07:02.691Z"
   },
   {
    "duration": 181,
    "start_time": "2022-06-26T13:07:05.120Z"
   },
   {
    "duration": 1122,
    "start_time": "2022-06-26T13:08:04.775Z"
   },
   {
    "duration": 137,
    "start_time": "2022-06-26T13:08:05.898Z"
   },
   {
    "duration": 44,
    "start_time": "2022-06-26T13:08:06.037Z"
   },
   {
    "duration": 7,
    "start_time": "2022-06-26T13:08:06.083Z"
   },
   {
    "duration": 23,
    "start_time": "2022-06-26T13:08:06.092Z"
   },
   {
    "duration": 23,
    "start_time": "2022-06-26T13:08:06.116Z"
   },
   {
    "duration": 40,
    "start_time": "2022-06-26T13:08:06.140Z"
   },
   {
    "duration": 18,
    "start_time": "2022-06-26T13:08:06.182Z"
   },
   {
    "duration": 22,
    "start_time": "2022-06-26T13:08:06.202Z"
   },
   {
    "duration": 51,
    "start_time": "2022-06-26T13:08:06.226Z"
   },
   {
    "duration": 249,
    "start_time": "2022-06-26T13:08:06.278Z"
   },
   {
    "duration": 413,
    "start_time": "2022-06-26T13:08:06.528Z"
   },
   {
    "duration": 40,
    "start_time": "2022-06-26T13:08:06.943Z"
   },
   {
    "duration": 1150,
    "start_time": "2022-06-26T13:08:06.986Z"
   },
   {
    "duration": 254,
    "start_time": "2022-06-26T13:08:08.138Z"
   },
   {
    "duration": 8,
    "start_time": "2022-06-26T13:08:08.393Z"
   },
   {
    "duration": 397,
    "start_time": "2022-06-26T13:08:08.402Z"
   },
   {
    "duration": 362,
    "start_time": "2022-06-26T13:08:08.800Z"
   },
   {
    "duration": 482,
    "start_time": "2022-06-26T13:08:09.164Z"
   },
   {
    "duration": 2170,
    "start_time": "2022-06-26T13:08:09.647Z"
   },
   {
    "duration": 185,
    "start_time": "2022-06-26T13:08:11.819Z"
   },
   {
    "duration": 164,
    "start_time": "2022-06-26T13:08:12.006Z"
   },
   {
    "duration": 341,
    "start_time": "2022-06-26T13:08:12.172Z"
   },
   {
    "duration": 59,
    "start_time": "2022-06-26T13:08:12.515Z"
   },
   {
    "duration": 28,
    "start_time": "2022-06-26T13:08:12.576Z"
   },
   {
    "duration": 178,
    "start_time": "2022-06-26T13:08:12.605Z"
   },
   {
    "duration": 31,
    "start_time": "2022-06-26T13:08:12.785Z"
   },
   {
    "duration": 177,
    "start_time": "2022-06-26T13:08:12.818Z"
   },
   {
    "duration": 159,
    "start_time": "2022-06-26T13:08:12.997Z"
   },
   {
    "duration": 408,
    "start_time": "2022-06-26T13:08:13.158Z"
   },
   {
    "duration": 133,
    "start_time": "2022-06-26T13:08:13.570Z"
   },
   {
    "duration": 1117,
    "start_time": "2022-06-26T13:08:28.269Z"
   },
   {
    "duration": 1078,
    "start_time": "2022-06-26T13:09:59.168Z"
   },
   {
    "duration": 1418,
    "start_time": "2022-06-26T13:10:04.352Z"
   },
   {
    "duration": 1124,
    "start_time": "2022-06-26T13:10:26.503Z"
   },
   {
    "duration": 1272,
    "start_time": "2022-06-26T13:10:33.202Z"
   },
   {
    "duration": 1017,
    "start_time": "2022-06-26T13:10:46.502Z"
   },
   {
    "duration": 1091,
    "start_time": "2022-06-26T13:10:53.530Z"
   },
   {
    "duration": 140,
    "start_time": "2022-06-26T13:10:54.623Z"
   },
   {
    "duration": 20,
    "start_time": "2022-06-26T13:10:54.773Z"
   },
   {
    "duration": 5,
    "start_time": "2022-06-26T13:10:54.795Z"
   },
   {
    "duration": 13,
    "start_time": "2022-06-26T13:10:54.802Z"
   },
   {
    "duration": 6,
    "start_time": "2022-06-26T13:10:54.817Z"
   },
   {
    "duration": 37,
    "start_time": "2022-06-26T13:10:54.825Z"
   },
   {
    "duration": 16,
    "start_time": "2022-06-26T13:10:54.864Z"
   },
   {
    "duration": 18,
    "start_time": "2022-06-26T13:10:54.882Z"
   },
   {
    "duration": 26,
    "start_time": "2022-06-26T13:10:54.903Z"
   },
   {
    "duration": 275,
    "start_time": "2022-06-26T13:10:54.930Z"
   },
   {
    "duration": 308,
    "start_time": "2022-06-26T13:10:55.207Z"
   },
   {
    "duration": 24,
    "start_time": "2022-06-26T13:10:55.517Z"
   },
   {
    "duration": 1032,
    "start_time": "2022-06-26T13:10:55.542Z"
   },
   {
    "duration": 255,
    "start_time": "2022-06-26T13:10:56.576Z"
   },
   {
    "duration": 8,
    "start_time": "2022-06-26T13:10:56.833Z"
   },
   {
    "duration": 406,
    "start_time": "2022-06-26T13:10:56.842Z"
   },
   {
    "duration": 371,
    "start_time": "2022-06-26T13:10:57.250Z"
   },
   {
    "duration": 482,
    "start_time": "2022-06-26T13:10:57.623Z"
   },
   {
    "duration": 2097,
    "start_time": "2022-06-26T13:10:58.107Z"
   },
   {
    "duration": 177,
    "start_time": "2022-06-26T13:11:00.206Z"
   },
   {
    "duration": 188,
    "start_time": "2022-06-26T13:11:00.385Z"
   },
   {
    "duration": 333,
    "start_time": "2022-06-26T13:11:00.575Z"
   },
   {
    "duration": 62,
    "start_time": "2022-06-26T13:11:00.910Z"
   },
   {
    "duration": 28,
    "start_time": "2022-06-26T13:11:00.974Z"
   },
   {
    "duration": 170,
    "start_time": "2022-06-26T13:11:01.004Z"
   },
   {
    "duration": 22,
    "start_time": "2022-06-26T13:11:01.176Z"
   },
   {
    "duration": 141,
    "start_time": "2022-06-26T13:11:01.200Z"
   },
   {
    "duration": 141,
    "start_time": "2022-06-26T13:11:01.342Z"
   },
   {
    "duration": 409,
    "start_time": "2022-06-26T13:11:01.485Z"
   },
   {
    "duration": 342879,
    "start_time": "2022-06-26T13:16:58.544Z"
   },
   {
    "duration": 353,
    "start_time": "2022-06-26T13:22:41.424Z"
   },
   {
    "duration": 0,
    "start_time": "2022-06-26T16:33:46.826Z"
   },
   {
    "duration": 157,
    "start_time": "2022-06-26T16:33:48.292Z"
   },
   {
    "duration": 763,
    "start_time": "2022-06-26T16:34:06.490Z"
   },
   {
    "duration": 340,
    "start_time": "2022-06-26T16:41:06.341Z"
   },
   {
    "duration": 185,
    "start_time": "2022-06-26T16:41:23.610Z"
   },
   {
    "duration": 153,
    "start_time": "2022-06-26T16:41:29.080Z"
   },
   {
    "duration": 154,
    "start_time": "2022-06-26T16:41:33.852Z"
   },
   {
    "duration": 151,
    "start_time": "2022-06-26T16:41:37.447Z"
   },
   {
    "duration": 160,
    "start_time": "2022-06-26T16:41:40.017Z"
   },
   {
    "duration": 164,
    "start_time": "2022-06-26T16:41:46.652Z"
   },
   {
    "duration": 142,
    "start_time": "2022-06-26T16:41:49.494Z"
   },
   {
    "duration": 173,
    "start_time": "2022-06-26T16:41:57.427Z"
   },
   {
    "duration": 531,
    "start_time": "2022-06-26T16:44:18.195Z"
   },
   {
    "duration": 201,
    "start_time": "2022-06-26T16:44:41.501Z"
   },
   {
    "duration": 507,
    "start_time": "2022-06-26T16:45:00.090Z"
   },
   {
    "duration": 1009,
    "start_time": "2022-06-26T16:53:13.472Z"
   },
   {
    "duration": 503,
    "start_time": "2022-06-26T16:53:20.756Z"
   },
   {
    "duration": 13,
    "start_time": "2022-06-26T18:46:01.576Z"
   },
   {
    "duration": 2172,
    "start_time": "2022-06-26T18:46:06.433Z"
   },
   {
    "duration": 128,
    "start_time": "2022-08-19T18:59:31.194Z"
   },
   {
    "duration": 1252,
    "start_time": "2022-08-21T12:49:28.849Z"
   },
   {
    "duration": 123,
    "start_time": "2022-08-21T12:49:30.104Z"
   },
   {
    "duration": 0,
    "start_time": "2022-08-21T12:49:30.230Z"
   },
   {
    "duration": 0,
    "start_time": "2022-08-21T12:49:30.231Z"
   },
   {
    "duration": 0,
    "start_time": "2022-08-21T12:49:30.232Z"
   },
   {
    "duration": 0,
    "start_time": "2022-08-21T12:49:30.233Z"
   },
   {
    "duration": 0,
    "start_time": "2022-08-21T12:49:30.235Z"
   },
   {
    "duration": 0,
    "start_time": "2022-08-21T12:49:30.235Z"
   },
   {
    "duration": 0,
    "start_time": "2022-08-21T12:49:30.236Z"
   },
   {
    "duration": 0,
    "start_time": "2022-08-21T12:49:30.238Z"
   },
   {
    "duration": 0,
    "start_time": "2022-08-21T12:49:30.239Z"
   },
   {
    "duration": 0,
    "start_time": "2022-08-21T12:49:30.240Z"
   },
   {
    "duration": 0,
    "start_time": "2022-08-21T12:49:30.242Z"
   },
   {
    "duration": 0,
    "start_time": "2022-08-21T12:49:30.243Z"
   },
   {
    "duration": 0,
    "start_time": "2022-08-21T12:49:30.244Z"
   },
   {
    "duration": 0,
    "start_time": "2022-08-21T12:49:30.246Z"
   },
   {
    "duration": 0,
    "start_time": "2022-08-21T12:49:30.249Z"
   },
   {
    "duration": 0,
    "start_time": "2022-08-21T12:49:30.250Z"
   },
   {
    "duration": 0,
    "start_time": "2022-08-21T12:49:30.252Z"
   },
   {
    "duration": 0,
    "start_time": "2022-08-21T12:49:30.254Z"
   },
   {
    "duration": 0,
    "start_time": "2022-08-21T12:49:30.255Z"
   },
   {
    "duration": 0,
    "start_time": "2022-08-21T12:49:30.257Z"
   },
   {
    "duration": 0,
    "start_time": "2022-08-21T12:49:30.305Z"
   },
   {
    "duration": 0,
    "start_time": "2022-08-21T12:49:30.307Z"
   },
   {
    "duration": 0,
    "start_time": "2022-08-21T12:49:30.309Z"
   },
   {
    "duration": 0,
    "start_time": "2022-08-21T12:49:30.311Z"
   },
   {
    "duration": 0,
    "start_time": "2022-08-21T12:49:30.312Z"
   },
   {
    "duration": 0,
    "start_time": "2022-08-21T12:49:30.314Z"
   },
   {
    "duration": 0,
    "start_time": "2022-08-21T12:49:30.315Z"
   },
   {
    "duration": 0,
    "start_time": "2022-08-21T12:49:30.316Z"
   },
   {
    "duration": 188,
    "start_time": "2022-08-21T13:01:52.783Z"
   },
   {
    "duration": 1033,
    "start_time": "2022-08-21T13:02:00.229Z"
   },
   {
    "duration": 116,
    "start_time": "2022-08-21T13:02:01.264Z"
   },
   {
    "duration": 26,
    "start_time": "2022-08-21T13:02:01.381Z"
   },
   {
    "duration": 5,
    "start_time": "2022-08-21T13:02:01.408Z"
   },
   {
    "duration": 11,
    "start_time": "2022-08-21T13:02:01.415Z"
   },
   {
    "duration": 6,
    "start_time": "2022-08-21T13:02:01.427Z"
   },
   {
    "duration": 30,
    "start_time": "2022-08-21T13:02:01.434Z"
   },
   {
    "duration": 11,
    "start_time": "2022-08-21T13:02:01.465Z"
   },
   {
    "duration": 30,
    "start_time": "2022-08-21T13:02:01.478Z"
   },
   {
    "duration": 23,
    "start_time": "2022-08-21T13:02:01.511Z"
   },
   {
    "duration": 233,
    "start_time": "2022-08-21T13:02:01.535Z"
   },
   {
    "duration": 273,
    "start_time": "2022-08-21T13:02:01.770Z"
   },
   {
    "duration": 23,
    "start_time": "2022-08-21T13:02:02.045Z"
   },
   {
    "duration": 921,
    "start_time": "2022-08-21T13:02:02.070Z"
   },
   {
    "duration": 236,
    "start_time": "2022-08-21T13:02:02.993Z"
   },
   {
    "duration": 8,
    "start_time": "2022-08-21T13:02:03.231Z"
   },
   {
    "duration": 373,
    "start_time": "2022-08-21T13:02:03.240Z"
   },
   {
    "duration": 303,
    "start_time": "2022-08-21T13:02:03.614Z"
   },
   {
    "duration": 454,
    "start_time": "2022-08-21T13:02:03.918Z"
   },
   {
    "duration": 2029,
    "start_time": "2022-08-21T13:02:04.373Z"
   },
   {
    "duration": 114,
    "start_time": "2022-08-21T13:02:06.403Z"
   },
   {
    "duration": 353,
    "start_time": "2022-08-21T13:02:06.519Z"
   },
   {
    "duration": 46,
    "start_time": "2022-08-21T13:02:06.873Z"
   },
   {
    "duration": 27,
    "start_time": "2022-08-21T13:02:06.920Z"
   },
   {
    "duration": 165,
    "start_time": "2022-08-21T13:02:06.948Z"
   },
   {
    "duration": 21,
    "start_time": "2022-08-21T13:02:07.114Z"
   },
   {
    "duration": 142,
    "start_time": "2022-08-21T13:02:07.137Z"
   },
   {
    "duration": 127,
    "start_time": "2022-08-21T13:02:07.282Z"
   },
   {
    "duration": 384,
    "start_time": "2022-08-21T13:02:07.411Z"
   },
   {
    "duration": 14,
    "start_time": "2022-08-21T13:02:07.797Z"
   },
   {
    "duration": 2644,
    "start_time": "2022-08-21T13:09:05.352Z"
   },
   {
    "duration": 2516,
    "start_time": "2022-08-21T13:09:23.977Z"
   },
   {
    "duration": 2457,
    "start_time": "2022-08-21T13:09:46.969Z"
   },
   {
    "duration": 2520,
    "start_time": "2022-08-21T13:09:58.031Z"
   },
   {
    "duration": 3037,
    "start_time": "2022-08-21T13:10:09.604Z"
   },
   {
    "duration": 2579,
    "start_time": "2022-08-21T13:10:20.813Z"
   },
   {
    "duration": 10,
    "start_time": "2022-08-21T18:58:22.722Z"
   },
   {
    "duration": 1562,
    "start_time": "2022-08-21T19:00:06.469Z"
   },
   {
    "duration": 13,
    "start_time": "2022-08-21T19:02:51.908Z"
   },
   {
    "duration": 28,
    "start_time": "2022-08-21T19:06:20.739Z"
   },
   {
    "duration": 58,
    "start_time": "2022-08-21T19:07:33.673Z"
   },
   {
    "duration": 137,
    "start_time": "2022-08-21T19:14:13.399Z"
   },
   {
    "duration": 3144,
    "start_time": "2022-08-21T19:16:00.521Z"
   },
   {
    "duration": 941,
    "start_time": "2022-08-21T19:25:09.930Z"
   },
   {
    "duration": 1097,
    "start_time": "2022-08-21T19:25:22.687Z"
   },
   {
    "duration": 142,
    "start_time": "2022-08-21T19:25:23.785Z"
   },
   {
    "duration": 2055,
    "start_time": "2022-08-21T19:25:23.929Z"
   },
   {
    "duration": 28,
    "start_time": "2022-08-21T19:25:25.987Z"
   },
   {
    "duration": 11,
    "start_time": "2022-08-21T19:25:26.017Z"
   },
   {
    "duration": 17,
    "start_time": "2022-08-21T19:25:26.029Z"
   },
   {
    "duration": 15,
    "start_time": "2022-08-21T19:25:26.048Z"
   },
   {
    "duration": 27,
    "start_time": "2022-08-21T19:25:26.065Z"
   },
   {
    "duration": 19,
    "start_time": "2022-08-21T19:25:26.094Z"
   },
   {
    "duration": 39,
    "start_time": "2022-08-21T19:25:26.121Z"
   },
   {
    "duration": 35,
    "start_time": "2022-08-21T19:25:26.162Z"
   },
   {
    "duration": 275,
    "start_time": "2022-08-21T19:25:26.199Z"
   },
   {
    "duration": 308,
    "start_time": "2022-08-21T19:25:26.475Z"
   },
   {
    "duration": 36,
    "start_time": "2022-08-21T19:25:26.784Z"
   },
   {
    "duration": 984,
    "start_time": "2022-08-21T19:25:26.824Z"
   },
   {
    "duration": 229,
    "start_time": "2022-08-21T19:25:27.815Z"
   },
   {
    "duration": 10,
    "start_time": "2022-08-21T19:25:28.046Z"
   },
   {
    "duration": 369,
    "start_time": "2022-08-21T19:25:28.057Z"
   },
   {
    "duration": 245,
    "start_time": "2022-08-21T19:25:28.428Z"
   },
   {
    "duration": 548,
    "start_time": "2022-08-21T19:25:28.674Z"
   },
   {
    "duration": 2032,
    "start_time": "2022-08-21T19:25:29.223Z"
   },
   {
    "duration": 197,
    "start_time": "2022-08-21T19:25:31.257Z"
   },
   {
    "duration": 383,
    "start_time": "2022-08-21T19:25:31.456Z"
   },
   {
    "duration": 41,
    "start_time": "2022-08-21T19:25:31.840Z"
   },
   {
    "duration": 48,
    "start_time": "2022-08-21T19:25:31.882Z"
   },
   {
    "duration": 191,
    "start_time": "2022-08-21T19:25:31.932Z"
   },
   {
    "duration": 25,
    "start_time": "2022-08-21T19:25:32.125Z"
   },
   {
    "duration": 169,
    "start_time": "2022-08-21T19:25:32.154Z"
   },
   {
    "duration": 153,
    "start_time": "2022-08-21T19:25:32.325Z"
   },
   {
    "duration": 460,
    "start_time": "2022-08-21T19:25:32.479Z"
   },
   {
    "duration": 27,
    "start_time": "2022-08-21T19:25:32.941Z"
   },
   {
    "duration": 1387,
    "start_time": "2022-08-21T19:25:32.969Z"
   },
   {
    "duration": 1346,
    "start_time": "2022-08-21T19:27:28.121Z"
   },
   {
    "duration": 18,
    "start_time": "2022-08-21T19:27:49.626Z"
   },
   {
    "duration": 5,
    "start_time": "2022-08-21T19:28:17.760Z"
   },
   {
    "duration": 1081,
    "start_time": "2022-08-21T19:28:49.449Z"
   },
   {
    "duration": 125,
    "start_time": "2022-08-21T19:28:50.532Z"
   },
   {
    "duration": 2103,
    "start_time": "2022-08-21T19:28:50.661Z"
   },
   {
    "duration": 17,
    "start_time": "2022-08-21T19:28:52.766Z"
   },
   {
    "duration": 6,
    "start_time": "2022-08-21T19:28:52.785Z"
   },
   {
    "duration": 12,
    "start_time": "2022-08-21T19:28:52.792Z"
   },
   {
    "duration": 22,
    "start_time": "2022-08-21T19:28:52.809Z"
   },
   {
    "duration": 22,
    "start_time": "2022-08-21T19:28:52.833Z"
   },
   {
    "duration": 10,
    "start_time": "2022-08-21T19:28:52.858Z"
   },
   {
    "duration": 15,
    "start_time": "2022-08-21T19:28:52.869Z"
   },
   {
    "duration": 42,
    "start_time": "2022-08-21T19:28:52.885Z"
   },
   {
    "duration": 241,
    "start_time": "2022-08-21T19:28:52.928Z"
   },
   {
    "duration": 300,
    "start_time": "2022-08-21T19:28:53.170Z"
   },
   {
    "duration": 37,
    "start_time": "2022-08-21T19:28:53.472Z"
   },
   {
    "duration": 1043,
    "start_time": "2022-08-21T19:28:53.510Z"
   },
   {
    "duration": 241,
    "start_time": "2022-08-21T19:28:54.554Z"
   },
   {
    "duration": 29,
    "start_time": "2022-08-21T19:28:54.796Z"
   },
   {
    "duration": 373,
    "start_time": "2022-08-21T19:28:54.828Z"
   },
   {
    "duration": 257,
    "start_time": "2022-08-21T19:28:55.205Z"
   },
   {
    "duration": 539,
    "start_time": "2022-08-21T19:28:55.463Z"
   },
   {
    "duration": 2121,
    "start_time": "2022-08-21T19:28:56.005Z"
   },
   {
    "duration": 197,
    "start_time": "2022-08-21T19:28:58.127Z"
   },
   {
    "duration": 365,
    "start_time": "2022-08-21T19:28:58.325Z"
   },
   {
    "duration": 51,
    "start_time": "2022-08-21T19:28:58.692Z"
   },
   {
    "duration": 27,
    "start_time": "2022-08-21T19:28:58.744Z"
   },
   {
    "duration": 174,
    "start_time": "2022-08-21T19:28:58.772Z"
   },
   {
    "duration": 23,
    "start_time": "2022-08-21T19:28:58.949Z"
   },
   {
    "duration": 155,
    "start_time": "2022-08-21T19:28:58.974Z"
   },
   {
    "duration": 128,
    "start_time": "2022-08-21T19:28:59.130Z"
   },
   {
    "duration": 402,
    "start_time": "2022-08-21T19:28:59.259Z"
   },
   {
    "duration": 24,
    "start_time": "2022-08-21T19:28:59.663Z"
   },
   {
    "duration": 6,
    "start_time": "2022-08-21T19:28:59.688Z"
   },
   {
    "duration": 21,
    "start_time": "2022-08-21T19:29:03.866Z"
   },
   {
    "duration": 24,
    "start_time": "2022-08-21T19:30:09.176Z"
   },
   {
    "duration": 23,
    "start_time": "2022-08-21T19:30:21.317Z"
   },
   {
    "duration": 30,
    "start_time": "2022-08-21T19:31:07.107Z"
   },
   {
    "duration": 27,
    "start_time": "2022-08-21T19:33:56.635Z"
   },
   {
    "duration": 817,
    "start_time": "2022-08-21T19:34:32.706Z"
   },
   {
    "duration": 200,
    "start_time": "2022-08-21T19:40:36.964Z"
   },
   {
    "duration": 126,
    "start_time": "2022-08-21T19:40:46.769Z"
   },
   {
    "duration": 27,
    "start_time": "2022-08-21T19:42:12.430Z"
   },
   {
    "duration": 48,
    "start_time": "2022-08-21T19:42:17.098Z"
   },
   {
    "duration": 46,
    "start_time": "2022-08-21T19:44:05.968Z"
   },
   {
    "duration": 53,
    "start_time": "2022-08-21T19:44:22.621Z"
   },
   {
    "duration": 1134,
    "start_time": "2022-08-21T19:48:38.061Z"
   },
   {
    "duration": 165,
    "start_time": "2022-08-21T19:48:39.197Z"
   },
   {
    "duration": 2227,
    "start_time": "2022-08-21T19:48:39.365Z"
   },
   {
    "duration": 30,
    "start_time": "2022-08-21T19:48:41.595Z"
   },
   {
    "duration": 6,
    "start_time": "2022-08-21T19:48:41.626Z"
   },
   {
    "duration": 9,
    "start_time": "2022-08-21T19:48:41.634Z"
   },
   {
    "duration": 9,
    "start_time": "2022-08-21T19:48:41.644Z"
   },
   {
    "duration": 24,
    "start_time": "2022-08-21T19:48:41.654Z"
   },
   {
    "duration": 12,
    "start_time": "2022-08-21T19:48:41.679Z"
   },
   {
    "duration": 31,
    "start_time": "2022-08-21T19:48:41.693Z"
   },
   {
    "duration": 24,
    "start_time": "2022-08-21T19:48:41.726Z"
   },
   {
    "duration": 266,
    "start_time": "2022-08-21T19:48:41.751Z"
   },
   {
    "duration": 304,
    "start_time": "2022-08-21T19:48:42.018Z"
   },
   {
    "duration": 24,
    "start_time": "2022-08-21T19:48:42.324Z"
   },
   {
    "duration": 1027,
    "start_time": "2022-08-21T19:48:42.349Z"
   },
   {
    "duration": 245,
    "start_time": "2022-08-21T19:48:43.378Z"
   },
   {
    "duration": 7,
    "start_time": "2022-08-21T19:48:43.625Z"
   },
   {
    "duration": 386,
    "start_time": "2022-08-21T19:48:43.634Z"
   },
   {
    "duration": 255,
    "start_time": "2022-08-21T19:48:44.022Z"
   },
   {
    "duration": 560,
    "start_time": "2022-08-21T19:48:44.279Z"
   },
   {
    "duration": 2137,
    "start_time": "2022-08-21T19:48:44.841Z"
   },
   {
    "duration": 210,
    "start_time": "2022-08-21T19:48:46.979Z"
   },
   {
    "duration": 383,
    "start_time": "2022-08-21T19:48:47.190Z"
   },
   {
    "duration": 63,
    "start_time": "2022-08-21T19:48:47.574Z"
   },
   {
    "duration": 31,
    "start_time": "2022-08-21T19:48:47.639Z"
   },
   {
    "duration": 180,
    "start_time": "2022-08-21T19:48:47.671Z"
   },
   {
    "duration": 25,
    "start_time": "2022-08-21T19:48:47.852Z"
   },
   {
    "duration": 158,
    "start_time": "2022-08-21T19:48:47.880Z"
   },
   {
    "duration": 142,
    "start_time": "2022-08-21T19:48:48.039Z"
   },
   {
    "duration": 418,
    "start_time": "2022-08-21T19:48:48.183Z"
   },
   {
    "duration": 34,
    "start_time": "2022-08-21T19:48:48.603Z"
   },
   {
    "duration": 28,
    "start_time": "2022-08-21T19:48:48.639Z"
   },
   {
    "duration": 124,
    "start_time": "2022-08-21T19:48:48.669Z"
   },
   {
    "duration": 12,
    "start_time": "2022-08-21T19:50:25.765Z"
   },
   {
    "duration": 24,
    "start_time": "2022-08-21T19:50:53.755Z"
   },
   {
    "duration": 38,
    "start_time": "2022-08-21T19:51:38.347Z"
   },
   {
    "duration": 32,
    "start_time": "2022-08-21T19:52:09.903Z"
   },
   {
    "duration": 67,
    "start_time": "2022-08-21T19:54:40.157Z"
   },
   {
    "duration": 40,
    "start_time": "2022-08-21T19:55:17.746Z"
   },
   {
    "duration": 140,
    "start_time": "2022-08-21T19:55:26.858Z"
   },
   {
    "duration": 303,
    "start_time": "2022-08-21T19:55:56.168Z"
   },
   {
    "duration": 177,
    "start_time": "2022-08-21T19:56:18.498Z"
   },
   {
    "duration": 140,
    "start_time": "2022-08-21T19:56:25.324Z"
   },
   {
    "duration": 138,
    "start_time": "2022-08-21T19:56:34.729Z"
   },
   {
    "duration": 1153,
    "start_time": "2022-10-08T19:07:31.937Z"
   },
   {
    "duration": 346,
    "start_time": "2022-10-08T19:07:33.092Z"
   }
  ],
  "kernelspec": {
   "display_name": "Python 3 (ipykernel)",
   "language": "python",
   "name": "python3"
  },
  "language_info": {
   "codemirror_mode": {
    "name": "ipython",
    "version": 3
   },
   "file_extension": ".py",
   "mimetype": "text/x-python",
   "name": "python",
   "nbconvert_exporter": "python",
   "pygments_lexer": "ipython3",
   "version": "3.11.4"
  },
  "toc": {
   "base_numbering": 1,
   "nav_menu": {},
   "number_sections": true,
   "sideBar": true,
   "skip_h1_title": true,
   "title_cell": "Table of Contents",
   "title_sidebar": "Contents",
   "toc_cell": false,
   "toc_position": {},
   "toc_section_display": true,
   "toc_window_display": false
  }
 },
 "nbformat": 4,
 "nbformat_minor": 5
}
