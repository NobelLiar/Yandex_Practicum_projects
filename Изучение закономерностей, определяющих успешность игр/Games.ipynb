{
 "cells": [
  {
   "cell_type": "markdown",
   "id": "dc903c22",
   "metadata": {},
   "source": [
    "# Сборный проект"
   ]
  },
  {
   "cell_type": "markdown",
   "id": "d282b56b",
   "metadata": {},
   "source": [
    "Задача: выявить определяющие успешность игры закономерности. Для исследования предоставленны данные о продажах игр, оценки пользователей и экспертов, жанры и платформы."
   ]
  },
  {
   "cell_type": "markdown",
   "id": "8a46c9f8",
   "metadata": {},
   "source": [
    "# 1 Обзор данных"
   ]
  },
  {
   "cell_type": "code",
   "execution_count": 1,
   "id": "7fe49d2b",
   "metadata": {},
   "outputs": [],
   "source": [
    "import pandas as pd\n",
    "import matplotlib.pyplot as plt\n",
    "import seaborn as sns\n",
    "import numpy as np\n",
    "from scipy import stats as st"
   ]
  },
  {
   "cell_type": "code",
   "execution_count": 2,
   "id": "ac88c852",
   "metadata": {},
   "outputs": [
    {
     "data": {
      "text/html": [
       "<div>\n",
       "<style scoped>\n",
       "    .dataframe tbody tr th:only-of-type {\n",
       "        vertical-align: middle;\n",
       "    }\n",
       "\n",
       "    .dataframe tbody tr th {\n",
       "        vertical-align: top;\n",
       "    }\n",
       "\n",
       "    .dataframe thead th {\n",
       "        text-align: right;\n",
       "    }\n",
       "</style>\n",
       "<table border=\"1\" class=\"dataframe\">\n",
       "  <thead>\n",
       "    <tr style=\"text-align: right;\">\n",
       "      <th></th>\n",
       "      <th>Name</th>\n",
       "      <th>Platform</th>\n",
       "      <th>Year_of_Release</th>\n",
       "      <th>Genre</th>\n",
       "      <th>NA_sales</th>\n",
       "      <th>EU_sales</th>\n",
       "      <th>JP_sales</th>\n",
       "      <th>Other_sales</th>\n",
       "      <th>Critic_Score</th>\n",
       "      <th>User_Score</th>\n",
       "      <th>Rating</th>\n",
       "    </tr>\n",
       "  </thead>\n",
       "  <tbody>\n",
       "    <tr>\n",
       "      <th>0</th>\n",
       "      <td>Wii Sports</td>\n",
       "      <td>Wii</td>\n",
       "      <td>2006.0</td>\n",
       "      <td>Sports</td>\n",
       "      <td>41.36</td>\n",
       "      <td>28.96</td>\n",
       "      <td>3.77</td>\n",
       "      <td>8.45</td>\n",
       "      <td>76.0</td>\n",
       "      <td>8</td>\n",
       "      <td>E</td>\n",
       "    </tr>\n",
       "    <tr>\n",
       "      <th>1</th>\n",
       "      <td>Super Mario Bros.</td>\n",
       "      <td>NES</td>\n",
       "      <td>1985.0</td>\n",
       "      <td>Platform</td>\n",
       "      <td>29.08</td>\n",
       "      <td>3.58</td>\n",
       "      <td>6.81</td>\n",
       "      <td>0.77</td>\n",
       "      <td>NaN</td>\n",
       "      <td>NaN</td>\n",
       "      <td>NaN</td>\n",
       "    </tr>\n",
       "    <tr>\n",
       "      <th>2</th>\n",
       "      <td>Mario Kart Wii</td>\n",
       "      <td>Wii</td>\n",
       "      <td>2008.0</td>\n",
       "      <td>Racing</td>\n",
       "      <td>15.68</td>\n",
       "      <td>12.76</td>\n",
       "      <td>3.79</td>\n",
       "      <td>3.29</td>\n",
       "      <td>82.0</td>\n",
       "      <td>8.3</td>\n",
       "      <td>E</td>\n",
       "    </tr>\n",
       "    <tr>\n",
       "      <th>3</th>\n",
       "      <td>Wii Sports Resort</td>\n",
       "      <td>Wii</td>\n",
       "      <td>2009.0</td>\n",
       "      <td>Sports</td>\n",
       "      <td>15.61</td>\n",
       "      <td>10.93</td>\n",
       "      <td>3.28</td>\n",
       "      <td>2.95</td>\n",
       "      <td>80.0</td>\n",
       "      <td>8</td>\n",
       "      <td>E</td>\n",
       "    </tr>\n",
       "    <tr>\n",
       "      <th>4</th>\n",
       "      <td>Pokemon Red/Pokemon Blue</td>\n",
       "      <td>GB</td>\n",
       "      <td>1996.0</td>\n",
       "      <td>Role-Playing</td>\n",
       "      <td>11.27</td>\n",
       "      <td>8.89</td>\n",
       "      <td>10.22</td>\n",
       "      <td>1.00</td>\n",
       "      <td>NaN</td>\n",
       "      <td>NaN</td>\n",
       "      <td>NaN</td>\n",
       "    </tr>\n",
       "  </tbody>\n",
       "</table>\n",
       "</div>"
      ],
      "text/plain": [
       "                       Name Platform  Year_of_Release         Genre  NA_sales  \\\n",
       "0                Wii Sports      Wii           2006.0        Sports     41.36   \n",
       "1         Super Mario Bros.      NES           1985.0      Platform     29.08   \n",
       "2            Mario Kart Wii      Wii           2008.0        Racing     15.68   \n",
       "3         Wii Sports Resort      Wii           2009.0        Sports     15.61   \n",
       "4  Pokemon Red/Pokemon Blue       GB           1996.0  Role-Playing     11.27   \n",
       "\n",
       "   EU_sales  JP_sales  Other_sales  Critic_Score User_Score Rating  \n",
       "0     28.96      3.77         8.45          76.0          8      E  \n",
       "1      3.58      6.81         0.77           NaN        NaN    NaN  \n",
       "2     12.76      3.79         3.29          82.0        8.3      E  \n",
       "3     10.93      3.28         2.95          80.0          8      E  \n",
       "4      8.89     10.22         1.00           NaN        NaN    NaN  "
      ]
     },
     "metadata": {},
     "output_type": "display_data"
    }
   ],
   "source": [
    "df = pd.read_csv('games.csv')\n",
    "\n",
    "display(df.head())"
   ]
  },
  {
   "cell_type": "markdown",
   "id": "dbe8d32e",
   "metadata": {},
   "source": [
    "Приведём названия столбцов к нижнему регистру:"
   ]
  },
  {
   "cell_type": "code",
   "execution_count": 3,
   "id": "6f8b413d",
   "metadata": {
    "scrolled": true
   },
   "outputs": [
    {
     "data": {
      "text/html": [
       "<div>\n",
       "<style scoped>\n",
       "    .dataframe tbody tr th:only-of-type {\n",
       "        vertical-align: middle;\n",
       "    }\n",
       "\n",
       "    .dataframe tbody tr th {\n",
       "        vertical-align: top;\n",
       "    }\n",
       "\n",
       "    .dataframe thead th {\n",
       "        text-align: right;\n",
       "    }\n",
       "</style>\n",
       "<table border=\"1\" class=\"dataframe\">\n",
       "  <thead>\n",
       "    <tr style=\"text-align: right;\">\n",
       "      <th></th>\n",
       "      <th>name</th>\n",
       "      <th>platform</th>\n",
       "      <th>year_of_release</th>\n",
       "      <th>genre</th>\n",
       "      <th>na_sales</th>\n",
       "      <th>eu_sales</th>\n",
       "      <th>jp_sales</th>\n",
       "      <th>other_sales</th>\n",
       "      <th>critic_score</th>\n",
       "      <th>user_score</th>\n",
       "      <th>rating</th>\n",
       "    </tr>\n",
       "  </thead>\n",
       "  <tbody>\n",
       "    <tr>\n",
       "      <th>0</th>\n",
       "      <td>Wii Sports</td>\n",
       "      <td>Wii</td>\n",
       "      <td>2006.0</td>\n",
       "      <td>Sports</td>\n",
       "      <td>41.36</td>\n",
       "      <td>28.96</td>\n",
       "      <td>3.77</td>\n",
       "      <td>8.45</td>\n",
       "      <td>76.0</td>\n",
       "      <td>8</td>\n",
       "      <td>E</td>\n",
       "    </tr>\n",
       "    <tr>\n",
       "      <th>1</th>\n",
       "      <td>Super Mario Bros.</td>\n",
       "      <td>NES</td>\n",
       "      <td>1985.0</td>\n",
       "      <td>Platform</td>\n",
       "      <td>29.08</td>\n",
       "      <td>3.58</td>\n",
       "      <td>6.81</td>\n",
       "      <td>0.77</td>\n",
       "      <td>NaN</td>\n",
       "      <td>NaN</td>\n",
       "      <td>NaN</td>\n",
       "    </tr>\n",
       "    <tr>\n",
       "      <th>2</th>\n",
       "      <td>Mario Kart Wii</td>\n",
       "      <td>Wii</td>\n",
       "      <td>2008.0</td>\n",
       "      <td>Racing</td>\n",
       "      <td>15.68</td>\n",
       "      <td>12.76</td>\n",
       "      <td>3.79</td>\n",
       "      <td>3.29</td>\n",
       "      <td>82.0</td>\n",
       "      <td>8.3</td>\n",
       "      <td>E</td>\n",
       "    </tr>\n",
       "    <tr>\n",
       "      <th>3</th>\n",
       "      <td>Wii Sports Resort</td>\n",
       "      <td>Wii</td>\n",
       "      <td>2009.0</td>\n",
       "      <td>Sports</td>\n",
       "      <td>15.61</td>\n",
       "      <td>10.93</td>\n",
       "      <td>3.28</td>\n",
       "      <td>2.95</td>\n",
       "      <td>80.0</td>\n",
       "      <td>8</td>\n",
       "      <td>E</td>\n",
       "    </tr>\n",
       "    <tr>\n",
       "      <th>4</th>\n",
       "      <td>Pokemon Red/Pokemon Blue</td>\n",
       "      <td>GB</td>\n",
       "      <td>1996.0</td>\n",
       "      <td>Role-Playing</td>\n",
       "      <td>11.27</td>\n",
       "      <td>8.89</td>\n",
       "      <td>10.22</td>\n",
       "      <td>1.00</td>\n",
       "      <td>NaN</td>\n",
       "      <td>NaN</td>\n",
       "      <td>NaN</td>\n",
       "    </tr>\n",
       "  </tbody>\n",
       "</table>\n",
       "</div>"
      ],
      "text/plain": [
       "                       name platform  year_of_release         genre  na_sales  \\\n",
       "0                Wii Sports      Wii           2006.0        Sports     41.36   \n",
       "1         Super Mario Bros.      NES           1985.0      Platform     29.08   \n",
       "2            Mario Kart Wii      Wii           2008.0        Racing     15.68   \n",
       "3         Wii Sports Resort      Wii           2009.0        Sports     15.61   \n",
       "4  Pokemon Red/Pokemon Blue       GB           1996.0  Role-Playing     11.27   \n",
       "\n",
       "   eu_sales  jp_sales  other_sales  critic_score user_score rating  \n",
       "0     28.96      3.77         8.45          76.0          8      E  \n",
       "1      3.58      6.81         0.77           NaN        NaN    NaN  \n",
       "2     12.76      3.79         3.29          82.0        8.3      E  \n",
       "3     10.93      3.28         2.95          80.0          8      E  \n",
       "4      8.89     10.22         1.00           NaN        NaN    NaN  "
      ]
     },
     "metadata": {},
     "output_type": "display_data"
    }
   ],
   "source": [
    "df.columns = df.columns.str.lower()\n",
    "\n",
    "display(df.head())"
   ]
  },
  {
   "cell_type": "markdown",
   "id": "59ef7164",
   "metadata": {},
   "source": [
    "Согласно документации к данным:"
   ]
  },
  {
   "cell_type": "markdown",
   "id": "972926fa",
   "metadata": {},
   "source": [
    "* `name` — название игры;\n",
    "* `platform` — платформа;  \n",
    "* `year_of_release` — год выпуска;\n",
    "* `genre` — жанр игры;\n",
    "* `na_sales` — продажи в Северной Америке;\n",
    "* `eu_sales` — продажи в Европе;\n",
    "* `jp_sales` — продажи в Японии;\n",
    "* `other_sales` — продажи в других странах;\n",
    "* `critic_score` — оценка критиков (максимум 100);\n",
    "* `user_score` — оценка пользователей (максимум 10);\n",
    "* `rating` — рейтинг от организации ESRB (англ. Entertainment software Rating Board). Эта ассоциация определяет рейтинг компьютерных игр и присваивает им подходящую возрастную категорию."
   ]
  },
  {
   "cell_type": "markdown",
   "id": "58ba5dff",
   "metadata": {},
   "source": [
    "Проверим соответствие типов данных."
   ]
  },
  {
   "cell_type": "code",
   "execution_count": 4,
   "id": "a78abbb3",
   "metadata": {},
   "outputs": [
    {
     "name": "stdout",
     "output_type": "stream",
     "text": [
      "<class 'pandas.core.frame.DataFrame'>\n",
      "RangeIndex: 16715 entries, 0 to 16714\n",
      "Data columns (total 11 columns):\n",
      " #   Column           Non-Null Count  Dtype  \n",
      "---  ------           --------------  -----  \n",
      " 0   name             16713 non-null  object \n",
      " 1   platform         16715 non-null  object \n",
      " 2   year_of_release  16446 non-null  float64\n",
      " 3   genre            16713 non-null  object \n",
      " 4   na_sales         16715 non-null  float64\n",
      " 5   eu_sales         16715 non-null  float64\n",
      " 6   jp_sales         16715 non-null  float64\n",
      " 7   other_sales      16715 non-null  float64\n",
      " 8   critic_score     8137 non-null   float64\n",
      " 9   user_score       10014 non-null  object \n",
      " 10  rating           9949 non-null   object \n",
      "dtypes: float64(6), object(5)\n",
      "memory usage: 1.4+ MB\n"
     ]
    }
   ],
   "source": [
    "df.info()"
   ]
  },
  {
   "cell_type": "markdown",
   "id": "6666dc35",
   "metadata": {},
   "source": [
    "Столбец с оценками пользователей содержит числовые значения но имеет строковый тип, поменяем на соответствующий.\n",
    "Перед этим провери есть ли ошибочные данные в столбце."
   ]
  },
  {
   "cell_type": "code",
   "execution_count": 5,
   "id": "3379ddc3",
   "metadata": {},
   "outputs": [
    {
     "name": "stdout",
     "output_type": "stream",
     "text": [
      "Кол-во уникальных значений в столбце user_score:\n",
      " tbd    2424\n",
      "7.8     324\n",
      "8       290\n",
      "8.2     282\n",
      "8.3     254\n",
      "       ... \n",
      "1.1       2\n",
      "1.9       2\n",
      "9.6       2\n",
      "0         1\n",
      "9.7       1\n",
      "Name: user_score, Length: 96, dtype: int64\n"
     ]
    }
   ],
   "source": [
    "print('Кол-во уникальных значений в столбце user_score:\\n', df['user_score'].value_counts())"
   ]
  },
  {
   "cell_type": "markdown",
   "id": "3b07c409",
   "metadata": {},
   "source": [
    "Уберём из столбца строки с неверным значением."
   ]
  },
  {
   "cell_type": "code",
   "execution_count": 6,
   "id": "c60e5d4e",
   "metadata": {},
   "outputs": [
    {
     "name": "stdout",
     "output_type": "stream",
     "text": [
      "<class 'pandas.core.frame.DataFrame'>\n",
      "RangeIndex: 16715 entries, 0 to 16714\n",
      "Data columns (total 11 columns):\n",
      " #   Column           Non-Null Count  Dtype  \n",
      "---  ------           --------------  -----  \n",
      " 0   name             16713 non-null  object \n",
      " 1   platform         16715 non-null  object \n",
      " 2   year_of_release  16446 non-null  float64\n",
      " 3   genre            16713 non-null  object \n",
      " 4   na_sales         16715 non-null  float64\n",
      " 5   eu_sales         16715 non-null  float64\n",
      " 6   jp_sales         16715 non-null  float64\n",
      " 7   other_sales      16715 non-null  float64\n",
      " 8   critic_score     8137 non-null   float64\n",
      " 9   user_score       7590 non-null   float32\n",
      " 10  rating           9949 non-null   object \n",
      "dtypes: float32(1), float64(6), object(4)\n",
      "memory usage: 1.3+ MB\n",
      "\n",
      "Кол-во пропущенных значений:\n",
      "9125\n",
      "Кол-во пропущенных значений после заполнения средним:\n",
      "0\n"
     ]
    }
   ],
   "source": [
    "df = df.replace('tbd', np.nan) \n",
    "\n",
    "df['user_score'] = df['user_score'].astype('float32')\n",
    "df.info() #проверям замену типа столбца\n",
    "print()\n",
    "\n",
    "print('Кол-во пропущенных значений:')\n",
    "print(df['user_score'].isna().sum())\n",
    "\n",
    "df['user_score'] = df['user_score'].fillna(df['user_score'].mean())\n",
    "\n",
    "print('Кол-во пропущенных значений после заполнения средним:')\n",
    "print(df['user_score'].isna().sum())\n"
   ]
  },
  {
   "cell_type": "markdown",
   "id": "7ef87ad2",
   "metadata": {},
   "source": [
    "В столбце год выпучка игры находятс целочисленные данные изменим тип данных на корректные, перед этим проверим на наличие пропусков."
   ]
  },
  {
   "cell_type": "code",
   "execution_count": 7,
   "id": "a715ce07",
   "metadata": {},
   "outputs": [
    {
     "name": "stdout",
     "output_type": "stream",
     "text": [
      "Кол-во пропущенных строк в столбце year_of_release:\n",
      " 269\n",
      "269\n"
     ]
    }
   ],
   "source": [
    "print('Кол-во пропущенных строк в столбце year_of_release:\\n', df['year_of_release'].isna().sum())\n",
    "\n",
    "print(df['year_of_release'].isna().sum())"
   ]
  },
  {
   "cell_type": "markdown",
   "id": "995647d2",
   "metadata": {},
   "source": [
    "Так как кол-во пропущенных значений в разы меньше заполненых данных, заменим их на минимальное значение столбца."
   ]
  },
  {
   "cell_type": "code",
   "execution_count": 8,
   "id": "1a203843",
   "metadata": {},
   "outputs": [
    {
     "name": "stdout",
     "output_type": "stream",
     "text": [
      "0\n"
     ]
    }
   ],
   "source": [
    "df['year_of_release'] = df['year_of_release'].fillna(df['year_of_release'].min())\n",
    "\n",
    "print(df['year_of_release'].isna().sum())"
   ]
  },
  {
   "cell_type": "markdown",
   "id": "ac360f19",
   "metadata": {},
   "source": [
    "Исправим тип данных в столбце год выпуска на целочисленный."
   ]
  },
  {
   "cell_type": "code",
   "execution_count": 9,
   "id": "da63f62b",
   "metadata": {},
   "outputs": [
    {
     "name": "stdout",
     "output_type": "stream",
     "text": [
      "<class 'pandas.core.frame.DataFrame'>\n",
      "RangeIndex: 16715 entries, 0 to 16714\n",
      "Data columns (total 11 columns):\n",
      " #   Column           Non-Null Count  Dtype  \n",
      "---  ------           --------------  -----  \n",
      " 0   name             16713 non-null  object \n",
      " 1   platform         16715 non-null  object \n",
      " 2   year_of_release  16715 non-null  int32  \n",
      " 3   genre            16713 non-null  object \n",
      " 4   na_sales         16715 non-null  float64\n",
      " 5   eu_sales         16715 non-null  float64\n",
      " 6   jp_sales         16715 non-null  float64\n",
      " 7   other_sales      16715 non-null  float64\n",
      " 8   critic_score     8137 non-null   float64\n",
      " 9   user_score       16715 non-null  float32\n",
      " 10  rating           9949 non-null   object \n",
      "dtypes: float32(1), float64(5), int32(1), object(4)\n",
      "memory usage: 1.3+ MB\n"
     ]
    },
    {
     "data": {
      "text/html": [
       "<div>\n",
       "<style scoped>\n",
       "    .dataframe tbody tr th:only-of-type {\n",
       "        vertical-align: middle;\n",
       "    }\n",
       "\n",
       "    .dataframe tbody tr th {\n",
       "        vertical-align: top;\n",
       "    }\n",
       "\n",
       "    .dataframe thead th {\n",
       "        text-align: right;\n",
       "    }\n",
       "</style>\n",
       "<table border=\"1\" class=\"dataframe\">\n",
       "  <thead>\n",
       "    <tr style=\"text-align: right;\">\n",
       "      <th></th>\n",
       "      <th>name</th>\n",
       "      <th>platform</th>\n",
       "      <th>year_of_release</th>\n",
       "      <th>genre</th>\n",
       "      <th>na_sales</th>\n",
       "      <th>eu_sales</th>\n",
       "      <th>jp_sales</th>\n",
       "      <th>other_sales</th>\n",
       "      <th>critic_score</th>\n",
       "      <th>user_score</th>\n",
       "      <th>rating</th>\n",
       "    </tr>\n",
       "  </thead>\n",
       "  <tbody>\n",
       "    <tr>\n",
       "      <th>0</th>\n",
       "      <td>Wii Sports</td>\n",
       "      <td>Wii</td>\n",
       "      <td>2006</td>\n",
       "      <td>Sports</td>\n",
       "      <td>41.36</td>\n",
       "      <td>28.96</td>\n",
       "      <td>3.77</td>\n",
       "      <td>8.45</td>\n",
       "      <td>76.0</td>\n",
       "      <td>8.000000</td>\n",
       "      <td>E</td>\n",
       "    </tr>\n",
       "    <tr>\n",
       "      <th>1</th>\n",
       "      <td>Super Mario Bros.</td>\n",
       "      <td>NES</td>\n",
       "      <td>1985</td>\n",
       "      <td>Platform</td>\n",
       "      <td>29.08</td>\n",
       "      <td>3.58</td>\n",
       "      <td>6.81</td>\n",
       "      <td>0.77</td>\n",
       "      <td>NaN</td>\n",
       "      <td>7.125076</td>\n",
       "      <td>NaN</td>\n",
       "    </tr>\n",
       "    <tr>\n",
       "      <th>2</th>\n",
       "      <td>Mario Kart Wii</td>\n",
       "      <td>Wii</td>\n",
       "      <td>2008</td>\n",
       "      <td>Racing</td>\n",
       "      <td>15.68</td>\n",
       "      <td>12.76</td>\n",
       "      <td>3.79</td>\n",
       "      <td>3.29</td>\n",
       "      <td>82.0</td>\n",
       "      <td>8.300000</td>\n",
       "      <td>E</td>\n",
       "    </tr>\n",
       "    <tr>\n",
       "      <th>3</th>\n",
       "      <td>Wii Sports Resort</td>\n",
       "      <td>Wii</td>\n",
       "      <td>2009</td>\n",
       "      <td>Sports</td>\n",
       "      <td>15.61</td>\n",
       "      <td>10.93</td>\n",
       "      <td>3.28</td>\n",
       "      <td>2.95</td>\n",
       "      <td>80.0</td>\n",
       "      <td>8.000000</td>\n",
       "      <td>E</td>\n",
       "    </tr>\n",
       "    <tr>\n",
       "      <th>4</th>\n",
       "      <td>Pokemon Red/Pokemon Blue</td>\n",
       "      <td>GB</td>\n",
       "      <td>1996</td>\n",
       "      <td>Role-Playing</td>\n",
       "      <td>11.27</td>\n",
       "      <td>8.89</td>\n",
       "      <td>10.22</td>\n",
       "      <td>1.00</td>\n",
       "      <td>NaN</td>\n",
       "      <td>7.125076</td>\n",
       "      <td>NaN</td>\n",
       "    </tr>\n",
       "  </tbody>\n",
       "</table>\n",
       "</div>"
      ],
      "text/plain": [
       "                       name platform  year_of_release         genre  na_sales  \\\n",
       "0                Wii Sports      Wii             2006        Sports     41.36   \n",
       "1         Super Mario Bros.      NES             1985      Platform     29.08   \n",
       "2            Mario Kart Wii      Wii             2008        Racing     15.68   \n",
       "3         Wii Sports Resort      Wii             2009        Sports     15.61   \n",
       "4  Pokemon Red/Pokemon Blue       GB             1996  Role-Playing     11.27   \n",
       "\n",
       "   eu_sales  jp_sales  other_sales  critic_score  user_score rating  \n",
       "0     28.96      3.77         8.45          76.0    8.000000      E  \n",
       "1      3.58      6.81         0.77           NaN    7.125076    NaN  \n",
       "2     12.76      3.79         3.29          82.0    8.300000      E  \n",
       "3     10.93      3.28         2.95          80.0    8.000000      E  \n",
       "4      8.89     10.22         1.00           NaN    7.125076    NaN  "
      ]
     },
     "metadata": {},
     "output_type": "display_data"
    }
   ],
   "source": [
    "df['year_of_release'] = df['year_of_release'].astype('int')\n",
    "\n",
    "df.info()\n",
    "\n",
    "display(df.head())"
   ]
  },
  {
   "cell_type": "markdown",
   "id": "1383538d",
   "metadata": {},
   "source": [
    "Проверим кол-во пропущенных значений в столбцах critic_score, user_score, rating."
   ]
  },
  {
   "cell_type": "code",
   "execution_count": 10,
   "id": "399108b7",
   "metadata": {},
   "outputs": [
    {
     "name": "stdout",
     "output_type": "stream",
     "text": [
      "critic_score: 8578\n",
      "user_score: 0\n",
      "rating 6766\n"
     ]
    }
   ],
   "source": [
    "print('critic_score:', df['critic_score'].isnull().sum())\n",
    "print('user_score:', df['user_score'].isnull().sum())\n",
    "print('rating', df['rating'].isnull().sum())"
   ]
  },
  {
   "cell_type": "markdown",
   "id": "a4ae81a4",
   "metadata": {},
   "source": [
    "Столбцы в которых хранятся оценки критиков и пользователей можно заполнить средними значениями в этих столбцах."
   ]
  },
  {
   "cell_type": "code",
   "execution_count": 11,
   "id": "cb2df0c8",
   "metadata": {},
   "outputs": [
    {
     "name": "stdout",
     "output_type": "stream",
     "text": [
      "<class 'pandas.core.frame.DataFrame'>\n",
      "RangeIndex: 16715 entries, 0 to 16714\n",
      "Data columns (total 11 columns):\n",
      " #   Column           Non-Null Count  Dtype  \n",
      "---  ------           --------------  -----  \n",
      " 0   name             16713 non-null  object \n",
      " 1   platform         16715 non-null  object \n",
      " 2   year_of_release  16715 non-null  int32  \n",
      " 3   genre            16713 non-null  object \n",
      " 4   na_sales         16715 non-null  float64\n",
      " 5   eu_sales         16715 non-null  float64\n",
      " 6   jp_sales         16715 non-null  float64\n",
      " 7   other_sales      16715 non-null  float64\n",
      " 8   critic_score     16715 non-null  float64\n",
      " 9   user_score       16715 non-null  float32\n",
      " 10  rating           16715 non-null  object \n",
      "dtypes: float32(1), float64(5), int32(1), object(4)\n",
      "memory usage: 1.3+ MB\n"
     ]
    }
   ],
   "source": [
    "df['critic_score'] = df['critic_score'].fillna(df['critic_score'].mean())\n",
    "\n",
    "df['user_score'] = df['user_score'].fillna(df['user_score'].mean())\n",
    "\n",
    "df['rating'] = df['rating'].fillna('unrated')\n",
    "\n",
    "df.info()"
   ]
  },
  {
   "cell_type": "markdown",
   "id": "11b106d8",
   "metadata": {},
   "source": [
    "Заполнил пропуски в столбце rating специальным значением для дальнейшего анализа."
   ]
  },
  {
   "cell_type": "markdown",
   "id": "363d4656",
   "metadata": {},
   "source": [
    "## 1.1 Продажи в регионах"
   ]
  },
  {
   "cell_type": "markdown",
   "id": "f16f4ae0",
   "metadata": {},
   "source": [
    "Суммируем продвжи во всех регионах."
   ]
  },
  {
   "cell_type": "code",
   "execution_count": 12,
   "id": "d46d770f",
   "metadata": {},
   "outputs": [
    {
     "name": "stdout",
     "output_type": "stream",
     "text": [
      "Северная Америка: 4402.35\n",
      "Европа: 2424.67\n",
      "Япония: 1297.37\n"
     ]
    }
   ],
   "source": [
    "print('Северная Америка:', df['na_sales'].sum())\n",
    "print('Европа:', df['eu_sales'].sum())\n",
    "print('Япония:', df['jp_sales'].sum())"
   ]
  },
  {
   "cell_type": "markdown",
   "id": "5e6510d5",
   "metadata": {},
   "source": [
    "Можно сделать вывод что больше проданных копий игр в Америке, меньше всего в Японии."
   ]
  },
  {
   "cell_type": "markdown",
   "id": "e1a15cab",
   "metadata": {},
   "source": [
    "# 2 Исследовательский анализ"
   ]
  },
  {
   "cell_type": "markdown",
   "id": "75b697d6",
   "metadata": {},
   "source": [
    "Изучим сколько игр выпускалось в разные годы, для этого построим гистограмму."
   ]
  },
  {
   "cell_type": "code",
   "execution_count": 13,
   "id": "65623045",
   "metadata": {},
   "outputs": [
    {
     "data": {
      "image/png": "[encoded data removed]",
      "text/plain": [
       "<Figure size 432x288 with 1 Axes>"
      ]
     },
     "metadata": {
      "needs_background": "light"
     },
     "output_type": "display_data"
    }
   ],
   "source": [
    "pd.Series(df['year_of_release']).plot(kind = 'hist', bins = 100)\n",
    "plt.xlabel(\"Years\")\n",
    "plt.ylabel(\"Games\")\n",
    "plt.title('Сколько игр было выпущенно в разные года')\n",
    "plt.show()"
   ]
  },
  {
   "cell_type": "markdown",
   "id": "e58cecab",
   "metadata": {},
   "source": [
    "Исходя из полученного графика можно сделать вывод, что для дальнейшего исследования следует использовать не все данные, так как кол-во выпускаемых игр сильно менялось на протяжении нескольких десятков лет и только начиная с 200 годов начался равномерный рост. Я считаю, что данные до 2000 года можно не использовать, так как они могут оказать большое влияние на результат исследования."
   ]
  },
  {
   "cell_type": "markdown",
   "id": "a77f6a78",
   "metadata": {},
   "source": [
    "## 2.1 Как менялись продажи по платформам"
   ]
  },
  {
   "cell_type": "markdown",
   "id": "2b4ca28b",
   "metadata": {},
   "source": [
    "Выберем платформы с наибольшими суммарными продажами и построим распределение по годам."
   ]
  },
  {
   "cell_type": "code",
   "execution_count": 14,
   "id": "72709589",
   "metadata": {},
   "outputs": [
    {
     "data": {
      "text/html": [
       "<div>\n",
       "<style scoped>\n",
       "    .dataframe tbody tr th:only-of-type {\n",
       "        vertical-align: middle;\n",
       "    }\n",
       "\n",
       "    .dataframe tbody tr th {\n",
       "        vertical-align: top;\n",
       "    }\n",
       "\n",
       "    .dataframe thead th {\n",
       "        text-align: right;\n",
       "    }\n",
       "</style>\n",
       "<table border=\"1\" class=\"dataframe\">\n",
       "  <thead>\n",
       "    <tr style=\"text-align: right;\">\n",
       "      <th></th>\n",
       "      <th>name</th>\n",
       "      <th>platform</th>\n",
       "      <th>year_of_release</th>\n",
       "      <th>genre</th>\n",
       "      <th>na_sales</th>\n",
       "      <th>eu_sales</th>\n",
       "      <th>jp_sales</th>\n",
       "      <th>other_sales</th>\n",
       "      <th>critic_score</th>\n",
       "      <th>user_score</th>\n",
       "      <th>rating</th>\n",
       "      <th>sales_all</th>\n",
       "    </tr>\n",
       "  </thead>\n",
       "  <tbody>\n",
       "    <tr>\n",
       "      <th>0</th>\n",
       "      <td>Wii Sports</td>\n",
       "      <td>Wii</td>\n",
       "      <td>2006</td>\n",
       "      <td>Sports</td>\n",
       "      <td>41.36</td>\n",
       "      <td>28.96</td>\n",
       "      <td>3.77</td>\n",
       "      <td>8.45</td>\n",
       "      <td>76.000000</td>\n",
       "      <td>8.000000</td>\n",
       "      <td>E</td>\n",
       "      <td>82.54</td>\n",
       "    </tr>\n",
       "    <tr>\n",
       "      <th>1</th>\n",
       "      <td>Super Mario Bros.</td>\n",
       "      <td>NES</td>\n",
       "      <td>1985</td>\n",
       "      <td>Platform</td>\n",
       "      <td>29.08</td>\n",
       "      <td>3.58</td>\n",
       "      <td>6.81</td>\n",
       "      <td>0.77</td>\n",
       "      <td>68.967679</td>\n",
       "      <td>7.125076</td>\n",
       "      <td>unrated</td>\n",
       "      <td>40.24</td>\n",
       "    </tr>\n",
       "    <tr>\n",
       "      <th>2</th>\n",
       "      <td>Mario Kart Wii</td>\n",
       "      <td>Wii</td>\n",
       "      <td>2008</td>\n",
       "      <td>Racing</td>\n",
       "      <td>15.68</td>\n",
       "      <td>12.76</td>\n",
       "      <td>3.79</td>\n",
       "      <td>3.29</td>\n",
       "      <td>82.000000</td>\n",
       "      <td>8.300000</td>\n",
       "      <td>E</td>\n",
       "      <td>35.52</td>\n",
       "    </tr>\n",
       "    <tr>\n",
       "      <th>3</th>\n",
       "      <td>Wii Sports Resort</td>\n",
       "      <td>Wii</td>\n",
       "      <td>2009</td>\n",
       "      <td>Sports</td>\n",
       "      <td>15.61</td>\n",
       "      <td>10.93</td>\n",
       "      <td>3.28</td>\n",
       "      <td>2.95</td>\n",
       "      <td>80.000000</td>\n",
       "      <td>8.000000</td>\n",
       "      <td>E</td>\n",
       "      <td>32.77</td>\n",
       "    </tr>\n",
       "    <tr>\n",
       "      <th>4</th>\n",
       "      <td>Pokemon Red/Pokemon Blue</td>\n",
       "      <td>GB</td>\n",
       "      <td>1996</td>\n",
       "      <td>Role-Playing</td>\n",
       "      <td>11.27</td>\n",
       "      <td>8.89</td>\n",
       "      <td>10.22</td>\n",
       "      <td>1.00</td>\n",
       "      <td>68.967679</td>\n",
       "      <td>7.125076</td>\n",
       "      <td>unrated</td>\n",
       "      <td>31.38</td>\n",
       "    </tr>\n",
       "  </tbody>\n",
       "</table>\n",
       "</div>"
      ],
      "text/plain": [
       "                       name platform  year_of_release         genre  na_sales  \\\n",
       "0                Wii Sports      Wii             2006        Sports     41.36   \n",
       "1         Super Mario Bros.      NES             1985      Platform     29.08   \n",
       "2            Mario Kart Wii      Wii             2008        Racing     15.68   \n",
       "3         Wii Sports Resort      Wii             2009        Sports     15.61   \n",
       "4  Pokemon Red/Pokemon Blue       GB             1996  Role-Playing     11.27   \n",
       "\n",
       "   eu_sales  jp_sales  other_sales  critic_score  user_score   rating  \\\n",
       "0     28.96      3.77         8.45     76.000000    8.000000        E   \n",
       "1      3.58      6.81         0.77     68.967679    7.125076  unrated   \n",
       "2     12.76      3.79         3.29     82.000000    8.300000        E   \n",
       "3     10.93      3.28         2.95     80.000000    8.000000        E   \n",
       "4      8.89     10.22         1.00     68.967679    7.125076  unrated   \n",
       "\n",
       "   sales_all  \n",
       "0      82.54  \n",
       "1      40.24  \n",
       "2      35.52  \n",
       "3      32.77  \n",
       "4      31.38  "
      ]
     },
     "metadata": {},
     "output_type": "display_data"
    },
    {
     "data": {
      "text/plain": [
       "platform\n",
       "PS2     1255.77\n",
       "X360     971.42\n",
       "PS3      939.65\n",
       "Wii      907.51\n",
       "DS       806.12\n",
       "PS       730.86\n",
       "GBA      317.85\n",
       "PS4      314.14\n",
       "PSP      294.05\n",
       "PC       259.52\n",
       "3DS      259.00\n",
       "XB       257.74\n",
       "GB       255.46\n",
       "NES      251.05\n",
       "N64      218.68\n",
       "SNES     200.04\n",
       "GC       198.93\n",
       "XOne     159.32\n",
       "2600      96.98\n",
       "WiiU      82.19\n",
       "PSV       54.07\n",
       "SAT       33.59\n",
       "GEN       30.77\n",
       "DC        15.95\n",
       "SCD        1.86\n",
       "NG         1.44\n",
       "WS         1.42\n",
       "TG16       0.16\n",
       "3DO        0.10\n",
       "GG         0.04\n",
       "PCFX       0.03\n",
       "Name: sales_all, dtype: float64"
      ]
     },
     "metadata": {},
     "output_type": "display_data"
    }
   ],
   "source": [
    "df_two = df.copy()\n",
    "\n",
    "df_two['sales_all'] = df_two['na_sales'] + df_two['eu_sales'] + df_two['jp_sales'] + df_two['other_sales']\n",
    "\n",
    "display(df_two.head())\n",
    "\n",
    "display(df_two.groupby('platform')['sales_all'].sum().sort_values(ascending = False))"
   ]
  },
  {
   "cell_type": "code",
   "execution_count": 15,
   "id": "63bbd90b",
   "metadata": {},
   "outputs": [
    {
     "data": {
      "image/png": "[encoded data removed]",
      "text/plain": [
       "<Figure size 720x576 with 1 Axes>"
      ]
     },
     "metadata": {
      "needs_background": "light"
     },
     "output_type": "display_data"
    }
   ],
   "source": [
    "ps2_sales_years = df_two.loc[df['platform'] == 'PS2'].sort_values('year_of_release')\n",
    "ps2_sales_years_two = ps2_sales_years.pivot_table(index = ['year_of_release'], values = ['sales_all'], aggfunc = 'sum')\n",
    "\n",
    "x360_sales_years = df_two.loc[df['platform'] == 'X360'].sort_values('year_of_release')\n",
    "x360_sales_years_two = x360_sales_years.pivot_table(index = ['year_of_release'], values = ['sales_all'], aggfunc = 'sum')\n",
    "\n",
    "ps3_sales_years = df_two.loc[df['platform'] == 'PS3'].sort_values('year_of_release')\n",
    "ps3_sales_years_two = ps3_sales_years.pivot_table(index = ['year_of_release'], values = ['sales_all'], aggfunc = 'sum')\n",
    "\n",
    "wii_sales_years = df_two.loc[df['platform'] == 'Wii'].sort_values('year_of_release')\n",
    "wii_sales_years_two = wii_sales_years.pivot_table(index = ['year_of_release'], values = ['sales_all'], aggfunc = 'sum')\n",
    "\n",
    "ps_sales_years = df_two.loc[df['platform'] == 'PS'].sort_values('year_of_release')\n",
    "ps_sales_years_two = ps_sales_years.pivot_table(index = ['year_of_release'], values = ['sales_all'], aggfunc = 'sum')\n",
    "\n",
    "\n",
    "plt.figure(figsize = (10,8))\n",
    "plt.plot(ps2_sales_years_two, label = \"Продажи PS2\")\n",
    "plt.plot(x360_sales_years_two, label = \"Продажи X360\")\n",
    "plt.plot(ps3_sales_years_two, label = \"Продажи PS3\")\n",
    "plt.plot(wii_sales_years_two, label = \"Продажи Wii\")\n",
    "plt.plot(ps_sales_years_two, label = \"Продажи PS\")\n",
    "plt.legend()\n",
    "plt.grid()\n",
    "plt.show()"
   ]
  },
  {
   "cell_type": "markdown",
   "id": "ca09bd0b",
   "metadata": {},
   "source": [
    "На получившемся графике можно заметить закономерность, что в среднем одна консоль существует на рынке от 5 до 10 лет, после этого времени её продажи снижаются к минимальным значениям."
   ]
  },
  {
   "cell_type": "markdown",
   "id": "f5879fb8",
   "metadata": {},
   "source": [
    "## 2.2 Выбор данных за соответствующий актуальный период для аналиа"
   ]
  },
  {
   "cell_type": "markdown",
   "id": "ea755de6",
   "metadata": {},
   "source": [
    " Чтобы построить прогноз на 2017 год, следует взть данные за последние 3 года продаж игровых консолей (с 2014 по 2016)."
   ]
  },
  {
   "cell_type": "code",
   "execution_count": 16,
   "id": "57d7e2ca",
   "metadata": {},
   "outputs": [
    {
     "data": {
      "text/html": [
       "<div>\n",
       "<style scoped>\n",
       "    .dataframe tbody tr th:only-of-type {\n",
       "        vertical-align: middle;\n",
       "    }\n",
       "\n",
       "    .dataframe tbody tr th {\n",
       "        vertical-align: top;\n",
       "    }\n",
       "\n",
       "    .dataframe thead th {\n",
       "        text-align: right;\n",
       "    }\n",
       "</style>\n",
       "<table border=\"1\" class=\"dataframe\">\n",
       "  <thead>\n",
       "    <tr style=\"text-align: right;\">\n",
       "      <th></th>\n",
       "      <th>name</th>\n",
       "      <th>platform</th>\n",
       "      <th>year_of_release</th>\n",
       "      <th>genre</th>\n",
       "      <th>na_sales</th>\n",
       "      <th>eu_sales</th>\n",
       "      <th>jp_sales</th>\n",
       "      <th>other_sales</th>\n",
       "      <th>critic_score</th>\n",
       "      <th>user_score</th>\n",
       "      <th>rating</th>\n",
       "      <th>sales_all</th>\n",
       "    </tr>\n",
       "  </thead>\n",
       "  <tbody>\n",
       "    <tr>\n",
       "      <th>0</th>\n",
       "      <td>Call of Duty: Black Ops 3</td>\n",
       "      <td>PS4</td>\n",
       "      <td>2015</td>\n",
       "      <td>Shooter</td>\n",
       "      <td>6.03</td>\n",
       "      <td>5.86</td>\n",
       "      <td>0.36</td>\n",
       "      <td>2.38</td>\n",
       "      <td>68.967679</td>\n",
       "      <td>7.125076</td>\n",
       "      <td>unrated</td>\n",
       "      <td>14.63</td>\n",
       "    </tr>\n",
       "    <tr>\n",
       "      <th>1</th>\n",
       "      <td>Grand Theft Auto V</td>\n",
       "      <td>PS4</td>\n",
       "      <td>2014</td>\n",
       "      <td>Action</td>\n",
       "      <td>3.96</td>\n",
       "      <td>6.31</td>\n",
       "      <td>0.38</td>\n",
       "      <td>1.97</td>\n",
       "      <td>97.000000</td>\n",
       "      <td>8.300000</td>\n",
       "      <td>M</td>\n",
       "      <td>12.62</td>\n",
       "    </tr>\n",
       "    <tr>\n",
       "      <th>2</th>\n",
       "      <td>Pokemon Omega Ruby/Pokemon Alpha Sapphire</td>\n",
       "      <td>3DS</td>\n",
       "      <td>2014</td>\n",
       "      <td>Role-Playing</td>\n",
       "      <td>4.35</td>\n",
       "      <td>3.49</td>\n",
       "      <td>3.10</td>\n",
       "      <td>0.74</td>\n",
       "      <td>68.967679</td>\n",
       "      <td>7.125076</td>\n",
       "      <td>unrated</td>\n",
       "      <td>11.68</td>\n",
       "    </tr>\n",
       "    <tr>\n",
       "      <th>3</th>\n",
       "      <td>FIFA 16</td>\n",
       "      <td>PS4</td>\n",
       "      <td>2015</td>\n",
       "      <td>Sports</td>\n",
       "      <td>1.12</td>\n",
       "      <td>6.12</td>\n",
       "      <td>0.06</td>\n",
       "      <td>1.28</td>\n",
       "      <td>82.000000</td>\n",
       "      <td>4.300000</td>\n",
       "      <td>E</td>\n",
       "      <td>8.58</td>\n",
       "    </tr>\n",
       "    <tr>\n",
       "      <th>4</th>\n",
       "      <td>Star Wars Battlefront (2015)</td>\n",
       "      <td>PS4</td>\n",
       "      <td>2015</td>\n",
       "      <td>Shooter</td>\n",
       "      <td>2.99</td>\n",
       "      <td>3.49</td>\n",
       "      <td>0.22</td>\n",
       "      <td>1.28</td>\n",
       "      <td>68.967679</td>\n",
       "      <td>7.125076</td>\n",
       "      <td>unrated</td>\n",
       "      <td>7.98</td>\n",
       "    </tr>\n",
       "  </tbody>\n",
       "</table>\n",
       "</div>"
      ],
      "text/plain": [
       "                                        name platform  year_of_release  \\\n",
       "0                  Call of Duty: Black Ops 3      PS4             2015   \n",
       "1                         Grand Theft Auto V      PS4             2014   \n",
       "2  Pokemon Omega Ruby/Pokemon Alpha Sapphire      3DS             2014   \n",
       "3                                    FIFA 16      PS4             2015   \n",
       "4               Star Wars Battlefront (2015)      PS4             2015   \n",
       "\n",
       "          genre  na_sales  eu_sales  jp_sales  other_sales  critic_score  \\\n",
       "0       Shooter      6.03      5.86      0.36         2.38     68.967679   \n",
       "1        Action      3.96      6.31      0.38         1.97     97.000000   \n",
       "2  Role-Playing      4.35      3.49      3.10         0.74     68.967679   \n",
       "3        Sports      1.12      6.12      0.06         1.28     82.000000   \n",
       "4       Shooter      2.99      3.49      0.22         1.28     68.967679   \n",
       "\n",
       "   user_score   rating  sales_all  \n",
       "0    7.125076  unrated      14.63  \n",
       "1    8.300000        M      12.62  \n",
       "2    7.125076  unrated      11.68  \n",
       "3    4.300000        E       8.58  \n",
       "4    7.125076  unrated       7.98  "
      ]
     },
     "metadata": {},
     "output_type": "display_data"
    }
   ],
   "source": [
    "df_two = df_two.loc[df_two['year_of_release'] > 2013]\n",
    "\n",
    "df_two = df_two.reset_index(drop = True)\n",
    "\n",
    "display(df_two.head())"
   ]
  },
  {
   "cell_type": "markdown",
   "id": "058c813c",
   "metadata": {},
   "source": [
    "## 2.3 Выбор потенциально прибыльных платформ "
   ]
  },
  {
   "cell_type": "markdown",
   "id": "4cea8717",
   "metadata": {},
   "source": [
    "Платформы с потенциальной прибылью."
   ]
  },
  {
   "cell_type": "code",
   "execution_count": 17,
   "id": "184a6bb4",
   "metadata": {},
   "outputs": [
    {
     "data": {
      "text/html": [
       "<div>\n",
       "<style scoped>\n",
       "    .dataframe tbody tr th:only-of-type {\n",
       "        vertical-align: middle;\n",
       "    }\n",
       "\n",
       "    .dataframe tbody tr th {\n",
       "        vertical-align: top;\n",
       "    }\n",
       "\n",
       "    .dataframe thead th {\n",
       "        text-align: right;\n",
       "    }\n",
       "</style>\n",
       "<table border=\"1\" class=\"dataframe\">\n",
       "  <thead>\n",
       "    <tr style=\"text-align: right;\">\n",
       "      <th></th>\n",
       "      <th>name</th>\n",
       "      <th>platform</th>\n",
       "      <th>year_of_release</th>\n",
       "      <th>genre</th>\n",
       "      <th>na_sales</th>\n",
       "      <th>eu_sales</th>\n",
       "      <th>jp_sales</th>\n",
       "      <th>other_sales</th>\n",
       "      <th>critic_score</th>\n",
       "      <th>user_score</th>\n",
       "      <th>rating</th>\n",
       "      <th>sales_all</th>\n",
       "    </tr>\n",
       "  </thead>\n",
       "  <tbody>\n",
       "    <tr>\n",
       "      <th>0</th>\n",
       "      <td>Minecraft</td>\n",
       "      <td>PS3</td>\n",
       "      <td>2014</td>\n",
       "      <td>Misc</td>\n",
       "      <td>2.03</td>\n",
       "      <td>2.37</td>\n",
       "      <td>0.00</td>\n",
       "      <td>0.87</td>\n",
       "      <td>68.967679</td>\n",
       "      <td>7.125076</td>\n",
       "      <td>unrated</td>\n",
       "      <td>5.27</td>\n",
       "    </tr>\n",
       "    <tr>\n",
       "      <th>1</th>\n",
       "      <td>Call of Duty: Advanced Warfare</td>\n",
       "      <td>PS3</td>\n",
       "      <td>2014</td>\n",
       "      <td>Shooter</td>\n",
       "      <td>1.56</td>\n",
       "      <td>1.93</td>\n",
       "      <td>0.19</td>\n",
       "      <td>0.68</td>\n",
       "      <td>68.967679</td>\n",
       "      <td>4.800000</td>\n",
       "      <td>M</td>\n",
       "      <td>4.36</td>\n",
       "    </tr>\n",
       "    <tr>\n",
       "      <th>2</th>\n",
       "      <td>Call of Duty: Advanced Warfare</td>\n",
       "      <td>X360</td>\n",
       "      <td>2014</td>\n",
       "      <td>Shooter</td>\n",
       "      <td>2.77</td>\n",
       "      <td>1.11</td>\n",
       "      <td>0.00</td>\n",
       "      <td>0.40</td>\n",
       "      <td>68.967679</td>\n",
       "      <td>4.900000</td>\n",
       "      <td>M</td>\n",
       "      <td>4.28</td>\n",
       "    </tr>\n",
       "    <tr>\n",
       "      <th>3</th>\n",
       "      <td>FIFA 15</td>\n",
       "      <td>PS3</td>\n",
       "      <td>2014</td>\n",
       "      <td>Sports</td>\n",
       "      <td>0.58</td>\n",
       "      <td>3.02</td>\n",
       "      <td>0.04</td>\n",
       "      <td>0.64</td>\n",
       "      <td>68.967679</td>\n",
       "      <td>4.500000</td>\n",
       "      <td>E</td>\n",
       "      <td>4.28</td>\n",
       "    </tr>\n",
       "    <tr>\n",
       "      <th>4</th>\n",
       "      <td>FIFA 15</td>\n",
       "      <td>X360</td>\n",
       "      <td>2014</td>\n",
       "      <td>Sports</td>\n",
       "      <td>0.79</td>\n",
       "      <td>1.92</td>\n",
       "      <td>0.00</td>\n",
       "      <td>0.21</td>\n",
       "      <td>68.967679</td>\n",
       "      <td>4.200000</td>\n",
       "      <td>E</td>\n",
       "      <td>2.92</td>\n",
       "    </tr>\n",
       "  </tbody>\n",
       "</table>\n",
       "</div>"
      ],
      "text/plain": [
       "                             name platform  year_of_release    genre  \\\n",
       "0                       Minecraft      PS3             2014     Misc   \n",
       "1  Call of Duty: Advanced Warfare      PS3             2014  Shooter   \n",
       "2  Call of Duty: Advanced Warfare     X360             2014  Shooter   \n",
       "3                         FIFA 15      PS3             2014   Sports   \n",
       "4                         FIFA 15     X360             2014   Sports   \n",
       "\n",
       "   na_sales  eu_sales  jp_sales  other_sales  critic_score  user_score  \\\n",
       "0      2.03      2.37      0.00         0.87     68.967679    7.125076   \n",
       "1      1.56      1.93      0.19         0.68     68.967679    4.800000   \n",
       "2      2.77      1.11      0.00         0.40     68.967679    4.900000   \n",
       "3      0.58      3.02      0.04         0.64     68.967679    4.500000   \n",
       "4      0.79      1.92      0.00         0.21     68.967679    4.200000   \n",
       "\n",
       "    rating  sales_all  \n",
       "0  unrated       5.27  \n",
       "1        M       4.36  \n",
       "2        M       4.28  \n",
       "3        E       4.28  \n",
       "4        E       2.92  "
      ]
     },
     "metadata": {},
     "output_type": "display_data"
    }
   ],
   "source": [
    "df_three = df_two.loc[(df_two['platform'] == 'PS3') | (df_two['platform'] == 'X360') | (df_two['platform'] == 'PS2') | (df_two['platform'] == 'Wii') | (df_two['platform'] == 'PS')]\n",
    "\n",
    "df_three = df_three.reset_index(drop = True)\n",
    "\n",
    "display(df_three.head())"
   ]
  },
  {
   "cell_type": "markdown",
   "id": "ea8584e4",
   "metadata": {},
   "source": [
    "Глобальные продажи игр по платформам"
   ]
  },
  {
   "cell_type": "code",
   "execution_count": 18,
   "id": "5fda5a57",
   "metadata": {
    "scrolled": true
   },
   "outputs": [
    {
     "data": {
      "image/png": "[encoded data removed]",
      "text/plain": [
       "<Figure size 1080x1080 with 1 Axes>"
      ]
     },
     "metadata": {
      "needs_background": "light"
     },
     "output_type": "display_data"
    }
   ],
   "source": [
    "plt.figure(figsize=(15, 15))\n",
    "\n",
    "sns.boxplot(data = df_three, y = 'sales_all', x='platform')\n",
    "\n",
    "plt.show()"
   ]
  },
  {
   "cell_type": "markdown",
   "id": "df3726f4",
   "metadata": {},
   "source": [
    "## 2.4 Влияние отзывов пользователей и критиков на продажи платформы PS3"
   ]
  },
  {
   "cell_type": "markdown",
   "id": "cf0f2c3c",
   "metadata": {},
   "source": [
    "Построим диаграмму рассеяния и посчитаем корреляцию между отзывами и продажами."
   ]
  },
  {
   "cell_type": "code",
   "execution_count": 19,
   "id": "40308334",
   "metadata": {},
   "outputs": [
    {
     "data": {
      "image/png": "[encoded data removed]",
      "text/plain": [
       "<Figure size 432x288 with 1 Axes>"
      ]
     },
     "metadata": {
      "needs_background": "light"
     },
     "output_type": "display_data"
    },
    {
     "data": {
      "image/png": "[encoded data removed]",
      "text/plain": [
       "<Figure size 432x288 with 1 Axes>"
      ]
     },
     "metadata": {
      "needs_background": "light"
     },
     "output_type": "display_data"
    },
    {
     "name": "stdout",
     "output_type": "stream",
     "text": [
      "Коэффициент корреляции оценки критиков и кол-ва продаж платформы:\n",
      "0.09609176862597452\n",
      "\n",
      "Коэффициент корреляции оценки пользователей и кол-ва продаж платформы:\n",
      "-0.22212281355851057\n"
     ]
    }
   ],
   "source": [
    "df_ps3 = df_two.loc[df_two['platform'] == 'PS3']\n",
    "\n",
    "df_ps3 = df_ps3.reset_index(drop = True)\n",
    "\n",
    "df_ps3.plot(x = 'critic_score', y = 'sales_all', kind = 'scatter', alpha = 0.5)\n",
    "plt.title('Влияние оценки критиков на продажи PS3')\n",
    "plt.show()\n",
    "\n",
    "df_ps3.plot(x = 'user_score', y = 'sales_all', kind = 'scatter', alpha = 0.5)\n",
    "plt.title('Влияние оценки пользователей на продажи PS3')\n",
    "plt.show()\n",
    "\n",
    "print('Коэффициент корреляции оценки критиков и кол-ва продаж платформы:')\n",
    "print(df_ps3['critic_score'].corr(df_ps3['sales_all']))\n",
    "print()\n",
    "\n",
    "print('Коэффициент корреляции оценки пользователей и кол-ва продаж платформы:')\n",
    "print(df_ps3['user_score'].corr(df_ps3['sales_all']))"
   ]
  },
  {
   "cell_type": "markdown",
   "id": "a2977b9c",
   "metadata": {},
   "source": [
    "Из диаграмм рассеяния можно увидеть, что больше всего на кол-во продаж влияет оценка критиков (чем выше оценка критика, тем больше продажи платформы). Коэффициен корреляции показывает что связь между оценкой критиков и продажами есть но она не сильная, значит отзыв критиков не всегда сопровождаетс ростом продаж. Корреляция между оценкой пользователй и продажами очень слабая, их оценки практически не влияют на продажи."
   ]
  },
  {
   "cell_type": "markdown",
   "id": "98c77f99",
   "metadata": {},
   "source": [
    "Проверим влияние оценки пользователй и критиков на продажи других платформ."
   ]
  },
  {
   "cell_type": "code",
   "execution_count": 20,
   "id": "868b17eb",
   "metadata": {},
   "outputs": [
    {
     "data": {
      "image/png": "[encoded data removed]",
      "text/plain": [
       "<Figure size 432x288 with 1 Axes>"
      ]
     },
     "metadata": {
      "needs_background": "light"
     },
     "output_type": "display_data"
    },
    {
     "data": {
      "image/png": "[encoded data removed]",
      "text/plain": [
       "<Figure size 432x288 with 1 Axes>"
      ]
     },
     "metadata": {
      "needs_background": "light"
     },
     "output_type": "display_data"
    },
    {
     "name": "stdout",
     "output_type": "stream",
     "text": [
      "Коэффициент корреляции оценки критиков и кол-ва продаж платформы:\n",
      "0.17593527130003558\n",
      "\n",
      "Коэффициент корреляции оценки пользователей и кол-ва продаж платформы:\n",
      "-0.1790292465325503\n"
     ]
    },
    {
     "data": {
      "image/png": "[encoded data removed]",
      "text/plain": [
       "<Figure size 432x288 with 1 Axes>"
      ]
     },
     "metadata": {
      "needs_background": "light"
     },
     "output_type": "display_data"
    },
    {
     "data": {
      "image/png": "[encoded data removed]",
      "text/plain": [
       "<Figure size 432x288 with 1 Axes>"
      ]
     },
     "metadata": {
      "needs_background": "light"
     },
     "output_type": "display_data"
    },
    {
     "name": "stdout",
     "output_type": "stream",
     "text": [
      "Коэффициент корреляции оценки критиков и кол-ва продаж платформы:\n",
      "nan\n",
      "\n",
      "Коэффициент корреляции оценки пользователей и кол-ва продаж платформы:\n",
      "0.27970335335499535\n"
     ]
    }
   ],
   "source": [
    "df_x360 = df_two.loc[df_two['platform'] == 'X360']\n",
    "df_x360 = df_x360.reset_index(drop = True)\n",
    "\n",
    "df_x360.plot(x = 'critic_score', y = 'sales_all', kind = 'scatter', alpha = 0.5)\n",
    "plt.title('Влияние оценки критиков на продажи X360')\n",
    "plt.show()\n",
    "\n",
    "df_x360.plot(x = 'user_score', y = 'sales_all', kind = 'scatter', alpha = 0.5)\n",
    "plt.title('Влияние оценки пользователей на продажи X360')\n",
    "plt.show()\n",
    "\n",
    "print('Коэффициент корреляции оценки критиков и кол-ва продаж платформы:')\n",
    "print(df_x360['critic_score'].corr(df_x360['sales_all']))\n",
    "print()\n",
    "\n",
    "print('Коэффициент корреляции оценки пользователей и кол-ва продаж платформы:')\n",
    "print(df_x360['user_score'].corr(df_x360['sales_all']))\n",
    "\n",
    "\n",
    "\n",
    "df_wii = df_two.loc[df_two['platform'] == 'Wii']\n",
    "df_wii = df_wii.reset_index(drop = True)\n",
    "\n",
    "df_wii.plot(x = 'critic_score', y = 'sales_all', kind = 'scatter', alpha = 0.5)\n",
    "plt.title('Влияние оценки критиков на продажи Wii')\n",
    "plt.show()\n",
    "\n",
    "df_wii.plot(x = 'user_score', y = 'sales_all', kind = 'scatter', alpha = 0.5)\n",
    "plt.title('Влияние оценки пользователей на продажи Wii')\n",
    "plt.show()\n",
    "\n",
    "print('Коэффициент корреляции оценки критиков и кол-ва продаж платформы:')\n",
    "print(df_wii['critic_score'].corr(df_wii['sales_all']))\n",
    "print()\n",
    "\n",
    "print('Коэффициент корреляции оценки пользователей и кол-ва продаж платформы:')\n",
    "print(df_wii['user_score'].corr(df_wii['sales_all']))"
   ]
  },
  {
   "cell_type": "markdown",
   "id": "e0119b43",
   "metadata": {},
   "source": [
    "## 2.5 Общее распределение игр по жанрам"
   ]
  },
  {
   "cell_type": "markdown",
   "id": "f7320c52",
   "metadata": {},
   "source": [
    "Построим гистограмму отражающую кол-во продаж игр по жанрам."
   ]
  },
  {
   "cell_type": "code",
   "execution_count": 21,
   "id": "78143f86",
   "metadata": {},
   "outputs": [
    {
     "data": {
      "image/png": "[encoded data removed]",
      "text/plain": [
       "<Figure size 864x432 with 1 Axes>"
      ]
     },
     "metadata": {
      "needs_background": "light"
     },
     "output_type": "display_data"
    }
   ],
   "source": [
    "plt.figure(figsize = (12, 6))\n",
    "plt.title('Распределение по жанрам')\n",
    "sns.barplot(data = df_two, x = 'genre', y = 'sales_all')\n",
    "plt.xlabel('Жанр игр')\n",
    "plt.ylabel('Продажи игр')\n",
    "plt.show()"
   ]
  },
  {
   "cell_type": "markdown",
   "id": "95894867",
   "metadata": {},
   "source": [
    "По гистограмме распределения игр можно сделать вывод, что игры жанра шутер и платформер имеют самыое большое кол-во продаж среди всех жанров. Игры жанра приключения и стратегии имеют самые низкие показатели продаж."
   ]
  },
  {
   "cell_type": "markdown",
   "id": "1590040d",
   "metadata": {},
   "source": [
    "# 3 Портрет пользователя каждого региона"
   ]
  },
  {
   "cell_type": "markdown",
   "id": "0a2c2f18",
   "metadata": {},
   "source": [
    "Определим самые популярные платформы для различных стран."
   ]
  },
  {
   "cell_type": "code",
   "execution_count": 22,
   "id": "50631c5f",
   "metadata": {},
   "outputs": [
    {
     "name": "stdout",
     "output_type": "stream",
     "text": [
      "Самые популярные платформы в Северной Америке:\n"
     ]
    },
    {
     "data": {
      "text/html": [
       "<div>\n",
       "<style scoped>\n",
       "    .dataframe tbody tr th:only-of-type {\n",
       "        vertical-align: middle;\n",
       "    }\n",
       "\n",
       "    .dataframe tbody tr th {\n",
       "        vertical-align: top;\n",
       "    }\n",
       "\n",
       "    .dataframe thead th {\n",
       "        text-align: right;\n",
       "    }\n",
       "</style>\n",
       "<table border=\"1\" class=\"dataframe\">\n",
       "  <thead>\n",
       "    <tr style=\"text-align: right;\">\n",
       "      <th></th>\n",
       "      <th>na_sales</th>\n",
       "    </tr>\n",
       "    <tr>\n",
       "      <th>platform</th>\n",
       "      <th></th>\n",
       "    </tr>\n",
       "  </thead>\n",
       "  <tbody>\n",
       "    <tr>\n",
       "      <th>PS4</th>\n",
       "      <td>98.61</td>\n",
       "    </tr>\n",
       "    <tr>\n",
       "      <th>XOne</th>\n",
       "      <td>81.27</td>\n",
       "    </tr>\n",
       "    <tr>\n",
       "      <th>X360</th>\n",
       "      <td>28.30</td>\n",
       "    </tr>\n",
       "    <tr>\n",
       "      <th>3DS</th>\n",
       "      <td>22.64</td>\n",
       "    </tr>\n",
       "    <tr>\n",
       "      <th>PS3</th>\n",
       "      <td>22.05</td>\n",
       "    </tr>\n",
       "  </tbody>\n",
       "</table>\n",
       "</div>"
      ],
      "text/plain": [
       "          na_sales\n",
       "platform          \n",
       "PS4          98.61\n",
       "XOne         81.27\n",
       "X360         28.30\n",
       "3DS          22.64\n",
       "PS3          22.05"
      ]
     },
     "metadata": {},
     "output_type": "display_data"
    },
    {
     "name": "stdout",
     "output_type": "stream",
     "text": [
      "Самые популярные платформы в Европе:\n"
     ]
    },
    {
     "data": {
      "text/html": [
       "<div>\n",
       "<style scoped>\n",
       "    .dataframe tbody tr th:only-of-type {\n",
       "        vertical-align: middle;\n",
       "    }\n",
       "\n",
       "    .dataframe tbody tr th {\n",
       "        vertical-align: top;\n",
       "    }\n",
       "\n",
       "    .dataframe thead th {\n",
       "        text-align: right;\n",
       "    }\n",
       "</style>\n",
       "<table border=\"1\" class=\"dataframe\">\n",
       "  <thead>\n",
       "    <tr style=\"text-align: right;\">\n",
       "      <th></th>\n",
       "      <th>eu_sales</th>\n",
       "    </tr>\n",
       "    <tr>\n",
       "      <th>platform</th>\n",
       "      <th></th>\n",
       "    </tr>\n",
       "  </thead>\n",
       "  <tbody>\n",
       "    <tr>\n",
       "      <th>PS4</th>\n",
       "      <td>130.04</td>\n",
       "    </tr>\n",
       "    <tr>\n",
       "      <th>XOne</th>\n",
       "      <td>46.25</td>\n",
       "    </tr>\n",
       "    <tr>\n",
       "      <th>PS3</th>\n",
       "      <td>25.54</td>\n",
       "    </tr>\n",
       "    <tr>\n",
       "      <th>PC</th>\n",
       "      <td>17.97</td>\n",
       "    </tr>\n",
       "    <tr>\n",
       "      <th>3DS</th>\n",
       "      <td>16.12</td>\n",
       "    </tr>\n",
       "  </tbody>\n",
       "</table>\n",
       "</div>"
      ],
      "text/plain": [
       "          eu_sales\n",
       "platform          \n",
       "PS4         130.04\n",
       "XOne         46.25\n",
       "PS3          25.54\n",
       "PC           17.97\n",
       "3DS          16.12"
      ]
     },
     "metadata": {},
     "output_type": "display_data"
    },
    {
     "name": "stdout",
     "output_type": "stream",
     "text": [
      "Самые популярные платформы в Японии:\n"
     ]
    },
    {
     "data": {
      "text/html": [
       "<div>\n",
       "<style scoped>\n",
       "    .dataframe tbody tr th:only-of-type {\n",
       "        vertical-align: middle;\n",
       "    }\n",
       "\n",
       "    .dataframe tbody tr th {\n",
       "        vertical-align: top;\n",
       "    }\n",
       "\n",
       "    .dataframe thead th {\n",
       "        text-align: right;\n",
       "    }\n",
       "</style>\n",
       "<table border=\"1\" class=\"dataframe\">\n",
       "  <thead>\n",
       "    <tr style=\"text-align: right;\">\n",
       "      <th></th>\n",
       "      <th>jp_sales</th>\n",
       "    </tr>\n",
       "    <tr>\n",
       "      <th>platform</th>\n",
       "      <th></th>\n",
       "    </tr>\n",
       "  </thead>\n",
       "  <tbody>\n",
       "    <tr>\n",
       "      <th>3DS</th>\n",
       "      <td>44.24</td>\n",
       "    </tr>\n",
       "    <tr>\n",
       "      <th>PS4</th>\n",
       "      <td>15.02</td>\n",
       "    </tr>\n",
       "    <tr>\n",
       "      <th>PSV</th>\n",
       "      <td>14.54</td>\n",
       "    </tr>\n",
       "    <tr>\n",
       "      <th>PS3</th>\n",
       "      <td>11.22</td>\n",
       "    </tr>\n",
       "    <tr>\n",
       "      <th>WiiU</th>\n",
       "      <td>7.31</td>\n",
       "    </tr>\n",
       "  </tbody>\n",
       "</table>\n",
       "</div>"
      ],
      "text/plain": [
       "          jp_sales\n",
       "platform          \n",
       "3DS          44.24\n",
       "PS4          15.02\n",
       "PSV          14.54\n",
       "PS3          11.22\n",
       "WiiU          7.31"
      ]
     },
     "metadata": {},
     "output_type": "display_data"
    }
   ],
   "source": [
    "na_sales = df_two.pivot_table(index = ['platform'], values = ['na_sales'], aggfunc = 'sum')\n",
    "na_sales = na_sales.sort_values(by = 'na_sales', ascending = False)\n",
    "print('Самые популярные платформы в Северной Америке:')\n",
    "display(na_sales.head())\n",
    "\n",
    "eu_sales = df_two.pivot_table(index = ['platform'], values = ['eu_sales'], aggfunc = 'sum')\n",
    "eu_sales = eu_sales.sort_values(by = 'eu_sales', ascending = False)\n",
    "print('Самые популярные платформы в Европе:')\n",
    "display(eu_sales.head())\n",
    "\n",
    "jp_sales = df_two.pivot_table(index = ['platform'], values = ['jp_sales'], aggfunc = 'sum')\n",
    "jp_sales = jp_sales.sort_values(by = 'jp_sales', ascending = False)\n",
    "print('Самые популярные платформы в Японии:')\n",
    "display(jp_sales.head())"
   ]
  },
  {
   "cell_type": "markdown",
   "id": "771ff2c8",
   "metadata": {},
   "source": [
    "Определим самые популярные жанры в различных странах."
   ]
  },
  {
   "cell_type": "code",
   "execution_count": 35,
   "id": "8ca4cb62",
   "metadata": {},
   "outputs": [
    {
     "name": "stdout",
     "output_type": "stream",
     "text": [
      "Самые популярные жанры игр в Северной Америке:\n"
     ]
    },
    {
     "data": {
      "text/html": [
       "<div>\n",
       "<style scoped>\n",
       "    .dataframe tbody tr th:only-of-type {\n",
       "        vertical-align: middle;\n",
       "    }\n",
       "\n",
       "    .dataframe tbody tr th {\n",
       "        vertical-align: top;\n",
       "    }\n",
       "\n",
       "    .dataframe thead th {\n",
       "        text-align: right;\n",
       "    }\n",
       "</style>\n",
       "<table border=\"1\" class=\"dataframe\">\n",
       "  <thead>\n",
       "    <tr style=\"text-align: right;\">\n",
       "      <th></th>\n",
       "      <th>na_sales</th>\n",
       "    </tr>\n",
       "    <tr>\n",
       "      <th>genre</th>\n",
       "      <th></th>\n",
       "    </tr>\n",
       "  </thead>\n",
       "  <tbody>\n",
       "    <tr>\n",
       "      <th>Shooter</th>\n",
       "      <td>79.02</td>\n",
       "    </tr>\n",
       "    <tr>\n",
       "      <th>Action</th>\n",
       "      <td>72.53</td>\n",
       "    </tr>\n",
       "    <tr>\n",
       "      <th>Sports</th>\n",
       "      <td>46.13</td>\n",
       "    </tr>\n",
       "    <tr>\n",
       "      <th>Role-Playing</th>\n",
       "      <td>33.47</td>\n",
       "    </tr>\n",
       "    <tr>\n",
       "      <th>Misc</th>\n",
       "      <td>15.05</td>\n",
       "    </tr>\n",
       "  </tbody>\n",
       "</table>\n",
       "</div>"
      ],
      "text/plain": [
       "              na_sales\n",
       "genre                 \n",
       "Shooter          79.02\n",
       "Action           72.53\n",
       "Sports           46.13\n",
       "Role-Playing     33.47\n",
       "Misc             15.05"
      ]
     },
     "metadata": {},
     "output_type": "display_data"
    },
    {
     "name": "stdout",
     "output_type": "stream",
     "text": [
      "Самые популярные жанры игр в Европе:\n"
     ]
    },
    {
     "data": {
      "text/html": [
       "<div>\n",
       "<style scoped>\n",
       "    .dataframe tbody tr th:only-of-type {\n",
       "        vertical-align: middle;\n",
       "    }\n",
       "\n",
       "    .dataframe tbody tr th {\n",
       "        vertical-align: top;\n",
       "    }\n",
       "\n",
       "    .dataframe thead th {\n",
       "        text-align: right;\n",
       "    }\n",
       "</style>\n",
       "<table border=\"1\" class=\"dataframe\">\n",
       "  <thead>\n",
       "    <tr style=\"text-align: right;\">\n",
       "      <th></th>\n",
       "      <th>eu_sales</th>\n",
       "    </tr>\n",
       "    <tr>\n",
       "      <th>genre</th>\n",
       "      <th></th>\n",
       "    </tr>\n",
       "  </thead>\n",
       "  <tbody>\n",
       "    <tr>\n",
       "      <th>Action</th>\n",
       "      <td>74.68</td>\n",
       "    </tr>\n",
       "    <tr>\n",
       "      <th>Shooter</th>\n",
       "      <td>65.52</td>\n",
       "    </tr>\n",
       "    <tr>\n",
       "      <th>Sports</th>\n",
       "      <td>45.73</td>\n",
       "    </tr>\n",
       "    <tr>\n",
       "      <th>Role-Playing</th>\n",
       "      <td>28.17</td>\n",
       "    </tr>\n",
       "    <tr>\n",
       "      <th>Racing</th>\n",
       "      <td>14.13</td>\n",
       "    </tr>\n",
       "  </tbody>\n",
       "</table>\n",
       "</div>"
      ],
      "text/plain": [
       "              eu_sales\n",
       "genre                 \n",
       "Action           74.68\n",
       "Shooter          65.52\n",
       "Sports           45.73\n",
       "Role-Playing     28.17\n",
       "Racing           14.13"
      ]
     },
     "metadata": {},
     "output_type": "display_data"
    },
    {
     "name": "stdout",
     "output_type": "stream",
     "text": [
      "Самые популярные платформы в Японии:\n"
     ]
    },
    {
     "data": {
      "text/html": [
       "<div>\n",
       "<style scoped>\n",
       "    .dataframe tbody tr th:only-of-type {\n",
       "        vertical-align: middle;\n",
       "    }\n",
       "\n",
       "    .dataframe tbody tr th {\n",
       "        vertical-align: top;\n",
       "    }\n",
       "\n",
       "    .dataframe thead th {\n",
       "        text-align: right;\n",
       "    }\n",
       "</style>\n",
       "<table border=\"1\" class=\"dataframe\">\n",
       "  <thead>\n",
       "    <tr style=\"text-align: right;\">\n",
       "      <th></th>\n",
       "      <th>jp_sales</th>\n",
       "    </tr>\n",
       "    <tr>\n",
       "      <th>genre</th>\n",
       "      <th></th>\n",
       "    </tr>\n",
       "  </thead>\n",
       "  <tbody>\n",
       "    <tr>\n",
       "      <th>Role-Playing</th>\n",
       "      <td>31.16</td>\n",
       "    </tr>\n",
       "    <tr>\n",
       "      <th>Action</th>\n",
       "      <td>29.58</td>\n",
       "    </tr>\n",
       "    <tr>\n",
       "      <th>Fighting</th>\n",
       "      <td>6.37</td>\n",
       "    </tr>\n",
       "    <tr>\n",
       "      <th>Misc</th>\n",
       "      <td>5.61</td>\n",
       "    </tr>\n",
       "    <tr>\n",
       "      <th>Shooter</th>\n",
       "      <td>4.87</td>\n",
       "    </tr>\n",
       "  </tbody>\n",
       "</table>\n",
       "</div>"
      ],
      "text/plain": [
       "              jp_sales\n",
       "genre                 \n",
       "Role-Playing     31.16\n",
       "Action           29.58\n",
       "Fighting          6.37\n",
       "Misc              5.61\n",
       "Shooter           4.87"
      ]
     },
     "metadata": {},
     "output_type": "display_data"
    }
   ],
   "source": [
    "\n",
    "na_genre = df_two.pivot_table(index = ['genre'], values = ['na_sales'], aggfunc = 'sum')\n",
    "na_genre = na_genre.sort_values(by = 'na_sales', ascending = False)\n",
    "print('Самые популярные жанры игр в Северной Америке:')\n",
    "display(na_genre.head())\n",
    "\n",
    "eu_genre = df_two.pivot_table(index = ['genre'], values = ['eu_sales'], aggfunc = 'sum')\n",
    "eu_genre = eu_genre.sort_values(by = 'eu_sales', ascending = False)\n",
    "print('Самые популярные жанры игр в Европе:')\n",
    "display(eu_genre.head())\n",
    "\n",
    "jp_genre = df_two.pivot_table(index = ['genre'], values = ['jp_sales'], aggfunc = 'sum')\n",
    "jp_genre = jp_genre.sort_values(by = 'jp_sales', ascending = False)\n",
    "print('Самые популярные платформы в Японии:')\n",
    "display(jp_genre.head())"
   ]
  },
  {
   "cell_type": "markdown",
   "id": "a9593157",
   "metadata": {},
   "source": [
    "Определим влияние рейтинга организации ESRB на продажи платформ."
   ]
  },
  {
   "cell_type": "code",
   "execution_count": 43,
   "id": "72422e47",
   "metadata": {},
   "outputs": [
    {
     "data": {
      "image/png": "[encoded data removed]",
      "text/plain": [
       "<Figure size 432x288 with 1 Axes>"
      ]
     },
     "metadata": {
      "needs_background": "light"
     },
     "output_type": "display_data"
    },
    {
     "data": {
      "image/png": "[encoded data removed]",
      "text/plain": [
       "<Figure size 432x288 with 1 Axes>"
      ]
     },
     "metadata": {
      "needs_background": "light"
     },
     "output_type": "display_data"
    },
    {
     "data": {
      "image/png": "[encoded data removed]",
      "text/plain": [
       "<Figure size 432x288 with 1 Axes>"
      ]
     },
     "metadata": {
      "needs_background": "light"
     },
     "output_type": "display_data"
    }
   ],
   "source": [
    "na_esrb_rating = df_two.groupby('rating')['na_sales'].sum().sort_values()\n",
    "eu_esrb_rating = df_two.groupby('rating')['eu_sales'].sum().sort_values()\n",
    "jp_esrb_rating = df_two.groupby('rating')['jp_sales'].sum().sort_values()\n",
    "\n",
    "na_esrb_rating.plot(kind = 'bar', color = 'blue')\n",
    "plt.title('Влияние рейтинга ESRB в Америке')\n",
    "plt.show()\n",
    "\n",
    "eu_esrb_rating.plot(kind = 'bar', color = 'green')\n",
    "plt.title('Влияние рейтинга ESRB в Европе')\n",
    "plt.show()\n",
    "\n",
    "jp_esrb_rating.plot(kind = 'bar', color = 'orange')\n",
    "plt.title('Влияние рейтинга ESRB в Японии')\n",
    "plt.show()"
   ]
  },
  {
   "cell_type": "markdown",
   "id": "c505b3d3",
   "metadata": {},
   "source": [
    "Портрет пользователя из Северной Америки:\n",
    "\n",
    "Покупает платформу X360 или PS3 (вероятнее X360), играет в игры с жанарами Action или Shooter."
   ]
  },
  {
   "cell_type": "markdown",
   "id": "bb0d7bb4",
   "metadata": {},
   "source": [
    "Портрет пользователя из Европы:\n",
    "    \n",
    "Покупает платформу PS3 или X360, играет в игры с жанрами Action или Shooter."
   ]
  },
  {
   "cell_type": "markdown",
   "id": "a7599d65",
   "metadata": {},
   "source": [
    "Портрет пользователя из Японии:\n",
    "    \n",
    "Покупает платформу 3DS или DS, играет в игры с жанрами Role-Playing или Action."
   ]
  },
  {
   "cell_type": "markdown",
   "id": "c55c34da",
   "metadata": {},
   "source": [
    "Влияние оценки ESRB можно увидеть во всех странах, можно выделить Северную америку и Европу где оценка E (для всех возрастов) сильно повышает продажи игр, по сравнению с играми имеющими другие рейтинги."
   ]
  },
  {
   "cell_type": "markdown",
   "id": "4589c95d",
   "metadata": {},
   "source": [
    "# 4 Проверка гипотез"
   ]
  },
  {
   "cell_type": "markdown",
   "id": "f6da69e2",
   "metadata": {},
   "source": [
    "Средние пользовательские рейтинги платформ Xbox One и PC одинаковые, проверим эту гипотезу."
   ]
  },
  {
   "cell_type": "markdown",
   "id": "944b602c",
   "metadata": {},
   "source": [
    "H_0: Рейтинг платформы Xbox One = рейтинг платформы PC.\n",
    "\n",
    "H_1: Рейтинг платформы Xbox One ≠ рейтинг платформы PC."
   ]
  },
  {
   "cell_type": "code",
   "execution_count": 25,
   "id": "3abfeb79",
   "metadata": {},
   "outputs": [
    {
     "data": {
      "text/plain": [
       "PS4     376\n",
       "PSV     295\n",
       "XOne    228\n",
       "PS3     219\n",
       "3DS     212\n",
       "PC      151\n",
       "X360    111\n",
       "WiiU     73\n",
       "PSP      13\n",
       "Wii      11\n",
       "Name: platform, dtype: int64"
      ]
     },
     "execution_count": 25,
     "metadata": {},
     "output_type": "execute_result"
    }
   ],
   "source": [
    "df_two['platform'].value_counts()"
   ]
  },
  {
   "cell_type": "code",
   "execution_count": 46,
   "id": "b9f749a0",
   "metadata": {},
   "outputs": [
    {
     "name": "stdout",
     "output_type": "stream",
     "text": [
      "0.0591033491415189\n",
      "отвергаем нулевую гипотезу\n"
     ]
    }
   ],
   "source": [
    "results = st.ttest_ind(df_two[df_two['platform'] == 'XOne']['user_score'],\n",
    "                      df_two[df_two['platform'] == 'PC']['user_score'], equal_var = False)\n",
    "\n",
    "alpha = 0.1\n",
    "\n",
    "print(results.pvalue)\n",
    "\n",
    "if results.pvalue < alpha:\n",
    "    print('отвергаем нулевую гипотезу')\n",
    "else:\n",
    "    print('Не получилось отвергнуть нулевую гипотезу')"
   ]
  },
  {
   "cell_type": "markdown",
   "id": "c640f3fa",
   "metadata": {},
   "source": [
    "Средние пользовательские рейтинги жанров Action и Sports разные, проверим гипотезу.\n",
    "\n",
    "H_0: Рейтинги жанра Action = рейтинги жанра Sports.\n",
    "\n",
    "H_1: Рейтинги жанра Action ≠ рейтинги жанра Sports."
   ]
  },
  {
   "cell_type": "code",
   "execution_count": 45,
   "id": "64126267",
   "metadata": {},
   "outputs": [
    {
     "name": "stdout",
     "output_type": "stream",
     "text": [
      "5.324200880089711e-16\n",
      "Отвергаем нулевую гипотезу\n"
     ]
    }
   ],
   "source": [
    "results_two = st.ttest_ind(df_two[df_two['genre'] == 'Action']['user_score'],\n",
    "                      df_two[df_two['genre'] == 'Sports']['user_score'], equal_var = False)\n",
    "\n",
    "alpha = 0.1\n",
    "\n",
    "print(results_two.pvalue)\n",
    "\n",
    "if results_two.pvalue < alpha:\n",
    "    print('Отвергаем нулевую гипотезу')\n",
    "else:\n",
    "    print('Не получилось отвергнуть нулевую гипотезу')"
   ]
  },
  {
   "cell_type": "markdown",
   "id": "260e5f14",
   "metadata": {},
   "source": [
    "Сделав t-тест можно сделать вывод, что первая гипотеза имеет место быть и отвергать её точно не стоит. Во втором тесте вероятность получить предполагаемый результат очень мала, значит нулевую гипотезу можно отвергнуть.\n",
    "\n",
    "**Я доконца не разобрался как правильно выбирать уровень значимости, в данном пункте руководствовался теорией, но там нет подробного объяснения.**"
   ]
  },
  {
   "cell_type": "markdown",
   "id": "92dbef8e",
   "metadata": {},
   "source": [
    "# 5 Общий вывод"
   ]
  },
  {
   "cell_type": "markdown",
   "id": "2670bf56",
   "metadata": {},
   "source": [
    "Для исследования интернет-магазина был предоставлен файл с информацией о продажах различных игровых платформ. Перед исследованием я провёл предобработку данных, изменил регистр названий столбцов на нижний, преобразовал столбцы в соответсвующие с их информацией типы, перед этим обработав пропуски в столбцах. Далее я рассмотрел изменение продаж платформ на протяжении нескольких дестков лет и вывел закономерность, что в среднем одна платформа находит покупателей от 5 до 10 лет. Взяв актуальный период (от 2008 до 2016 года) я проанализировал какие платфрмы занимают лидирующие позиции на рынке продаж (сделал запрос на использование в дальнейшем исследовании только конкретные платформы). Используя оценки критиков на популярные платформы, сделал вывод что они имеют влиние на рост продаж (не сильное влияние), но он есть по сравнению с оценками пользователей. Изучив распределение игр по жанрам выделил наиболее прибыльные жанры Pltatform и Shooter, самые убыточные жанры, это Strategy и Adventure. Выделив сымые популярные платформы и самые популярные жанры игр в различных странах составил портреты пользователй в этих странах. Так же сделал выод, что система рейтнга ESRB влияет на продажи платформ по разному в разных стрнах, например при продпже платформ в Америке и Европе для получения прибыли можно ориентироваться на оценку ESRB."
   ]
  }
 ],
 "metadata": {
  "kernelspec": {
   "display_name": "Python 3 (ipykernel)",
   "language": "python",
   "name": "python3"
  },
  "language_info": {
   "codemirror_mode": {
    "name": "ipython",
    "version": 3
   },
   "file_extension": ".py",
   "mimetype": "text/x-python",
   "name": "python",
   "nbconvert_exporter": "python",
   "pygments_lexer": "ipython3",
   "version": "3.11.4"
  },
  "toc": {
   "base_numbering": 1,
   "nav_menu": {},
   "number_sections": true,
   "sideBar": true,
   "skip_h1_title": true,
   "title_cell": "Table of Contents",
   "title_sidebar": "Contents",
   "toc_cell": false,
   "toc_position": {},
   "toc_section_display": true,
   "toc_window_display": false
  }
 },
 "nbformat": 4,
 "nbformat_minor": 5
}
