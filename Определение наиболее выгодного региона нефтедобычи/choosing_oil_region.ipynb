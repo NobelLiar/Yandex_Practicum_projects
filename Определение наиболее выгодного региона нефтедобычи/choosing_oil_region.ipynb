{
 "cells": [
  {
   "cell_type": "markdown",
   "metadata": {},
   "source": [
    "# Выбор локации для скважины"
   ]
  },
  {
   "cell_type": "markdown",
   "metadata": {},
   "source": [
    "Для исследования предоставлены три датасета компании «ГлавРосГосНефть», в них хранятся данные геолоразведки нефтеных скважин трёх регионов.\n",
    "\n",
    "В каждом датасете 10 000 месторождений, где измерили качество нефти и объём её запасов. Необходимо построить модель машинного обучения, которая поможет определить регион, где добыча принесёт наибольшую прибыл, проанализировать возможную прибыль и риски техникой Bootstrap.\n",
    "\n",
    "Согласно документации к данным:\n",
    "* `id` — уникальный идентификатор скважины;\n",
    "* `f0, f1, f2` — три признака точек;  \n",
    "* `product` — объём запасов в скважине (тыс. баррелей)."
   ]
  },
  {
   "cell_type": "markdown",
   "metadata": {},
   "source": [
    "## Загрузка и подготовка данных"
   ]
  },
  {
   "cell_type": "code",
   "execution_count": 3,
   "metadata": {},
   "outputs": [],
   "source": [
    "import pandas as pd\n",
    "import numpy as np\n",
    "#import pandas_profiling\n",
    "\n",
    "from sklearn.model_selection import train_test_split\n",
    "from sklearn.preprocessing import StandardScaler\n",
    "from sklearn.linear_model import LinearRegression\n",
    "from sklearn.metrics import mean_squared_error, r2_score, mean_absolute_error\n",
    "from scipy import stats as st"
   ]
  },
  {
   "cell_type": "markdown",
   "metadata": {},
   "source": [
    "Загрузим и проверим данные на налие пропусков и несоответствие типов данных."
   ]
  },
  {
   "cell_type": "code",
   "execution_count": 4,
   "metadata": {},
   "outputs": [],
   "source": [
    "data_0 = pd.read_csv('/datasets/geo_data_0.csv')\n",
    "data_1 = pd.read_csv('/datasets/geo_data_1.csv')\n",
    "data_2 = pd.read_csv('/datasets/geo_data_2.csv')"
   ]
  },
  {
   "cell_type": "markdown",
   "metadata": {},
   "source": [
    "В данных нет пропусков и значения соответсвуют типам данных. Удалим столбец id, для обучения модели он не требуется."
   ]
  },
  {
   "cell_type": "code",
   "execution_count": 5,
   "metadata": {},
   "outputs": [],
   "source": [
    "data_0 = data_0.drop('id', axis = 1)\n",
    "data_1 = data_1.drop('id', axis = 1)\n",
    "data_2 = data_2.drop('id', axis = 1)"
   ]
  },
  {
   "cell_type": "markdown",
   "metadata": {},
   "source": [
    "Разделим данные на выборки."
   ]
  },
  {
   "cell_type": "code",
   "execution_count": 6,
   "metadata": {},
   "outputs": [],
   "source": [
    "features_0 = data_0.drop(['product'], axis = 1)\n",
    "target_0 = data_0['product']\n",
    "\n",
    "features_1 = data_1.drop(['product'], axis = 1)\n",
    "target_1 = data_1['product']\n",
    "\n",
    "features_2 = data_2.drop(['product'], axis = 1)\n",
    "target_2 = data_2['product']\n",
    "\n",
    "#features_train - обучающая выборка\n",
    "#features_valid - валидационая выборка\n",
    "\n",
    "features_train_0, features_valid_0, target_train_0, target_valid_0 = \\\n",
    "train_test_split(features_0, target_0, test_size = 0.25, random_state = 12345)\n",
    "\n",
    "features_train_1, features_valid_1, target_train_1, target_valid_1 = \\\n",
    "train_test_split(features_1, target_1, test_size = 0.25, random_state = 12345)\n",
    "\n",
    "features_train_2, features_valid_2, target_train_2, target_valid_2 = \\\n",
    "train_test_split(features_2, target_2, test_size = 0.25, random_state = 12345)"
   ]
  },
  {
   "cell_type": "markdown",
   "metadata": {},
   "source": [
    "Проверим размеры выборок."
   ]
  },
  {
   "cell_type": "code",
   "execution_count": 7,
   "metadata": {},
   "outputs": [
    {
     "name": "stdout",
     "output_type": "stream",
     "text": [
      "features_train_0:\n",
      "(75000, 3)\n",
      "(75000,)\n",
      "features_valid_0:\n",
      "(25000, 3)\n",
      "(25000,)\n",
      "\n",
      "features_train_1:\n",
      "(75000, 3)\n",
      "(75000,)\n",
      "features_valid_1:\n",
      "(25000, 3)\n",
      "(25000,)\n",
      "\n",
      "features_train_2:\n",
      "(75000, 3)\n",
      "(75000,)\n",
      "features_valid_2:\n",
      "(25000, 3)\n",
      "(25000,)\n",
      "\n"
     ]
    }
   ],
   "source": [
    "print('features_train_0:')\n",
    "print(features_train_0.shape)\n",
    "print(target_train_0.shape)\n",
    "\n",
    "print('features_valid_0:')\n",
    "print(features_valid_0.shape)\n",
    "print(target_valid_0.shape)\n",
    "print()\n",
    "\n",
    "print('features_train_1:')\n",
    "print(features_train_1.shape)\n",
    "print(target_train_1.shape)\n",
    "\n",
    "print('features_valid_1:')\n",
    "print(features_valid_1.shape)\n",
    "print(target_valid_1.shape)\n",
    "print()\n",
    "\n",
    "print('features_train_2:')\n",
    "print(features_train_2.shape)\n",
    "print(target_train_2.shape)\n",
    "\n",
    "print('features_valid_2:')\n",
    "print(features_valid_2.shape)\n",
    "print(target_valid_2.shape)\n",
    "print()"
   ]
  },
  {
   "cell_type": "markdown",
   "metadata": {},
   "source": [
    "Приведём численные признаки к одному масштабу."
   ]
  },
  {
   "cell_type": "code",
   "execution_count": 8,
   "metadata": {
    "scrolled": true
   },
   "outputs": [
    {
     "name": "stdout",
     "output_type": "stream",
     "text": [
      "features_train_0:\n",
      "(75000, 3)\n",
      "(25000, 3)\n",
      "\n",
      "features_train_1:\n",
      "(75000, 3)\n",
      "(25000, 3)\n",
      "\n",
      "features_train_2:\n",
      "(75000, 3)\n",
      "(25000, 3)\n"
     ]
    },
    {
     "name": "stderr",
     "output_type": "stream",
     "text": [
      "/tmp/ipykernel_31/1191553689.py:5: SettingWithCopyWarning: \n",
      "A value is trying to be set on a copy of a slice from a DataFrame.\n",
      "Try using .loc[row_indexer,col_indexer] = value instead\n",
      "\n",
      "See the caveats in the documentation: https://pandas.pydata.org/pandas-docs/stable/user_guide/indexing.html#returning-a-view-versus-a-copy\n",
      "  features_train_0[numeric] = scaler_0.transform(features_train_0[numeric])\n",
      "/opt/conda/lib/python3.9/site-packages/pandas/core/indexing.py:1637: SettingWithCopyWarning: \n",
      "A value is trying to be set on a copy of a slice from a DataFrame\n",
      "\n",
      "See the caveats in the documentation: https://pandas.pydata.org/pandas-docs/stable/user_guide/indexing.html#returning-a-view-versus-a-copy\n",
      "  self._setitem_single_block(indexer, value, name)\n",
      "/opt/conda/lib/python3.9/site-packages/pandas/core/indexing.py:692: SettingWithCopyWarning: \n",
      "A value is trying to be set on a copy of a slice from a DataFrame\n",
      "\n",
      "See the caveats in the documentation: https://pandas.pydata.org/pandas-docs/stable/user_guide/indexing.html#returning-a-view-versus-a-copy\n",
      "  iloc._setitem_with_indexer(indexer, value, self.name)\n",
      "/tmp/ipykernel_31/1191553689.py:6: SettingWithCopyWarning: \n",
      "A value is trying to be set on a copy of a slice from a DataFrame.\n",
      "Try using .loc[row_indexer,col_indexer] = value instead\n",
      "\n",
      "See the caveats in the documentation: https://pandas.pydata.org/pandas-docs/stable/user_guide/indexing.html#returning-a-view-versus-a-copy\n",
      "  features_valid_0[numeric] = scaler_0.transform(features_valid_0[numeric])\n",
      "/opt/conda/lib/python3.9/site-packages/pandas/core/indexing.py:1637: SettingWithCopyWarning: \n",
      "A value is trying to be set on a copy of a slice from a DataFrame\n",
      "\n",
      "See the caveats in the documentation: https://pandas.pydata.org/pandas-docs/stable/user_guide/indexing.html#returning-a-view-versus-a-copy\n",
      "  self._setitem_single_block(indexer, value, name)\n",
      "/opt/conda/lib/python3.9/site-packages/pandas/core/indexing.py:692: SettingWithCopyWarning: \n",
      "A value is trying to be set on a copy of a slice from a DataFrame\n",
      "\n",
      "See the caveats in the documentation: https://pandas.pydata.org/pandas-docs/stable/user_guide/indexing.html#returning-a-view-versus-a-copy\n",
      "  iloc._setitem_with_indexer(indexer, value, self.name)\n",
      "/tmp/ipykernel_31/1191553689.py:10: SettingWithCopyWarning: \n",
      "A value is trying to be set on a copy of a slice from a DataFrame.\n",
      "Try using .loc[row_indexer,col_indexer] = value instead\n",
      "\n",
      "See the caveats in the documentation: https://pandas.pydata.org/pandas-docs/stable/user_guide/indexing.html#returning-a-view-versus-a-copy\n",
      "  features_train_1[numeric] = scaler_1.transform(features_train_1[numeric])\n",
      "/opt/conda/lib/python3.9/site-packages/pandas/core/indexing.py:1637: SettingWithCopyWarning: \n",
      "A value is trying to be set on a copy of a slice from a DataFrame\n",
      "\n",
      "See the caveats in the documentation: https://pandas.pydata.org/pandas-docs/stable/user_guide/indexing.html#returning-a-view-versus-a-copy\n",
      "  self._setitem_single_block(indexer, value, name)\n",
      "/opt/conda/lib/python3.9/site-packages/pandas/core/indexing.py:692: SettingWithCopyWarning: \n",
      "A value is trying to be set on a copy of a slice from a DataFrame\n",
      "\n",
      "See the caveats in the documentation: https://pandas.pydata.org/pandas-docs/stable/user_guide/indexing.html#returning-a-view-versus-a-copy\n",
      "  iloc._setitem_with_indexer(indexer, value, self.name)\n",
      "/tmp/ipykernel_31/1191553689.py:11: SettingWithCopyWarning: \n",
      "A value is trying to be set on a copy of a slice from a DataFrame.\n",
      "Try using .loc[row_indexer,col_indexer] = value instead\n",
      "\n",
      "See the caveats in the documentation: https://pandas.pydata.org/pandas-docs/stable/user_guide/indexing.html#returning-a-view-versus-a-copy\n",
      "  features_valid_1[numeric] = scaler_1.transform(features_valid_1[numeric])\n",
      "/opt/conda/lib/python3.9/site-packages/pandas/core/indexing.py:1637: SettingWithCopyWarning: \n",
      "A value is trying to be set on a copy of a slice from a DataFrame\n",
      "\n",
      "See the caveats in the documentation: https://pandas.pydata.org/pandas-docs/stable/user_guide/indexing.html#returning-a-view-versus-a-copy\n",
      "  self._setitem_single_block(indexer, value, name)\n",
      "/opt/conda/lib/python3.9/site-packages/pandas/core/indexing.py:692: SettingWithCopyWarning: \n",
      "A value is trying to be set on a copy of a slice from a DataFrame\n",
      "\n",
      "See the caveats in the documentation: https://pandas.pydata.org/pandas-docs/stable/user_guide/indexing.html#returning-a-view-versus-a-copy\n",
      "  iloc._setitem_with_indexer(indexer, value, self.name)\n",
      "/tmp/ipykernel_31/1191553689.py:15: SettingWithCopyWarning: \n",
      "A value is trying to be set on a copy of a slice from a DataFrame.\n",
      "Try using .loc[row_indexer,col_indexer] = value instead\n",
      "\n",
      "See the caveats in the documentation: https://pandas.pydata.org/pandas-docs/stable/user_guide/indexing.html#returning-a-view-versus-a-copy\n",
      "  features_train_2[numeric] = scaler_2.transform(features_train_2[numeric])\n",
      "/opt/conda/lib/python3.9/site-packages/pandas/core/indexing.py:1637: SettingWithCopyWarning: \n",
      "A value is trying to be set on a copy of a slice from a DataFrame\n",
      "\n",
      "See the caveats in the documentation: https://pandas.pydata.org/pandas-docs/stable/user_guide/indexing.html#returning-a-view-versus-a-copy\n",
      "  self._setitem_single_block(indexer, value, name)\n",
      "/opt/conda/lib/python3.9/site-packages/pandas/core/indexing.py:692: SettingWithCopyWarning: \n",
      "A value is trying to be set on a copy of a slice from a DataFrame\n",
      "\n",
      "See the caveats in the documentation: https://pandas.pydata.org/pandas-docs/stable/user_guide/indexing.html#returning-a-view-versus-a-copy\n",
      "  iloc._setitem_with_indexer(indexer, value, self.name)\n",
      "/tmp/ipykernel_31/1191553689.py:16: SettingWithCopyWarning: \n",
      "A value is trying to be set on a copy of a slice from a DataFrame.\n",
      "Try using .loc[row_indexer,col_indexer] = value instead\n",
      "\n",
      "See the caveats in the documentation: https://pandas.pydata.org/pandas-docs/stable/user_guide/indexing.html#returning-a-view-versus-a-copy\n",
      "  features_valid_2[numeric] = scaler_2.transform(features_valid_2[numeric])\n",
      "/opt/conda/lib/python3.9/site-packages/pandas/core/indexing.py:1637: SettingWithCopyWarning: \n",
      "A value is trying to be set on a copy of a slice from a DataFrame\n",
      "\n",
      "See the caveats in the documentation: https://pandas.pydata.org/pandas-docs/stable/user_guide/indexing.html#returning-a-view-versus-a-copy\n",
      "  self._setitem_single_block(indexer, value, name)\n",
      "/opt/conda/lib/python3.9/site-packages/pandas/core/indexing.py:692: SettingWithCopyWarning: \n",
      "A value is trying to be set on a copy of a slice from a DataFrame\n",
      "\n",
      "See the caveats in the documentation: https://pandas.pydata.org/pandas-docs/stable/user_guide/indexing.html#returning-a-view-versus-a-copy\n",
      "  iloc._setitem_with_indexer(indexer, value, self.name)\n"
     ]
    }
   ],
   "source": [
    "numeric = ['f0', 'f1', 'f2']\n",
    "\n",
    "scaler_0 = StandardScaler()\n",
    "scaler_0.fit(features_train_0[numeric])\n",
    "features_train_0[numeric] = scaler_0.transform(features_train_0[numeric])\n",
    "features_valid_0[numeric] = scaler_0.transform(features_valid_0[numeric])\n",
    "\n",
    "scaler_1 = StandardScaler()\n",
    "scaler_1.fit(features_train_1[numeric])\n",
    "features_train_1[numeric] = scaler_1.transform(features_train_1[numeric])\n",
    "features_valid_1[numeric] = scaler_1.transform(features_valid_1[numeric])\n",
    "\n",
    "scaler_2 = StandardScaler()\n",
    "scaler_2.fit(features_train_2[numeric])\n",
    "features_train_2[numeric] = scaler_2.transform(features_train_2[numeric])\n",
    "features_valid_2[numeric] = scaler_2.transform(features_valid_2[numeric])\n",
    "\n",
    "print('features_train_0:')\n",
    "print(features_train_0.shape)\n",
    "print(features_valid_0.shape)\n",
    "print()\n",
    "\n",
    "print('features_train_1:')\n",
    "print(features_train_1.shape)\n",
    "print(features_valid_1.shape)\n",
    "print()\n",
    "\n",
    "print('features_train_2:')\n",
    "print(features_train_2.shape)\n",
    "print(features_valid_2.shape)"
   ]
  },
  {
   "cell_type": "markdown",
   "metadata": {},
   "source": [
    "## Обучение и проверка модели"
   ]
  },
  {
   "cell_type": "code",
   "execution_count": 9,
   "metadata": {},
   "outputs": [
    {
     "name": "stdout",
     "output_type": "stream",
     "text": [
      "Результаты обучения модели для нулевой области:\n",
      "MSE = 1412.2129364399243\n",
      "RMSE = 37.5794217150813\n",
      "R2 = 0.27994321524487786\n",
      "Средний запас предсказанного сырья: 92.59256778438035\n",
      "\n",
      "Результаты обучения модели для первой области:\n",
      "MSE = 0.7976263360391157\n",
      "RMSE = 0.893099286775617\n",
      "R2 = 0.9996233978805127\n",
      "Средний запас предсказанного сырья: 68.728546895446\n",
      "\n",
      "Результаты обучения модели для второй области:\n",
      "MSE = 1602.3775813236196\n",
      "RMSE = 40.02970873393434\n",
      "R2 = 0.20524758386040443\n",
      "Средний запас предсказанного сырья: 94.96504596800489\n"
     ]
    }
   ],
   "source": [
    "def modelfit(features, target, features_valid, target_valid):\n",
    "    model = LinearRegression()\n",
    "    model.fit(features, target)\n",
    "    prediction = model.predict(features_valid)\n",
    "    print('MSE =', mean_squared_error(target_valid, prediction))\n",
    "    print('RMSE =', mean_squared_error(target_valid, prediction) ** 0.5)\n",
    "    print('R2 =', r2_score(target_valid, prediction))\n",
    "    print('Средний запас предсказанного сырья:', prediction.mean())\n",
    "    return prediction\n",
    "\n",
    "print('Результаты обучения модели для нулевой области:')\n",
    "predictions_valid_0 = modelfit(features_train_0, target_train_0, features_valid_0, target_valid_0)\n",
    "print()\n",
    "\n",
    "print('Результаты обучения модели для первой области:')\n",
    "predictions_valid_1 = modelfit(features_train_1, target_train_1, features_valid_1, target_valid_1)\n",
    "print()\n",
    "\n",
    "print('Результаты обучения модели для второй области:')\n",
    "predictions_valid_2 = modelfit(features_train_2, target_train_2, features_valid_2, target_valid_2)"
   ]
  },
  {
   "cell_type": "markdown",
   "metadata": {},
   "source": [
    "У нулевой модели самое наименьшее значение квадрата среднеквадратичной ошибки, что говорит о меньшем кол-ве грубых ошибок по сравнению с остальными моделями."
   ]
  },
  {
   "cell_type": "markdown",
   "metadata": {},
   "source": [
    "## Подготовка к расчёту прибыли"
   ]
  },
  {
   "cell_type": "markdown",
   "metadata": {},
   "source": [
    "Создадим переменные для расчёта прибыли и функцию для подсчёта выручки."
   ]
  },
  {
   "cell_type": "code",
   "execution_count": 10,
   "metadata": {},
   "outputs": [
    {
     "name": "stdout",
     "output_type": "stream",
     "text": [
      "Нулева область добычи: 3320826043.1398506\n",
      "Первая область добычи: 2415086696.681511\n",
      "Вторая область добычи: 2710349963.5998325\n"
     ]
    }
   ],
   "source": [
    "predictions_valid_0_copy = pd.Series(predictions_valid_0)\n",
    "predictions_valid_1_copy = pd.Series(predictions_valid_1)\n",
    "predictions_valid_2_copy = pd.Series(predictions_valid_2)\n",
    "\n",
    "\n",
    "predictions_valid_0_series = pd.Series(predictions_valid_0)\n",
    "target_valid_0 = pd.Series(target_valid_0)\n",
    "\n",
    "predictions_valid_1_series = pd.Series(predictions_valid_1)\n",
    "target_valid_1 = pd.Series(target_valid_1)\n",
    "\n",
    "predictions_valid_2_series = pd.Series(predictions_valid_2)\n",
    "target_valid_2 = pd.Series(target_valid_2)\n",
    "\n",
    "target_valid_0 = target_valid_0.reset_index(drop = True)\n",
    "predictions_valid_0_series = predictions_valid_0_series.reset_index(drop = True)\n",
    "\n",
    "target_valid_1 = target_valid_1.reset_index(drop = True)\n",
    "predictions_valid_1_series = predictions_valid_1_series.reset_index(drop = True)\n",
    "\n",
    "target_valid_2 = target_valid_2.reset_index(drop = True)\n",
    "predictions_valid_2_series = predictions_valid_2_series.reset_index(drop = True)\n",
    "\n",
    "BUDGET = 10_000_000_000\n",
    "REVENUE = 450_000\n",
    "N_DOT = 200\n",
    "\n",
    "def profit(target, predicted):\n",
    "    pred_sorted = predicted.sort_values(ascending = False)\n",
    "    selected = target[pred_sorted.index][:N_DOT]\n",
    "    return REVENUE * selected.sum() - BUDGET\n",
    "\n",
    "res_0 = profit(target_valid_0, predictions_valid_0_copy)\n",
    "res_1 = profit(target_valid_1, predictions_valid_1_copy)\n",
    "res_2 = profit(target_valid_2, predictions_valid_2_copy)\n",
    "\n",
    "\n",
    "print('Нулева область добычи:', res_0)\n",
    "print('Первая область добычи:', res_1)\n",
    "print('Вторая область добычи:', res_2)"
   ]
  },
  {
   "cell_type": "markdown",
   "metadata": {},
   "source": [
    "Наибольшая прибыль достигается в первой области."
   ]
  },
  {
   "cell_type": "markdown",
   "metadata": {},
   "source": [
    "## Расчёт прибыли и рисков "
   ]
  },
  {
   "cell_type": "code",
   "execution_count": 11,
   "metadata": {},
   "outputs": [
    {
     "name": "stdout",
     "output_type": "stream",
     "text": [
      "Нулевая область:\n",
      "Среднее: 425938526.91059244\n",
      "Интервал: -102090094.83793654 - 947976353.3583689\n",
      "Риск убытков: 6.0 %\n",
      "\n",
      "Первая область:\n",
      "Среднее: 518259493.6973249\n",
      "Интервал: 128123231.43308444 - 953612982.0669085\n",
      "Риск убытков: 0.3 %\n",
      "\n",
      "Вторая область:\n",
      "Среднее: 420194005.3440501\n",
      "Интервал: -115852609.16001143 - 989629939.8445739\n",
      "Риск убытков: 6.2 %\n",
      "CPU times: user 3.98 s, sys: 0 ns, total: 3.98 s\n",
      "Wall time: 4 s\n"
     ]
    }
   ],
   "source": [
    "%%time\n",
    "\n",
    "state = np.random.RandomState(12345)\n",
    "\n",
    "def boost(target, prediction):\n",
    "    values = []\n",
    "    for i in range(1000):\n",
    "        target_subsample = target.sample(n = 500, replace = True, random_state = state)\n",
    "        probs_subsample = prediction[target_subsample.index]\n",
    "        values.append(profit(target_subsample, probs_subsample))\n",
    "    values = pd.Series(values)\n",
    "    print('Среднее:', values.mean())\n",
    "    print('Интервал:', values.quantile(0.025), '-', values.quantile(0.975))\n",
    "    counter = 0\n",
    "    for elem in values:\n",
    "        if elem < 0:\n",
    "            counter += 1\n",
    "        else:\n",
    "            counter += 0\n",
    "    print('Риск убытков:', counter / len(values) * 100, '%')\n",
    "\n",
    "print('Нулевая область:')\n",
    "boost(target_valid_0, predictions_valid_0_series)\n",
    "print()\n",
    "\n",
    "print('Первая область:')\n",
    "boost(target_valid_1, predictions_valid_1_series)\n",
    "print()\n",
    "\n",
    "print('Вторая область:')\n",
    "boost(target_valid_2, predictions_valid_2_series)"
   ]
  },
  {
   "cell_type": "markdown",
   "metadata": {},
   "source": [
    "Для самой прибыльной области (первой):\n",
    "\n",
    "Средняя прибыль максимальна из всех областей. И с вероятностью 95% прибыль может быть от 128000000 до 953000000."
   ]
  },
  {
   "cell_type": "markdown",
   "metadata": {},
   "source": [
    "## Выводы"
   ]
  },
  {
   "cell_type": "markdown",
   "metadata": {},
   "source": [
    "Для исследования были предоставлены данные трёх областей по добычи нефти. В данных не было пропусков все значени корректны. Для каждой области были обучены модели линейной регрессии. Для дальнейших расчётов была выбранна нулевая модель соответственно и нулева область. Для вычисления возможной доходности скважин в области была использована техника bootstrap. В данной области возможен самый высокий доход, посравнению с остальными областями."
   ]
  }
 ],
 "metadata": {
  "ExecuteTimeLog": [
   {
    "duration": 390,
    "start_time": "2022-10-07T09:44:49.202Z"
   },
   {
    "duration": 755,
    "start_time": "2022-10-07T09:48:09.779Z"
   },
   {
    "duration": 381,
    "start_time": "2022-10-07T09:48:42.257Z"
   },
   {
    "duration": 414,
    "start_time": "2022-10-07T09:49:04.671Z"
   },
   {
    "duration": 383,
    "start_time": "2022-10-07T09:49:13.592Z"
   },
   {
    "duration": 393,
    "start_time": "2022-10-07T09:49:43.494Z"
   },
   {
    "duration": 410,
    "start_time": "2022-10-07T09:50:01.568Z"
   },
   {
    "duration": 161,
    "start_time": "2022-10-07T09:54:46.095Z"
   },
   {
    "duration": 49,
    "start_time": "2022-10-07T09:56:25.009Z"
   },
   {
    "duration": 405,
    "start_time": "2022-10-07T09:56:35.681Z"
   },
   {
    "duration": 406,
    "start_time": "2022-10-07T10:01:35.023Z"
   },
   {
    "duration": 1405,
    "start_time": "2022-10-07T10:01:58.138Z"
   },
   {
    "duration": 1221,
    "start_time": "2022-10-07T10:03:03.063Z"
   },
   {
    "duration": 1143,
    "start_time": "2022-10-07T10:03:17.812Z"
   },
   {
    "duration": 1492,
    "start_time": "2022-10-07T10:05:03.215Z"
   },
   {
    "duration": 1454,
    "start_time": "2022-10-07T10:05:32.729Z"
   },
   {
    "duration": 1447,
    "start_time": "2022-10-07T10:05:50.878Z"
   },
   {
    "duration": 47,
    "start_time": "2022-10-07T10:05:58.140Z"
   },
   {
    "duration": 1501,
    "start_time": "2022-10-07T10:06:01.101Z"
   },
   {
    "duration": 710,
    "start_time": "2022-10-07T10:55:20.728Z"
   },
   {
    "duration": 428,
    "start_time": "2022-10-07T10:55:22.280Z"
   },
   {
    "duration": 1308,
    "start_time": "2022-10-07T10:55:22.889Z"
   },
   {
    "duration": 9,
    "start_time": "2022-10-07T10:55:24.199Z"
   },
   {
    "duration": 86,
    "start_time": "2022-10-07T11:02:57.316Z"
   },
   {
    "duration": 47,
    "start_time": "2022-10-07T11:07:39.408Z"
   },
   {
    "duration": 3,
    "start_time": "2022-10-07T11:07:47.661Z"
   },
   {
    "duration": 423,
    "start_time": "2022-10-07T11:07:48.285Z"
   },
   {
    "duration": 1192,
    "start_time": "2022-10-07T11:07:48.921Z"
   },
   {
    "duration": 54,
    "start_time": "2022-10-07T11:07:50.115Z"
   },
   {
    "duration": 83,
    "start_time": "2022-10-07T11:11:09.416Z"
   },
   {
    "duration": 100,
    "start_time": "2022-10-07T11:11:37.917Z"
   },
   {
    "duration": 108,
    "start_time": "2022-10-07T11:13:52.640Z"
   },
   {
    "duration": 116,
    "start_time": "2022-10-07T11:14:18.491Z"
   },
   {
    "duration": 3,
    "start_time": "2022-10-07T14:41:46.509Z"
   },
   {
    "duration": 422,
    "start_time": "2022-10-07T14:41:48.008Z"
   },
   {
    "duration": 1358,
    "start_time": "2022-10-07T14:41:48.581Z"
   },
   {
    "duration": 104,
    "start_time": "2022-10-07T14:41:49.941Z"
   },
   {
    "duration": 110,
    "start_time": "2022-10-07T14:46:51.620Z"
   },
   {
    "duration": 132,
    "start_time": "2022-10-07T15:00:40.385Z"
   },
   {
    "duration": 165,
    "start_time": "2022-10-07T15:00:53.543Z"
   },
   {
    "duration": 8,
    "start_time": "2022-10-07T15:01:35.904Z"
   },
   {
    "duration": 20,
    "start_time": "2022-10-07T15:02:35.992Z"
   },
   {
    "duration": 420,
    "start_time": "2022-10-07T15:02:36.893Z"
   },
   {
    "duration": 1302,
    "start_time": "2022-10-07T15:02:37.918Z"
   },
   {
    "duration": 107,
    "start_time": "2022-10-07T15:02:40.297Z"
   },
   {
    "duration": 141,
    "start_time": "2022-10-07T15:02:41.316Z"
   },
   {
    "duration": 59,
    "start_time": "2022-10-07T15:02:42.934Z"
   },
   {
    "duration": 1228,
    "start_time": "2022-10-07T15:09:39.697Z"
   },
   {
    "duration": 5,
    "start_time": "2022-10-07T15:09:44.684Z"
   },
   {
    "duration": 430,
    "start_time": "2022-10-07T15:09:45.421Z"
   },
   {
    "duration": 1383,
    "start_time": "2022-10-07T15:09:46.285Z"
   },
   {
    "duration": 48,
    "start_time": "2022-10-07T15:09:47.670Z"
   },
   {
    "duration": 29,
    "start_time": "2022-10-07T15:09:47.786Z"
   },
   {
    "duration": 96,
    "start_time": "2022-10-07T15:09:52.343Z"
   },
   {
    "duration": 1401,
    "start_time": "2022-10-07T15:10:10.884Z"
   },
   {
    "duration": 1352,
    "start_time": "2022-10-07T15:10:18.862Z"
   },
   {
    "duration": 3,
    "start_time": "2022-10-07T15:11:31.460Z"
   },
   {
    "duration": 416,
    "start_time": "2022-10-07T15:11:32.574Z"
   },
   {
    "duration": 1152,
    "start_time": "2022-10-07T15:11:33.364Z"
   },
   {
    "duration": 45,
    "start_time": "2022-10-07T15:11:34.518Z"
   },
   {
    "duration": 28,
    "start_time": "2022-10-07T15:11:35.300Z"
   },
   {
    "duration": 25,
    "start_time": "2022-10-07T15:11:36.614Z"
   },
   {
    "duration": 28,
    "start_time": "2022-10-07T15:11:47.223Z"
   },
   {
    "duration": 175,
    "start_time": "2022-10-07T15:18:46.265Z"
   },
   {
    "duration": 104,
    "start_time": "2022-10-07T15:19:14.342Z"
   },
   {
    "duration": 39,
    "start_time": "2022-10-07T15:37:07.501Z"
   },
   {
    "duration": 6,
    "start_time": "2022-10-07T15:50:20.507Z"
   },
   {
    "duration": 8,
    "start_time": "2022-10-07T15:50:33.107Z"
   },
   {
    "duration": 3,
    "start_time": "2022-10-07T15:51:51.819Z"
   },
   {
    "duration": 370,
    "start_time": "2022-10-07T15:51:52.754Z"
   },
   {
    "duration": 1133,
    "start_time": "2022-10-07T15:51:53.546Z"
   },
   {
    "duration": 38,
    "start_time": "2022-10-07T15:51:54.680Z"
   },
   {
    "duration": 28,
    "start_time": "2022-10-07T15:51:55.157Z"
   },
   {
    "duration": 43,
    "start_time": "2022-10-07T15:53:43.095Z"
   },
   {
    "duration": 7,
    "start_time": "2022-10-07T15:53:44.958Z"
   },
   {
    "duration": 3,
    "start_time": "2022-10-07T15:59:12.832Z"
   },
   {
    "duration": 373,
    "start_time": "2022-10-07T15:59:13.890Z"
   },
   {
    "duration": 1092,
    "start_time": "2022-10-07T15:59:14.536Z"
   },
   {
    "duration": 34,
    "start_time": "2022-10-07T15:59:15.638Z"
   },
   {
    "duration": 28,
    "start_time": "2022-10-07T15:59:15.711Z"
   },
   {
    "duration": 77,
    "start_time": "2022-10-07T15:59:16.364Z"
   },
   {
    "duration": 67,
    "start_time": "2022-10-07T15:59:33.173Z"
   },
   {
    "duration": 1018,
    "start_time": "2022-10-09T10:14:29.409Z"
   },
   {
    "duration": 809,
    "start_time": "2022-10-09T10:14:30.712Z"
   },
   {
    "duration": 48,
    "start_time": "2022-10-09T10:56:13.475Z"
   },
   {
    "duration": 16,
    "start_time": "2022-10-09T10:56:52.844Z"
   },
   {
    "duration": 26,
    "start_time": "2022-10-09T10:59:54.277Z"
   },
   {
    "duration": 36,
    "start_time": "2022-10-09T11:03:25.094Z"
   },
   {
    "duration": 8,
    "start_time": "2022-10-09T11:04:06.361Z"
   },
   {
    "duration": 101,
    "start_time": "2022-10-09T11:08:50.486Z"
   },
   {
    "duration": 45,
    "start_time": "2022-10-09T11:08:56.819Z"
   },
   {
    "duration": 39,
    "start_time": "2022-10-09T11:09:12.623Z"
   },
   {
    "duration": 44,
    "start_time": "2022-10-09T11:09:23.101Z"
   },
   {
    "duration": 39,
    "start_time": "2022-10-09T11:09:28.778Z"
   },
   {
    "duration": 59,
    "start_time": "2022-10-09T11:09:44.428Z"
   },
   {
    "duration": 192,
    "start_time": "2022-10-09T11:10:55.612Z"
   },
   {
    "duration": 14,
    "start_time": "2022-10-09T11:11:08.658Z"
   },
   {
    "duration": 226,
    "start_time": "2022-10-09T11:14:57.177Z"
   },
   {
    "duration": 15,
    "start_time": "2022-10-09T11:15:01.690Z"
   },
   {
    "duration": 165,
    "start_time": "2022-10-09T11:18:38.543Z"
   },
   {
    "duration": 18,
    "start_time": "2022-10-09T11:20:28.831Z"
   },
   {
    "duration": 5,
    "start_time": "2022-10-09T14:17:31.062Z"
   },
   {
    "duration": 16,
    "start_time": "2022-10-09T14:17:42.551Z"
   },
   {
    "duration": 15,
    "start_time": "2022-10-09T14:18:51.515Z"
   },
   {
    "duration": 14,
    "start_time": "2022-10-09T14:19:25.903Z"
   },
   {
    "duration": 14,
    "start_time": "2022-10-09T14:20:29.304Z"
   },
   {
    "duration": 14,
    "start_time": "2022-10-09T14:21:23.652Z"
   },
   {
    "duration": 14,
    "start_time": "2022-10-09T14:21:26.540Z"
   },
   {
    "duration": 18,
    "start_time": "2022-10-09T14:21:28.079Z"
   },
   {
    "duration": 15,
    "start_time": "2022-10-09T14:22:03.316Z"
   },
   {
    "duration": 155,
    "start_time": "2022-10-09T14:50:07.150Z"
   },
   {
    "duration": 226,
    "start_time": "2022-10-09T14:50:11.979Z"
   },
   {
    "duration": 15,
    "start_time": "2022-10-09T14:50:16.491Z"
   },
   {
    "duration": 14,
    "start_time": "2022-10-09T14:50:33.281Z"
   },
   {
    "duration": 17,
    "start_time": "2022-10-09T14:50:46.829Z"
   },
   {
    "duration": 19,
    "start_time": "2022-10-09T14:50:50.031Z"
   },
   {
    "duration": 15,
    "start_time": "2022-10-09T14:51:43.474Z"
   },
   {
    "duration": 15,
    "start_time": "2022-10-09T14:51:54.004Z"
   },
   {
    "duration": 14,
    "start_time": "2022-10-09T14:52:03.605Z"
   },
   {
    "duration": 15,
    "start_time": "2022-10-09T14:52:14.305Z"
   },
   {
    "duration": 16,
    "start_time": "2022-10-09T14:52:18.230Z"
   },
   {
    "duration": 15,
    "start_time": "2022-10-09T14:52:23.384Z"
   },
   {
    "duration": 15,
    "start_time": "2022-10-09T14:52:23.829Z"
   },
   {
    "duration": 15,
    "start_time": "2022-10-09T14:52:25.380Z"
   },
   {
    "duration": 58,
    "start_time": "2022-10-09T14:56:44.837Z"
   },
   {
    "duration": 3,
    "start_time": "2022-10-09T15:11:15.651Z"
   },
   {
    "duration": 421,
    "start_time": "2022-10-09T15:11:16.988Z"
   },
   {
    "duration": 14,
    "start_time": "2022-10-09T15:11:17.499Z"
   },
   {
    "duration": 26,
    "start_time": "2022-10-09T15:11:17.976Z"
   },
   {
    "duration": 6,
    "start_time": "2022-10-09T15:11:18.462Z"
   },
   {
    "duration": 40,
    "start_time": "2022-10-09T15:11:18.939Z"
   },
   {
    "duration": 40,
    "start_time": "2022-10-09T15:11:19.662Z"
   },
   {
    "duration": 16,
    "start_time": "2022-10-09T15:11:21.151Z"
   },
   {
    "duration": 16,
    "start_time": "2022-10-09T15:11:21.887Z"
   },
   {
    "duration": 9,
    "start_time": "2022-10-09T15:14:00.215Z"
   },
   {
    "duration": 3,
    "start_time": "2022-10-09T15:14:33.377Z"
   },
   {
    "duration": 379,
    "start_time": "2022-10-09T15:14:36.103Z"
   },
   {
    "duration": 13,
    "start_time": "2022-10-09T15:14:36.538Z"
   },
   {
    "duration": 26,
    "start_time": "2022-10-09T15:14:36.927Z"
   },
   {
    "duration": 5,
    "start_time": "2022-10-09T15:14:37.291Z"
   },
   {
    "duration": 40,
    "start_time": "2022-10-09T15:14:37.652Z"
   },
   {
    "duration": 17,
    "start_time": "2022-10-09T15:14:38.214Z"
   },
   {
    "duration": 15,
    "start_time": "2022-10-09T15:14:38.589Z"
   },
   {
    "duration": 15,
    "start_time": "2022-10-09T15:14:39.052Z"
   },
   {
    "duration": 8,
    "start_time": "2022-10-09T15:14:39.615Z"
   },
   {
    "duration": 9,
    "start_time": "2022-10-09T15:17:13.254Z"
   },
   {
    "duration": 6,
    "start_time": "2022-10-09T15:17:18.991Z"
   },
   {
    "duration": 11,
    "start_time": "2022-10-09T16:38:41.181Z"
   },
   {
    "duration": 10,
    "start_time": "2022-10-09T16:54:08.971Z"
   },
   {
    "duration": 14,
    "start_time": "2022-10-09T16:54:24.599Z"
   },
   {
    "duration": 10,
    "start_time": "2022-10-09T16:56:47.738Z"
   },
   {
    "duration": 17,
    "start_time": "2022-10-09T16:57:18.100Z"
   },
   {
    "duration": 10,
    "start_time": "2022-10-09T16:57:26.639Z"
   },
   {
    "duration": 10,
    "start_time": "2022-10-09T16:59:54.702Z"
   },
   {
    "duration": 10,
    "start_time": "2022-10-09T17:02:29.607Z"
   },
   {
    "duration": 11,
    "start_time": "2022-10-09T17:02:46.644Z"
   },
   {
    "duration": 8,
    "start_time": "2022-10-09T17:10:08.359Z"
   },
   {
    "duration": 12,
    "start_time": "2022-10-09T17:10:21.302Z"
   },
   {
    "duration": 20,
    "start_time": "2022-10-09T17:10:31.252Z"
   },
   {
    "duration": 11,
    "start_time": "2022-10-09T17:10:38.691Z"
   },
   {
    "duration": 20,
    "start_time": "2022-10-09T17:12:02.682Z"
   },
   {
    "duration": 12,
    "start_time": "2022-10-09T17:12:25.116Z"
   },
   {
    "duration": 13,
    "start_time": "2022-10-09T17:14:18.780Z"
   },
   {
    "duration": 12,
    "start_time": "2022-10-09T17:14:25.792Z"
   },
   {
    "duration": 12,
    "start_time": "2022-10-09T17:14:32.242Z"
   },
   {
    "duration": 8,
    "start_time": "2022-10-09T17:14:59.455Z"
   },
   {
    "duration": 1043,
    "start_time": "2022-10-10T09:07:48.521Z"
   },
   {
    "duration": 915,
    "start_time": "2022-10-10T09:07:49.566Z"
   },
   {
    "duration": 18,
    "start_time": "2022-10-10T09:07:50.483Z"
   },
   {
    "duration": 58,
    "start_time": "2022-10-10T09:07:50.504Z"
   },
   {
    "duration": 20,
    "start_time": "2022-10-10T09:07:50.564Z"
   },
   {
    "duration": 63,
    "start_time": "2022-10-10T09:07:50.586Z"
   },
   {
    "duration": 42,
    "start_time": "2022-10-10T09:07:50.651Z"
   },
   {
    "duration": 184,
    "start_time": "2022-10-10T09:07:50.695Z"
   },
   {
    "duration": 114,
    "start_time": "2022-10-10T09:07:50.884Z"
   },
   {
    "duration": 84,
    "start_time": "2022-10-10T09:07:51.004Z"
   },
   {
    "duration": 99,
    "start_time": "2022-10-10T09:07:51.092Z"
   },
   {
    "duration": 108,
    "start_time": "2022-10-10T09:07:51.193Z"
   },
   {
    "duration": 17,
    "start_time": "2022-10-10T09:08:43.165Z"
   },
   {
    "duration": 11,
    "start_time": "2022-10-10T09:08:50.082Z"
   },
   {
    "duration": 17,
    "start_time": "2022-10-10T09:12:06.471Z"
   },
   {
    "duration": 3,
    "start_time": "2022-10-10T09:12:13.134Z"
   },
   {
    "duration": 427,
    "start_time": "2022-10-10T09:12:13.815Z"
   },
   {
    "duration": 15,
    "start_time": "2022-10-10T09:12:14.421Z"
   },
   {
    "duration": 32,
    "start_time": "2022-10-10T09:12:14.995Z"
   },
   {
    "duration": 8,
    "start_time": "2022-10-10T09:12:15.582Z"
   },
   {
    "duration": 51,
    "start_time": "2022-10-10T09:12:16.420Z"
   },
   {
    "duration": 20,
    "start_time": "2022-10-10T09:12:17.345Z"
   },
   {
    "duration": 17,
    "start_time": "2022-10-10T09:12:18.244Z"
   },
   {
    "duration": 16,
    "start_time": "2022-10-10T09:12:19.045Z"
   },
   {
    "duration": 9,
    "start_time": "2022-10-10T09:12:20.157Z"
   },
   {
    "duration": 16,
    "start_time": "2022-10-10T09:12:21.209Z"
   },
   {
    "duration": 16,
    "start_time": "2022-10-10T09:12:22.259Z"
   },
   {
    "duration": 18,
    "start_time": "2022-10-10T09:16:11.609Z"
   },
   {
    "duration": 15,
    "start_time": "2022-10-10T09:16:40.198Z"
   },
   {
    "duration": 13,
    "start_time": "2022-10-10T09:16:53.895Z"
   },
   {
    "duration": 14,
    "start_time": "2022-10-10T09:20:03.837Z"
   },
   {
    "duration": 12,
    "start_time": "2022-10-10T09:20:08.899Z"
   },
   {
    "duration": 11,
    "start_time": "2022-10-10T09:22:35.563Z"
   },
   {
    "duration": 14,
    "start_time": "2022-10-10T09:22:39.165Z"
   },
   {
    "duration": 17,
    "start_time": "2022-10-10T09:59:51.085Z"
   },
   {
    "duration": 16,
    "start_time": "2022-10-10T10:00:00.411Z"
   },
   {
    "duration": 3,
    "start_time": "2022-10-10T10:00:05.073Z"
   },
   {
    "duration": 375,
    "start_time": "2022-10-10T10:00:05.395Z"
   },
   {
    "duration": 12,
    "start_time": "2022-10-10T10:00:05.777Z"
   },
   {
    "duration": 27,
    "start_time": "2022-10-10T10:00:06.260Z"
   },
   {
    "duration": 6,
    "start_time": "2022-10-10T10:00:06.847Z"
   },
   {
    "duration": 41,
    "start_time": "2022-10-10T10:00:07.459Z"
   },
   {
    "duration": 15,
    "start_time": "2022-10-10T10:00:08.621Z"
   },
   {
    "duration": 15,
    "start_time": "2022-10-10T10:00:09.158Z"
   },
   {
    "duration": 16,
    "start_time": "2022-10-10T10:00:09.830Z"
   },
   {
    "duration": 14,
    "start_time": "2022-10-10T10:00:11.147Z"
   },
   {
    "duration": 13,
    "start_time": "2022-10-10T10:00:12.422Z"
   },
   {
    "duration": 17,
    "start_time": "2022-10-10T10:00:12.737Z"
   },
   {
    "duration": 18,
    "start_time": "2022-10-10T10:00:20.160Z"
   },
   {
    "duration": 21,
    "start_time": "2022-10-10T10:00:55.798Z"
   },
   {
    "duration": 3205,
    "start_time": "2022-10-10T10:02:10.199Z"
   },
   {
    "duration": 19,
    "start_time": "2022-10-10T10:04:47.601Z"
   },
   {
    "duration": 15,
    "start_time": "2022-10-10T10:05:00.617Z"
   },
   {
    "duration": 5,
    "start_time": "2022-10-10T10:05:12.963Z"
   },
   {
    "duration": 405,
    "start_time": "2022-10-10T10:05:13.408Z"
   },
   {
    "duration": 13,
    "start_time": "2022-10-10T10:05:13.815Z"
   },
   {
    "duration": 30,
    "start_time": "2022-10-10T10:05:14.251Z"
   },
   {
    "duration": 7,
    "start_time": "2022-10-10T10:05:14.690Z"
   },
   {
    "duration": 51,
    "start_time": "2022-10-10T10:05:15.127Z"
   },
   {
    "duration": 21,
    "start_time": "2022-10-10T10:05:15.788Z"
   },
   {
    "duration": 16,
    "start_time": "2022-10-10T10:05:16.250Z"
   },
   {
    "duration": 17,
    "start_time": "2022-10-10T10:05:16.688Z"
   },
   {
    "duration": 19,
    "start_time": "2022-10-10T10:05:17.388Z"
   },
   {
    "duration": 14,
    "start_time": "2022-10-10T10:05:17.882Z"
   },
   {
    "duration": 3497,
    "start_time": "2022-10-10T10:05:18.092Z"
   },
   {
    "duration": 17,
    "start_time": "2022-10-10T10:05:21.591Z"
   },
   {
    "duration": 1233,
    "start_time": "2022-10-10T14:50:17.324Z"
   },
   {
    "duration": 832,
    "start_time": "2022-10-10T14:50:18.559Z"
   },
   {
    "duration": 14,
    "start_time": "2022-10-10T14:50:19.393Z"
   },
   {
    "duration": 58,
    "start_time": "2022-10-10T14:50:19.409Z"
   },
   {
    "duration": 9,
    "start_time": "2022-10-10T14:50:19.468Z"
   },
   {
    "duration": 62,
    "start_time": "2022-10-10T14:50:19.478Z"
   },
   {
    "duration": 96,
    "start_time": "2022-10-10T14:50:19.542Z"
   },
   {
    "duration": 109,
    "start_time": "2022-10-10T14:50:19.640Z"
   },
   {
    "duration": 202,
    "start_time": "2022-10-10T14:50:19.752Z"
   },
   {
    "duration": 189,
    "start_time": "2022-10-10T14:50:19.958Z"
   },
   {
    "duration": 13,
    "start_time": "2022-10-10T14:50:20.149Z"
   },
   {
    "duration": 3487,
    "start_time": "2022-10-10T14:50:20.163Z"
   },
   {
    "duration": 108,
    "start_time": "2022-10-10T14:50:23.652Z"
   },
   {
    "duration": 10,
    "start_time": "2022-10-10T15:05:21.219Z"
   },
   {
    "duration": 19,
    "start_time": "2022-10-10T15:06:01.884Z"
   },
   {
    "duration": 14,
    "start_time": "2022-10-10T15:08:32.799Z"
   },
   {
    "duration": 18,
    "start_time": "2022-10-10T15:08:41.913Z"
   },
   {
    "duration": 19,
    "start_time": "2022-10-10T15:08:56.250Z"
   },
   {
    "duration": 17,
    "start_time": "2022-10-10T15:10:27.678Z"
   },
   {
    "duration": 20,
    "start_time": "2022-10-10T15:10:45.914Z"
   },
   {
    "duration": 16,
    "start_time": "2022-10-10T15:10:51.264Z"
   },
   {
    "duration": 17,
    "start_time": "2022-10-10T15:24:27.646Z"
   },
   {
    "duration": 18,
    "start_time": "2022-10-10T15:27:31.523Z"
   },
   {
    "duration": 17,
    "start_time": "2022-10-10T15:28:05.403Z"
   },
   {
    "duration": 21,
    "start_time": "2022-10-10T15:28:36.612Z"
   },
   {
    "duration": 17,
    "start_time": "2022-10-10T15:30:04.137Z"
   },
   {
    "duration": 17,
    "start_time": "2022-10-10T15:32:07.013Z"
   },
   {
    "duration": 21,
    "start_time": "2022-10-10T15:33:18.081Z"
   },
   {
    "duration": 1062,
    "start_time": "2022-10-10T15:33:26.147Z"
   },
   {
    "duration": 534,
    "start_time": "2022-10-10T15:33:27.211Z"
   },
   {
    "duration": 16,
    "start_time": "2022-10-10T15:33:27.747Z"
   },
   {
    "duration": 41,
    "start_time": "2022-10-10T15:33:27.765Z"
   },
   {
    "duration": 6,
    "start_time": "2022-10-10T15:33:27.807Z"
   },
   {
    "duration": 67,
    "start_time": "2022-10-10T15:33:27.815Z"
   },
   {
    "duration": 55,
    "start_time": "2022-10-10T15:33:27.884Z"
   },
   {
    "duration": 109,
    "start_time": "2022-10-10T15:33:27.941Z"
   },
   {
    "duration": 189,
    "start_time": "2022-10-10T15:33:28.052Z"
   },
   {
    "duration": 111,
    "start_time": "2022-10-10T15:33:28.244Z"
   },
   {
    "duration": 13,
    "start_time": "2022-10-10T15:33:28.358Z"
   },
   {
    "duration": 3448,
    "start_time": "2022-10-10T15:33:28.372Z"
   },
   {
    "duration": 106,
    "start_time": "2022-10-10T15:33:31.822Z"
   },
   {
    "duration": 0,
    "start_time": "2022-10-10T15:33:31.929Z"
   },
   {
    "duration": 4,
    "start_time": "2022-10-10T15:34:00.896Z"
   },
   {
    "duration": 22,
    "start_time": "2022-10-10T15:34:03.305Z"
   },
   {
    "duration": 1094,
    "start_time": "2022-10-10T15:34:17.564Z"
   },
   {
    "duration": 481,
    "start_time": "2022-10-10T15:34:18.661Z"
   },
   {
    "duration": 17,
    "start_time": "2022-10-10T15:34:19.146Z"
   },
   {
    "duration": 40,
    "start_time": "2022-10-10T15:34:19.164Z"
   },
   {
    "duration": 7,
    "start_time": "2022-10-10T15:34:19.206Z"
   },
   {
    "duration": 47,
    "start_time": "2022-10-10T15:34:19.239Z"
   },
   {
    "duration": 55,
    "start_time": "2022-10-10T15:34:19.287Z"
   },
   {
    "duration": 112,
    "start_time": "2022-10-10T15:34:19.344Z"
   },
   {
    "duration": 195,
    "start_time": "2022-10-10T15:34:19.460Z"
   },
   {
    "duration": 107,
    "start_time": "2022-10-10T15:34:19.743Z"
   },
   {
    "duration": 13,
    "start_time": "2022-10-10T15:34:19.851Z"
   },
   {
    "duration": 3365,
    "start_time": "2022-10-10T15:34:19.866Z"
   },
   {
    "duration": 9,
    "start_time": "2022-10-10T15:34:23.233Z"
   },
   {
    "duration": 123,
    "start_time": "2022-10-10T15:34:23.244Z"
   },
   {
    "duration": 14,
    "start_time": "2022-10-10T15:36:03.004Z"
   },
   {
    "duration": 11,
    "start_time": "2022-10-10T15:36:24.555Z"
   },
   {
    "duration": 22,
    "start_time": "2022-10-10T15:37:41.380Z"
   },
   {
    "duration": 24,
    "start_time": "2022-10-10T15:38:10.531Z"
   },
   {
    "duration": 1460,
    "start_time": "2022-10-10T15:43:36.497Z"
   },
   {
    "duration": 1512,
    "start_time": "2022-10-10T16:13:33.449Z"
   },
   {
    "duration": 1196,
    "start_time": "2022-10-10T19:25:43.920Z"
   },
   {
    "duration": 869,
    "start_time": "2022-10-10T19:25:45.242Z"
   },
   {
    "duration": 21,
    "start_time": "2022-10-10T19:25:46.641Z"
   },
   {
    "duration": 44,
    "start_time": "2022-10-10T19:25:47.470Z"
   },
   {
    "duration": 8,
    "start_time": "2022-10-10T19:25:48.895Z"
   },
   {
    "duration": 72,
    "start_time": "2022-10-10T19:25:49.809Z"
   },
   {
    "duration": 19,
    "start_time": "2022-10-10T19:25:50.970Z"
   },
   {
    "duration": 19,
    "start_time": "2022-10-10T19:25:51.909Z"
   },
   {
    "duration": 17,
    "start_time": "2022-10-10T19:25:52.662Z"
   },
   {
    "duration": 18,
    "start_time": "2022-10-10T19:25:53.849Z"
   },
   {
    "duration": 16,
    "start_time": "2022-10-10T19:25:55.042Z"
   },
   {
    "duration": 3522,
    "start_time": "2022-10-10T19:25:55.649Z"
   },
   {
    "duration": 4,
    "start_time": "2022-10-10T19:25:59.173Z"
   },
   {
    "duration": 1606,
    "start_time": "2022-10-10T19:25:59.179Z"
   },
   {
    "duration": 1659,
    "start_time": "2022-10-10T19:26:09.442Z"
   },
   {
    "duration": 1577,
    "start_time": "2022-10-10T19:26:16.139Z"
   },
   {
    "duration": 1090,
    "start_time": "2022-10-12T09:37:40.852Z"
   },
   {
    "duration": 1601,
    "start_time": "2022-10-12T09:37:41.944Z"
   },
   {
    "duration": 12,
    "start_time": "2022-10-12T09:37:43.547Z"
   },
   {
    "duration": 34,
    "start_time": "2022-10-12T09:37:43.560Z"
   },
   {
    "duration": 6,
    "start_time": "2022-10-12T09:37:43.596Z"
   },
   {
    "duration": 42,
    "start_time": "2022-10-12T09:37:43.621Z"
   },
   {
    "duration": 61,
    "start_time": "2022-10-12T09:37:43.665Z"
   },
   {
    "duration": 106,
    "start_time": "2022-10-12T09:37:43.728Z"
   },
   {
    "duration": 94,
    "start_time": "2022-10-12T09:37:43.837Z"
   },
   {
    "duration": 99,
    "start_time": "2022-10-12T09:37:44.023Z"
   },
   {
    "duration": 10,
    "start_time": "2022-10-12T09:37:44.124Z"
   },
   {
    "duration": 2940,
    "start_time": "2022-10-12T09:37:44.136Z"
   },
   {
    "duration": 4,
    "start_time": "2022-10-12T09:37:47.078Z"
   },
   {
    "duration": 1374,
    "start_time": "2022-10-12T09:37:47.084Z"
   },
   {
    "duration": 1339,
    "start_time": "2022-10-12T09:41:31.362Z"
   },
   {
    "duration": 13,
    "start_time": "2022-10-12T09:45:49.183Z"
   },
   {
    "duration": 1342,
    "start_time": "2022-10-12T09:47:48.663Z"
   },
   {
    "duration": 1593,
    "start_time": "2022-10-12T09:52:10.998Z"
   },
   {
    "duration": 1383,
    "start_time": "2022-10-12T09:53:23.459Z"
   },
   {
    "duration": 1414,
    "start_time": "2022-10-12T09:53:34.904Z"
   },
   {
    "duration": 1313,
    "start_time": "2022-10-12T09:53:43.517Z"
   },
   {
    "duration": 1360,
    "start_time": "2022-10-12T09:53:45.916Z"
   },
   {
    "duration": 1463,
    "start_time": "2022-10-12T09:54:03.216Z"
   },
   {
    "duration": 1350,
    "start_time": "2022-10-12T09:54:13.705Z"
   },
   {
    "duration": 1368,
    "start_time": "2022-10-12T09:55:54.056Z"
   },
   {
    "duration": 98,
    "start_time": "2022-10-12T10:06:24.660Z"
   },
   {
    "duration": 16,
    "start_time": "2022-10-12T10:18:17.399Z"
   },
   {
    "duration": 12,
    "start_time": "2022-10-12T10:18:23.465Z"
   },
   {
    "duration": 14,
    "start_time": "2022-10-12T10:19:49.252Z"
   },
   {
    "duration": 1304,
    "start_time": "2022-10-12T10:20:27.867Z"
   },
   {
    "duration": 1043,
    "start_time": "2022-10-12T20:41:58.240Z"
   },
   {
    "duration": 715,
    "start_time": "2022-10-12T20:41:59.285Z"
   },
   {
    "duration": 20,
    "start_time": "2022-10-12T20:42:00.863Z"
   },
   {
    "duration": 54,
    "start_time": "2022-10-12T20:42:02.569Z"
   },
   {
    "duration": 8,
    "start_time": "2022-10-12T20:42:03.176Z"
   },
   {
    "duration": 48,
    "start_time": "2022-10-12T20:42:03.867Z"
   },
   {
    "duration": 35,
    "start_time": "2022-10-12T20:42:04.875Z"
   },
   {
    "duration": 15,
    "start_time": "2022-10-12T20:42:05.563Z"
   },
   {
    "duration": 14,
    "start_time": "2022-10-12T20:42:06.227Z"
   },
   {
    "duration": 14,
    "start_time": "2022-10-12T20:42:07.828Z"
   },
   {
    "duration": 12,
    "start_time": "2022-10-12T20:42:08.883Z"
   },
   {
    "duration": 1331,
    "start_time": "2022-10-12T20:42:09.238Z"
   },
   {
    "duration": 1306,
    "start_time": "2022-10-12T20:42:35.601Z"
   },
   {
    "duration": 1001,
    "start_time": "2022-10-13T07:38:45.229Z"
   },
   {
    "duration": 708,
    "start_time": "2022-10-13T07:38:46.232Z"
   },
   {
    "duration": 14,
    "start_time": "2022-10-13T07:38:46.942Z"
   },
   {
    "duration": 49,
    "start_time": "2022-10-13T07:38:46.958Z"
   },
   {
    "duration": 7,
    "start_time": "2022-10-13T07:38:47.009Z"
   },
   {
    "duration": 52,
    "start_time": "2022-10-13T07:38:47.017Z"
   },
   {
    "duration": 31,
    "start_time": "2022-10-13T07:38:47.071Z"
   },
   {
    "duration": 101,
    "start_time": "2022-10-13T07:38:47.104Z"
   },
   {
    "duration": 100,
    "start_time": "2022-10-13T07:38:47.207Z"
   },
   {
    "duration": 101,
    "start_time": "2022-10-13T07:38:47.309Z"
   },
   {
    "duration": 96,
    "start_time": "2022-10-13T07:38:47.413Z"
   },
   {
    "duration": 1400,
    "start_time": "2022-10-13T07:38:47.510Z"
   },
   {
    "duration": 2,
    "start_time": "2022-10-13T08:45:49.181Z"
   },
   {
    "duration": 342,
    "start_time": "2022-10-13T08:45:49.894Z"
   },
   {
    "duration": 12,
    "start_time": "2022-10-13T08:45:50.705Z"
   },
   {
    "duration": 26,
    "start_time": "2022-10-13T08:45:51.242Z"
   },
   {
    "duration": 7,
    "start_time": "2022-10-13T08:45:51.745Z"
   },
   {
    "duration": 39,
    "start_time": "2022-10-13T08:45:52.230Z"
   },
   {
    "duration": 14,
    "start_time": "2022-10-13T08:45:53.030Z"
   },
   {
    "duration": 15,
    "start_time": "2022-10-13T08:45:53.617Z"
   },
   {
    "duration": 16,
    "start_time": "2022-10-13T08:45:54.194Z"
   },
   {
    "duration": 14,
    "start_time": "2022-10-13T08:45:55.432Z"
   },
   {
    "duration": 11,
    "start_time": "2022-10-13T08:45:56.362Z"
   },
   {
    "duration": 1417,
    "start_time": "2022-10-13T08:45:56.942Z"
   },
   {
    "duration": 6553,
    "start_time": "2022-10-13T09:05:54.318Z"
   },
   {
    "duration": 1846,
    "start_time": "2022-10-13T09:06:00.873Z"
   },
   {
    "duration": 19,
    "start_time": "2022-10-13T09:06:02.721Z"
   },
   {
    "duration": 64,
    "start_time": "2022-10-13T09:06:02.741Z"
   },
   {
    "duration": 7,
    "start_time": "2022-10-13T09:06:02.807Z"
   },
   {
    "duration": 95,
    "start_time": "2022-10-13T09:06:02.816Z"
   },
   {
    "duration": 83,
    "start_time": "2022-10-13T09:06:02.913Z"
   },
   {
    "duration": 204,
    "start_time": "2022-10-13T09:06:02.999Z"
   },
   {
    "duration": 120,
    "start_time": "2022-10-13T09:06:03.206Z"
   },
   {
    "duration": 184,
    "start_time": "2022-10-13T09:06:03.329Z"
   },
   {
    "duration": 14,
    "start_time": "2022-10-13T09:06:03.515Z"
   },
   {
    "duration": 1720,
    "start_time": "2022-10-13T09:06:03.531Z"
   },
   {
    "duration": 19,
    "start_time": "2022-10-13T09:06:38.227Z"
   },
   {
    "duration": 1573,
    "start_time": "2022-10-13T09:06:59.019Z"
   },
   {
    "duration": 1594,
    "start_time": "2022-10-13T09:07:02.507Z"
   },
   {
    "duration": 1519,
    "start_time": "2022-10-13T09:07:06.206Z"
   },
   {
    "duration": 1543,
    "start_time": "2022-10-13T09:07:09.293Z"
   },
   {
    "duration": 1547,
    "start_time": "2022-10-13T09:07:12.046Z"
   },
   {
    "duration": 1544,
    "start_time": "2022-10-13T09:07:20.316Z"
   },
   {
    "duration": 15,
    "start_time": "2022-10-13T09:10:36.747Z"
   },
   {
    "duration": 993,
    "start_time": "2022-10-15T19:14:58.680Z"
   },
   {
    "duration": 1707,
    "start_time": "2022-10-15T19:14:59.840Z"
   },
   {
    "duration": 17,
    "start_time": "2022-10-15T19:15:02.652Z"
   },
   {
    "duration": 91,
    "start_time": "2022-10-15T19:17:59.344Z"
   },
   {
    "duration": 8,
    "start_time": "2022-10-15T19:18:22.096Z"
   },
   {
    "duration": 9,
    "start_time": "2022-10-15T19:18:44.110Z"
   },
   {
    "duration": 3,
    "start_time": "2022-10-15T19:19:09.393Z"
   },
   {
    "duration": 411,
    "start_time": "2022-10-15T19:19:10.550Z"
   },
   {
    "duration": 14,
    "start_time": "2022-10-15T19:19:11.579Z"
   },
   {
    "duration": 40,
    "start_time": "2022-10-15T19:19:12.566Z"
   },
   {
    "duration": 7,
    "start_time": "2022-10-15T19:19:13.467Z"
   },
   {
    "duration": 41,
    "start_time": "2022-10-15T19:19:14.103Z"
   },
   {
    "duration": 95,
    "start_time": "2022-10-15T19:19:15.129Z"
   },
   {
    "duration": 19,
    "start_time": "2022-10-15T19:19:15.832Z"
   },
   {
    "duration": 14,
    "start_time": "2022-10-15T19:19:17.404Z"
   },
   {
    "duration": 15,
    "start_time": "2022-10-15T19:19:46.935Z"
   },
   {
    "duration": 14,
    "start_time": "2022-10-15T19:19:47.417Z"
   },
   {
    "duration": 14,
    "start_time": "2022-10-15T19:19:47.930Z"
   },
   {
    "duration": 14,
    "start_time": "2022-10-15T19:21:22.391Z"
   },
   {
    "duration": 13,
    "start_time": "2022-10-15T19:21:25.444Z"
   },
   {
    "duration": 15,
    "start_time": "2022-10-15T19:21:33.973Z"
   },
   {
    "duration": 3,
    "start_time": "2022-10-15T19:22:27.218Z"
   },
   {
    "duration": 361,
    "start_time": "2022-10-15T19:22:27.618Z"
   },
   {
    "duration": 12,
    "start_time": "2022-10-15T19:22:27.981Z"
   },
   {
    "duration": 29,
    "start_time": "2022-10-15T19:22:28.293Z"
   },
   {
    "duration": 5,
    "start_time": "2022-10-15T19:22:28.568Z"
   },
   {
    "duration": 41,
    "start_time": "2022-10-15T19:22:29.020Z"
   },
   {
    "duration": 19,
    "start_time": "2022-10-15T19:22:29.732Z"
   },
   {
    "duration": 14,
    "start_time": "2022-10-15T19:22:30.056Z"
   },
   {
    "duration": 14,
    "start_time": "2022-10-15T19:22:30.369Z"
   },
   {
    "duration": 13,
    "start_time": "2022-10-15T19:22:31.994Z"
   },
   {
    "duration": 82,
    "start_time": "2022-10-15T19:23:15.607Z"
   },
   {
    "duration": 79,
    "start_time": "2022-10-15T19:26:29.807Z"
   },
   {
    "duration": 12,
    "start_time": "2022-10-15T19:27:10.210Z"
   },
   {
    "duration": 15,
    "start_time": "2022-10-15T19:27:33.147Z"
   },
   {
    "duration": 100,
    "start_time": "2022-10-15T19:27:36.998Z"
   },
   {
    "duration": 84,
    "start_time": "2022-10-15T19:27:46.999Z"
   },
   {
    "duration": 86,
    "start_time": "2022-10-15T19:28:54.010Z"
   },
   {
    "duration": 13,
    "start_time": "2022-10-15T19:28:56.283Z"
   },
   {
    "duration": 83,
    "start_time": "2022-10-15T19:28:58.983Z"
   },
   {
    "duration": 78,
    "start_time": "2022-10-15T19:29:45.408Z"
   },
   {
    "duration": 75,
    "start_time": "2022-10-15T19:30:31.365Z"
   },
   {
    "duration": 3,
    "start_time": "2022-10-15T19:31:30.273Z"
   },
   {
    "duration": 388,
    "start_time": "2022-10-15T19:31:30.984Z"
   },
   {
    "duration": 12,
    "start_time": "2022-10-15T19:31:31.460Z"
   },
   {
    "duration": 33,
    "start_time": "2022-10-15T19:31:32.285Z"
   },
   {
    "duration": 5,
    "start_time": "2022-10-15T19:31:33.275Z"
   },
   {
    "duration": 40,
    "start_time": "2022-10-15T19:31:33.961Z"
   },
   {
    "duration": 14,
    "start_time": "2022-10-15T19:31:35.148Z"
   },
   {
    "duration": 15,
    "start_time": "2022-10-15T19:31:35.823Z"
   },
   {
    "duration": 15,
    "start_time": "2022-10-15T19:31:36.523Z"
   },
   {
    "duration": 14,
    "start_time": "2022-10-15T19:31:42.388Z"
   },
   {
    "duration": 85,
    "start_time": "2022-10-15T19:31:44.556Z"
   },
   {
    "duration": 16,
    "start_time": "2022-10-15T19:32:03.967Z"
   },
   {
    "duration": 81,
    "start_time": "2022-10-15T19:32:05.413Z"
   },
   {
    "duration": 1458,
    "start_time": "2022-10-15T19:33:05.778Z"
   },
   {
    "duration": 17,
    "start_time": "2022-10-15T19:33:42.342Z"
   },
   {
    "duration": 81,
    "start_time": "2022-10-15T19:33:44.512Z"
   },
   {
    "duration": 1465,
    "start_time": "2022-10-15T19:33:57.364Z"
   },
   {
    "duration": 83,
    "start_time": "2022-10-15T19:34:08.812Z"
   },
   {
    "duration": 1349,
    "start_time": "2022-10-15T19:34:17.787Z"
   },
   {
    "duration": 1396,
    "start_time": "2022-10-15T19:35:35.214Z"
   },
   {
    "duration": 20,
    "start_time": "2022-10-15T19:36:47.491Z"
   },
   {
    "duration": 1368,
    "start_time": "2022-10-15T19:36:49.889Z"
   },
   {
    "duration": 1345,
    "start_time": "2022-10-15T19:37:00.628Z"
   },
   {
    "duration": 1039,
    "start_time": "2022-10-16T11:29:08.623Z"
   },
   {
    "duration": 864,
    "start_time": "2022-10-16T11:29:09.664Z"
   },
   {
    "duration": 15,
    "start_time": "2022-10-16T11:29:11.245Z"
   },
   {
    "duration": 430,
    "start_time": "2022-10-17T10:35:28.748Z"
   },
   {
    "duration": 0,
    "start_time": "2022-10-17T10:35:29.180Z"
   },
   {
    "duration": 0,
    "start_time": "2022-10-17T10:35:29.181Z"
   },
   {
    "duration": 0,
    "start_time": "2022-10-17T10:35:29.181Z"
   },
   {
    "duration": 0,
    "start_time": "2022-10-17T10:35:29.182Z"
   },
   {
    "duration": 0,
    "start_time": "2022-10-17T10:35:29.183Z"
   },
   {
    "duration": 0,
    "start_time": "2022-10-17T10:35:29.184Z"
   },
   {
    "duration": 0,
    "start_time": "2022-10-17T10:35:29.185Z"
   },
   {
    "duration": 0,
    "start_time": "2022-10-17T10:35:29.186Z"
   },
   {
    "duration": 0,
    "start_time": "2022-10-17T10:35:29.187Z"
   },
   {
    "duration": 0,
    "start_time": "2022-10-17T10:35:29.188Z"
   },
   {
    "duration": 6458,
    "start_time": "2022-10-17T10:36:41.908Z"
   },
   {
    "duration": 70,
    "start_time": "2022-10-17T10:36:48.368Z"
   },
   {
    "duration": 0,
    "start_time": "2022-10-17T10:36:48.439Z"
   },
   {
    "duration": 0,
    "start_time": "2022-10-17T10:36:48.440Z"
   },
   {
    "duration": 0,
    "start_time": "2022-10-17T10:36:48.442Z"
   },
   {
    "duration": 0,
    "start_time": "2022-10-17T10:36:48.443Z"
   },
   {
    "duration": 0,
    "start_time": "2022-10-17T10:36:48.444Z"
   },
   {
    "duration": 0,
    "start_time": "2022-10-17T10:36:48.445Z"
   },
   {
    "duration": 0,
    "start_time": "2022-10-17T10:36:48.446Z"
   },
   {
    "duration": 0,
    "start_time": "2022-10-17T10:36:48.447Z"
   },
   {
    "duration": 0,
    "start_time": "2022-10-17T10:36:48.448Z"
   },
   {
    "duration": 3,
    "start_time": "2022-10-17T10:38:19.148Z"
   },
   {
    "duration": 884,
    "start_time": "2022-10-17T10:38:19.154Z"
   },
   {
    "duration": 0,
    "start_time": "2022-10-17T10:38:20.040Z"
   },
   {
    "duration": 0,
    "start_time": "2022-10-17T10:38:20.041Z"
   },
   {
    "duration": 0,
    "start_time": "2022-10-17T10:38:20.041Z"
   },
   {
    "duration": 0,
    "start_time": "2022-10-17T10:38:20.042Z"
   },
   {
    "duration": 0,
    "start_time": "2022-10-17T10:38:20.043Z"
   },
   {
    "duration": 0,
    "start_time": "2022-10-17T10:38:20.044Z"
   },
   {
    "duration": 0,
    "start_time": "2022-10-17T10:38:20.045Z"
   },
   {
    "duration": 0,
    "start_time": "2022-10-17T10:38:20.046Z"
   },
   {
    "duration": 0,
    "start_time": "2022-10-17T10:38:20.048Z"
   },
   {
    "duration": 3,
    "start_time": "2022-10-17T10:38:28.537Z"
   },
   {
    "duration": 347,
    "start_time": "2022-10-17T10:38:28.546Z"
   },
   {
    "duration": 14,
    "start_time": "2022-10-17T10:38:28.895Z"
   },
   {
    "duration": 35,
    "start_time": "2022-10-17T10:38:28.910Z"
   },
   {
    "duration": 7,
    "start_time": "2022-10-17T10:38:28.946Z"
   },
   {
    "duration": 62,
    "start_time": "2022-10-17T10:38:28.955Z"
   },
   {
    "duration": 22,
    "start_time": "2022-10-17T10:38:29.019Z"
   },
   {
    "duration": 106,
    "start_time": "2022-10-17T10:38:29.110Z"
   },
   {
    "duration": 206,
    "start_time": "2022-10-17T10:38:29.218Z"
   },
   {
    "duration": 194,
    "start_time": "2022-10-17T10:38:29.426Z"
   },
   {
    "duration": 4128,
    "start_time": "2022-10-17T10:38:29.622Z"
   },
   {
    "duration": 10,
    "start_time": "2022-10-17T10:38:51.137Z"
   },
   {
    "duration": 5,
    "start_time": "2022-10-17T10:38:56.896Z"
   },
   {
    "duration": 5,
    "start_time": "2022-10-17T10:39:38.536Z"
   },
   {
    "duration": 5,
    "start_time": "2022-10-17T10:39:41.966Z"
   },
   {
    "duration": 5,
    "start_time": "2022-10-17T10:50:51.994Z"
   },
   {
    "duration": 5,
    "start_time": "2022-10-17T10:50:56.984Z"
   },
   {
    "duration": 5,
    "start_time": "2022-10-17T10:51:02.064Z"
   },
   {
    "duration": 4125,
    "start_time": "2022-10-17T10:53:03.832Z"
   },
   {
    "duration": 6,
    "start_time": "2022-10-17T10:53:14.424Z"
   },
   {
    "duration": 5,
    "start_time": "2022-10-17T10:53:15.831Z"
   },
   {
    "duration": 3474,
    "start_time": "2022-10-17T10:53:24.402Z"
   },
   {
    "duration": 2542,
    "start_time": "2022-10-17T20:16:45.299Z"
   },
   {
    "duration": 142,
    "start_time": "2022-10-17T20:16:47.843Z"
   },
   {
    "duration": 0,
    "start_time": "2022-10-17T20:16:47.987Z"
   },
   {
    "duration": 0,
    "start_time": "2022-10-17T20:16:47.988Z"
   },
   {
    "duration": 0,
    "start_time": "2022-10-17T20:16:47.990Z"
   },
   {
    "duration": 0,
    "start_time": "2022-10-17T20:16:47.991Z"
   },
   {
    "duration": 0,
    "start_time": "2022-10-17T20:16:47.996Z"
   },
   {
    "duration": 0,
    "start_time": "2022-10-17T20:16:47.997Z"
   },
   {
    "duration": 0,
    "start_time": "2022-10-17T20:16:47.998Z"
   },
   {
    "duration": 3,
    "start_time": "2022-10-17T20:17:10.880Z"
   },
   {
    "duration": 1726,
    "start_time": "2022-10-17T20:17:10.885Z"
   },
   {
    "duration": 19,
    "start_time": "2022-10-17T20:17:12.612Z"
   },
   {
    "duration": 44,
    "start_time": "2022-10-17T20:17:12.633Z"
   },
   {
    "duration": 6,
    "start_time": "2022-10-17T20:17:12.680Z"
   },
   {
    "duration": 52,
    "start_time": "2022-10-17T20:17:12.688Z"
   },
   {
    "duration": 265,
    "start_time": "2022-10-17T20:17:12.741Z"
   },
   {
    "duration": 194,
    "start_time": "2022-10-17T20:17:13.008Z"
   },
   {
    "duration": 4002,
    "start_time": "2022-10-17T20:17:13.204Z"
   }
  ],
  "kernelspec": {
   "display_name": "Python 3 (ipykernel)",
   "language": "python",
   "name": "python3"
  },
  "language_info": {
   "codemirror_mode": {
    "name": "ipython",
    "version": 3
   },
   "file_extension": ".py",
   "mimetype": "text/x-python",
   "name": "python",
   "nbconvert_exporter": "python",
   "pygments_lexer": "ipython3",
   "version": "3.11.4"
  },
  "toc": {
   "base_numbering": 1,
   "nav_menu": {},
   "number_sections": true,
   "sideBar": true,
   "skip_h1_title": true,
   "title_cell": "Table of Contents",
   "title_sidebar": "Contents",
   "toc_cell": false,
   "toc_position": {},
   "toc_section_display": true,
   "toc_window_display": false
  }
 },
 "nbformat": 4,
 "nbformat_minor": 2
}
