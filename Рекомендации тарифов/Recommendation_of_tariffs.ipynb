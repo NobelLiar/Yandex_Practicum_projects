{
 "cells": [
  {
   "cell_type": "markdown",
   "metadata": {},
   "source": [
    "# Рекомендация тарифов"
   ]
  },
  {
   "cell_type": "markdown",
   "metadata": {},
   "source": [
    "В вашем распоряжении данные о поведении клиентов, которые уже перешли на эти тарифы (из проекта курса «Статистический анализ данных»). Нужно построить модель для задачи классификации, которая выберет подходящий тариф. Предобработка данных не понадобится — вы её уже сделали.\n",
    "\n",
    "Постройте модель с максимально большим значением *accuracy*. "
   ]
  },
  {
   "cell_type": "markdown",
   "metadata": {},
   "source": [
    "## Откройте и изучите файл"
   ]
  },
  {
   "cell_type": "code",
   "execution_count": 2,
   "metadata": {},
   "outputs": [],
   "source": [
    "import pandas as pd\n",
    "from sklearn.model_selection import train_test_split\n",
    "from sklearn.tree import DecisionTreeClassifier\n",
    "from sklearn.metrics import accuracy_score\n",
    "from sklearn.ensemble import RandomForestClassifier\n",
    "from sklearn.linear_model import LogisticRegression\n",
    "from joblib import dump\n",
    "import matplotlib.pyplot as plt\n",
    "from sklearn.dummy import DummyClassifier"
   ]
  },
  {
   "cell_type": "code",
   "execution_count": 3,
   "metadata": {},
   "outputs": [
    {
     "data": {
      "text/html": [
       "<div>\n",
       "<style scoped>\n",
       "    .dataframe tbody tr th:only-of-type {\n",
       "        vertical-align: middle;\n",
       "    }\n",
       "\n",
       "    .dataframe tbody tr th {\n",
       "        vertical-align: top;\n",
       "    }\n",
       "\n",
       "    .dataframe thead th {\n",
       "        text-align: right;\n",
       "    }\n",
       "</style>\n",
       "<table border=\"1\" class=\"dataframe\">\n",
       "  <thead>\n",
       "    <tr style=\"text-align: right;\">\n",
       "      <th></th>\n",
       "      <th>calls</th>\n",
       "      <th>minutes</th>\n",
       "      <th>messages</th>\n",
       "      <th>mb_used</th>\n",
       "      <th>is_ultra</th>\n",
       "    </tr>\n",
       "  </thead>\n",
       "  <tbody>\n",
       "    <tr>\n",
       "      <th>0</th>\n",
       "      <td>40.0</td>\n",
       "      <td>311.90</td>\n",
       "      <td>83.0</td>\n",
       "      <td>19915.42</td>\n",
       "      <td>0</td>\n",
       "    </tr>\n",
       "    <tr>\n",
       "      <th>1</th>\n",
       "      <td>85.0</td>\n",
       "      <td>516.75</td>\n",
       "      <td>56.0</td>\n",
       "      <td>22696.96</td>\n",
       "      <td>0</td>\n",
       "    </tr>\n",
       "    <tr>\n",
       "      <th>2</th>\n",
       "      <td>77.0</td>\n",
       "      <td>467.66</td>\n",
       "      <td>86.0</td>\n",
       "      <td>21060.45</td>\n",
       "      <td>0</td>\n",
       "    </tr>\n",
       "    <tr>\n",
       "      <th>3</th>\n",
       "      <td>106.0</td>\n",
       "      <td>745.53</td>\n",
       "      <td>81.0</td>\n",
       "      <td>8437.39</td>\n",
       "      <td>1</td>\n",
       "    </tr>\n",
       "    <tr>\n",
       "      <th>4</th>\n",
       "      <td>66.0</td>\n",
       "      <td>418.74</td>\n",
       "      <td>1.0</td>\n",
       "      <td>14502.75</td>\n",
       "      <td>0</td>\n",
       "    </tr>\n",
       "  </tbody>\n",
       "</table>\n",
       "</div>"
      ],
      "text/plain": [
       "   calls  minutes  messages   mb_used  is_ultra\n",
       "0   40.0   311.90      83.0  19915.42         0\n",
       "1   85.0   516.75      56.0  22696.96         0\n",
       "2   77.0   467.66      86.0  21060.45         0\n",
       "3  106.0   745.53      81.0   8437.39         1\n",
       "4   66.0   418.74       1.0  14502.75         0"
      ]
     },
     "execution_count": 3,
     "metadata": {},
     "output_type": "execute_result"
    }
   ],
   "source": [
    "df = pd.read_csv('/datasets/users_behavior.csv')\n",
    "\n",
    "df.head()"
   ]
  },
  {
   "cell_type": "markdown",
   "metadata": {},
   "source": [
    "Согласно документации к данным:"
   ]
  },
  {
   "cell_type": "markdown",
   "metadata": {},
   "source": [
    "* `calls` — количество звонков;\n",
    "* `minutes` — суммарная длительность звонков в минутах;  \n",
    "* `messages` — количество sms-сообщений;\n",
    "* `mb_used` — израсходованный интернет-трафик в Мб;\n",
    "* `is_ultra` — каким тарифом пользовался в течение месяца (\"Ультра\" - 1 \"Смарт\" - 0)."
   ]
  },
  {
   "cell_type": "code",
   "execution_count": 4,
   "metadata": {},
   "outputs": [
    {
     "name": "stdout",
     "output_type": "stream",
     "text": [
      "<class 'pandas.core.frame.DataFrame'>\n",
      "RangeIndex: 3214 entries, 0 to 3213\n",
      "Data columns (total 5 columns):\n",
      " #   Column    Non-Null Count  Dtype  \n",
      "---  ------    --------------  -----  \n",
      " 0   calls     3214 non-null   float64\n",
      " 1   minutes   3214 non-null   float64\n",
      " 2   messages  3214 non-null   float64\n",
      " 3   mb_used   3214 non-null   float64\n",
      " 4   is_ultra  3214 non-null   int64  \n",
      "dtypes: float64(4), int64(1)\n",
      "memory usage: 125.7 KB\n"
     ]
    }
   ],
   "source": [
    "df.info()"
   ]
  },
  {
   "cell_type": "markdown",
   "metadata": {},
   "source": [
    "Из описания данных, видно что пропущенных значений нет и значения соответсвуют типам данных таблицы. Данные можно использовать в проекте."
   ]
  },
  {
   "cell_type": "markdown",
   "metadata": {},
   "source": [
    "Проверим распредление классов в столбце is_ultra."
   ]
  },
  {
   "cell_type": "code",
   "execution_count": 5,
   "metadata": {},
   "outputs": [
    {
     "name": "stdout",
     "output_type": "stream",
     "text": [
      "0    2229\n",
      "1     985\n",
      "Name: is_ultra, dtype: int64\n"
     ]
    }
   ],
   "source": [
    "print(df['is_ultra'].value_counts())"
   ]
  },
  {
   "cell_type": "code",
   "execution_count": 6,
   "metadata": {
    "scrolled": true
   },
   "outputs": [
    {
     "name": "stdout",
     "output_type": "stream",
     "text": [
      "30.647168637212197\n",
      "30.647168637212197\n"
     ]
    }
   ],
   "source": [
    "print(((985) / (2229 + 985)) * 100)\n",
    "\n",
    "print((df['is_ultra'] == 1).sum() / ((df['is_ultra'] == 1).sum() + (df['is_ultra'] == 0).sum()) * 100)"
   ]
  },
  {
   "cell_type": "markdown",
   "metadata": {},
   "source": [
    "## Разбейте данные на выборки"
   ]
  },
  {
   "cell_type": "code",
   "execution_count": 7,
   "metadata": {},
   "outputs": [],
   "source": [
    "features = df.drop(['is_ultra'], axis = 1)\n",
    "target = df['is_ultra']"
   ]
  },
  {
   "cell_type": "code",
   "execution_count": 8,
   "metadata": {},
   "outputs": [
    {
     "name": "stdout",
     "output_type": "stream",
     "text": [
      "Проверим кол-во элементов в выборкаx:\n",
      "features_train (1928, 4)\n",
      "target_train   (1928,)\n",
      "features_valid (643, 4)\n",
      "target_valid   (643,)\n",
      "features_test  (643, 4)\n",
      "target_test    (643,)\n",
      "\n",
      "Проверим на сбалансированность таргетов в выборках:\n",
      "target_train:\n",
      "0    1337\n",
      "1     591\n",
      "Name: is_ultra, dtype: int64\n",
      "\n",
      "target_test\n",
      "0    446\n",
      "1    197\n",
      "Name: is_ultra, dtype: int64\n"
     ]
    }
   ],
   "source": [
    "features_train, features_prom, target_train, target_prom = \\\n",
    "train_test_split(features, target, test_size = 0.4, random_state = 12345, stratify = target)\n",
    " \n",
    "features_valid, features_test, target_valid, target_test = \\\n",
    "train_test_split(features_prom, target_prom, test_size = 0.5, random_state=12345, stratify = target_prom)\n",
    "\n",
    "print('Проверим кол-во элементов в выборкаx:')\n",
    "print('features_train', features_train.shape)\n",
    "print('target_train  ', target_train.shape)\n",
    "print('features_valid', features_valid.shape)\n",
    "print('target_valid  ', target_valid.shape)\n",
    "print('features_test ', features_test.shape)\n",
    "print('target_test   ', target_test.shape)\n",
    "print('')\n",
    "\n",
    "print('Проверим на сбалансированность таргетов в выборках:')\n",
    "print('target_train:')\n",
    "print(target_train.value_counts())\n",
    "print('')\n",
    "print('target_test')\n",
    "print(target_test.value_counts())"
   ]
  },
  {
   "cell_type": "markdown",
   "metadata": {},
   "source": [
    "## Исследуйте модели"
   ]
  },
  {
   "cell_type": "markdown",
   "metadata": {},
   "source": [
    "Дерево решений."
   ]
  },
  {
   "cell_type": "code",
   "execution_count": 9,
   "metadata": {},
   "outputs": [
    {
     "name": "stdout",
     "output_type": "stream",
     "text": [
      "Лучшие показатели модели:\n",
      "depth = 3\n",
      "accuracy = 0.7776049766718507\n"
     ]
    },
    {
     "data": {
      "image/png": "[encoded data removed]",
      "text/plain": [
       "<Figure size 432x288 with 1 Axes>"
      ]
     },
     "metadata": {
      "needs_background": "light"
     },
     "output_type": "display_data"
    }
   ],
   "source": [
    "best_model = None\n",
    "best_result = 0\n",
    "best_depth = 0\n",
    "\n",
    "x = []\n",
    "y = []\n",
    "\n",
    "for depth in range(1,5):\n",
    "    model_one = DecisionTreeClassifier(random_state = 12345, max_depth = depth)\n",
    "    model_one.fit(features_train, target_train)\n",
    "    predictions = model_one.predict(features_valid)\n",
    "    result = accuracy_score(target_valid, predictions)\n",
    "    x.append(depth)\n",
    "    y.append(result)\n",
    "    if result > best_result:\n",
    "        best_model = model_one\n",
    "        best_result = result\n",
    "        best_depth = depth\n",
    "\n",
    "print('Лучшие показатели модели:')\n",
    "print('depth =', best_depth)\n",
    "print('accuracy =', best_result)\n",
    "\n",
    "plt.plot(x, y)\n",
    "plt.title('Зависимость качества от глубины решений')\n",
    "plt.xlabel(\"Depth\")\n",
    "plt.ylabel(\"Accuracy\")\n",
    "plt.grid()\n",
    "plt.show()"
   ]
  },
  {
   "cell_type": "markdown",
   "metadata": {},
   "source": [
    "Случайный лес."
   ]
  },
  {
   "cell_type": "code",
   "execution_count": 10,
   "metadata": {},
   "outputs": [
    {
     "name": "stdout",
     "output_type": "stream",
     "text": [
      "Лучшие показатели модели:\n",
      "n_estimators = 4\n",
      "accuracy = 0.7558320373250389\n"
     ]
    },
    {
     "data": {
      "image/png": "[encoded data removed]",
      "text/plain": [
       "<Figure size 432x288 with 1 Axes>"
      ]
     },
     "metadata": {
      "needs_background": "light"
     },
     "output_type": "display_data"
    }
   ],
   "source": [
    "best_model_two = None\n",
    "best_result_two = 0\n",
    "best_est = 0\n",
    "\n",
    "x_two = []\n",
    "y_two = []\n",
    "\n",
    "for est in range(1,5):\n",
    "    model_two = RandomForestClassifier(random_state = 12345, n_estimators = est)\n",
    "    model_two.fit(features_train, target_train)\n",
    "    predictions_two = model_two.predict(features_valid)\n",
    "    result_two = accuracy_score(target_valid, predictions_two)\n",
    "    x_two.append(est)\n",
    "    y_two.append(result_two)\n",
    "    if result_two > best_result_two:\n",
    "        best_model_two = model_two\n",
    "        best_result = result_two\n",
    "        best_est = est\n",
    "\n",
    "print('Лучшие показатели модели:')\n",
    "print('n_estimators =', best_est)\n",
    "print('accuracy =', best_result)\n",
    "\n",
    "plt.plot(x_two, y_two)\n",
    "plt.title('Зависимость качества от количества деревьев')\n",
    "plt.xlabel(\"Number of estimators\")\n",
    "plt.ylabel(\"Accuracy\")\n",
    "plt.grid()\n",
    "plt.show()"
   ]
  },
  {
   "cell_type": "markdown",
   "metadata": {},
   "source": [
    "Логистическая регрессия."
   ]
  },
  {
   "cell_type": "code",
   "execution_count": 11,
   "metadata": {},
   "outputs": [
    {
     "name": "stdout",
     "output_type": "stream",
     "text": [
      "Лучшие показатели модели:\n",
      "max_iter = 100\n",
      "accuracy = 0.7387247278382582\n"
     ]
    },
    {
     "data": {
      "image/png": "[encoded data removed]",
      "text/plain": [
       "<Figure size 432x288 with 1 Axes>"
      ]
     },
     "metadata": {
      "needs_background": "light"
     },
     "output_type": "display_data"
    }
   ],
   "source": [
    "best_model_three = None\n",
    "best_result_three = 0\n",
    "best_iter = 0\n",
    "\n",
    "x_three = []\n",
    "y_three = []\n",
    "\n",
    "for i in range(100, 1100, 100):\n",
    "    model_three = LogisticRegression(random_state = 12345, solver = 'lbfgs', max_iter = i)\n",
    "    model_three.fit(features_train, target_train)\n",
    "    dump(model_three, 'model_9_1.joblib')\n",
    "    predictions_three = model_three.predict(features_valid)\n",
    "    result_three = accuracy_score(target_valid, predictions_three)\n",
    "    x_three.append(i)\n",
    "    y_three.append(result_three)\n",
    "    if result_three > best_result_three:\n",
    "        best_model_three = model_three\n",
    "        best_result_three = result_three\n",
    "        best_iter = i\n",
    "\n",
    "print('Лучшие показатели модели:')\n",
    "print('max_iter =', best_iter)\n",
    "print('accuracy =', best_result_three)\n",
    "\n",
    "plt.plot(x_three, y_three)\n",
    "plt.title('Зависимость качества от количества итераций')\n",
    "plt.xlabel(\"Количество итераций\")\n",
    "plt.ylabel(\"Accuracy\")\n",
    "plt.grid()\n",
    "plt.show()"
   ]
  },
  {
   "cell_type": "markdown",
   "metadata": {},
   "source": [
    "## Проверьте модель на тестовой выборке"
   ]
  },
  {
   "cell_type": "markdown",
   "metadata": {},
   "source": [
    "Проверим модель случайного леса на тестовой выборке.\n",
    "Перед этим соеденим тренировочную и валидационные выборки."
   ]
  },
  {
   "cell_type": "code",
   "execution_count": 12,
   "metadata": {},
   "outputs": [
    {
     "name": "stdout",
     "output_type": "stream",
     "text": [
      "Качество модели обученной на выборке (тренировочная и валидационная):\n",
      "0.7900466562986003\n"
     ]
    }
   ],
   "source": [
    "model_four = RandomForestClassifier(random_state = 12345, n_estimators = 4)\n",
    "\n",
    "model_four.fit(pd.concat([features_train, features_valid]), pd.concat([target_train, target_valid]))\n",
    "\n",
    "test_predictions = model_four.predict(features_test)\n",
    "\n",
    "print('Качество модели обученной на выборке (тренировочная и валидационная):')\n",
    "print(accuracy_score(target_test, test_predictions))"
   ]
  },
  {
   "cell_type": "markdown",
   "metadata": {},
   "source": [
    "Вывод: я думаю полученную модель можно использовать для рекомендации клиентам подходящего для них тарифа. Модель может распознать под какой тариф подходят использование клиентом интернета, смс и других ресуросов для подключения к более выгодному."
   ]
  },
  {
   "cell_type": "markdown",
   "metadata": {},
   "source": [
    "## (бонус) Проверьте модели на адекватность"
   ]
  },
  {
   "cell_type": "markdown",
   "metadata": {},
   "source": [
    "В теории написано: для оценки адекватности модели в задачах классификации нужно сравнить её со случайной. Как можно это сделать? В теории очень мало информации про адекватность, интересно в этом разобраться."
   ]
  },
  {
   "cell_type": "code",
   "execution_count": 16,
   "metadata": {},
   "outputs": [
    {
     "name": "stdout",
     "output_type": "stream",
     "text": [
      "Доля правильных ответов по отношение к выборке только из нулей:\n",
      "0.6936236391912908\n",
      "0.6936236391912908\n"
     ]
    }
   ],
   "source": [
    "#создадим датафрейм равный по кол-ву элементов target_test но полностью из нулей\n",
    "target_test_copy = target_test.copy(deep=True)\n",
    "\n",
    "target_test_copy[target_test_copy < 2] = 0\n",
    "\n",
    "print('Доля правильных ответов по отношение к выборке только из нулей:')\n",
    "print(accuracy_score(target_test, target_test_copy))\n",
    "\n",
    "prom = DummyClassifier(strategy= 'most_frequent', random_state=1)\n",
    "\n",
    "prom.fit(features_train, target_train)\n",
    "\n",
    "predictions_prom = prom.predict(features_valid)\n",
    "print(prom.score(features_test, target_test))\n"
   ]
  },
  {
   "cell_type": "markdown",
   "metadata": {},
   "source": [
    "# Вывод"
   ]
  },
  {
   "cell_type": "markdown",
   "metadata": {},
   "source": [
    "Для проведения исследования были предоставлены данные о поведении клиентов, в данных нет пропущеных и некорректных значений. Классы в столбце таргетов не сбалансированны, 0 и 1 распределены 70 на 30 % Разделил данные на выборки для обучения 60 % от исхлдных данных, на валидационную 20 % и тестовую 20%. Далее я обучил три модели на тренировочной выбрке, модель с наибольшим значением качества - случайный лес."
   ]
  }
 ],
 "metadata": {
  "ExecuteTimeLog": [
   {
    "duration": 393,
    "start_time": "2022-09-09T15:38:32.052Z"
   },
   {
    "duration": 91,
    "start_time": "2022-09-09T15:41:14.573Z"
   },
   {
    "duration": 78,
    "start_time": "2022-09-09T15:41:30.212Z"
   },
   {
    "duration": 44,
    "start_time": "2022-09-09T15:41:44.610Z"
   },
   {
    "duration": 78,
    "start_time": "2022-09-09T15:42:07.237Z"
   },
   {
    "duration": 49,
    "start_time": "2022-09-12T09:34:40.648Z"
   },
   {
    "duration": 342,
    "start_time": "2022-09-12T09:34:42.954Z"
   },
   {
    "duration": 125,
    "start_time": "2022-09-12T09:34:43.488Z"
   },
   {
    "duration": 40,
    "start_time": "2022-09-12T09:34:51.549Z"
   },
   {
    "duration": 41,
    "start_time": "2022-09-12T09:34:55.528Z"
   },
   {
    "duration": 10,
    "start_time": "2022-09-12T09:34:58.444Z"
   },
   {
    "duration": 45,
    "start_time": "2022-09-12T09:36:27.405Z"
   },
   {
    "duration": 373,
    "start_time": "2022-09-13T08:23:32.417Z"
   },
   {
    "duration": 73,
    "start_time": "2022-09-13T08:23:32.946Z"
   },
   {
    "duration": 10,
    "start_time": "2022-09-13T08:23:33.601Z"
   },
   {
    "duration": 4,
    "start_time": "2022-09-13T08:23:36.292Z"
   },
   {
    "duration": 4,
    "start_time": "2022-09-13T08:27:13.698Z"
   },
   {
    "duration": 56,
    "start_time": "2022-09-13T08:28:34.719Z"
   },
   {
    "duration": 611,
    "start_time": "2022-09-13T08:29:56.345Z"
   },
   {
    "duration": 33,
    "start_time": "2022-09-13T08:29:56.958Z"
   },
   {
    "duration": 14,
    "start_time": "2022-09-13T08:29:57.344Z"
   },
   {
    "duration": 3,
    "start_time": "2022-09-13T08:29:59.220Z"
   },
   {
    "duration": 38,
    "start_time": "2022-09-13T08:30:16.332Z"
   },
   {
    "duration": 7,
    "start_time": "2022-09-13T08:30:41.371Z"
   },
   {
    "duration": 6,
    "start_time": "2022-09-13T08:30:52.046Z"
   },
   {
    "duration": 8,
    "start_time": "2022-09-13T10:00:29.968Z"
   },
   {
    "duration": 36,
    "start_time": "2022-09-13T10:01:05.158Z"
   },
   {
    "duration": 34,
    "start_time": "2022-09-13T10:01:05.559Z"
   },
   {
    "duration": 12,
    "start_time": "2022-09-13T10:01:07.384Z"
   },
   {
    "duration": 4,
    "start_time": "2022-09-13T10:01:08.832Z"
   },
   {
    "duration": 6,
    "start_time": "2022-09-13T10:01:09.287Z"
   },
   {
    "duration": 20,
    "start_time": "2022-09-13T10:01:10.921Z"
   },
   {
    "duration": 2,
    "start_time": "2022-09-13T10:01:52.675Z"
   },
   {
    "duration": 31,
    "start_time": "2022-09-13T10:01:52.921Z"
   },
   {
    "duration": 9,
    "start_time": "2022-09-13T10:01:53.733Z"
   },
   {
    "duration": 3,
    "start_time": "2022-09-13T10:01:54.484Z"
   },
   {
    "duration": 6,
    "start_time": "2022-09-13T10:01:54.721Z"
   },
   {
    "duration": 23,
    "start_time": "2022-09-13T10:01:55.697Z"
   },
   {
    "duration": 10,
    "start_time": "2022-09-13T10:04:53.304Z"
   },
   {
    "duration": 33,
    "start_time": "2022-09-13T10:04:53.623Z"
   },
   {
    "duration": 9,
    "start_time": "2022-09-13T10:04:54.460Z"
   },
   {
    "duration": 4,
    "start_time": "2022-09-13T10:04:55.348Z"
   },
   {
    "duration": 6,
    "start_time": "2022-09-13T10:04:55.612Z"
   },
   {
    "duration": 22,
    "start_time": "2022-09-13T10:04:56.635Z"
   },
   {
    "duration": 63,
    "start_time": "2022-09-13T10:07:32.094Z"
   },
   {
    "duration": 10,
    "start_time": "2022-09-13T10:11:56.472Z"
   },
   {
    "duration": 9,
    "start_time": "2022-09-13T10:12:43.701Z"
   },
   {
    "duration": 33,
    "start_time": "2022-09-13T10:12:44.096Z"
   },
   {
    "duration": 3,
    "start_time": "2022-09-13T10:12:50.540Z"
   },
   {
    "duration": 33,
    "start_time": "2022-09-13T10:12:51.290Z"
   },
   {
    "duration": 10,
    "start_time": "2022-09-13T10:12:52.090Z"
   },
   {
    "duration": 4,
    "start_time": "2022-09-13T10:12:52.788Z"
   },
   {
    "duration": 6,
    "start_time": "2022-09-13T10:12:53.002Z"
   },
   {
    "duration": 23,
    "start_time": "2022-09-13T10:12:53.727Z"
   },
   {
    "duration": 62,
    "start_time": "2022-09-13T10:12:54.389Z"
   },
   {
    "duration": 28,
    "start_time": "2022-09-13T10:12:55.076Z"
   },
   {
    "duration": 30,
    "start_time": "2022-09-13T10:16:40.902Z"
   },
   {
    "duration": 31,
    "start_time": "2022-09-13T10:16:44.731Z"
   },
   {
    "duration": 29,
    "start_time": "2022-09-13T10:16:47.055Z"
   },
   {
    "duration": 28,
    "start_time": "2022-09-13T10:16:49.328Z"
   },
   {
    "duration": 41,
    "start_time": "2022-09-13T10:16:52.540Z"
   },
   {
    "duration": 31,
    "start_time": "2022-09-13T10:21:40.277Z"
   },
   {
    "duration": 3,
    "start_time": "2022-09-13T10:25:02.785Z"
   },
   {
    "duration": 34,
    "start_time": "2022-09-13T10:25:03.085Z"
   },
   {
    "duration": 10,
    "start_time": "2022-09-13T10:25:03.771Z"
   },
   {
    "duration": 5,
    "start_time": "2022-09-13T10:25:04.519Z"
   },
   {
    "duration": 6,
    "start_time": "2022-09-13T10:25:04.748Z"
   },
   {
    "duration": 24,
    "start_time": "2022-09-13T10:25:05.623Z"
   },
   {
    "duration": 65,
    "start_time": "2022-09-13T10:25:06.374Z"
   },
   {
    "duration": 8,
    "start_time": "2022-09-13T10:25:30.197Z"
   },
   {
    "duration": 16,
    "start_time": "2022-09-13T10:25:38.409Z"
   },
   {
    "duration": 12,
    "start_time": "2022-09-13T10:26:39.661Z"
   },
   {
    "duration": 4,
    "start_time": "2022-09-13T10:27:11.884Z"
   },
   {
    "duration": 34,
    "start_time": "2022-09-13T10:27:12.194Z"
   },
   {
    "duration": 10,
    "start_time": "2022-09-13T10:27:12.754Z"
   },
   {
    "duration": 4,
    "start_time": "2022-09-13T10:27:13.271Z"
   },
   {
    "duration": 6,
    "start_time": "2022-09-13T10:27:13.471Z"
   },
   {
    "duration": 21,
    "start_time": "2022-09-13T10:27:13.974Z"
   },
   {
    "duration": 66,
    "start_time": "2022-09-13T10:27:14.339Z"
   },
   {
    "duration": 8,
    "start_time": "2022-09-13T10:27:14.761Z"
   },
   {
    "duration": 9,
    "start_time": "2022-09-13T10:29:07.214Z"
   },
   {
    "duration": 3,
    "start_time": "2022-09-13T10:29:46.961Z"
   },
   {
    "duration": 33,
    "start_time": "2022-09-13T10:29:47.462Z"
   },
   {
    "duration": 10,
    "start_time": "2022-09-13T10:29:48.338Z"
   },
   {
    "duration": 4,
    "start_time": "2022-09-13T10:29:49.117Z"
   },
   {
    "duration": 7,
    "start_time": "2022-09-13T10:29:49.361Z"
   },
   {
    "duration": 22,
    "start_time": "2022-09-13T10:29:50.229Z"
   },
   {
    "duration": 64,
    "start_time": "2022-09-13T10:29:50.959Z"
   },
   {
    "duration": 26,
    "start_time": "2022-09-13T10:29:51.798Z"
   },
   {
    "duration": 33,
    "start_time": "2022-09-13T10:30:01.535Z"
   },
   {
    "duration": 3,
    "start_time": "2022-09-13T10:30:05.314Z"
   },
   {
    "duration": 33,
    "start_time": "2022-09-13T10:30:05.626Z"
   },
   {
    "duration": 13,
    "start_time": "2022-09-13T10:30:06.442Z"
   },
   {
    "duration": 5,
    "start_time": "2022-09-13T10:30:07.173Z"
   },
   {
    "duration": 5,
    "start_time": "2022-09-13T10:30:07.413Z"
   },
   {
    "duration": 23,
    "start_time": "2022-09-13T10:30:08.189Z"
   },
   {
    "duration": 69,
    "start_time": "2022-09-13T10:30:08.741Z"
   },
   {
    "duration": 25,
    "start_time": "2022-09-13T10:30:09.285Z"
   },
   {
    "duration": 81,
    "start_time": "2022-09-13T10:35:55.016Z"
   },
   {
    "duration": 22,
    "start_time": "2022-09-13T10:36:22.792Z"
   },
   {
    "duration": 16,
    "start_time": "2022-09-13T10:37:52.092Z"
   },
   {
    "duration": 64,
    "start_time": "2022-09-13T10:37:56.918Z"
   },
   {
    "duration": 25,
    "start_time": "2022-09-13T10:38:51.092Z"
   },
   {
    "duration": 82,
    "start_time": "2022-09-13T10:39:20.858Z"
   },
   {
    "duration": 3,
    "start_time": "2022-09-13T10:51:18.011Z"
   },
   {
    "duration": 33,
    "start_time": "2022-09-13T10:51:19.454Z"
   },
   {
    "duration": 10,
    "start_time": "2022-09-13T10:51:20.410Z"
   },
   {
    "duration": 4,
    "start_time": "2022-09-13T10:51:22.588Z"
   },
   {
    "duration": 8,
    "start_time": "2022-09-13T10:51:22.809Z"
   },
   {
    "duration": 24,
    "start_time": "2022-09-13T10:51:23.955Z"
   },
   {
    "duration": 89,
    "start_time": "2022-09-13T10:51:26.424Z"
   },
   {
    "duration": 24,
    "start_time": "2022-09-13T10:51:27.586Z"
   },
   {
    "duration": 32,
    "start_time": "2022-09-13T10:51:55.655Z"
   },
   {
    "duration": 136,
    "start_time": "2022-09-13T10:53:47.856Z"
   },
   {
    "duration": 22,
    "start_time": "2022-09-13T10:54:28.656Z"
   },
   {
    "duration": 61,
    "start_time": "2022-09-13T10:55:11.851Z"
   },
   {
    "duration": 98,
    "start_time": "2022-09-13T10:55:40.378Z"
   },
   {
    "duration": 67,
    "start_time": "2022-09-13T10:59:22.252Z"
   },
   {
    "duration": 80,
    "start_time": "2022-09-13T10:59:34.552Z"
   },
   {
    "duration": 91,
    "start_time": "2022-09-13T10:59:41.889Z"
   },
   {
    "duration": 83,
    "start_time": "2022-09-13T10:59:44.155Z"
   },
   {
    "duration": 35,
    "start_time": "2022-09-13T15:45:35.464Z"
   },
   {
    "duration": 88,
    "start_time": "2022-09-13T17:49:37.842Z"
   },
   {
    "duration": 9,
    "start_time": "2022-09-13T20:55:18.167Z"
   },
   {
    "duration": 1258,
    "start_time": "2022-09-13T20:55:39.568Z"
   },
   {
    "duration": 1176,
    "start_time": "2022-09-13T20:56:40.592Z"
   },
   {
    "duration": 1177,
    "start_time": "2022-09-13T20:57:46.852Z"
   },
   {
    "duration": 1109,
    "start_time": "2022-09-13T20:58:01.768Z"
   },
   {
    "duration": 31,
    "start_time": "2022-09-13T21:01:02.860Z"
   },
   {
    "duration": 45,
    "start_time": "2022-09-14T07:39:39.564Z"
   },
   {
    "duration": 1059,
    "start_time": "2022-09-14T07:39:45.819Z"
   },
   {
    "duration": 138,
    "start_time": "2022-09-14T07:39:46.880Z"
   },
   {
    "duration": 9,
    "start_time": "2022-09-14T07:39:47.020Z"
   },
   {
    "duration": 3,
    "start_time": "2022-09-14T07:39:47.786Z"
   },
   {
    "duration": 6,
    "start_time": "2022-09-14T07:39:48.085Z"
   },
   {
    "duration": 32,
    "start_time": "2022-09-14T07:39:48.850Z"
   },
   {
    "duration": 35,
    "start_time": "2022-09-14T07:39:49.374Z"
   },
   {
    "duration": 143,
    "start_time": "2022-09-14T07:39:49.940Z"
   },
   {
    "duration": 62,
    "start_time": "2022-09-14T07:39:52.345Z"
   },
   {
    "duration": 23,
    "start_time": "2022-09-14T07:40:24.725Z"
   },
   {
    "duration": 19,
    "start_time": "2022-09-14T07:40:35.513Z"
   },
   {
    "duration": 53,
    "start_time": "2022-09-14T07:43:07.660Z"
   },
   {
    "duration": 1087,
    "start_time": "2022-09-14T07:43:13.776Z"
   },
   {
    "duration": 16,
    "start_time": "2022-09-14T07:45:32.267Z"
   },
   {
    "duration": 3,
    "start_time": "2022-09-14T10:01:59.118Z"
   },
   {
    "duration": 45,
    "start_time": "2022-09-14T10:01:59.414Z"
   },
   {
    "duration": 10,
    "start_time": "2022-09-14T10:02:00.401Z"
   },
   {
    "duration": 4,
    "start_time": "2022-09-14T10:02:01.774Z"
   },
   {
    "duration": 10,
    "start_time": "2022-09-14T10:02:01.780Z"
   },
   {
    "duration": 24,
    "start_time": "2022-09-14T10:02:02.777Z"
   },
   {
    "duration": 35,
    "start_time": "2022-09-14T10:02:03.437Z"
   },
   {
    "duration": 93,
    "start_time": "2022-09-14T10:02:04.091Z"
   },
   {
    "duration": 18,
    "start_time": "2022-09-14T10:02:11.637Z"
   },
   {
    "duration": 1561,
    "start_time": "2022-09-14T10:21:02.994Z"
   },
   {
    "duration": 46,
    "start_time": "2022-09-14T10:21:04.557Z"
   },
   {
    "duration": 12,
    "start_time": "2022-09-14T10:21:04.604Z"
   },
   {
    "duration": 6,
    "start_time": "2022-09-14T10:21:04.618Z"
   },
   {
    "duration": 9,
    "start_time": "2022-09-14T10:21:04.626Z"
   },
   {
    "duration": 29,
    "start_time": "2022-09-14T10:21:04.637Z"
   },
   {
    "duration": 57,
    "start_time": "2022-09-14T10:21:04.668Z"
   },
   {
    "duration": 263,
    "start_time": "2022-09-14T10:21:04.727Z"
   },
   {
    "duration": 19,
    "start_time": "2022-09-14T10:21:04.991Z"
   },
   {
    "duration": 43,
    "start_time": "2022-09-16T09:55:39.369Z"
   },
   {
    "duration": 1083,
    "start_time": "2022-09-16T09:55:44.111Z"
   },
   {
    "duration": 76,
    "start_time": "2022-09-16T09:55:45.196Z"
   },
   {
    "duration": 10,
    "start_time": "2022-09-16T09:55:45.811Z"
   },
   {
    "duration": 4,
    "start_time": "2022-09-16T09:55:46.423Z"
   },
   {
    "duration": 3,
    "start_time": "2022-09-16T09:58:15.289Z"
   },
   {
    "duration": 59,
    "start_time": "2022-09-16T10:01:00.740Z"
   },
   {
    "duration": 3,
    "start_time": "2022-09-16T10:01:04.102Z"
   },
   {
    "duration": 7,
    "start_time": "2022-09-16T10:01:04.451Z"
   },
   {
    "duration": 13,
    "start_time": "2022-09-16T10:11:46.406Z"
   },
   {
    "duration": 8,
    "start_time": "2022-09-16T10:16:09.601Z"
   },
   {
    "duration": 8,
    "start_time": "2022-09-16T10:19:05.652Z"
   },
   {
    "duration": 8,
    "start_time": "2022-09-16T10:23:53.119Z"
   },
   {
    "duration": 8,
    "start_time": "2022-09-16T10:26:37.340Z"
   },
   {
    "duration": 7,
    "start_time": "2022-09-16T10:28:24.909Z"
   },
   {
    "duration": 8,
    "start_time": "2022-09-16T10:28:40.384Z"
   },
   {
    "duration": 10,
    "start_time": "2022-09-16T10:29:17.534Z"
   },
   {
    "duration": 8,
    "start_time": "2022-09-16T10:29:20.260Z"
   },
   {
    "duration": 8,
    "start_time": "2022-09-16T10:29:53.934Z"
   },
   {
    "duration": 10,
    "start_time": "2022-09-16T10:29:58.447Z"
   },
   {
    "duration": 10,
    "start_time": "2022-09-16T10:30:02.856Z"
   },
   {
    "duration": 8,
    "start_time": "2022-09-16T10:30:05.471Z"
   },
   {
    "duration": 9,
    "start_time": "2022-09-16T10:30:12.396Z"
   },
   {
    "duration": 9,
    "start_time": "2022-09-16T10:30:21.095Z"
   },
   {
    "duration": 24,
    "start_time": "2022-09-16T10:31:22.737Z"
   },
   {
    "duration": 16,
    "start_time": "2022-09-16T10:35:52.040Z"
   },
   {
    "duration": 18,
    "start_time": "2022-09-16T10:38:14.147Z"
   },
   {
    "duration": 19,
    "start_time": "2022-09-16T10:38:24.328Z"
   },
   {
    "duration": 15,
    "start_time": "2022-09-16T10:38:37.453Z"
   },
   {
    "duration": 25,
    "start_time": "2022-09-16T10:38:47.289Z"
   },
   {
    "duration": 32,
    "start_time": "2022-09-16T10:39:17.914Z"
   },
   {
    "duration": 26,
    "start_time": "2022-09-16T10:39:24.629Z"
   },
   {
    "duration": 24,
    "start_time": "2022-09-16T10:39:48.140Z"
   },
   {
    "duration": 21,
    "start_time": "2022-09-16T10:45:38.076Z"
   },
   {
    "duration": 340,
    "start_time": "2022-09-16T10:45:52.972Z"
   },
   {
    "duration": 39,
    "start_time": "2022-09-16T10:45:53.480Z"
   },
   {
    "duration": 11,
    "start_time": "2022-09-16T10:45:54.168Z"
   },
   {
    "duration": 4,
    "start_time": "2022-09-16T10:45:54.480Z"
   },
   {
    "duration": 4,
    "start_time": "2022-09-16T10:45:54.642Z"
   },
   {
    "duration": 5,
    "start_time": "2022-09-16T10:45:55.335Z"
   },
   {
    "duration": 10,
    "start_time": "2022-09-16T10:45:55.493Z"
   },
   {
    "duration": 35,
    "start_time": "2022-09-16T10:46:09.106Z"
   },
   {
    "duration": 352,
    "start_time": "2022-09-16T10:46:54.519Z"
   },
   {
    "duration": 38,
    "start_time": "2022-09-16T10:46:54.996Z"
   },
   {
    "duration": 11,
    "start_time": "2022-09-16T10:46:55.418Z"
   },
   {
    "duration": 4,
    "start_time": "2022-09-16T10:46:55.668Z"
   },
   {
    "duration": 3,
    "start_time": "2022-09-16T10:46:55.818Z"
   },
   {
    "duration": 4,
    "start_time": "2022-09-16T10:46:56.506Z"
   },
   {
    "duration": 12,
    "start_time": "2022-09-16T10:46:56.735Z"
   },
   {
    "duration": 151,
    "start_time": "2022-09-16T10:46:58.506Z"
   },
   {
    "duration": 156,
    "start_time": "2022-09-16T10:47:15.032Z"
   },
   {
    "duration": 132,
    "start_time": "2022-09-16T10:47:25.570Z"
   },
   {
    "duration": 138,
    "start_time": "2022-09-16T10:48:08.645Z"
   },
   {
    "duration": 144,
    "start_time": "2022-09-16T10:48:41.162Z"
   },
   {
    "duration": 236,
    "start_time": "2022-09-16T10:49:14.633Z"
   },
   {
    "duration": 133,
    "start_time": "2022-09-16T10:49:30.545Z"
   },
   {
    "duration": 141,
    "start_time": "2022-09-16T10:49:44.595Z"
   },
   {
    "duration": 93,
    "start_time": "2022-09-16T10:50:27.945Z"
   },
   {
    "duration": 45,
    "start_time": "2022-09-16T10:51:01.008Z"
   },
   {
    "duration": 62,
    "start_time": "2022-09-16T10:51:07.399Z"
   },
   {
    "duration": 54,
    "start_time": "2022-09-16T14:44:53.413Z"
   },
   {
    "duration": 1566,
    "start_time": "2022-09-16T14:44:59.279Z"
   },
   {
    "duration": 133,
    "start_time": "2022-09-16T14:45:00.847Z"
   },
   {
    "duration": 10,
    "start_time": "2022-09-16T14:45:00.981Z"
   },
   {
    "duration": 13,
    "start_time": "2022-09-16T14:45:00.993Z"
   },
   {
    "duration": 11,
    "start_time": "2022-09-16T14:45:01.007Z"
   },
   {
    "duration": 5,
    "start_time": "2022-09-16T14:45:01.803Z"
   },
   {
    "duration": 14,
    "start_time": "2022-09-16T14:45:02.066Z"
   },
   {
    "duration": 3,
    "start_time": "2022-09-16T20:31:57.055Z"
   },
   {
    "duration": 35,
    "start_time": "2022-09-16T20:31:58.062Z"
   },
   {
    "duration": 10,
    "start_time": "2022-09-16T20:31:58.912Z"
   },
   {
    "duration": 4,
    "start_time": "2022-09-16T20:31:59.526Z"
   },
   {
    "duration": 3,
    "start_time": "2022-09-16T20:31:59.962Z"
   },
   {
    "duration": 3,
    "start_time": "2022-09-16T20:32:01.500Z"
   },
   {
    "duration": 10,
    "start_time": "2022-09-16T20:32:02.292Z"
   },
   {
    "duration": 158,
    "start_time": "2022-09-16T20:32:08.895Z"
   },
   {
    "duration": 166,
    "start_time": "2022-09-16T20:43:12.663Z"
   },
   {
    "duration": 161,
    "start_time": "2022-09-16T20:44:25.721Z"
   },
   {
    "duration": 51,
    "start_time": "2022-09-16T20:45:41.917Z"
   },
   {
    "duration": 168,
    "start_time": "2022-09-16T20:45:53.390Z"
   },
   {
    "duration": 164,
    "start_time": "2022-09-16T20:46:00.721Z"
   },
   {
    "duration": 147,
    "start_time": "2022-09-16T21:00:02.995Z"
   },
   {
    "duration": 858,
    "start_time": "2022-09-16T21:13:55.907Z"
   },
   {
    "duration": 813,
    "start_time": "2022-09-16T21:15:13.135Z"
   },
   {
    "duration": 788,
    "start_time": "2022-09-16T21:15:23.843Z"
   },
   {
    "duration": 810,
    "start_time": "2022-09-16T21:15:42.437Z"
   },
   {
    "duration": 1003,
    "start_time": "2022-09-16T21:15:52.345Z"
   },
   {
    "duration": 1387,
    "start_time": "2022-09-16T21:15:58.836Z"
   },
   {
    "duration": 1061,
    "start_time": "2022-09-16T21:16:04.251Z"
   },
   {
    "duration": 18,
    "start_time": "2022-09-16T21:17:12.136Z"
   },
   {
    "duration": 23,
    "start_time": "2022-09-16T21:17:15.806Z"
   },
   {
    "duration": 24,
    "start_time": "2022-09-16T21:32:10.149Z"
   },
   {
    "duration": 24,
    "start_time": "2022-09-16T21:32:55.368Z"
   },
   {
    "duration": 28,
    "start_time": "2022-09-16T21:33:10.106Z"
   },
   {
    "duration": 28,
    "start_time": "2022-09-16T21:33:43.232Z"
   },
   {
    "duration": 29,
    "start_time": "2022-09-16T21:38:11.891Z"
   },
   {
    "duration": 28,
    "start_time": "2022-09-16T21:38:17.171Z"
   },
   {
    "duration": 27,
    "start_time": "2022-09-16T21:38:45.796Z"
   },
   {
    "duration": 79,
    "start_time": "2022-09-17T09:57:25.758Z"
   },
   {
    "duration": 56,
    "start_time": "2022-09-17T09:57:31.871Z"
   },
   {
    "duration": 1609,
    "start_time": "2022-09-17T09:57:40.119Z"
   },
   {
    "duration": 87,
    "start_time": "2022-09-17T09:57:41.730Z"
   },
   {
    "duration": 17,
    "start_time": "2022-09-17T09:57:41.819Z"
   },
   {
    "duration": 30,
    "start_time": "2022-09-17T09:57:41.839Z"
   },
   {
    "duration": 72,
    "start_time": "2022-09-17T09:57:41.871Z"
   },
   {
    "duration": 30,
    "start_time": "2022-09-17T09:57:41.945Z"
   },
   {
    "duration": 83,
    "start_time": "2022-09-17T09:57:41.977Z"
   },
   {
    "duration": 250,
    "start_time": "2022-09-17T09:57:42.062Z"
   },
   {
    "duration": 212,
    "start_time": "2022-09-17T09:57:42.314Z"
   },
   {
    "duration": 1007,
    "start_time": "2022-09-17T09:57:42.528Z"
   },
   {
    "duration": 32,
    "start_time": "2022-09-17T09:57:43.537Z"
   },
   {
    "duration": 5,
    "start_time": "2022-09-17T10:02:19.830Z"
   },
   {
    "duration": 1074,
    "start_time": "2022-09-17T10:02:59.086Z"
   },
   {
    "duration": 75,
    "start_time": "2022-09-17T10:03:14.203Z"
   },
   {
    "duration": 1610,
    "start_time": "2022-09-17T10:03:17.901Z"
   },
   {
    "duration": 13,
    "start_time": "2022-09-17T10:03:22.810Z"
   },
   {
    "duration": 13,
    "start_time": "2022-09-17T10:03:37.922Z"
   },
   {
    "duration": 13,
    "start_time": "2022-09-17T10:04:16.748Z"
   },
   {
    "duration": 1008,
    "start_time": "2022-09-17T10:18:54.696Z"
   },
   {
    "duration": 13,
    "start_time": "2022-09-17T10:25:51.901Z"
   },
   {
    "duration": 5,
    "start_time": "2022-09-17T10:25:52.461Z"
   },
   {
    "duration": 4,
    "start_time": "2022-09-17T10:25:52.805Z"
   },
   {
    "duration": 5,
    "start_time": "2022-09-17T10:25:53.673Z"
   },
   {
    "duration": 15,
    "start_time": "2022-09-17T10:25:53.823Z"
   },
   {
    "duration": 169,
    "start_time": "2022-09-17T10:25:54.747Z"
   },
   {
    "duration": 270,
    "start_time": "2022-09-17T10:25:55.907Z"
   },
   {
    "duration": 1369,
    "start_time": "2022-09-17T10:26:00.560Z"
   },
   {
    "duration": 33,
    "start_time": "2022-09-17T10:26:02.525Z"
   },
   {
    "duration": 201,
    "start_time": "2022-09-17T10:26:32.706Z"
   },
   {
    "duration": 3665,
    "start_time": "2022-09-17T10:26:40.061Z"
   },
   {
    "duration": 31,
    "start_time": "2022-09-17T10:26:43.727Z"
   },
   {
    "duration": 15,
    "start_time": "2022-09-17T10:34:20.109Z"
   },
   {
    "duration": 5,
    "start_time": "2022-09-17T10:35:11.316Z"
   },
   {
    "duration": 7,
    "start_time": "2022-09-17T10:36:50.367Z"
   },
   {
    "duration": 6,
    "start_time": "2022-09-17T10:37:21.636Z"
   },
   {
    "duration": 7,
    "start_time": "2022-09-17T10:40:56.675Z"
   },
   {
    "duration": 76,
    "start_time": "2022-09-17T10:47:00.519Z"
   },
   {
    "duration": 1672,
    "start_time": "2022-09-17T18:09:20.017Z"
   },
   {
    "duration": 46,
    "start_time": "2022-09-17T18:09:21.691Z"
   },
   {
    "duration": 12,
    "start_time": "2022-09-17T18:09:21.739Z"
   },
   {
    "duration": 7,
    "start_time": "2022-09-17T18:09:21.754Z"
   },
   {
    "duration": 9,
    "start_time": "2022-09-17T18:09:21.763Z"
   },
   {
    "duration": 8,
    "start_time": "2022-09-17T18:09:21.774Z"
   },
   {
    "duration": 15,
    "start_time": "2022-09-17T18:09:21.783Z"
   },
   {
    "duration": 211,
    "start_time": "2022-09-17T18:09:21.800Z"
   },
   {
    "duration": 223,
    "start_time": "2022-09-17T18:09:22.012Z"
   },
   {
    "duration": 1246,
    "start_time": "2022-09-17T18:09:22.238Z"
   },
   {
    "duration": 48,
    "start_time": "2022-09-17T18:09:23.486Z"
   },
   {
    "duration": 12,
    "start_time": "2022-09-17T18:09:23.536Z"
   },
   {
    "duration": 1736,
    "start_time": "2022-09-18T17:42:31.181Z"
   },
   {
    "duration": 212,
    "start_time": "2022-09-18T17:42:32.919Z"
   },
   {
    "duration": 13,
    "start_time": "2022-09-18T17:42:33.132Z"
   },
   {
    "duration": 5,
    "start_time": "2022-09-18T17:42:33.485Z"
   },
   {
    "duration": 3,
    "start_time": "2022-09-18T17:42:33.702Z"
   },
   {
    "duration": 7,
    "start_time": "2022-09-18T17:42:35.057Z"
   },
   {
    "duration": 18,
    "start_time": "2022-09-18T17:42:35.256Z"
   },
   {
    "duration": 217,
    "start_time": "2022-09-18T17:42:36.391Z"
   },
   {
    "duration": 251,
    "start_time": "2022-09-18T17:42:37.592Z"
   },
   {
    "duration": 1589,
    "start_time": "2022-09-18T17:42:38.188Z"
   },
   {
    "duration": 53,
    "start_time": "2022-09-18T17:42:39.782Z"
   },
   {
    "duration": 9,
    "start_time": "2022-09-18T17:42:40.590Z"
   },
   {
    "duration": 46,
    "start_time": "2022-09-18T17:46:35.954Z"
   },
   {
    "duration": 8,
    "start_time": "2022-09-18T17:46:39.488Z"
   },
   {
    "duration": 10,
    "start_time": "2022-09-18T17:47:00.924Z"
   },
   {
    "duration": 8,
    "start_time": "2022-09-18T17:48:35.854Z"
   },
   {
    "duration": 7,
    "start_time": "2022-09-18T17:48:45.858Z"
   },
   {
    "duration": 6,
    "start_time": "2022-09-18T17:49:02.120Z"
   },
   {
    "duration": 6,
    "start_time": "2022-09-18T17:49:11.707Z"
   },
   {
    "duration": 4,
    "start_time": "2022-09-18T17:49:45.352Z"
   },
   {
    "duration": 5,
    "start_time": "2022-09-18T17:50:00.857Z"
   },
   {
    "duration": 9,
    "start_time": "2022-09-18T17:50:14.246Z"
   },
   {
    "duration": 5,
    "start_time": "2022-09-18T17:50:18.161Z"
   },
   {
    "duration": 66,
    "start_time": "2022-09-18T17:51:25.921Z"
   },
   {
    "duration": 1648,
    "start_time": "2022-09-19T07:27:39.864Z"
   },
   {
    "duration": 0,
    "start_time": "2022-09-19T07:27:41.514Z"
   },
   {
    "duration": 0,
    "start_time": "2022-09-19T07:27:41.516Z"
   },
   {
    "duration": 0,
    "start_time": "2022-09-19T07:27:41.517Z"
   },
   {
    "duration": 0,
    "start_time": "2022-09-19T07:27:41.522Z"
   },
   {
    "duration": 0,
    "start_time": "2022-09-19T07:27:41.523Z"
   },
   {
    "duration": 0,
    "start_time": "2022-09-19T07:27:41.524Z"
   },
   {
    "duration": 0,
    "start_time": "2022-09-19T07:27:41.525Z"
   },
   {
    "duration": 0,
    "start_time": "2022-09-19T07:27:41.525Z"
   },
   {
    "duration": 0,
    "start_time": "2022-09-19T07:27:41.526Z"
   },
   {
    "duration": 0,
    "start_time": "2022-09-19T07:27:41.527Z"
   },
   {
    "duration": 0,
    "start_time": "2022-09-19T07:27:41.527Z"
   },
   {
    "duration": 3,
    "start_time": "2022-09-19T07:28:19.216Z"
   },
   {
    "duration": 74,
    "start_time": "2022-09-19T07:28:19.988Z"
   },
   {
    "duration": 12,
    "start_time": "2022-09-19T07:28:20.715Z"
   },
   {
    "duration": 5,
    "start_time": "2022-09-19T07:28:21.639Z"
   },
   {
    "duration": 6,
    "start_time": "2022-09-19T07:28:21.895Z"
   },
   {
    "duration": 4,
    "start_time": "2022-09-19T07:28:23.310Z"
   },
   {
    "duration": 13,
    "start_time": "2022-09-19T07:28:23.499Z"
   },
   {
    "duration": 147,
    "start_time": "2022-09-19T07:28:24.764Z"
   },
   {
    "duration": 214,
    "start_time": "2022-09-19T07:28:25.952Z"
   },
   {
    "duration": 1040,
    "start_time": "2022-09-19T07:28:26.603Z"
   },
   {
    "duration": 29,
    "start_time": "2022-09-19T07:28:27.644Z"
   },
   {
    "duration": 116,
    "start_time": "2022-09-19T07:28:29.233Z"
   },
   {
    "duration": 8,
    "start_time": "2022-09-19T07:31:47.143Z"
   },
   {
    "duration": 9,
    "start_time": "2022-09-19T07:31:58.030Z"
   },
   {
    "duration": 9,
    "start_time": "2022-09-19T07:32:05.835Z"
   }
  ],
  "kernelspec": {
   "display_name": "Python 3 (ipykernel)",
   "language": "python",
   "name": "python3"
  },
  "language_info": {
   "codemirror_mode": {
    "name": "ipython",
    "version": 3
   },
   "file_extension": ".py",
   "mimetype": "text/x-python",
   "name": "python",
   "nbconvert_exporter": "python",
   "pygments_lexer": "ipython3",
   "version": "3.11.4"
  },
  "toc": {
   "base_numbering": 1,
   "nav_menu": {},
   "number_sections": true,
   "sideBar": true,
   "skip_h1_title": true,
   "title_cell": "Table of Contents",
   "title_sidebar": "Contents",
   "toc_cell": false,
   "toc_position": {
    "height": "calc(100% - 180px)",
    "left": "10px",
    "top": "150px",
    "width": "255.391px"
   },
   "toc_section_display": true,
   "toc_window_display": false
  }
 },
 "nbformat": 4,
 "nbformat_minor": 2
}
