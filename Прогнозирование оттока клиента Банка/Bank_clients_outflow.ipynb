{
 "cells": [
  {
   "cell_type": "markdown",
   "metadata": {
    "toc": true
   },
   "source": [
    "<h1>Содержание<span class=\"tocSkip\"></span></h1>\n",
    "<div class=\"toc\"><ul class=\"toc-item\"><li><span><a href=\"#Подготовка-данных\" data-toc-modified-id=\"Подготовка-данных-1\"><span class=\"toc-item-num\">1&nbsp;&nbsp;</span>Подготовка данных</a></span></li><li><span><a href=\"#Исследование-задачи\" data-toc-modified-id=\"Исследование-задачи-2\"><span class=\"toc-item-num\">2&nbsp;&nbsp;</span>Исследование задачи</a></span></li><li><span><a href=\"#Борьба-с-дисбалансом\" data-toc-modified-id=\"Борьба-с-дисбалансом-3\"><span class=\"toc-item-num\">3&nbsp;&nbsp;</span>Борьба с дисбалансом</a></span><ul class=\"toc-item\"><li><span><a href=\"#Метод-увеличения-выборки.\" data-toc-modified-id=\"Метод-увеличения-выборки.-3.1\"><span class=\"toc-item-num\">3.1&nbsp;&nbsp;</span>Метод увеличения выборки.</a></span></li><li><span><a href=\"#Метод-уменьшения-выборки\" data-toc-modified-id=\"Метод-уменьшения-выборки-3.2\"><span class=\"toc-item-num\">3.2&nbsp;&nbsp;</span>Метод уменьшения выборки</a></span></li><li><span><a href=\"#Метод-балансировки-весов-классов\" data-toc-modified-id=\"Метод-балансировки-весов-классов-3.3\"><span class=\"toc-item-num\">3.3&nbsp;&nbsp;</span>Метод балансировки весов классов</a></span></li></ul></li><li><span><a href=\"#Тестирование-модели\" data-toc-modified-id=\"Тестирование-модели-4\"><span class=\"toc-item-num\">4&nbsp;&nbsp;</span>Тестирование модели</a></span></li></ul></div>"
   ]
  },
  {
   "cell_type": "markdown",
   "metadata": {},
   "source": [
    "# Отток клиентов"
   ]
  },
  {
   "cell_type": "markdown",
   "metadata": {},
   "source": [
    "Цель данного проекьа построить модель которая сможет предсказать уйдёт клиент из банка в ближайшее время или нет.\n",
    "\n",
    "Для исследовани предоставлены исторические данные о поведении клиентов и расторжении договоров с «Бета-Банком». Известно, чтоиз банка стали уходить клиенты банковские маркетологи посчитали: сохранять текущих клиентов дешевле, чем привлекать новых."
   ]
  },
  {
   "cell_type": "markdown",
   "metadata": {},
   "source": [
    "## Подготовка данных"
   ]
  },
  {
   "cell_type": "code",
   "execution_count": 57,
   "metadata": {},
   "outputs": [],
   "source": [
    "import pandas as pd\n",
    "import matplotlib.pyplot as plt\n",
    "\n",
    "from sklearn.model_selection import train_test_split\n",
    "from sklearn.preprocessing import StandardScaler\n",
    "from sklearn.ensemble import RandomForestClassifier\n",
    "from sklearn.linear_model import LogisticRegression\n",
    "from sklearn.metrics import f1_score, roc_auc_score, recall_score, precision_score, accuracy_score\n",
    "from sklearn.utils import shuffle\n",
    "from sklearn.model_selection import GridSearchCV\n",
    "from joblib import dump\n",
    "from sklearn.metrics import roc_curve"
   ]
  },
  {
   "cell_type": "code",
   "execution_count": 58,
   "metadata": {},
   "outputs": [
    {
     "name": "stdout",
     "output_type": "stream",
     "text": [
      "<class 'pandas.core.frame.DataFrame'>\n",
      "RangeIndex: 10000 entries, 0 to 9999\n",
      "Data columns (total 14 columns):\n",
      " #   Column           Non-Null Count  Dtype  \n",
      "---  ------           --------------  -----  \n",
      " 0   RowNumber        10000 non-null  int64  \n",
      " 1   CustomerId       10000 non-null  int64  \n",
      " 2   Surname          10000 non-null  object \n",
      " 3   CreditScore      10000 non-null  int64  \n",
      " 4   Geography        10000 non-null  object \n",
      " 5   Gender           10000 non-null  object \n",
      " 6   Age              10000 non-null  int64  \n",
      " 7   Tenure           9091 non-null   float64\n",
      " 8   Balance          10000 non-null  float64\n",
      " 9   NumOfProducts    10000 non-null  int64  \n",
      " 10  HasCrCard        10000 non-null  int64  \n",
      " 11  IsActiveMember   10000 non-null  int64  \n",
      " 12  EstimatedSalary  10000 non-null  float64\n",
      " 13  Exited           10000 non-null  int64  \n",
      "dtypes: float64(3), int64(8), object(3)\n",
      "memory usage: 1.1+ MB\n"
     ]
    },
    {
     "data": {
      "text/html": [
       "<div>\n",
       "<style scoped>\n",
       "    .dataframe tbody tr th:only-of-type {\n",
       "        vertical-align: middle;\n",
       "    }\n",
       "\n",
       "    .dataframe tbody tr th {\n",
       "        vertical-align: top;\n",
       "    }\n",
       "\n",
       "    .dataframe thead th {\n",
       "        text-align: right;\n",
       "    }\n",
       "</style>\n",
       "<table border=\"1\" class=\"dataframe\">\n",
       "  <thead>\n",
       "    <tr style=\"text-align: right;\">\n",
       "      <th></th>\n",
       "      <th>RowNumber</th>\n",
       "      <th>CustomerId</th>\n",
       "      <th>Surname</th>\n",
       "      <th>CreditScore</th>\n",
       "      <th>Geography</th>\n",
       "      <th>Gender</th>\n",
       "      <th>Age</th>\n",
       "      <th>Tenure</th>\n",
       "      <th>Balance</th>\n",
       "      <th>NumOfProducts</th>\n",
       "      <th>HasCrCard</th>\n",
       "      <th>IsActiveMember</th>\n",
       "      <th>EstimatedSalary</th>\n",
       "      <th>Exited</th>\n",
       "    </tr>\n",
       "  </thead>\n",
       "  <tbody>\n",
       "    <tr>\n",
       "      <th>0</th>\n",
       "      <td>1</td>\n",
       "      <td>15634602</td>\n",
       "      <td>Hargrave</td>\n",
       "      <td>619</td>\n",
       "      <td>France</td>\n",
       "      <td>Female</td>\n",
       "      <td>42</td>\n",
       "      <td>2.0</td>\n",
       "      <td>0.00</td>\n",
       "      <td>1</td>\n",
       "      <td>1</td>\n",
       "      <td>1</td>\n",
       "      <td>101348.88</td>\n",
       "      <td>1</td>\n",
       "    </tr>\n",
       "    <tr>\n",
       "      <th>1</th>\n",
       "      <td>2</td>\n",
       "      <td>15647311</td>\n",
       "      <td>Hill</td>\n",
       "      <td>608</td>\n",
       "      <td>Spain</td>\n",
       "      <td>Female</td>\n",
       "      <td>41</td>\n",
       "      <td>1.0</td>\n",
       "      <td>83807.86</td>\n",
       "      <td>1</td>\n",
       "      <td>0</td>\n",
       "      <td>1</td>\n",
       "      <td>112542.58</td>\n",
       "      <td>0</td>\n",
       "    </tr>\n",
       "    <tr>\n",
       "      <th>2</th>\n",
       "      <td>3</td>\n",
       "      <td>15619304</td>\n",
       "      <td>Onio</td>\n",
       "      <td>502</td>\n",
       "      <td>France</td>\n",
       "      <td>Female</td>\n",
       "      <td>42</td>\n",
       "      <td>8.0</td>\n",
       "      <td>159660.80</td>\n",
       "      <td>3</td>\n",
       "      <td>1</td>\n",
       "      <td>0</td>\n",
       "      <td>113931.57</td>\n",
       "      <td>1</td>\n",
       "    </tr>\n",
       "    <tr>\n",
       "      <th>3</th>\n",
       "      <td>4</td>\n",
       "      <td>15701354</td>\n",
       "      <td>Boni</td>\n",
       "      <td>699</td>\n",
       "      <td>France</td>\n",
       "      <td>Female</td>\n",
       "      <td>39</td>\n",
       "      <td>1.0</td>\n",
       "      <td>0.00</td>\n",
       "      <td>2</td>\n",
       "      <td>0</td>\n",
       "      <td>0</td>\n",
       "      <td>93826.63</td>\n",
       "      <td>0</td>\n",
       "    </tr>\n",
       "    <tr>\n",
       "      <th>4</th>\n",
       "      <td>5</td>\n",
       "      <td>15737888</td>\n",
       "      <td>Mitchell</td>\n",
       "      <td>850</td>\n",
       "      <td>Spain</td>\n",
       "      <td>Female</td>\n",
       "      <td>43</td>\n",
       "      <td>2.0</td>\n",
       "      <td>125510.82</td>\n",
       "      <td>1</td>\n",
       "      <td>1</td>\n",
       "      <td>1</td>\n",
       "      <td>79084.10</td>\n",
       "      <td>0</td>\n",
       "    </tr>\n",
       "  </tbody>\n",
       "</table>\n",
       "</div>"
      ],
      "text/plain": [
       "   RowNumber  CustomerId   Surname  CreditScore Geography  Gender  Age  \\\n",
       "0          1    15634602  Hargrave          619    France  Female   42   \n",
       "1          2    15647311      Hill          608     Spain  Female   41   \n",
       "2          3    15619304      Onio          502    France  Female   42   \n",
       "3          4    15701354      Boni          699    France  Female   39   \n",
       "4          5    15737888  Mitchell          850     Spain  Female   43   \n",
       "\n",
       "   Tenure    Balance  NumOfProducts  HasCrCard  IsActiveMember  \\\n",
       "0     2.0       0.00              1          1               1   \n",
       "1     1.0   83807.86              1          0               1   \n",
       "2     8.0  159660.80              3          1               0   \n",
       "3     1.0       0.00              2          0               0   \n",
       "4     2.0  125510.82              1          1               1   \n",
       "\n",
       "   EstimatedSalary  Exited  \n",
       "0        101348.88       1  \n",
       "1        112542.58       0  \n",
       "2        113931.57       1  \n",
       "3         93826.63       0  \n",
       "4         79084.10       0  "
      ]
     },
     "execution_count": 58,
     "metadata": {},
     "output_type": "execute_result"
    }
   ],
   "source": [
    "df = pd.read_csv('/datasets/Churn.csv')\n",
    "\n",
    "df.info()\n",
    "df.head()"
   ]
  },
  {
   "cell_type": "markdown",
   "metadata": {},
   "source": [
    "Согласно документации к данным:\n",
    "\n"
   ]
  },
  {
   "cell_type": "markdown",
   "metadata": {},
   "source": [
    "* `RowNumber` — индекс строки в данных;\n",
    "* `CustommerID` — уникальный идентификатор клиента;  \n",
    "* `Surname` — фамилия;\n",
    "* `CreditScore` — кредитный рейтинг;\n",
    "* `Geography` — страна проживания;\n",
    "* `Gender` — пол;  \n",
    "* `Age` — возраст;\n",
    "* `Tenure` — сколько лет человек является клиентом банка;\n",
    "* `Balance` — баланс на счёте;\n",
    "* `NumOfProducts` — количество продуктов банка, используемых клиентом;\n",
    "* `HasCrCard` — наличие кредитной карты;  \n",
    "* `IsActiveMember` — активность клиента;\n",
    "* `EstimatedSalary` — предполагаемая зарплата.\n",
    "\n",
    "Целевой признак:\n",
    "    \n",
    "* `Exited` — факт ухода клиента"
   ]
  },
  {
   "cell_type": "markdown",
   "metadata": {},
   "source": [
    "Из описания данных можно заметить небольшое кол-во пропущенных значений в столбце Tenure, заменим их на среднее столбца:"
   ]
  },
  {
   "cell_type": "code",
   "execution_count": 59,
   "metadata": {},
   "outputs": [
    {
     "name": "stdout",
     "output_type": "stream",
     "text": [
      "Кол-во пропущенных значений до замены:\n",
      "909\n"
     ]
    }
   ],
   "source": [
    "print('Кол-во пропущенных значений до замены:')\n",
    "print(df['Tenure'].isna().sum())"
   ]
  },
  {
   "cell_type": "code",
   "execution_count": 60,
   "metadata": {},
   "outputs": [
    {
     "name": "stdout",
     "output_type": "stream",
     "text": [
      "<class 'pandas.core.frame.DataFrame'>\n",
      "RangeIndex: 10000 entries, 0 to 9999\n",
      "Data columns (total 14 columns):\n",
      " #   Column           Non-Null Count  Dtype  \n",
      "---  ------           --------------  -----  \n",
      " 0   RowNumber        10000 non-null  int64  \n",
      " 1   CustomerId       10000 non-null  int64  \n",
      " 2   Surname          10000 non-null  object \n",
      " 3   CreditScore      10000 non-null  int64  \n",
      " 4   Geography        10000 non-null  object \n",
      " 5   Gender           10000 non-null  object \n",
      " 6   Age              10000 non-null  int64  \n",
      " 7   Tenure           10000 non-null  object \n",
      " 8   Balance          10000 non-null  float64\n",
      " 9   NumOfProducts    10000 non-null  int64  \n",
      " 10  HasCrCard        10000 non-null  int64  \n",
      " 11  IsActiveMember   10000 non-null  int64  \n",
      " 12  EstimatedSalary  10000 non-null  float64\n",
      " 13  Exited           10000 non-null  int64  \n",
      "dtypes: float64(2), int64(8), object(4)\n",
      "memory usage: 1.1+ MB\n",
      "Кол-во пропущенных значений после замены:\n",
      "0\n"
     ]
    }
   ],
   "source": [
    "df['Tenure'] = df['Tenure'].fillna(-1)\n",
    "df['Tenure'] = df['Tenure'].astype(object)\n",
    "\n",
    "df.info()\n",
    "\n",
    "print('Кол-во пропущенных значений после замены:')\n",
    "print(df['Tenure'].isna().sum())"
   ]
  },
  {
   "cell_type": "markdown",
   "metadata": {},
   "source": [
    "В таблице присутствуют столбцы которые не понадобяться для классификации, так как не несут какой-либо информации по которой можно сделать вывод к какому классу относится клиент.\n"
   ]
  },
  {
   "cell_type": "code",
   "execution_count": 61,
   "metadata": {},
   "outputs": [],
   "source": [
    "df = df.drop('Surname', axis = 1)\n",
    "df = df.drop('CustomerId', axis = 1)\n",
    "df = df.drop('RowNumber', axis = 1)"
   ]
  },
  {
   "cell_type": "markdown",
   "metadata": {},
   "source": [
    "Прменим технику прямого кодирования для всего датафрейма."
   ]
  },
  {
   "cell_type": "code",
   "execution_count": 62,
   "metadata": {},
   "outputs": [
    {
     "name": "stdout",
     "output_type": "stream",
     "text": [
      "<class 'pandas.core.frame.DataFrame'>\n",
      "RangeIndex: 10000 entries, 0 to 9999\n",
      "Data columns (total 22 columns):\n",
      " #   Column             Non-Null Count  Dtype  \n",
      "---  ------             --------------  -----  \n",
      " 0   CreditScore        10000 non-null  int64  \n",
      " 1   Age                10000 non-null  int64  \n",
      " 2   Balance            10000 non-null  float64\n",
      " 3   NumOfProducts      10000 non-null  int64  \n",
      " 4   HasCrCard          10000 non-null  int64  \n",
      " 5   IsActiveMember     10000 non-null  int64  \n",
      " 6   EstimatedSalary    10000 non-null  float64\n",
      " 7   Exited             10000 non-null  int64  \n",
      " 8   Geography_Germany  10000 non-null  uint8  \n",
      " 9   Geography_Spain    10000 non-null  uint8  \n",
      " 10  Gender_Male        10000 non-null  uint8  \n",
      " 11  Tenure_0.0         10000 non-null  uint8  \n",
      " 12  Tenure_1.0         10000 non-null  uint8  \n",
      " 13  Tenure_2.0         10000 non-null  uint8  \n",
      " 14  Tenure_3.0         10000 non-null  uint8  \n",
      " 15  Tenure_4.0         10000 non-null  uint8  \n",
      " 16  Tenure_5.0         10000 non-null  uint8  \n",
      " 17  Tenure_6.0         10000 non-null  uint8  \n",
      " 18  Tenure_7.0         10000 non-null  uint8  \n",
      " 19  Tenure_8.0         10000 non-null  uint8  \n",
      " 20  Tenure_9.0         10000 non-null  uint8  \n",
      " 21  Tenure_10.0        10000 non-null  uint8  \n",
      "dtypes: float64(2), int64(6), uint8(14)\n",
      "memory usage: 761.8 KB\n"
     ]
    }
   ],
   "source": [
    "df = pd.get_dummies(df, drop_first = True)\n",
    "\n",
    "df.info()"
   ]
  },
  {
   "cell_type": "markdown",
   "metadata": {},
   "source": [
    "Проверим распределение классов в столбце Exited."
   ]
  },
  {
   "cell_type": "code",
   "execution_count": 63,
   "metadata": {},
   "outputs": [
    {
     "name": "stdout",
     "output_type": "stream",
     "text": [
      "0    7963\n",
      "1    2037\n",
      "Name: Exited, dtype: int64\n"
     ]
    }
   ],
   "source": [
    "print(df['Exited'].value_counts())"
   ]
  },
  {
   "cell_type": "code",
   "execution_count": 64,
   "metadata": {},
   "outputs": [
    {
     "name": "stdout",
     "output_type": "stream",
     "text": [
      "20.369999999999997\n"
     ]
    }
   ],
   "source": [
    "print((df['Exited'] == 1).sum() / ((df['Exited'] == 1).sum() + (df['Exited'] == 0).sum()) * 100)"
   ]
  },
  {
   "cell_type": "markdown",
   "metadata": {},
   "source": [
    "Разобьём данные на выборки."
   ]
  },
  {
   "cell_type": "code",
   "execution_count": 65,
   "metadata": {},
   "outputs": [
    {
     "name": "stdout",
     "output_type": "stream",
     "text": [
      "Проверим на сбалансированность таргетов в выборках:\n",
      "target_train:\n",
      "0    4778\n",
      "1    1222\n",
      "Name: Exited, dtype: int64\n",
      "\n",
      "target_test:\n",
      "0    1593\n",
      "1     407\n",
      "Name: Exited, dtype: int64\n"
     ]
    }
   ],
   "source": [
    "train, test = train_test_split(\n",
    "    df, train_size=0.6, random_state=42, stratify=df['Exited'])\n",
    "\n",
    "features = df.drop(['Exited'], axis = 1)\n",
    "target = df['Exited']\n",
    "\n",
    "features_train, features_prom, target_train, target_prom = \\\n",
    "train_test_split(features, target, test_size = 0.4, random_state = 12345, stratify = target)\n",
    "\n",
    "features_valid, features_test, target_valid, target_test = \\\n",
    "train_test_split(features_prom, target_prom, test_size = 0.5, random_state = 12345, stratify = target_prom)\n",
    "\n",
    "print('Проверим на сбалансированность таргетов в выборках:')\n",
    "print('target_train:')\n",
    "print(target_train.value_counts())\n",
    "print()\n",
    "\n",
    "print('target_test:')\n",
    "print(target_test.value_counts())\n",
    "\n",
    "#копии для пункта борьбы с дисбалансом\n",
    "features_train_copy = features_train.copy() \n",
    "target_train_copy = target_train.copy()"
   ]
  },
  {
   "cell_type": "markdown",
   "metadata": {},
   "source": [
    "Устранив пропуски, убрав лишние значения изучил данные, можно заметить неравномерное распределение классов в датафрейме. Всего 20% данных это 1, остальные 80% это 0."
   ]
  },
  {
   "cell_type": "markdown",
   "metadata": {},
   "source": [
    "## Исследование задачи"
   ]
  },
  {
   "cell_type": "markdown",
   "metadata": {},
   "source": [
    "Перед исследованием стандартизируем данные."
   ]
  },
  {
   "cell_type": "code",
   "execution_count": 66,
   "metadata": {},
   "outputs": [],
   "source": [
    "scaler = StandardScaler()\n",
    "\n",
    "scaler.fit(features_train)\n",
    "\n",
    "features_train = scaler.transform(features_train)\n",
    "features_valid = scaler.transform(features_valid)\n",
    "features_test = scaler.transform(features_test)"
   ]
  },
  {
   "cell_type": "markdown",
   "metadata": {},
   "source": [
    "Найдем наилучшие параметры для нескольких моделей."
   ]
  },
  {
   "cell_type": "code",
   "execution_count": 67,
   "metadata": {},
   "outputs": [
    {
     "name": "stdout",
     "output_type": "stream",
     "text": [
      "RandomForestClassifier(min_samples_leaf=3, n_estimators=104, random_state=12345)\n",
      "0.8629999999999999\n",
      "CPU times: user 2min 3s, sys: 599 ms, total: 2min 3s\n",
      "Wall time: 2min 3s\n"
     ]
    }
   ],
   "source": [
    "%%time\n",
    "\n",
    "model_gs = RandomForestClassifier(random_state=12345, criterion=\"gini\")\n",
    "parametrs_gs  = {\n",
    "    \"n_estimators\": [100, 101, 102, 103, 104, 105, 106],\n",
    "    'min_samples_leaf': [1, 2, 3, 4, 5, 6, 7],\n",
    "}\n",
    "gs = GridSearchCV(estimator = model_gs,\n",
    "                  param_grid = parametrs_gs,\n",
    "                  cv=5)\n",
    "gs.fit(features_train, target_train)\n",
    "print(gs.best_estimator_)\n",
    "print(gs.best_score_)"
   ]
  },
  {
   "cell_type": "code",
   "execution_count": 68,
   "metadata": {},
   "outputs": [
    {
     "name": "stdout",
     "output_type": "stream",
     "text": [
      "F1:  0.5916795069337442\n",
      "ROC_AUC:  0.7199046704108779\n",
      "RECALL:  0.47058823529411764\n",
      "PRECISION:  0.7966804979253111\n",
      "Accuracy_score  0.8675\n",
      "CPU times: user 633 ms, sys: 3.9 ms, total: 636 ms\n",
      "Wall time: 641 ms\n"
     ]
    }
   ],
   "source": [
    "%%time\n",
    "\n",
    "model = RandomForestClassifier(random_state=12345, criterion='gini', min_samples_leaf=3, n_estimators=104)\n",
    "model.fit(features_train, target_train)\n",
    "predicted_valid = model.predict(features_valid)\n",
    "print(\"F1: \", f1_score(target_valid, predicted_valid))\n",
    "print(\"ROC_AUC: \", roc_auc_score(target_valid, predicted_valid))\n",
    "print(\"RECALL: \", recall_score(target_valid, predicted_valid))\n",
    "print(\"PRECISION: \", precision_score(target_valid, predicted_valid))\n",
    "print(\"Accuracy_score \", accuracy_score(target_valid, predicted_valid))"
   ]
  },
  {
   "cell_type": "code",
   "execution_count": 69,
   "metadata": {},
   "outputs": [
    {
     "name": "stdout",
     "output_type": "stream",
     "text": [
      "Лучшие показатели модели:\n",
      "max_iter = 100\n",
      "accuracy = 0.812\n"
     ]
    },
    {
     "data": {
      "image/png": "[encoded data removed]",
      "text/plain": [
       "<Figure size 432x288 with 1 Axes>"
      ]
     },
     "metadata": {
      "needs_background": "light"
     },
     "output_type": "display_data"
    },
    {
     "name": "stdout",
     "output_type": "stream",
     "text": [
      "F1:  0.31386861313868614\n",
      "ROC_AUC:  0.5884323578677703\n",
      "RECALL:  0.2107843137254902\n",
      "PRECISION:  0.6142857142857143\n",
      "CPU times: user 1.35 s, sys: 1.85 s, total: 3.2 s\n",
      "Wall time: 3.11 s\n"
     ]
    }
   ],
   "source": [
    "%%time\n",
    "\n",
    "best_model_two = None\n",
    "best_result_two = 0\n",
    "best_iter = 0\n",
    "\n",
    "x_two = []\n",
    "y_two = []\n",
    "\n",
    "for i in range(100, 1100, 100):\n",
    "    model_two = LogisticRegression(random_state = 12345, solver = 'lbfgs', max_iter = i)\n",
    "    model_two.fit(features_train, target_train)\n",
    "    dump(model_two, 'model_9_1.joblib')\n",
    "    predictions_two = model_two.predict(features_valid)\n",
    "    result_two = accuracy_score(target_valid, predictions_two)\n",
    "    x_two.append(i)\n",
    "    y_two.append(result_two)\n",
    "    if result_two > best_result_two:\n",
    "        best_model_two = model_two\n",
    "        best_result_two = result_two\n",
    "        best_iter = i\n",
    "\n",
    "print('Лучшие показатели модели:')\n",
    "print('max_iter =', best_iter)\n",
    "print('accuracy =', best_result_two)\n",
    "\n",
    "plt.plot(x_two, y_two)\n",
    "plt.title('Зависимость качества от количества итераций')\n",
    "plt.xlabel(\"Количество итераций\")\n",
    "plt.ylabel(\"Accuracy\")\n",
    "plt.grid()\n",
    "plt.show()\n",
    "\n",
    "predictions_regression = model_two.predict(features_valid)\n",
    "print(\"F1: \", f1_score(target_valid, predictions_regression))\n",
    "print(\"ROC_AUC: \", roc_auc_score(target_valid, predictions_regression))\n",
    "print(\"RECALL: \", recall_score(target_valid, predictions_regression))\n",
    "print(\"PRECISION: \", precision_score(target_valid, predictions_regression))"
   ]
  },
  {
   "cell_type": "markdown",
   "metadata": {},
   "source": [
    "## Борьба с дисбалансом"
   ]
  },
  {
   "cell_type": "markdown",
   "metadata": {},
   "source": [
    "###  Метод увеличения выборки."
   ]
  },
  {
   "cell_type": "code",
   "execution_count": 70,
   "metadata": {},
   "outputs": [
    {
     "name": "stdout",
     "output_type": "stream",
     "text": [
      "F1 = 0.27831325301204823\n",
      "ROC-AUC = 0.462422406148389\n",
      "RECALL = 0.5661764705882353\n",
      "PRECISION = 0.18450479233226838\n",
      "Accuracy = 0.401\n"
     ]
    }
   ],
   "source": [
    "def upsample(features, target, repeat):\n",
    "    features_zeros = features[target == 0]\n",
    "    features_ones = features[target == 1]\n",
    "    target_eros = target[target == 0]\n",
    "    target_ones = target[target == 1]\n",
    "    features_upsampled = pd.concat([features_zeros] + [features_ones] * repeat)\n",
    "    target_upsampled = pd.concat([target_eros] + [target_ones] * repeat)\n",
    "    features_upsampled, target_upsampled = shuffle(features_upsampled, target_upsampled, random_state = 12345)\n",
    "    return features_upsampled, target_upsampled\n",
    "\n",
    "features_train_upsampled, target_train_upsampled = upsample(features_train_copy, target_train_copy, 4)\n",
    "\n",
    "model_three = RandomForestClassifier(random_state = 12345,  max_depth = 12,  min_samples_leaf=3, n_estimators = 96)\n",
    "\n",
    "model_three.fit(features_train_upsampled, target_train_upsampled)\n",
    "\n",
    "predicted_three = model_three.predict(features_valid)\n",
    "\n",
    "print('F1 =', f1_score(target_valid, predicted_three))\n",
    "print('ROC-AUC =', roc_auc_score(target_valid, predicted_three))\n",
    "print('RECALL =', recall_score(target_valid, predicted_three))\n",
    "print('PRECISION =', precision_score(target_valid, predicted_three))\n",
    "print('Accuracy =', accuracy_score(target_valid, predicted_three))"
   ]
  },
  {
   "cell_type": "code",
   "execution_count": 71,
   "metadata": {},
   "outputs": [
    {
     "name": "stdout",
     "output_type": "stream",
     "text": [
      "F1:  0.48707909162098667\n",
      "ROC_AUC:  0.7058761946989851\n",
      "RECALL:  0.7622549019607843\n",
      "PRECISION:  0.3578826237054085\n",
      "Accuracy score  0.6725\n"
     ]
    }
   ],
   "source": [
    "model_four = LogisticRegression(random_state = 12345, solver = 'lbfgs', max_iter = 100)\n",
    "model_four.fit(features_train_upsampled, target_train_upsampled)\n",
    "dump(model_four, 'model_9_1.joblib')\n",
    "predictions_four = model_four.predict(features_valid)\n",
    "\n",
    "print(\"F1: \", f1_score(target_valid, predictions_four))\n",
    "print(\"ROC_AUC: \", roc_auc_score(target_valid, predictions_four))\n",
    "print(\"RECALL: \", recall_score(target_valid, predictions_four))\n",
    "print(\"PRECISION: \", precision_score(target_valid, predictions_four))\n",
    "print(\"Accuracy score \", accuracy_score(target_valid, predictions_four))"
   ]
  },
  {
   "cell_type": "markdown",
   "metadata": {},
   "source": [
    "### Метод уменьшения выборки"
   ]
  },
  {
   "cell_type": "code",
   "execution_count": 72,
   "metadata": {},
   "outputs": [
    {
     "name": "stdout",
     "output_type": "stream",
     "text": [
      "F1:  0.486697965571205\n",
      "ROC_AUC:  0.7055621243472263\n",
      "RECALL:  0.7622549019607843\n",
      "PRECISION:  0.35747126436781607\n",
      "Accuracy score  0.672\n"
     ]
    }
   ],
   "source": [
    "def downsample(features, target, fraction):\n",
    "    features_zeros = features[target == 0]\n",
    "    features_ones = features[target == 1]\n",
    "    target_zeros = target[target == 0]\n",
    "    target_ones = target[target == 1]\n",
    "    features_downsampled = pd.concat([features_zeros.sample(frac = fraction, random_state = 12345)] +[features_ones])\n",
    "    target_downsampled = pd.concat([target_zeros.sample(frac = fraction, random_state = 12345)] + [target_ones])\n",
    "    return features_downsampled, target_downsampled\n",
    "\n",
    "features_train_downsampled, target_train_downsampled = downsample(features_train_copy, target_train_copy, 0.25)\n",
    "\n",
    "model_seven = LogisticRegression(random_state = 12345, solver = 'liblinear', max_iter = 100)\n",
    "model_seven.fit(features_train_downsampled, target_train_downsampled)\n",
    "predictions_seven = model_seven.predict(features_valid)\n",
    "print(\"F1: \", f1_score(target_valid, predictions_seven))\n",
    "print(\"ROC_AUC: \", roc_auc_score(target_valid, predictions_seven))\n",
    "print(\"RECALL: \", recall_score(target_valid, predictions_seven))\n",
    "print(\"PRECISION: \", precision_score(target_valid, predictions_seven))\n",
    "print(\"Accuracy score \", accuracy_score(target_valid, predictions_seven))"
   ]
  },
  {
   "cell_type": "code",
   "execution_count": 73,
   "metadata": {},
   "outputs": [
    {
     "name": "stdout",
     "output_type": "stream",
     "text": [
      "F1 = 0.33489561141883256\n",
      "ROC-AUC = 0.4960648832397281\n",
      "RECALL = 0.9632352941176471\n",
      "PRECISION = 0.20268179473955647\n",
      "Accuracy = 0.2195\n"
     ]
    }
   ],
   "source": [
    "model_eight = RandomForestClassifier(random_state = 12345,  max_depth = 12,  min_samples_leaf=3, n_estimators = 104)\n",
    "model_eight.fit(features_train_downsampled, target_train_downsampled)\n",
    "predicted_eight = model_eight.predict(features_valid)\n",
    "\n",
    "print('F1 =', f1_score(target_valid, predicted_eight))\n",
    "print('ROC-AUC =', roc_auc_score(target_valid, predicted_eight))\n",
    "print('RECALL =', recall_score(target_valid, predicted_eight))\n",
    "print('PRECISION =', precision_score(target_valid, predicted_eight))\n",
    "print('Accuracy =', accuracy_score(target_valid, predicted_eight))"
   ]
  },
  {
   "cell_type": "markdown",
   "metadata": {},
   "source": [
    "### Метод балансировки весов классов"
   ]
  },
  {
   "cell_type": "code",
   "execution_count": 74,
   "metadata": {},
   "outputs": [
    {
     "name": "stdout",
     "output_type": "stream",
     "text": [
      "F1:  0.5217391304347827\n",
      "ROC_AUC:  0.7288279633461425\n",
      "RECALL:  0.7352941176470589\n",
      "PRECISION:  0.40431266846361186\n",
      "Accuracy score  0.725\n"
     ]
    }
   ],
   "source": [
    "model_five = LogisticRegression(random_state = 12345, solver = 'liblinear', class_weight = 'balanced')\n",
    "model_five.fit(features_train, target_train)\n",
    "predictions_five = model_five.predict(features_valid)\n",
    "print(\"F1: \", f1_score(target_valid, predictions_five))\n",
    "print(\"ROC_AUC: \", roc_auc_score(target_valid, predictions_five))\n",
    "print(\"RECALL: \", recall_score(target_valid, predictions_five))\n",
    "print(\"PRECISION: \", precision_score(target_valid, predictions_five))\n",
    "print(\"Accuracy score \", accuracy_score(target_valid, predictions_five))"
   ]
  },
  {
   "cell_type": "code",
   "execution_count": 75,
   "metadata": {},
   "outputs": [
    {
     "name": "stdout",
     "output_type": "stream",
     "text": [
      "F1 = 0.6469893742621016\n",
      "ROC-AUC = 0.783962705685289\n",
      "RECALL = 0.6715686274509803\n",
      "PRECISION = 0.6241457858769932\n",
      "Accuracy = 0.8505\n"
     ]
    }
   ],
   "source": [
    "model_six = RandomForestClassifier(random_state = 12345,  max_depth = 12,  min_samples_leaf=3, n_estimators = 96, class_weight = 'balanced')\n",
    "model_six.fit(features_train, target_train)\n",
    "predicted_six = model_six.predict(features_valid)\n",
    "print('F1 =', f1_score(target_valid, predicted_six))\n",
    "print('ROC-AUC =', roc_auc_score(target_valid, predicted_six))\n",
    "print('RECALL =', recall_score(target_valid, predicted_six))\n",
    "print('PRECISION =', precision_score(target_valid, predicted_six))\n",
    "print('Accuracy =', accuracy_score(target_valid, predicted_six))"
   ]
  },
  {
   "cell_type": "markdown",
   "metadata": {},
   "source": [
    "## Тестирование модели"
   ]
  },
  {
   "cell_type": "markdown",
   "metadata": {},
   "source": [
    "Для тестирования выбрал вторую модель, с самым высоким значением F1."
   ]
  },
  {
   "cell_type": "code",
   "execution_count": 76,
   "metadata": {},
   "outputs": [
    {
     "name": "stdout",
     "output_type": "stream",
     "text": [
      "F1 = 0.6014492753623188\n",
      "ROC-AUC = 0.751910616317396\n",
      "RECALL = 0.6117936117936118\n",
      "PRECISION = 0.5914489311163895\n",
      "Accuracy = 0.835\n"
     ]
    }
   ],
   "source": [
    "predicted_test = model_six.predict(features_test)\n",
    "print('F1 =', f1_score(target_test, predicted_test))\n",
    "print('ROC-AUC =', roc_auc_score(target_test, predicted_test))\n",
    "print('RECALL =', recall_score(target_test, predicted_test))\n",
    "print('PRECISION =', precision_score(target_test, predicted_test))\n",
    "print('Accuracy =', accuracy_score(target_test, predicted_test))"
   ]
  },
  {
   "cell_type": "markdown",
   "metadata": {},
   "source": [
    "# Вывод\n",
    "\n",
    "Для проведения исследования были предоставлены данные о клиентах \"Бета-Банка\", в процессе подготовки данных были удалены столбцы ('Surname','CustomerId','RowNumber'), в столбце 'Tenure' пропущенные значения были заменены на значение '-1'. Отдельно рассмотрев распределение классов в столбце 'Exited', был замечен дисбаланс классов 1 к 4. Для подготовки признаков к датафрейму было применено прямое кодирование. Далее в исследовании было расмотренно две модели: дерево решений и логистическая регрессия. Для борьбы с дисбалансом рассмотрел несколько метов борьбы, наилучшая модель показала значение F1 на тестовой выборке равное 0,60."
   ]
  },
  {
   "cell_type": "code",
   "execution_count": null,
   "metadata": {},
   "outputs": [],
   "source": []
  }
 ],
 "metadata": {
  "ExecuteTimeLog": [
   {
    "duration": 436,
    "start_time": "2022-09-27T16:15:23.868Z"
   },
   {
    "duration": 3,
    "start_time": "2022-09-27T16:15:28.693Z"
   },
   {
    "duration": 191,
    "start_time": "2022-09-27T16:16:06.144Z"
   },
   {
    "duration": 91,
    "start_time": "2022-09-27T16:23:41.926Z"
   },
   {
    "duration": 5,
    "start_time": "2022-09-27T16:26:19.491Z"
   },
   {
    "duration": 63,
    "start_time": "2022-09-27T16:26:38.036Z"
   },
   {
    "duration": 6,
    "start_time": "2022-09-27T16:26:41.650Z"
   },
   {
    "duration": 4,
    "start_time": "2022-09-27T16:26:46.013Z"
   },
   {
    "duration": 5,
    "start_time": "2022-09-27T16:26:53.173Z"
   },
   {
    "duration": 7,
    "start_time": "2022-09-27T16:28:24.716Z"
   },
   {
    "duration": 5,
    "start_time": "2022-09-27T16:28:31.251Z"
   },
   {
    "duration": 5,
    "start_time": "2022-09-27T16:28:44.567Z"
   },
   {
    "duration": 4,
    "start_time": "2022-09-27T16:29:29.953Z"
   },
   {
    "duration": 6,
    "start_time": "2022-09-27T16:29:39.939Z"
   },
   {
    "duration": 3,
    "start_time": "2022-09-27T16:29:43.502Z"
   },
   {
    "duration": 65,
    "start_time": "2022-09-27T16:29:43.699Z"
   },
   {
    "duration": 5,
    "start_time": "2022-09-27T16:29:44.415Z"
   },
   {
    "duration": 5,
    "start_time": "2022-09-27T16:29:44.690Z"
   },
   {
    "duration": 4,
    "start_time": "2022-09-27T16:31:42.253Z"
   },
   {
    "duration": 2,
    "start_time": "2022-09-27T16:31:46.016Z"
   },
   {
    "duration": 62,
    "start_time": "2022-09-27T16:31:46.228Z"
   },
   {
    "duration": 4,
    "start_time": "2022-09-27T16:31:47.105Z"
   },
   {
    "duration": 6,
    "start_time": "2022-09-27T16:31:47.440Z"
   },
   {
    "duration": 5,
    "start_time": "2022-09-27T16:35:38.430Z"
   },
   {
    "duration": 775,
    "start_time": "2022-09-27T16:36:30.255Z"
   },
   {
    "duration": 72,
    "start_time": "2022-09-27T16:36:31.032Z"
   },
   {
    "duration": 5,
    "start_time": "2022-09-27T16:36:31.830Z"
   },
   {
    "duration": 6,
    "start_time": "2022-09-27T16:36:32.218Z"
   },
   {
    "duration": 16,
    "start_time": "2022-09-27T16:36:32.805Z"
   },
   {
    "duration": 93,
    "start_time": "2022-09-27T16:43:18.232Z"
   },
   {
    "duration": 24,
    "start_time": "2022-09-27T16:43:41.991Z"
   },
   {
    "duration": 17,
    "start_time": "2022-09-27T16:45:31.140Z"
   },
   {
    "duration": 3,
    "start_time": "2022-09-27T16:45:43.797Z"
   },
   {
    "duration": 57,
    "start_time": "2022-09-27T16:45:43.983Z"
   },
   {
    "duration": 4,
    "start_time": "2022-09-27T16:45:44.647Z"
   },
   {
    "duration": 5,
    "start_time": "2022-09-27T16:45:44.840Z"
   },
   {
    "duration": 18,
    "start_time": "2022-09-27T16:45:45.185Z"
   },
   {
    "duration": 21,
    "start_time": "2022-09-27T16:46:09.880Z"
   },
   {
    "duration": 17,
    "start_time": "2022-09-27T19:37:19.556Z"
   },
   {
    "duration": 1141,
    "start_time": "2022-09-28T09:38:37.822Z"
   },
   {
    "duration": 112,
    "start_time": "2022-09-28T09:38:38.965Z"
   },
   {
    "duration": 4,
    "start_time": "2022-09-28T09:38:39.079Z"
   },
   {
    "duration": 10,
    "start_time": "2022-09-28T09:38:39.086Z"
   },
   {
    "duration": 17,
    "start_time": "2022-09-28T09:38:39.611Z"
   },
   {
    "duration": 18,
    "start_time": "2022-09-28T09:38:40.723Z"
   },
   {
    "duration": 121,
    "start_time": "2022-09-28T09:48:08.475Z"
   },
   {
    "duration": 66,
    "start_time": "2022-09-28T09:48:08.838Z"
   },
   {
    "duration": 47,
    "start_time": "2022-09-28T09:48:17.903Z"
   },
   {
    "duration": 66,
    "start_time": "2022-09-28T09:48:18.580Z"
   },
   {
    "duration": 5,
    "start_time": "2022-09-28T09:48:19.466Z"
   },
   {
    "duration": 5,
    "start_time": "2022-09-28T09:48:19.639Z"
   },
   {
    "duration": 16,
    "start_time": "2022-09-28T09:48:20.004Z"
   },
   {
    "duration": 17,
    "start_time": "2022-09-28T09:48:20.454Z"
   },
   {
    "duration": 109,
    "start_time": "2022-09-28T10:04:33.955Z"
   },
   {
    "duration": 84,
    "start_time": "2022-09-28T10:04:43.721Z"
   },
   {
    "duration": 14,
    "start_time": "2022-09-28T10:06:36.457Z"
   },
   {
    "duration": 4,
    "start_time": "2022-09-28T10:06:40.186Z"
   },
   {
    "duration": 61,
    "start_time": "2022-09-28T10:06:41.040Z"
   },
   {
    "duration": 4,
    "start_time": "2022-09-28T10:06:42.088Z"
   },
   {
    "duration": 5,
    "start_time": "2022-09-28T10:06:42.550Z"
   },
   {
    "duration": 17,
    "start_time": "2022-09-28T10:06:43.413Z"
   },
   {
    "duration": 20,
    "start_time": "2022-09-28T10:06:44.343Z"
   },
   {
    "duration": 20,
    "start_time": "2022-09-28T10:06:45.799Z"
   },
   {
    "duration": 25,
    "start_time": "2022-09-28T10:06:53.078Z"
   },
   {
    "duration": 31,
    "start_time": "2022-09-28T10:07:06.401Z"
   },
   {
    "duration": 3,
    "start_time": "2022-09-28T10:07:24.440Z"
   },
   {
    "duration": 59,
    "start_time": "2022-09-28T10:07:24.762Z"
   },
   {
    "duration": 5,
    "start_time": "2022-09-28T10:07:25.842Z"
   },
   {
    "duration": 5,
    "start_time": "2022-09-28T10:07:26.087Z"
   },
   {
    "duration": 16,
    "start_time": "2022-09-28T10:07:26.628Z"
   },
   {
    "duration": 17,
    "start_time": "2022-09-28T10:07:27.187Z"
   },
   {
    "duration": 42,
    "start_time": "2022-09-28T10:07:27.906Z"
   },
   {
    "duration": 16,
    "start_time": "2022-09-28T10:08:06.140Z"
   },
   {
    "duration": 3,
    "start_time": "2022-09-28T10:08:10.062Z"
   },
   {
    "duration": 59,
    "start_time": "2022-09-28T10:08:10.240Z"
   },
   {
    "duration": 4,
    "start_time": "2022-09-28T10:08:11.451Z"
   },
   {
    "duration": 5,
    "start_time": "2022-09-28T10:08:11.742Z"
   },
   {
    "duration": 19,
    "start_time": "2022-09-28T10:08:12.888Z"
   },
   {
    "duration": 17,
    "start_time": "2022-09-28T10:08:23.175Z"
   },
   {
    "duration": 40,
    "start_time": "2022-09-28T10:08:24.717Z"
   },
   {
    "duration": 24,
    "start_time": "2022-09-28T10:09:07.805Z"
   },
   {
    "duration": 37,
    "start_time": "2022-09-28T10:09:14.570Z"
   },
   {
    "duration": 1061,
    "start_time": "2022-09-28T18:54:09.326Z"
   },
   {
    "duration": 105,
    "start_time": "2022-09-28T18:54:10.389Z"
   },
   {
    "duration": 4,
    "start_time": "2022-09-28T18:54:10.836Z"
   },
   {
    "duration": 6,
    "start_time": "2022-09-28T18:54:11.273Z"
   },
   {
    "duration": 22,
    "start_time": "2022-09-28T18:54:12.009Z"
   },
   {
    "duration": 17,
    "start_time": "2022-09-28T18:54:19.646Z"
   },
   {
    "duration": 1080,
    "start_time": "2022-09-28T18:56:10.185Z"
   },
   {
    "duration": 64,
    "start_time": "2022-09-28T18:56:11.266Z"
   },
   {
    "duration": 4,
    "start_time": "2022-09-28T18:56:11.332Z"
   },
   {
    "duration": 17,
    "start_time": "2022-09-28T18:56:11.338Z"
   },
   {
    "duration": 21,
    "start_time": "2022-09-28T18:56:11.356Z"
   },
   {
    "duration": 33,
    "start_time": "2022-09-28T18:56:11.379Z"
   },
   {
    "duration": 363772,
    "start_time": "2022-09-28T19:08:18.357Z"
   },
   {
    "duration": 3,
    "start_time": "2022-09-28T19:32:46.984Z"
   },
   {
    "duration": 65,
    "start_time": "2022-09-28T19:32:47.614Z"
   },
   {
    "duration": 4,
    "start_time": "2022-09-28T19:32:48.952Z"
   },
   {
    "duration": 5,
    "start_time": "2022-09-28T19:32:49.489Z"
   },
   {
    "duration": 27,
    "start_time": "2022-09-28T19:32:50.365Z"
   },
   {
    "duration": 17,
    "start_time": "2022-09-28T19:32:53.790Z"
   },
   {
    "duration": 849,
    "start_time": "2022-09-28T19:33:09.131Z"
   },
   {
    "duration": 763,
    "start_time": "2022-09-28T19:33:29.213Z"
   },
   {
    "duration": 805,
    "start_time": "2022-09-28T19:33:49.248Z"
   },
   {
    "duration": 772,
    "start_time": "2022-09-28T19:34:23.966Z"
   },
   {
    "duration": 778,
    "start_time": "2022-09-28T19:34:48.416Z"
   },
   {
    "duration": 810,
    "start_time": "2022-09-28T19:34:56.941Z"
   },
   {
    "duration": 54,
    "start_time": "2022-09-28T19:35:18.917Z"
   },
   {
    "duration": 768,
    "start_time": "2022-09-28T19:35:22.253Z"
   },
   {
    "duration": 807,
    "start_time": "2022-09-28T19:35:33.189Z"
   },
   {
    "duration": 770,
    "start_time": "2022-09-28T19:35:44.479Z"
   },
   {
    "duration": 750,
    "start_time": "2022-09-28T19:35:48.988Z"
   },
   {
    "duration": 850,
    "start_time": "2022-09-28T19:35:52.990Z"
   },
   {
    "duration": 818,
    "start_time": "2022-09-28T19:35:56.738Z"
   },
   {
    "duration": 772,
    "start_time": "2022-09-28T19:36:00.691Z"
   },
   {
    "duration": 873,
    "start_time": "2022-09-28T19:38:42.667Z"
   },
   {
    "duration": 870,
    "start_time": "2022-09-28T19:38:47.180Z"
   },
   {
    "duration": 857,
    "start_time": "2022-09-28T19:38:50.286Z"
   },
   {
    "duration": 881,
    "start_time": "2022-09-28T19:38:55.803Z"
   },
   {
    "duration": 890,
    "start_time": "2022-09-28T19:39:04.406Z"
   },
   {
    "duration": 702,
    "start_time": "2022-09-28T19:39:09.552Z"
   },
   {
    "duration": 752,
    "start_time": "2022-09-28T19:39:13.030Z"
   },
   {
    "duration": 882,
    "start_time": "2022-09-28T19:39:16.780Z"
   },
   {
    "duration": 841,
    "start_time": "2022-09-28T19:39:20.391Z"
   },
   {
    "duration": 855,
    "start_time": "2022-09-28T19:39:38.266Z"
   },
   {
    "duration": 847,
    "start_time": "2022-09-28T19:39:48.466Z"
   },
   {
    "duration": 838,
    "start_time": "2022-09-28T19:39:51.504Z"
   },
   {
    "duration": 846,
    "start_time": "2022-09-28T19:39:54.842Z"
   },
   {
    "duration": 817,
    "start_time": "2022-09-28T19:39:57.903Z"
   },
   {
    "duration": 812,
    "start_time": "2022-09-28T19:40:01.442Z"
   },
   {
    "duration": 876,
    "start_time": "2022-09-28T19:40:04.981Z"
   },
   {
    "duration": 867,
    "start_time": "2022-09-28T19:40:15.466Z"
   },
   {
    "duration": 821,
    "start_time": "2022-09-28T19:40:20.382Z"
   },
   {
    "duration": 914,
    "start_time": "2022-09-28T19:40:23.856Z"
   },
   {
    "duration": 869,
    "start_time": "2022-09-28T19:40:27.805Z"
   },
   {
    "duration": 885,
    "start_time": "2022-09-28T19:40:31.267Z"
   },
   {
    "duration": 904,
    "start_time": "2022-09-28T19:40:34.704Z"
   },
   {
    "duration": 875,
    "start_time": "2022-09-28T19:40:37.730Z"
   },
   {
    "duration": 916,
    "start_time": "2022-09-28T19:40:40.891Z"
   },
   {
    "duration": 945,
    "start_time": "2022-09-28T19:40:43.981Z"
   },
   {
    "duration": 918,
    "start_time": "2022-09-28T19:40:47.054Z"
   },
   {
    "duration": 961,
    "start_time": "2022-09-28T19:40:51.094Z"
   },
   {
    "duration": 543,
    "start_time": "2022-09-28T19:40:55.768Z"
   },
   {
    "duration": 520,
    "start_time": "2022-09-28T19:41:02.729Z"
   },
   {
    "duration": 595,
    "start_time": "2022-09-28T19:41:06.143Z"
   },
   {
    "duration": 679,
    "start_time": "2022-09-28T19:41:09.406Z"
   },
   {
    "duration": 627,
    "start_time": "2022-09-28T19:41:12.041Z"
   },
   {
    "duration": 655,
    "start_time": "2022-09-28T19:41:15.028Z"
   },
   {
    "duration": 754,
    "start_time": "2022-09-28T19:41:18.833Z"
   },
   {
    "duration": 793,
    "start_time": "2022-09-28T19:41:23.727Z"
   },
   {
    "duration": 813,
    "start_time": "2022-09-28T19:41:27.855Z"
   },
   {
    "duration": 807,
    "start_time": "2022-09-28T19:41:36.545Z"
   },
   {
    "duration": 810,
    "start_time": "2022-09-28T19:41:48.146Z"
   },
   {
    "duration": 819,
    "start_time": "2022-09-28T19:42:14.744Z"
   },
   {
    "duration": 752,
    "start_time": "2022-09-28T19:42:19.906Z"
   },
   {
    "duration": 59,
    "start_time": "2022-09-28T19:53:24.462Z"
   },
   {
    "duration": 171,
    "start_time": "2022-09-29T16:48:13.751Z"
   },
   {
    "duration": 1411,
    "start_time": "2022-09-29T16:48:21.639Z"
   },
   {
    "duration": 214,
    "start_time": "2022-09-29T16:48:23.053Z"
   },
   {
    "duration": 4,
    "start_time": "2022-09-29T16:48:24.818Z"
   },
   {
    "duration": 7,
    "start_time": "2022-09-29T16:48:25.205Z"
   },
   {
    "duration": 29,
    "start_time": "2022-09-29T16:48:25.950Z"
   },
   {
    "duration": 25,
    "start_time": "2022-09-29T16:48:27.754Z"
   },
   {
    "duration": 1206,
    "start_time": "2022-09-29T16:48:31.425Z"
   },
   {
    "duration": 809,
    "start_time": "2022-09-29T16:48:47.179Z"
   },
   {
    "duration": 4,
    "start_time": "2022-09-29T18:02:06.270Z"
   },
   {
    "duration": 61,
    "start_time": "2022-09-29T18:02:06.732Z"
   },
   {
    "duration": 5,
    "start_time": "2022-09-29T18:02:08.222Z"
   },
   {
    "duration": 12,
    "start_time": "2022-09-29T18:02:08.785Z"
   },
   {
    "duration": 23,
    "start_time": "2022-09-29T18:02:09.702Z"
   },
   {
    "duration": 18,
    "start_time": "2022-09-29T18:02:10.613Z"
   },
   {
    "duration": 66,
    "start_time": "2022-09-29T18:02:11.636Z"
   },
   {
    "duration": 296189,
    "start_time": "2022-09-29T18:08:44.306Z"
   },
   {
    "duration": 748,
    "start_time": "2022-09-29T18:13:40.497Z"
   },
   {
    "duration": 4,
    "start_time": "2022-09-29T18:15:19.704Z"
   },
   {
    "duration": 73,
    "start_time": "2022-09-29T18:15:20.277Z"
   },
   {
    "duration": 6,
    "start_time": "2022-09-29T18:15:22.540Z"
   },
   {
    "duration": 6,
    "start_time": "2022-09-29T18:15:23.028Z"
   },
   {
    "duration": 30,
    "start_time": "2022-09-29T18:15:24.393Z"
   },
   {
    "duration": 20,
    "start_time": "2022-09-29T18:15:27.652Z"
   },
   {
    "duration": 782,
    "start_time": "2022-09-29T18:15:33.101Z"
   },
   {
    "duration": 82,
    "start_time": "2022-09-29T18:15:43.516Z"
   },
   {
    "duration": 18,
    "start_time": "2022-09-29T18:15:47.854Z"
   },
   {
    "duration": 10,
    "start_time": "2022-09-29T18:16:45.453Z"
   },
   {
    "duration": 3,
    "start_time": "2022-09-29T18:16:53.342Z"
   },
   {
    "duration": 58,
    "start_time": "2022-09-29T18:16:54.300Z"
   },
   {
    "duration": 5,
    "start_time": "2022-09-29T18:16:55.556Z"
   },
   {
    "duration": 6,
    "start_time": "2022-09-29T18:16:55.878Z"
   },
   {
    "duration": 35,
    "start_time": "2022-09-29T18:16:57.067Z"
   },
   {
    "duration": 18,
    "start_time": "2022-09-29T18:16:59.741Z"
   },
   {
    "duration": 747,
    "start_time": "2022-09-29T18:17:03.214Z"
   },
   {
    "duration": 102,
    "start_time": "2022-09-29T18:18:49.341Z"
   },
   {
    "duration": 1534,
    "start_time": "2022-09-29T18:19:10.469Z"
   },
   {
    "duration": 1425,
    "start_time": "2022-09-29T18:19:24.458Z"
   },
   {
    "duration": 1573,
    "start_time": "2022-09-29T18:19:30.599Z"
   },
   {
    "duration": 1573,
    "start_time": "2022-09-29T18:19:34.556Z"
   },
   {
    "duration": 1603,
    "start_time": "2022-09-29T18:19:40.398Z"
   },
   {
    "duration": 1579,
    "start_time": "2022-09-29T18:19:44.031Z"
   },
   {
    "duration": 1622,
    "start_time": "2022-09-29T18:19:47.555Z"
   },
   {
    "duration": 1684,
    "start_time": "2022-09-29T18:19:51.541Z"
   },
   {
    "duration": 1600,
    "start_time": "2022-09-29T18:19:55.807Z"
   },
   {
    "duration": 1621,
    "start_time": "2022-09-29T18:19:59.366Z"
   },
   {
    "duration": 1705,
    "start_time": "2022-09-29T18:20:03.357Z"
   },
   {
    "duration": 1667,
    "start_time": "2022-09-29T18:20:08.803Z"
   },
   {
    "duration": 1689,
    "start_time": "2022-09-29T18:20:18.478Z"
   },
   {
    "duration": 1616,
    "start_time": "2022-09-29T18:20:22.695Z"
   },
   {
    "duration": 1601,
    "start_time": "2022-09-29T18:20:26.779Z"
   },
   {
    "duration": 1677,
    "start_time": "2022-09-29T18:20:30.707Z"
   },
   {
    "duration": 1637,
    "start_time": "2022-09-29T18:20:34.132Z"
   },
   {
    "duration": 1649,
    "start_time": "2022-09-29T18:20:37.604Z"
   },
   {
    "duration": 1800,
    "start_time": "2022-09-29T18:20:41.374Z"
   },
   {
    "duration": 1615,
    "start_time": "2022-09-29T18:20:44.932Z"
   },
   {
    "duration": 1618,
    "start_time": "2022-09-29T18:20:48.267Z"
   },
   {
    "duration": 1610,
    "start_time": "2022-09-29T18:20:53.458Z"
   },
   {
    "duration": 1648,
    "start_time": "2022-09-29T18:20:56.755Z"
   },
   {
    "duration": 1736,
    "start_time": "2022-09-29T18:21:00.603Z"
   },
   {
    "duration": 1674,
    "start_time": "2022-09-29T18:21:04.404Z"
   },
   {
    "duration": 1646,
    "start_time": "2022-09-29T18:21:08.056Z"
   },
   {
    "duration": 1654,
    "start_time": "2022-09-29T18:21:11.981Z"
   },
   {
    "duration": 1680,
    "start_time": "2022-09-29T18:21:18.548Z"
   },
   {
    "duration": 1759,
    "start_time": "2022-09-29T18:21:24.457Z"
   },
   {
    "duration": 1695,
    "start_time": "2022-09-29T18:21:28.079Z"
   },
   {
    "duration": 1732,
    "start_time": "2022-09-29T18:21:31.656Z"
   },
   {
    "duration": 1652,
    "start_time": "2022-09-29T18:21:35.270Z"
   },
   {
    "duration": 1652,
    "start_time": "2022-09-29T18:21:40.231Z"
   },
   {
    "duration": 1556,
    "start_time": "2022-09-29T18:21:44.117Z"
   },
   {
    "duration": 1558,
    "start_time": "2022-09-29T18:21:47.878Z"
   },
   {
    "duration": 1608,
    "start_time": "2022-09-29T18:21:51.331Z"
   },
   {
    "duration": 912,
    "start_time": "2022-09-29T18:21:56.145Z"
   },
   {
    "duration": 989,
    "start_time": "2022-09-29T18:21:59.419Z"
   },
   {
    "duration": 972,
    "start_time": "2022-09-29T18:22:02.332Z"
   },
   {
    "duration": 1028,
    "start_time": "2022-09-29T18:22:04.933Z"
   },
   {
    "duration": 1036,
    "start_time": "2022-09-29T18:22:07.518Z"
   },
   {
    "duration": 1111,
    "start_time": "2022-09-29T18:22:09.808Z"
   },
   {
    "duration": 1059,
    "start_time": "2022-09-29T18:22:13.242Z"
   },
   {
    "duration": 1097,
    "start_time": "2022-09-29T18:22:16.509Z"
   },
   {
    "duration": 1008,
    "start_time": "2022-09-29T18:22:26.146Z"
   },
   {
    "duration": 1048,
    "start_time": "2022-09-29T18:22:37.702Z"
   },
   {
    "duration": 1065,
    "start_time": "2022-09-29T18:22:42.080Z"
   },
   {
    "duration": 1105,
    "start_time": "2022-09-29T18:22:58.006Z"
   },
   {
    "duration": 1383,
    "start_time": "2022-09-29T18:23:01.218Z"
   },
   {
    "duration": 1180,
    "start_time": "2022-09-29T18:23:13.931Z"
   },
   {
    "duration": 1127,
    "start_time": "2022-09-29T18:23:17.618Z"
   },
   {
    "duration": 1206,
    "start_time": "2022-09-29T18:23:20.899Z"
   },
   {
    "duration": 1121,
    "start_time": "2022-09-29T18:23:25.893Z"
   },
   {
    "duration": 1173,
    "start_time": "2022-09-29T18:23:33.707Z"
   },
   {
    "duration": 1167,
    "start_time": "2022-09-29T18:23:36.669Z"
   },
   {
    "duration": 1183,
    "start_time": "2022-09-29T18:23:39.730Z"
   },
   {
    "duration": 1164,
    "start_time": "2022-09-29T18:23:43.120Z"
   },
   {
    "duration": 1190,
    "start_time": "2022-09-29T18:23:46.768Z"
   },
   {
    "duration": 1231,
    "start_time": "2022-09-29T18:23:49.719Z"
   },
   {
    "duration": 1215,
    "start_time": "2022-09-29T18:23:52.356Z"
   },
   {
    "duration": 1294,
    "start_time": "2022-09-29T18:23:55.108Z"
   },
   {
    "duration": 1602,
    "start_time": "2022-09-29T18:23:58.106Z"
   },
   {
    "duration": 1324,
    "start_time": "2022-09-29T18:24:02.618Z"
   },
   {
    "duration": 1308,
    "start_time": "2022-09-29T18:24:06.770Z"
   },
   {
    "duration": 1405,
    "start_time": "2022-09-29T18:24:10.082Z"
   },
   {
    "duration": 1450,
    "start_time": "2022-09-29T18:24:14.622Z"
   },
   {
    "duration": 1355,
    "start_time": "2022-09-29T18:24:18.729Z"
   },
   {
    "duration": 1354,
    "start_time": "2022-09-29T18:24:22.932Z"
   },
   {
    "duration": 62,
    "start_time": "2022-09-29T18:24:45.547Z"
   },
   {
    "duration": 1391,
    "start_time": "2022-09-29T18:25:08.632Z"
   },
   {
    "duration": 1429,
    "start_time": "2022-09-29T18:25:13.923Z"
   },
   {
    "duration": 1429,
    "start_time": "2022-09-29T18:25:17.746Z"
   },
   {
    "duration": 1531,
    "start_time": "2022-09-29T18:25:20.868Z"
   },
   {
    "duration": 1449,
    "start_time": "2022-09-29T18:25:24.257Z"
   },
   {
    "duration": 1535,
    "start_time": "2022-09-29T18:25:27.645Z"
   },
   {
    "duration": 1519,
    "start_time": "2022-09-29T18:25:31.381Z"
   },
   {
    "duration": 1406,
    "start_time": "2022-09-29T18:25:45.800Z"
   },
   {
    "duration": 1454,
    "start_time": "2022-09-29T18:25:52.104Z"
   },
   {
    "duration": 1472,
    "start_time": "2022-09-29T18:25:58.745Z"
   },
   {
    "duration": 1392,
    "start_time": "2022-09-29T18:26:02.501Z"
   },
   {
    "duration": 1453,
    "start_time": "2022-09-29T18:26:05.834Z"
   },
   {
    "duration": 1472,
    "start_time": "2022-09-29T18:26:09.735Z"
   },
   {
    "duration": 1486,
    "start_time": "2022-09-29T18:26:13.909Z"
   },
   {
    "duration": 1468,
    "start_time": "2022-09-29T18:26:17.233Z"
   },
   {
    "duration": 1437,
    "start_time": "2022-09-29T18:26:20.944Z"
   },
   {
    "duration": 1338,
    "start_time": "2022-09-29T18:26:24.303Z"
   },
   {
    "duration": 1320,
    "start_time": "2022-09-29T18:26:27.884Z"
   },
   {
    "duration": 1221,
    "start_time": "2022-09-29T18:26:31.920Z"
   },
   {
    "duration": 1109,
    "start_time": "2022-09-29T18:26:35.210Z"
   },
   {
    "duration": 1031,
    "start_time": "2022-09-29T18:26:38.132Z"
   },
   {
    "duration": 1052,
    "start_time": "2022-09-29T18:26:41.132Z"
   },
   {
    "duration": 1468,
    "start_time": "2022-09-29T18:26:44.345Z"
   },
   {
    "duration": 1455,
    "start_time": "2022-09-29T18:26:47.572Z"
   },
   {
    "duration": 1563,
    "start_time": "2022-09-29T18:26:50.845Z"
   },
   {
    "duration": 1508,
    "start_time": "2022-09-29T18:26:55.200Z"
   },
   {
    "duration": 1477,
    "start_time": "2022-09-29T18:29:24.984Z"
   },
   {
    "duration": 62,
    "start_time": "2022-09-29T18:29:49.661Z"
   },
   {
    "duration": 156,
    "start_time": "2022-09-30T09:34:47.650Z"
   },
   {
    "duration": 1119,
    "start_time": "2022-09-30T09:34:52.724Z"
   },
   {
    "duration": 126,
    "start_time": "2022-09-30T09:34:53.845Z"
   },
   {
    "duration": 4,
    "start_time": "2022-09-30T09:34:54.404Z"
   },
   {
    "duration": 7,
    "start_time": "2022-09-30T09:34:54.707Z"
   },
   {
    "duration": 27,
    "start_time": "2022-09-30T09:34:55.411Z"
   },
   {
    "duration": 17,
    "start_time": "2022-09-30T09:35:04.116Z"
   },
   {
    "duration": 13,
    "start_time": "2022-09-30T09:35:21.812Z"
   },
   {
    "duration": 706,
    "start_time": "2022-09-30T09:35:23.950Z"
   },
   {
    "duration": 712,
    "start_time": "2022-09-30T09:35:38.708Z"
   },
   {
    "duration": 668,
    "start_time": "2022-09-30T09:35:47.335Z"
   },
   {
    "duration": 607,
    "start_time": "2022-09-30T09:35:56.625Z"
   },
   {
    "duration": 667,
    "start_time": "2022-09-30T09:36:04.406Z"
   },
   {
    "duration": 673,
    "start_time": "2022-09-30T09:36:08.525Z"
   },
   {
    "duration": 82,
    "start_time": "2022-09-30T09:36:13.149Z"
   },
   {
    "duration": 22,
    "start_time": "2022-09-30T09:37:05.274Z"
   },
   {
    "duration": 3,
    "start_time": "2022-09-30T09:37:09.862Z"
   },
   {
    "duration": 72,
    "start_time": "2022-09-30T09:37:10.175Z"
   },
   {
    "duration": 4,
    "start_time": "2022-09-30T09:37:11.305Z"
   },
   {
    "duration": 6,
    "start_time": "2022-09-30T09:37:11.636Z"
   },
   {
    "duration": 26,
    "start_time": "2022-09-30T09:37:12.312Z"
   },
   {
    "duration": 17,
    "start_time": "2022-09-30T09:37:13.360Z"
   },
   {
    "duration": 18,
    "start_time": "2022-09-30T09:37:14.463Z"
   },
   {
    "duration": 724,
    "start_time": "2022-09-30T09:37:16.881Z"
   },
   {
    "duration": 18,
    "start_time": "2022-09-30T09:37:20.301Z"
   },
   {
    "duration": 17,
    "start_time": "2022-09-30T09:40:28.751Z"
   },
   {
    "duration": 15,
    "start_time": "2022-09-30T09:43:24.550Z"
   },
   {
    "duration": 16,
    "start_time": "2022-09-30T09:43:42.306Z"
   },
   {
    "duration": 12,
    "start_time": "2022-09-30T09:50:51.189Z"
   },
   {
    "duration": 69,
    "start_time": "2022-09-30T09:50:51.529Z"
   },
   {
    "duration": 4,
    "start_time": "2022-09-30T09:50:52.816Z"
   },
   {
    "duration": 5,
    "start_time": "2022-09-30T09:50:53.154Z"
   },
   {
    "duration": 22,
    "start_time": "2022-09-30T09:50:53.818Z"
   },
   {
    "duration": 24,
    "start_time": "2022-09-30T09:50:54.910Z"
   },
   {
    "duration": 19,
    "start_time": "2022-09-30T09:50:57.864Z"
   },
   {
    "duration": 724,
    "start_time": "2022-09-30T09:51:00.206Z"
   },
   {
    "duration": 1514,
    "start_time": "2022-09-30T09:51:04.704Z"
   },
   {
    "duration": 1395,
    "start_time": "2022-09-30T09:51:16.021Z"
   },
   {
    "duration": 12,
    "start_time": "2022-09-30T13:48:59.320Z"
   },
   {
    "duration": 6,
    "start_time": "2022-09-30T13:49:57.503Z"
   },
   {
    "duration": 71,
    "start_time": "2022-09-30T13:49:58.320Z"
   },
   {
    "duration": 4,
    "start_time": "2022-09-30T13:49:59.430Z"
   },
   {
    "duration": 8,
    "start_time": "2022-09-30T13:49:59.780Z"
   },
   {
    "duration": 29,
    "start_time": "2022-09-30T13:50:00.266Z"
   },
   {
    "duration": 18,
    "start_time": "2022-09-30T13:50:00.853Z"
   },
   {
    "duration": 12,
    "start_time": "2022-09-30T13:50:03.730Z"
   },
   {
    "duration": 166041,
    "start_time": "2022-09-30T13:53:00.918Z"
   },
   {
    "duration": 3,
    "start_time": "2022-09-30T13:55:46.962Z"
   },
   {
    "duration": 91,
    "start_time": "2022-09-30T13:55:46.967Z"
   },
   {
    "duration": 5,
    "start_time": "2022-09-30T13:55:47.060Z"
   },
   {
    "duration": 45,
    "start_time": "2022-09-30T13:55:47.067Z"
   },
   {
    "duration": 5,
    "start_time": "2022-09-30T13:55:58.598Z"
   },
   {
    "duration": 75,
    "start_time": "2022-09-30T13:55:58.920Z"
   },
   {
    "duration": 4,
    "start_time": "2022-09-30T13:56:00.305Z"
   },
   {
    "duration": 11,
    "start_time": "2022-09-30T13:56:00.599Z"
   },
   {
    "duration": 25,
    "start_time": "2022-09-30T13:56:01.769Z"
   },
   {
    "duration": 17,
    "start_time": "2022-09-30T13:56:04.033Z"
   },
   {
    "duration": 19,
    "start_time": "2022-09-30T13:56:19.616Z"
   },
   {
    "duration": 866,
    "start_time": "2022-09-30T13:57:54.590Z"
   },
   {
    "duration": 926,
    "start_time": "2022-09-30T13:58:19.734Z"
   },
   {
    "duration": 871,
    "start_time": "2022-09-30T13:58:24.988Z"
   },
   {
    "duration": 18,
    "start_time": "2022-09-30T13:59:32.523Z"
   },
   {
    "duration": 4,
    "start_time": "2022-09-30T13:59:36.461Z"
   },
   {
    "duration": 60,
    "start_time": "2022-09-30T13:59:36.807Z"
   },
   {
    "duration": 6,
    "start_time": "2022-09-30T13:59:38.174Z"
   },
   {
    "duration": 6,
    "start_time": "2022-09-30T13:59:38.550Z"
   },
   {
    "duration": 34,
    "start_time": "2022-09-30T13:59:39.673Z"
   },
   {
    "duration": 18,
    "start_time": "2022-09-30T13:59:40.861Z"
   },
   {
    "duration": 20,
    "start_time": "2022-09-30T13:59:42.372Z"
   },
   {
    "duration": 162950,
    "start_time": "2022-09-30T13:59:42.905Z"
   },
   {
    "duration": 974,
    "start_time": "2022-09-30T14:02:25.857Z"
   },
   {
    "duration": 837,
    "start_time": "2022-09-30T14:14:37.668Z"
   },
   {
    "duration": 848,
    "start_time": "2022-09-30T14:14:47.817Z"
   },
   {
    "duration": 824,
    "start_time": "2022-09-30T14:14:52.781Z"
   },
   {
    "duration": 830,
    "start_time": "2022-09-30T14:14:57.444Z"
   },
   {
    "duration": 849,
    "start_time": "2022-09-30T14:15:01.156Z"
   },
   {
    "duration": 914,
    "start_time": "2022-09-30T14:15:04.930Z"
   },
   {
    "duration": 833,
    "start_time": "2022-09-30T14:15:08.781Z"
   },
   {
    "duration": 896,
    "start_time": "2022-09-30T14:15:12.704Z"
   },
   {
    "duration": 900,
    "start_time": "2022-09-30T14:15:17.743Z"
   },
   {
    "duration": 864,
    "start_time": "2022-09-30T14:15:22.793Z"
   },
   {
    "duration": 884,
    "start_time": "2022-09-30T14:15:27.969Z"
   },
   {
    "duration": 829,
    "start_time": "2022-09-30T14:15:33.505Z"
   },
   {
    "duration": 4,
    "start_time": "2022-09-30T14:15:41.994Z"
   },
   {
    "duration": 61,
    "start_time": "2022-09-30T14:15:42.492Z"
   },
   {
    "duration": 4,
    "start_time": "2022-09-30T14:15:43.904Z"
   },
   {
    "duration": 5,
    "start_time": "2022-09-30T14:15:44.217Z"
   },
   {
    "duration": 37,
    "start_time": "2022-09-30T14:15:45.055Z"
   },
   {
    "duration": 4,
    "start_time": "2022-09-30T14:15:53.061Z"
   },
   {
    "duration": 65,
    "start_time": "2022-09-30T14:15:53.345Z"
   },
   {
    "duration": 4,
    "start_time": "2022-09-30T14:15:54.455Z"
   },
   {
    "duration": 5,
    "start_time": "2022-09-30T14:15:54.755Z"
   },
   {
    "duration": 26,
    "start_time": "2022-09-30T14:15:55.318Z"
   },
   {
    "duration": 18,
    "start_time": "2022-09-30T14:15:56.017Z"
   },
   {
    "duration": 14,
    "start_time": "2022-09-30T14:15:57.030Z"
   },
   {
    "duration": 149801,
    "start_time": "2022-09-30T14:15:57.581Z"
   },
   {
    "duration": 810,
    "start_time": "2022-09-30T14:18:27.390Z"
   },
   {
    "duration": 697,
    "start_time": "2022-09-30T14:18:56.397Z"
   },
   {
    "duration": 1213,
    "start_time": "2022-09-30T14:19:07.253Z"
   },
   {
    "duration": 37,
    "start_time": "2022-09-30T14:19:18.289Z"
   },
   {
    "duration": 1244,
    "start_time": "2022-09-30T15:43:34.824Z"
   },
   {
    "duration": 18,
    "start_time": "2022-09-30T15:44:18.074Z"
   },
   {
    "duration": 6,
    "start_time": "2022-09-30T15:44:22.061Z"
   },
   {
    "duration": 78,
    "start_time": "2022-09-30T15:44:22.345Z"
   },
   {
    "duration": 5,
    "start_time": "2022-09-30T15:44:27.498Z"
   },
   {
    "duration": 6,
    "start_time": "2022-09-30T15:44:27.917Z"
   },
   {
    "duration": 9,
    "start_time": "2022-09-30T15:44:30.200Z"
   },
   {
    "duration": 35,
    "start_time": "2022-09-30T15:44:36.973Z"
   },
   {
    "duration": 16,
    "start_time": "2022-09-30T15:45:20.023Z"
   },
   {
    "duration": 17,
    "start_time": "2022-09-30T15:45:34.660Z"
   },
   {
    "duration": 22,
    "start_time": "2022-09-30T15:45:44.589Z"
   },
   {
    "duration": 24,
    "start_time": "2022-09-30T15:46:13.335Z"
   },
   {
    "duration": 48,
    "start_time": "2022-09-30T15:46:22.244Z"
   },
   {
    "duration": 20,
    "start_time": "2022-09-30T15:46:28.536Z"
   },
   {
    "duration": 5,
    "start_time": "2022-09-30T15:46:35.835Z"
   },
   {
    "duration": 72,
    "start_time": "2022-09-30T15:46:36.159Z"
   },
   {
    "duration": 5,
    "start_time": "2022-09-30T15:46:37.510Z"
   },
   {
    "duration": 6,
    "start_time": "2022-09-30T15:46:37.925Z"
   },
   {
    "duration": 11,
    "start_time": "2022-09-30T15:46:38.681Z"
   },
   {
    "duration": 22,
    "start_time": "2022-09-30T15:46:39.577Z"
   },
   {
    "duration": 19,
    "start_time": "2022-09-30T15:46:46.293Z"
   },
   {
    "duration": 73,
    "start_time": "2022-09-30T15:50:31.952Z"
   },
   {
    "duration": 16,
    "start_time": "2022-09-30T15:50:40.725Z"
   },
   {
    "duration": 138524,
    "start_time": "2022-09-30T15:51:24.465Z"
   },
   {
    "duration": 43,
    "start_time": "2022-09-30T15:54:12.216Z"
   },
   {
    "duration": 138118,
    "start_time": "2022-09-30T15:54:18.164Z"
   },
   {
    "duration": 661,
    "start_time": "2022-09-30T15:56:37.031Z"
   },
   {
    "duration": 638,
    "start_time": "2022-09-30T15:56:37.697Z"
   },
   {
    "duration": 1168,
    "start_time": "2022-09-30T15:56:38.337Z"
   },
   {
    "duration": 110,
    "start_time": "2022-09-30T15:58:00.144Z"
   },
   {
    "duration": 53,
    "start_time": "2022-09-30T15:58:10.116Z"
   },
   {
    "duration": 1255,
    "start_time": "2022-09-30T16:00:19.245Z"
   },
   {
    "duration": 1193,
    "start_time": "2022-09-30T16:01:01.956Z"
   },
   {
    "duration": 56,
    "start_time": "2022-09-30T16:01:08.743Z"
   },
   {
    "duration": 6,
    "start_time": "2022-09-30T16:08:42.490Z"
   },
   {
    "duration": 7,
    "start_time": "2022-09-30T16:09:20.477Z"
   },
   {
    "duration": 6,
    "start_time": "2022-09-30T16:12:04.764Z"
   },
   {
    "duration": 139072,
    "start_time": "2022-09-30T16:12:05.579Z"
   },
   {
    "duration": 680,
    "start_time": "2022-09-30T16:14:24.653Z"
   },
   {
    "duration": 663,
    "start_time": "2022-09-30T16:14:25.335Z"
   },
   {
    "duration": 1206,
    "start_time": "2022-09-30T16:14:26.000Z"
   },
   {
    "duration": 55,
    "start_time": "2022-09-30T16:14:27.207Z"
   },
   {
    "duration": 42,
    "start_time": "2022-10-01T15:34:20.878Z"
   },
   {
    "duration": 1037,
    "start_time": "2022-10-01T15:34:26.942Z"
   },
   {
    "duration": 169,
    "start_time": "2022-10-01T15:34:27.981Z"
   },
   {
    "duration": 4,
    "start_time": "2022-10-01T15:34:29.940Z"
   },
   {
    "duration": 12,
    "start_time": "2022-10-01T15:34:30.615Z"
   },
   {
    "duration": 12,
    "start_time": "2022-10-01T15:34:52.542Z"
   },
   {
    "duration": 18,
    "start_time": "2022-10-01T15:37:09.216Z"
   },
   {
    "duration": 9,
    "start_time": "2022-10-01T15:38:57.253Z"
   },
   {
    "duration": 22,
    "start_time": "2022-10-01T15:38:59.442Z"
   },
   {
    "duration": 3,
    "start_time": "2022-10-01T15:39:30.261Z"
   },
   {
    "duration": 53,
    "start_time": "2022-10-01T15:39:30.744Z"
   },
   {
    "duration": 4,
    "start_time": "2022-10-01T15:39:32.104Z"
   },
   {
    "duration": 14,
    "start_time": "2022-10-01T15:39:32.519Z"
   },
   {
    "duration": 7,
    "start_time": "2022-10-01T15:39:34.318Z"
   },
   {
    "duration": 20,
    "start_time": "2022-10-01T15:39:35.995Z"
   },
   {
    "duration": 5,
    "start_time": "2022-10-01T15:39:38.643Z"
   },
   {
    "duration": 19,
    "start_time": "2022-10-01T15:39:39.672Z"
   },
   {
    "duration": 17,
    "start_time": "2022-10-01T15:39:44.132Z"
   },
   {
    "duration": 59,
    "start_time": "2022-10-01T15:39:51.907Z"
   },
   {
    "duration": 12,
    "start_time": "2022-10-01T15:39:58.043Z"
   },
   {
    "duration": 103819,
    "start_time": "2022-10-01T15:40:41.256Z"
   },
   {
    "duration": 494,
    "start_time": "2022-10-01T15:42:25.077Z"
   },
   {
    "duration": 545,
    "start_time": "2022-10-01T15:47:22.296Z"
   },
   {
    "duration": 448,
    "start_time": "2022-10-01T15:47:42.236Z"
   },
   {
    "duration": 10,
    "start_time": "2022-10-01T16:21:14.624Z"
   },
   {
    "duration": 3,
    "start_time": "2022-10-01T16:21:23.288Z"
   },
   {
    "duration": 53,
    "start_time": "2022-10-01T16:21:23.932Z"
   },
   {
    "duration": 4,
    "start_time": "2022-10-01T16:21:24.987Z"
   },
   {
    "duration": 14,
    "start_time": "2022-10-01T16:21:25.254Z"
   },
   {
    "duration": 8,
    "start_time": "2022-10-01T16:21:26.336Z"
   },
   {
    "duration": 18,
    "start_time": "2022-10-01T16:21:27.275Z"
   },
   {
    "duration": 4,
    "start_time": "2022-10-01T16:21:28.549Z"
   },
   {
    "duration": 5,
    "start_time": "2022-10-01T16:21:28.887Z"
   },
   {
    "duration": 16,
    "start_time": "2022-10-01T16:21:30.438Z"
   },
   {
    "duration": 12,
    "start_time": "2022-10-01T16:21:33.288Z"
   },
   {
    "duration": 189,
    "start_time": "2022-10-01T16:21:42.876Z"
   },
   {
    "duration": 3,
    "start_time": "2022-10-01T16:21:56.926Z"
   },
   {
    "duration": 58,
    "start_time": "2022-10-01T16:21:57.366Z"
   },
   {
    "duration": 5,
    "start_time": "2022-10-01T16:21:58.049Z"
   },
   {
    "duration": 15,
    "start_time": "2022-10-01T16:21:58.215Z"
   },
   {
    "duration": 8,
    "start_time": "2022-10-01T16:21:59.037Z"
   },
   {
    "duration": 21,
    "start_time": "2022-10-01T16:21:59.875Z"
   },
   {
    "duration": 5,
    "start_time": "2022-10-01T16:22:01.074Z"
   },
   {
    "duration": 5,
    "start_time": "2022-10-01T16:22:01.275Z"
   },
   {
    "duration": 25,
    "start_time": "2022-10-01T16:22:03.014Z"
   },
   {
    "duration": 12,
    "start_time": "2022-10-01T16:22:05.913Z"
   },
   {
    "duration": 400,
    "start_time": "2022-10-01T16:22:11.226Z"
   },
   {
    "duration": 320,
    "start_time": "2022-10-01T16:22:22.307Z"
   },
   {
    "duration": 2768,
    "start_time": "2022-10-01T16:22:36.009Z"
   },
   {
    "duration": 337,
    "start_time": "2022-10-01T16:23:08.462Z"
   },
   {
    "duration": 55,
    "start_time": "2022-10-01T16:23:09.025Z"
   },
   {
    "duration": 4,
    "start_time": "2022-10-01T16:23:09.715Z"
   },
   {
    "duration": 15,
    "start_time": "2022-10-01T16:23:10.062Z"
   },
   {
    "duration": 7,
    "start_time": "2022-10-01T16:23:11.052Z"
   },
   {
    "duration": 19,
    "start_time": "2022-10-01T16:23:11.874Z"
   },
   {
    "duration": 5,
    "start_time": "2022-10-01T16:23:12.927Z"
   },
   {
    "duration": 5,
    "start_time": "2022-10-01T16:23:13.126Z"
   },
   {
    "duration": 17,
    "start_time": "2022-10-01T16:23:14.178Z"
   },
   {
    "duration": 14,
    "start_time": "2022-10-01T16:23:17.763Z"
   },
   {
    "duration": 3201,
    "start_time": "2022-10-01T16:23:23.427Z"
   },
   {
    "duration": 3665,
    "start_time": "2022-10-01T16:24:59.461Z"
   },
   {
    "duration": 33,
    "start_time": "2022-10-01T17:52:21.353Z"
   },
   {
    "duration": 21,
    "start_time": "2022-10-01T17:53:11.316Z"
   },
   {
    "duration": 599,
    "start_time": "2022-10-01T17:53:31.909Z"
   },
   {
    "duration": 5091,
    "start_time": "2022-10-01T18:06:22.995Z"
   },
   {
    "duration": 624,
    "start_time": "2022-10-01T18:10:31.708Z"
   },
   {
    "duration": 3547,
    "start_time": "2022-10-01T18:10:37.776Z"
   },
   {
    "duration": 5047,
    "start_time": "2022-10-01T18:10:49.792Z"
   },
   {
    "duration": 23,
    "start_time": "2022-10-01T18:50:25.996Z"
   },
   {
    "duration": 23,
    "start_time": "2022-10-01T18:50:40.653Z"
   },
   {
    "duration": 432,
    "start_time": "2022-10-01T18:52:12.017Z"
   },
   {
    "duration": 46,
    "start_time": "2022-10-01T20:04:10.686Z"
   },
   {
    "duration": 445,
    "start_time": "2022-10-01T20:04:30.768Z"
   },
   {
    "duration": 21,
    "start_time": "2022-10-01T20:16:38.228Z"
   },
   {
    "duration": 113,
    "start_time": "2022-10-01T20:16:53.010Z"
   },
   {
    "duration": 91,
    "start_time": "2022-10-01T20:17:12.038Z"
   },
   {
    "duration": 435,
    "start_time": "2022-10-01T20:17:14.036Z"
   },
   {
    "duration": 11,
    "start_time": "2022-10-01T20:21:45.030Z"
   },
   {
    "duration": 45,
    "start_time": "2022-10-01T20:22:24.381Z"
   },
   {
    "duration": 266,
    "start_time": "2022-10-01T20:22:25.984Z"
   },
   {
    "duration": 72,
    "start_time": "2022-10-01T20:23:46.455Z"
   },
   {
    "duration": 1627,
    "start_time": "2022-10-02T10:19:20.813Z"
   },
   {
    "duration": 194,
    "start_time": "2022-10-02T10:19:22.443Z"
   },
   {
    "duration": 4,
    "start_time": "2022-10-02T10:19:22.789Z"
   },
   {
    "duration": 16,
    "start_time": "2022-10-02T10:19:23.116Z"
   },
   {
    "duration": 9,
    "start_time": "2022-10-02T10:19:24.299Z"
   },
   {
    "duration": 23,
    "start_time": "2022-10-02T10:19:25.208Z"
   },
   {
    "duration": 5,
    "start_time": "2022-10-02T10:19:26.162Z"
   },
   {
    "duration": 7,
    "start_time": "2022-10-02T10:19:26.461Z"
   },
   {
    "duration": 22,
    "start_time": "2022-10-02T10:19:28.611Z"
   },
   {
    "duration": 18,
    "start_time": "2022-10-02T10:19:30.799Z"
   },
   {
    "duration": 116,
    "start_time": "2022-10-02T11:17:09.034Z"
   },
   {
    "duration": 6,
    "start_time": "2022-10-02T11:17:17.234Z"
   },
   {
    "duration": 62,
    "start_time": "2022-10-02T11:17:18.470Z"
   },
   {
    "duration": 5,
    "start_time": "2022-10-02T11:17:20.092Z"
   },
   {
    "duration": 18,
    "start_time": "2022-10-02T11:17:20.507Z"
   },
   {
    "duration": 11,
    "start_time": "2022-10-02T11:17:21.894Z"
   },
   {
    "duration": 31,
    "start_time": "2022-10-02T11:17:22.883Z"
   },
   {
    "duration": 5,
    "start_time": "2022-10-02T11:17:23.883Z"
   },
   {
    "duration": 7,
    "start_time": "2022-10-02T11:17:24.168Z"
   },
   {
    "duration": 34,
    "start_time": "2022-10-02T11:17:25.209Z"
   },
   {
    "duration": 14,
    "start_time": "2022-10-02T11:17:27.154Z"
   },
   {
    "duration": 126965,
    "start_time": "2022-10-02T11:17:29.095Z"
   },
   {
    "duration": 650,
    "start_time": "2022-10-02T11:19:36.062Z"
   },
   {
    "duration": 3482,
    "start_time": "2022-10-02T11:19:36.714Z"
   },
   {
    "duration": 741,
    "start_time": "2022-10-02T11:19:49.771Z"
   },
   {
    "duration": 1008,
    "start_time": "2022-10-02T11:19:51.982Z"
   },
   {
    "duration": 55,
    "start_time": "2022-10-02T11:19:54.436Z"
   },
   {
    "duration": 264,
    "start_time": "2022-10-02T11:19:55.770Z"
   },
   {
    "duration": 207,
    "start_time": "2022-10-02T11:19:56.682Z"
   },
   {
    "duration": 547,
    "start_time": "2022-10-02T11:19:58.185Z"
   },
   {
    "duration": 53,
    "start_time": "2022-10-02T11:20:06.506Z"
   },
   {
    "duration": 75,
    "start_time": "2022-10-02T13:47:33.474Z"
   },
   {
    "duration": 3,
    "start_time": "2022-10-02T16:08:31.046Z"
   },
   {
    "duration": 4,
    "start_time": "2022-10-02T16:09:36.931Z"
   },
   {
    "duration": 62,
    "start_time": "2022-10-02T16:11:38.883Z"
   },
   {
    "duration": 66,
    "start_time": "2022-10-02T16:11:55.084Z"
   },
   {
    "duration": 73,
    "start_time": "2022-10-02T16:12:09.574Z"
   },
   {
    "duration": 3,
    "start_time": "2022-10-02T16:32:36.891Z"
   },
   {
    "duration": 66,
    "start_time": "2022-10-02T16:32:38.035Z"
   },
   {
    "duration": 4,
    "start_time": "2022-10-02T16:32:38.950Z"
   },
   {
    "duration": 17,
    "start_time": "2022-10-02T16:32:39.195Z"
   },
   {
    "duration": 8,
    "start_time": "2022-10-02T16:32:40.125Z"
   },
   {
    "duration": 23,
    "start_time": "2022-10-02T16:32:40.832Z"
   },
   {
    "duration": 5,
    "start_time": "2022-10-02T16:32:42.048Z"
   },
   {
    "duration": 6,
    "start_time": "2022-10-02T16:32:42.308Z"
   },
   {
    "duration": 24,
    "start_time": "2022-10-02T16:32:43.764Z"
   },
   {
    "duration": 15,
    "start_time": "2022-10-02T16:32:45.848Z"
   },
   {
    "duration": 862,
    "start_time": "2022-10-02T16:32:51.343Z"
   },
   {
    "duration": 862,
    "start_time": "2022-10-02T16:32:52.631Z"
   },
   {
    "duration": 196,
    "start_time": "2022-10-02T16:32:53.500Z"
   },
   {
    "duration": 270,
    "start_time": "2022-10-02T16:32:54.145Z"
   },
   {
    "duration": 30,
    "start_time": "2022-10-02T16:32:56.771Z"
   },
   {
    "duration": 584,
    "start_time": "2022-10-02T16:32:57.283Z"
   },
   {
    "duration": 71,
    "start_time": "2022-10-02T16:33:01.099Z"
   },
   {
    "duration": 53,
    "start_time": "2022-10-02T16:33:49.671Z"
   },
   {
    "duration": 68,
    "start_time": "2022-10-02T16:59:05.640Z"
   },
   {
    "duration": 3,
    "start_time": "2022-10-02T16:59:20.685Z"
   },
   {
    "duration": 64,
    "start_time": "2022-10-02T16:59:21.381Z"
   },
   {
    "duration": 4,
    "start_time": "2022-10-02T16:59:22.380Z"
   },
   {
    "duration": 16,
    "start_time": "2022-10-02T16:59:22.658Z"
   },
   {
    "duration": 9,
    "start_time": "2022-10-02T16:59:23.783Z"
   },
   {
    "duration": 20,
    "start_time": "2022-10-02T16:59:24.699Z"
   },
   {
    "duration": 5,
    "start_time": "2022-10-02T16:59:25.585Z"
   },
   {
    "duration": 5,
    "start_time": "2022-10-02T16:59:25.885Z"
   },
   {
    "duration": 18,
    "start_time": "2022-10-02T16:59:26.778Z"
   },
   {
    "duration": 15,
    "start_time": "2022-10-02T16:59:28.222Z"
   },
   {
    "duration": 123964,
    "start_time": "2022-10-02T16:59:29.390Z"
   },
   {
    "duration": 646,
    "start_time": "2022-10-02T17:01:33.357Z"
   },
   {
    "duration": 3120,
    "start_time": "2022-10-02T17:01:39.675Z"
   },
   {
    "duration": 731,
    "start_time": "2022-10-02T17:01:45.513Z"
   },
   {
    "duration": 944,
    "start_time": "2022-10-02T17:01:46.246Z"
   },
   {
    "duration": 199,
    "start_time": "2022-10-02T17:01:47.192Z"
   },
   {
    "duration": 264,
    "start_time": "2022-10-02T17:01:47.490Z"
   },
   {
    "duration": 80,
    "start_time": "2022-10-02T17:01:48.110Z"
   },
   {
    "duration": 514,
    "start_time": "2022-10-02T17:01:48.449Z"
   },
   {
    "duration": 56,
    "start_time": "2022-10-02T17:01:51.449Z"
   }
  ],
  "kernelspec": {
   "display_name": "Python 3 (ipykernel)",
   "language": "python",
   "name": "python3"
  },
  "language_info": {
   "codemirror_mode": {
    "name": "ipython",
    "version": 3
   },
   "file_extension": ".py",
   "mimetype": "text/x-python",
   "name": "python",
   "nbconvert_exporter": "python",
   "pygments_lexer": "ipython3",
   "version": "3.11.4"
  },
  "toc": {
   "base_numbering": 1,
   "nav_menu": {},
   "number_sections": true,
   "sideBar": true,
   "skip_h1_title": true,
   "title_cell": "Содержание",
   "title_sidebar": "Contents",
   "toc_cell": true,
   "toc_position": {
    "height": "calc(100% - 180px)",
    "left": "10px",
    "top": "150px",
    "width": "165px"
   },
   "toc_section_display": true,
   "toc_window_display": true
  }
 },
 "nbformat": 4,
 "nbformat_minor": 2
}
