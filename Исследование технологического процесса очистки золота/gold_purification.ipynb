{
 "cells": [
  {
   "cell_type": "markdown",
   "metadata": {
    "toc": true
   },
   "source": [
    "<h1>Содержание<span class=\"tocSkip\"></span></h1>\n",
    "<div class=\"toc\"><ul class=\"toc-item\"><li><span><a href=\"#Подготовка-данных\" data-toc-modified-id=\"Подготовка-данных-1\"><span class=\"toc-item-num\">1&nbsp;&nbsp;</span>Подготовка данных</a></span></li><li><span><a href=\"#Анализ-данных\" data-toc-modified-id=\"Анализ-данных-2\"><span class=\"toc-item-num\">2&nbsp;&nbsp;</span>Анализ данных</a></span></li><li><span><a href=\"#Модель\" data-toc-modified-id=\"Модель-3\"><span class=\"toc-item-num\">3&nbsp;&nbsp;</span>Модель</a></span></li><li><span><a href=\"#Чек-лист-готовности-проекта\" data-toc-modified-id=\"Чек-лист-готовности-проекта-4\"><span class=\"toc-item-num\">4&nbsp;&nbsp;</span>Чек-лист готовности проекта</a></span></li></ul></div>"
   ]
  },
  {
   "cell_type": "markdown",
   "metadata": {},
   "source": [
    "# Восстановление золота из руды"
   ]
  },
  {
   "cell_type": "markdown",
   "metadata": {},
   "source": [
    "Для исследования предоставлены данные компании \"Цифра\", занимающейся разрабатыванием решений для эффективной работы промышленных предприятий.\n",
    "\n",
    "Данные находятся в трёх файлах:\n",
    "* `gold_recovery_train_new.csv` — обучающая выборка;\n",
    "* `gold_recovery_test_new.csv` — тестовая выборка;  \n",
    "* `gold_recovery_full_new.csv` — исходные данные.\n",
    "\n",
    "Для индексации данных используется признак date.\n",
    "\n",
    "В тестовой выборке отсутствуют некоторые признаки, которые могут быть в обучающей так как некоторые параметры в частности перед финальной очисткой рассчитываются значительно позже. Данные поступили в сыром виде, их просто выгрузили из хранилища, перед построением модели проверим данные на корректность.\n",
    "\n",
    "Цель исследования подготовить модель машинного обучения для компании.Модель должна предсказать коэффициент восстановления золота из золотосодержащей руды. \n",
    "\n",
    "Модель поможет оптимизировать производство, чтобы не запускать предприятие с убыточными характеристиками.\n",
    "\n",
    "Этапы работы над проектом:\n",
    "\n",
    "1. Подготовить данные;\n",
    "2. Провести исследовательский анализ данных;\n",
    "3. Построить и обучить модель."
   ]
  },
  {
   "cell_type": "markdown",
   "metadata": {},
   "source": [
    "## Подготовка данных"
   ]
  },
  {
   "cell_type": "code",
   "execution_count": 1,
   "metadata": {},
   "outputs": [],
   "source": [
    "import pandas as pd\n",
    "import matplotlib.pyplot as plt\n",
    "import numpy as np\n",
    "\n",
    "from sklearn.metrics import mean_absolute_error\n",
    "from sklearn.linear_model import LinearRegression\n",
    "from sklearn.ensemble import RandomForestRegressor\n",
    "from sklearn.model_selection import GridSearchCV\n",
    "from sklearn.model_selection import cross_val_score\n",
    "from sklearn.metrics import make_scorer\n",
    "from sklearn.dummy import DummyRegressor"
   ]
  },
  {
   "cell_type": "markdown",
   "metadata": {},
   "source": [
    "Загрузим данные в программу и изучим их."
   ]
  },
  {
   "cell_type": "code",
   "execution_count": 2,
   "metadata": {},
   "outputs": [
    {
     "name": "stdout",
     "output_type": "stream",
     "text": [
      "<class 'pandas.core.frame.DataFrame'>\n",
      "RangeIndex: 5290 entries, 0 to 5289\n",
      "Data columns (total 53 columns):\n",
      " #   Column                                      Non-Null Count  Dtype  \n",
      "---  ------                                      --------------  -----  \n",
      " 0   date                                        5290 non-null   object \n",
      " 1   primary_cleaner.input.sulfate               5286 non-null   float64\n",
      " 2   primary_cleaner.input.depressant            5285 non-null   float64\n",
      " 3   primary_cleaner.input.feed_size             5290 non-null   float64\n",
      " 4   primary_cleaner.input.xanthate              5286 non-null   float64\n",
      " 5   primary_cleaner.state.floatbank8_a_air      5290 non-null   float64\n",
      " 6   primary_cleaner.state.floatbank8_a_level    5290 non-null   float64\n",
      " 7   primary_cleaner.state.floatbank8_b_air      5290 non-null   float64\n",
      " 8   primary_cleaner.state.floatbank8_b_level    5290 non-null   float64\n",
      " 9   primary_cleaner.state.floatbank8_c_air      5290 non-null   float64\n",
      " 10  primary_cleaner.state.floatbank8_c_level    5290 non-null   float64\n",
      " 11  primary_cleaner.state.floatbank8_d_air      5290 non-null   float64\n",
      " 12  primary_cleaner.state.floatbank8_d_level    5290 non-null   float64\n",
      " 13  rougher.input.feed_ag                       5290 non-null   float64\n",
      " 14  rougher.input.feed_pb                       5290 non-null   float64\n",
      " 15  rougher.input.feed_rate                     5287 non-null   float64\n",
      " 16  rougher.input.feed_size                     5289 non-null   float64\n",
      " 17  rougher.input.feed_sol                      5269 non-null   float64\n",
      " 18  rougher.input.feed_au                       5290 non-null   float64\n",
      " 19  rougher.input.floatbank10_sulfate           5285 non-null   float64\n",
      " 20  rougher.input.floatbank10_xanthate          5290 non-null   float64\n",
      " 21  rougher.input.floatbank11_sulfate           5282 non-null   float64\n",
      " 22  rougher.input.floatbank11_xanthate          5265 non-null   float64\n",
      " 23  rougher.state.floatbank10_a_air             5290 non-null   float64\n",
      " 24  rougher.state.floatbank10_a_level           5290 non-null   float64\n",
      " 25  rougher.state.floatbank10_b_air             5290 non-null   float64\n",
      " 26  rougher.state.floatbank10_b_level           5290 non-null   float64\n",
      " 27  rougher.state.floatbank10_c_air             5290 non-null   float64\n",
      " 28  rougher.state.floatbank10_c_level           5290 non-null   float64\n",
      " 29  rougher.state.floatbank10_d_air             5290 non-null   float64\n",
      " 30  rougher.state.floatbank10_d_level           5290 non-null   float64\n",
      " 31  rougher.state.floatbank10_e_air             5290 non-null   float64\n",
      " 32  rougher.state.floatbank10_e_level           5290 non-null   float64\n",
      " 33  rougher.state.floatbank10_f_air             5290 non-null   float64\n",
      " 34  rougher.state.floatbank10_f_level           5290 non-null   float64\n",
      " 35  secondary_cleaner.state.floatbank2_a_air    5287 non-null   float64\n",
      " 36  secondary_cleaner.state.floatbank2_a_level  5290 non-null   float64\n",
      " 37  secondary_cleaner.state.floatbank2_b_air    5288 non-null   float64\n",
      " 38  secondary_cleaner.state.floatbank2_b_level  5290 non-null   float64\n",
      " 39  secondary_cleaner.state.floatbank3_a_air    5281 non-null   float64\n",
      " 40  secondary_cleaner.state.floatbank3_a_level  5290 non-null   float64\n",
      " 41  secondary_cleaner.state.floatbank3_b_air    5290 non-null   float64\n",
      " 42  secondary_cleaner.state.floatbank3_b_level  5290 non-null   float64\n",
      " 43  secondary_cleaner.state.floatbank4_a_air    5290 non-null   float64\n",
      " 44  secondary_cleaner.state.floatbank4_a_level  5290 non-null   float64\n",
      " 45  secondary_cleaner.state.floatbank4_b_air    5290 non-null   float64\n",
      " 46  secondary_cleaner.state.floatbank4_b_level  5290 non-null   float64\n",
      " 47  secondary_cleaner.state.floatbank5_a_air    5290 non-null   float64\n",
      " 48  secondary_cleaner.state.floatbank5_a_level  5290 non-null   float64\n",
      " 49  secondary_cleaner.state.floatbank5_b_air    5290 non-null   float64\n",
      " 50  secondary_cleaner.state.floatbank5_b_level  5290 non-null   float64\n",
      " 51  secondary_cleaner.state.floatbank6_a_air    5290 non-null   float64\n",
      " 52  secondary_cleaner.state.floatbank6_a_level  5290 non-null   float64\n",
      "dtypes: float64(52), object(1)\n",
      "memory usage: 2.1+ MB\n"
     ]
    },
    {
     "data": {
      "text/html": [
       "<div>\n",
       "<style scoped>\n",
       "    .dataframe tbody tr th:only-of-type {\n",
       "        vertical-align: middle;\n",
       "    }\n",
       "\n",
       "    .dataframe tbody tr th {\n",
       "        vertical-align: top;\n",
       "    }\n",
       "\n",
       "    .dataframe thead th {\n",
       "        text-align: right;\n",
       "    }\n",
       "</style>\n",
       "<table border=\"1\" class=\"dataframe\">\n",
       "  <thead>\n",
       "    <tr style=\"text-align: right;\">\n",
       "      <th></th>\n",
       "      <th>date</th>\n",
       "      <th>primary_cleaner.input.sulfate</th>\n",
       "      <th>primary_cleaner.input.depressant</th>\n",
       "      <th>primary_cleaner.input.feed_size</th>\n",
       "      <th>primary_cleaner.input.xanthate</th>\n",
       "      <th>primary_cleaner.state.floatbank8_a_air</th>\n",
       "      <th>primary_cleaner.state.floatbank8_a_level</th>\n",
       "      <th>primary_cleaner.state.floatbank8_b_air</th>\n",
       "      <th>primary_cleaner.state.floatbank8_b_level</th>\n",
       "      <th>primary_cleaner.state.floatbank8_c_air</th>\n",
       "      <th>...</th>\n",
       "      <th>secondary_cleaner.state.floatbank4_a_air</th>\n",
       "      <th>secondary_cleaner.state.floatbank4_a_level</th>\n",
       "      <th>secondary_cleaner.state.floatbank4_b_air</th>\n",
       "      <th>secondary_cleaner.state.floatbank4_b_level</th>\n",
       "      <th>secondary_cleaner.state.floatbank5_a_air</th>\n",
       "      <th>secondary_cleaner.state.floatbank5_a_level</th>\n",
       "      <th>secondary_cleaner.state.floatbank5_b_air</th>\n",
       "      <th>secondary_cleaner.state.floatbank5_b_level</th>\n",
       "      <th>secondary_cleaner.state.floatbank6_a_air</th>\n",
       "      <th>secondary_cleaner.state.floatbank6_a_level</th>\n",
       "    </tr>\n",
       "  </thead>\n",
       "  <tbody>\n",
       "    <tr>\n",
       "      <th>0</th>\n",
       "      <td>2016-09-01 00:59:59</td>\n",
       "      <td>210.800909</td>\n",
       "      <td>14.993118</td>\n",
       "      <td>8.080000</td>\n",
       "      <td>1.005021</td>\n",
       "      <td>1398.981301</td>\n",
       "      <td>-500.225577</td>\n",
       "      <td>1399.144926</td>\n",
       "      <td>-499.919735</td>\n",
       "      <td>1400.102998</td>\n",
       "      <td>...</td>\n",
       "      <td>12.023554</td>\n",
       "      <td>-497.795834</td>\n",
       "      <td>8.016656</td>\n",
       "      <td>-501.289139</td>\n",
       "      <td>7.946562</td>\n",
       "      <td>-432.317850</td>\n",
       "      <td>4.872511</td>\n",
       "      <td>-500.037437</td>\n",
       "      <td>26.705889</td>\n",
       "      <td>-499.709414</td>\n",
       "    </tr>\n",
       "    <tr>\n",
       "      <th>1</th>\n",
       "      <td>2016-09-01 01:59:59</td>\n",
       "      <td>215.392455</td>\n",
       "      <td>14.987471</td>\n",
       "      <td>8.080000</td>\n",
       "      <td>0.990469</td>\n",
       "      <td>1398.777912</td>\n",
       "      <td>-500.057435</td>\n",
       "      <td>1398.055362</td>\n",
       "      <td>-499.778182</td>\n",
       "      <td>1396.151033</td>\n",
       "      <td>...</td>\n",
       "      <td>12.058140</td>\n",
       "      <td>-498.695773</td>\n",
       "      <td>8.130979</td>\n",
       "      <td>-499.634209</td>\n",
       "      <td>7.958270</td>\n",
       "      <td>-525.839648</td>\n",
       "      <td>4.878850</td>\n",
       "      <td>-500.162375</td>\n",
       "      <td>25.019940</td>\n",
       "      <td>-499.819438</td>\n",
       "    </tr>\n",
       "    <tr>\n",
       "      <th>2</th>\n",
       "      <td>2016-09-01 02:59:59</td>\n",
       "      <td>215.259946</td>\n",
       "      <td>12.884934</td>\n",
       "      <td>7.786667</td>\n",
       "      <td>0.996043</td>\n",
       "      <td>1398.493666</td>\n",
       "      <td>-500.868360</td>\n",
       "      <td>1398.860436</td>\n",
       "      <td>-499.764529</td>\n",
       "      <td>1398.075709</td>\n",
       "      <td>...</td>\n",
       "      <td>11.962366</td>\n",
       "      <td>-498.767484</td>\n",
       "      <td>8.096893</td>\n",
       "      <td>-500.827423</td>\n",
       "      <td>8.071056</td>\n",
       "      <td>-500.801673</td>\n",
       "      <td>4.905125</td>\n",
       "      <td>-499.828510</td>\n",
       "      <td>24.994862</td>\n",
       "      <td>-500.622559</td>\n",
       "    </tr>\n",
       "    <tr>\n",
       "      <th>3</th>\n",
       "      <td>2016-09-01 03:59:59</td>\n",
       "      <td>215.336236</td>\n",
       "      <td>12.006805</td>\n",
       "      <td>7.640000</td>\n",
       "      <td>0.863514</td>\n",
       "      <td>1399.618111</td>\n",
       "      <td>-498.863574</td>\n",
       "      <td>1397.440120</td>\n",
       "      <td>-499.211024</td>\n",
       "      <td>1400.129303</td>\n",
       "      <td>...</td>\n",
       "      <td>12.033091</td>\n",
       "      <td>-498.350935</td>\n",
       "      <td>8.074946</td>\n",
       "      <td>-499.474407</td>\n",
       "      <td>7.897085</td>\n",
       "      <td>-500.868509</td>\n",
       "      <td>4.931400</td>\n",
       "      <td>-499.963623</td>\n",
       "      <td>24.948919</td>\n",
       "      <td>-498.709987</td>\n",
       "    </tr>\n",
       "    <tr>\n",
       "      <th>4</th>\n",
       "      <td>2016-09-01 04:59:59</td>\n",
       "      <td>199.099327</td>\n",
       "      <td>10.682530</td>\n",
       "      <td>7.530000</td>\n",
       "      <td>0.805575</td>\n",
       "      <td>1401.268123</td>\n",
       "      <td>-500.808305</td>\n",
       "      <td>1398.128818</td>\n",
       "      <td>-499.504543</td>\n",
       "      <td>1402.172226</td>\n",
       "      <td>...</td>\n",
       "      <td>12.025367</td>\n",
       "      <td>-500.786497</td>\n",
       "      <td>8.054678</td>\n",
       "      <td>-500.397500</td>\n",
       "      <td>8.107890</td>\n",
       "      <td>-509.526725</td>\n",
       "      <td>4.957674</td>\n",
       "      <td>-500.360026</td>\n",
       "      <td>25.003331</td>\n",
       "      <td>-500.856333</td>\n",
       "    </tr>\n",
       "  </tbody>\n",
       "</table>\n",
       "<p>5 rows × 53 columns</p>\n",
       "</div>"
      ],
      "text/plain": [
       "                  date  primary_cleaner.input.sulfate  \\\n",
       "0  2016-09-01 00:59:59                     210.800909   \n",
       "1  2016-09-01 01:59:59                     215.392455   \n",
       "2  2016-09-01 02:59:59                     215.259946   \n",
       "3  2016-09-01 03:59:59                     215.336236   \n",
       "4  2016-09-01 04:59:59                     199.099327   \n",
       "\n",
       "   primary_cleaner.input.depressant  primary_cleaner.input.feed_size  \\\n",
       "0                         14.993118                         8.080000   \n",
       "1                         14.987471                         8.080000   \n",
       "2                         12.884934                         7.786667   \n",
       "3                         12.006805                         7.640000   \n",
       "4                         10.682530                         7.530000   \n",
       "\n",
       "   primary_cleaner.input.xanthate  primary_cleaner.state.floatbank8_a_air  \\\n",
       "0                        1.005021                             1398.981301   \n",
       "1                        0.990469                             1398.777912   \n",
       "2                        0.996043                             1398.493666   \n",
       "3                        0.863514                             1399.618111   \n",
       "4                        0.805575                             1401.268123   \n",
       "\n",
       "   primary_cleaner.state.floatbank8_a_level  \\\n",
       "0                               -500.225577   \n",
       "1                               -500.057435   \n",
       "2                               -500.868360   \n",
       "3                               -498.863574   \n",
       "4                               -500.808305   \n",
       "\n",
       "   primary_cleaner.state.floatbank8_b_air  \\\n",
       "0                             1399.144926   \n",
       "1                             1398.055362   \n",
       "2                             1398.860436   \n",
       "3                             1397.440120   \n",
       "4                             1398.128818   \n",
       "\n",
       "   primary_cleaner.state.floatbank8_b_level  \\\n",
       "0                               -499.919735   \n",
       "1                               -499.778182   \n",
       "2                               -499.764529   \n",
       "3                               -499.211024   \n",
       "4                               -499.504543   \n",
       "\n",
       "   primary_cleaner.state.floatbank8_c_air  ...  \\\n",
       "0                             1400.102998  ...   \n",
       "1                             1396.151033  ...   \n",
       "2                             1398.075709  ...   \n",
       "3                             1400.129303  ...   \n",
       "4                             1402.172226  ...   \n",
       "\n",
       "   secondary_cleaner.state.floatbank4_a_air  \\\n",
       "0                                 12.023554   \n",
       "1                                 12.058140   \n",
       "2                                 11.962366   \n",
       "3                                 12.033091   \n",
       "4                                 12.025367   \n",
       "\n",
       "   secondary_cleaner.state.floatbank4_a_level  \\\n",
       "0                                 -497.795834   \n",
       "1                                 -498.695773   \n",
       "2                                 -498.767484   \n",
       "3                                 -498.350935   \n",
       "4                                 -500.786497   \n",
       "\n",
       "   secondary_cleaner.state.floatbank4_b_air  \\\n",
       "0                                  8.016656   \n",
       "1                                  8.130979   \n",
       "2                                  8.096893   \n",
       "3                                  8.074946   \n",
       "4                                  8.054678   \n",
       "\n",
       "   secondary_cleaner.state.floatbank4_b_level  \\\n",
       "0                                 -501.289139   \n",
       "1                                 -499.634209   \n",
       "2                                 -500.827423   \n",
       "3                                 -499.474407   \n",
       "4                                 -500.397500   \n",
       "\n",
       "   secondary_cleaner.state.floatbank5_a_air  \\\n",
       "0                                  7.946562   \n",
       "1                                  7.958270   \n",
       "2                                  8.071056   \n",
       "3                                  7.897085   \n",
       "4                                  8.107890   \n",
       "\n",
       "   secondary_cleaner.state.floatbank5_a_level  \\\n",
       "0                                 -432.317850   \n",
       "1                                 -525.839648   \n",
       "2                                 -500.801673   \n",
       "3                                 -500.868509   \n",
       "4                                 -509.526725   \n",
       "\n",
       "   secondary_cleaner.state.floatbank5_b_air  \\\n",
       "0                                  4.872511   \n",
       "1                                  4.878850   \n",
       "2                                  4.905125   \n",
       "3                                  4.931400   \n",
       "4                                  4.957674   \n",
       "\n",
       "   secondary_cleaner.state.floatbank5_b_level  \\\n",
       "0                                 -500.037437   \n",
       "1                                 -500.162375   \n",
       "2                                 -499.828510   \n",
       "3                                 -499.963623   \n",
       "4                                 -500.360026   \n",
       "\n",
       "   secondary_cleaner.state.floatbank6_a_air  \\\n",
       "0                                 26.705889   \n",
       "1                                 25.019940   \n",
       "2                                 24.994862   \n",
       "3                                 24.948919   \n",
       "4                                 25.003331   \n",
       "\n",
       "   secondary_cleaner.state.floatbank6_a_level  \n",
       "0                                 -499.709414  \n",
       "1                                 -499.819438  \n",
       "2                                 -500.622559  \n",
       "3                                 -498.709987  \n",
       "4                                 -500.856333  \n",
       "\n",
       "[5 rows x 53 columns]"
      ]
     },
     "execution_count": 2,
     "metadata": {},
     "output_type": "execute_result"
    }
   ],
   "source": [
    "df_train = pd.read_csv('/datasets/gold_recovery_train_new.csv')\n",
    "df_test = pd.read_csv('/datasets/gold_recovery_test_new.csv')\n",
    "df_full = pd.read_csv('/datasets/gold_recovery_full_new.csv')\n",
    "\n",
    "#df_train.info()\n",
    "df_test.info()\n",
    "df_test.head()\n",
    "#df_full.info()"
   ]
  },
  {
   "cell_type": "markdown",
   "metadata": {},
   "source": [
    "В некоторых столбцах есть пропущенные значения, столбец даты имеет некорректный тип данных."
   ]
  },
  {
   "cell_type": "markdown",
   "metadata": {},
   "source": [
    "Проверим, что эффективность обогащения рассчитана правильно. Вычислим её на обучающей выборке (df_train) для признака (rougher.output.recovery). Так же найдём MAE между расчётами и значением признака.\n",
    "\n",
    "Формула для вычисления обогащения:\n",
    "\n",
    "$$Recovery = \\frac{C *(F - T)}{F * (C - T)} * 100$$\n",
    "\n",
    "где:\n",
    "* `С` — доля золота в концентрате после флотации/очистки;\n",
    "* `F` — доля золота в сырье/концентрате до флотации/очистки;  \n",
    "* `T` — доля золота в отвальных хвостах после флотации/очистки."
   ]
  },
  {
   "cell_type": "code",
   "execution_count": 3,
   "metadata": {},
   "outputs": [
    {
     "name": "stdout",
     "output_type": "stream",
     "text": [
      "MAE для рассчитаной эффективности и значением признака (rougher):\n",
      "9.73512347450521e-15 \n",
      "\n",
      "MAE для рассчитаной эффективности и значением признака (final):\n",
      "8.538049763979541e-15\n"
     ]
    }
   ],
   "source": [
    "def recovery(df, name, c, f, t):\n",
    "    df[name] = (c * (f - t)) / (f * (c - t)) * 100\n",
    "    \n",
    "c_rougher = df_train['rougher.output.concentrate_au']\n",
    "f_rougher = df_train['rougher.input.feed_au']\n",
    "t_rougher = df_train['rougher.output.tail_au']\n",
    "\n",
    "c_final = df_train['final.output.concentrate_au']\n",
    "f_final = df_train['rougher.input.feed_au']\n",
    "t_final = df_train['final.output.tail_au']\n",
    "\n",
    "df_train_recovery_rougher = df_train.copy()\n",
    "df_train_recovery_final = df_train.copy()\n",
    "\n",
    "recovery(df_train_recovery_rougher, 'recovery_rougher', c_rougher, f_rougher, t_rougher)\n",
    "recovery(df_train_recovery_final, 'recovery_final', c_final, f_final, t_final)\n",
    "\n",
    "print('MAE для рассчитаной эффективности и значением признака (rougher):')\n",
    "print(mean_absolute_error(df_train['rougher.output.recovery'], df_train_recovery_rougher['recovery_rougher']), '\\n')\n",
    "\n",
    "print('MAE для рассчитаной эффективности и значением признака (final):')\n",
    "print(mean_absolute_error(df_train['final.output.recovery'], df_train_recovery_final['recovery_final']))"
   ]
  },
  {
   "cell_type": "markdown",
   "metadata": {},
   "source": [
    "Значение MAE близко к нулю, что говорит о том что рассчитанное значение практически идентично табличному."
   ]
  },
  {
   "cell_type": "markdown",
   "metadata": {},
   "source": [
    "Проанализируем признаки недоступные в тестовой выборке."
   ]
  },
  {
   "cell_type": "code",
   "execution_count": 4,
   "metadata": {},
   "outputs": [
    {
     "data": {
      "text/plain": [
       "{'final.output.concentrate_ag',\n",
       " 'final.output.concentrate_au',\n",
       " 'final.output.concentrate_pb',\n",
       " 'final.output.concentrate_sol',\n",
       " 'final.output.recovery',\n",
       " 'final.output.tail_ag',\n",
       " 'final.output.tail_au',\n",
       " 'final.output.tail_pb',\n",
       " 'final.output.tail_sol',\n",
       " 'primary_cleaner.output.concentrate_ag',\n",
       " 'primary_cleaner.output.concentrate_au',\n",
       " 'primary_cleaner.output.concentrate_pb',\n",
       " 'primary_cleaner.output.concentrate_sol',\n",
       " 'primary_cleaner.output.tail_ag',\n",
       " 'primary_cleaner.output.tail_au',\n",
       " 'primary_cleaner.output.tail_pb',\n",
       " 'primary_cleaner.output.tail_sol',\n",
       " 'rougher.calculation.au_pb_ratio',\n",
       " 'rougher.calculation.floatbank10_sulfate_to_au_feed',\n",
       " 'rougher.calculation.floatbank11_sulfate_to_au_feed',\n",
       " 'rougher.calculation.sulfate_to_au_concentrate',\n",
       " 'rougher.output.concentrate_ag',\n",
       " 'rougher.output.concentrate_au',\n",
       " 'rougher.output.concentrate_pb',\n",
       " 'rougher.output.concentrate_sol',\n",
       " 'rougher.output.recovery',\n",
       " 'rougher.output.tail_ag',\n",
       " 'rougher.output.tail_au',\n",
       " 'rougher.output.tail_pb',\n",
       " 'rougher.output.tail_sol',\n",
       " 'secondary_cleaner.output.tail_ag',\n",
       " 'secondary_cleaner.output.tail_au',\n",
       " 'secondary_cleaner.output.tail_pb',\n",
       " 'secondary_cleaner.output.tail_sol'}"
      ]
     },
     "metadata": {},
     "output_type": "display_data"
    },
    {
     "data": {
      "text/plain": [
       "34"
      ]
     },
     "metadata": {},
     "output_type": "display_data"
    }
   ],
   "source": [
    "#получим названия признаков которые есть в обучающей выборке, но нет в тестовой\n",
    "not_in_test = set(df_train.columns) - set(df_test.columns)      \n",
    "        \n",
    "display(not_in_test, len(not_in_test))"
   ]
  },
  {
   "cell_type": "markdown",
   "metadata": {},
   "source": [
    "* `final.output.concentrate_ag (_pd, _sol, _au), final.output.tail_ag (_pb, _sol, _au)` — конечный результат;\n",
    "* `primary_cleaner.output.concentrate_ag (_pb, _sol, _au), primary_cleaner.output.tail_ag (_pb, _sol, _au)` -продукт на этапе первой очистки;\n",
    "* `rougher.calculation.sulfate_to_au_concentrate, rougher.calculation.floatbank10_sulfate_to_au_feed (floatbank11), rougher.calculation.au_pb_ratio` - расчетные характеристики флотации;  \n",
    "* `rougher.output.concentrate_ag (_pb, _sol, _au), rougher.output.tail_ag (_pb, _sol, _au)` - продукт на этапе флотации; \n",
    "* `secondary_cleaner.output.tail_ag (_pb, _sol, _au)` - продукт на этапе второй очитски;\n",
    "* `final.output.recovery, rougher.output.recovery` - целевые признаки.  "
   ]
  },
  {
   "cell_type": "markdown",
   "metadata": {},
   "source": [
    "Проведём предобработку дынных перед анализом.\n",
    "\n",
    "Уберём столбец date из тренировочной и тестовой выборки, сделаем его индексом датафрейма."
   ]
  },
  {
   "cell_type": "code",
   "execution_count": 5,
   "metadata": {},
   "outputs": [
    {
     "data": {
      "text/html": [
       "<div>\n",
       "<style scoped>\n",
       "    .dataframe tbody tr th:only-of-type {\n",
       "        vertical-align: middle;\n",
       "    }\n",
       "\n",
       "    .dataframe tbody tr th {\n",
       "        vertical-align: top;\n",
       "    }\n",
       "\n",
       "    .dataframe thead th {\n",
       "        text-align: right;\n",
       "    }\n",
       "</style>\n",
       "<table border=\"1\" class=\"dataframe\">\n",
       "  <thead>\n",
       "    <tr style=\"text-align: right;\">\n",
       "      <th></th>\n",
       "      <th>final.output.concentrate_ag</th>\n",
       "      <th>final.output.concentrate_pb</th>\n",
       "      <th>final.output.concentrate_sol</th>\n",
       "      <th>final.output.concentrate_au</th>\n",
       "      <th>final.output.recovery</th>\n",
       "      <th>final.output.tail_ag</th>\n",
       "      <th>final.output.tail_pb</th>\n",
       "      <th>final.output.tail_sol</th>\n",
       "      <th>final.output.tail_au</th>\n",
       "      <th>primary_cleaner.input.sulfate</th>\n",
       "      <th>...</th>\n",
       "      <th>secondary_cleaner.state.floatbank4_a_air</th>\n",
       "      <th>secondary_cleaner.state.floatbank4_a_level</th>\n",
       "      <th>secondary_cleaner.state.floatbank4_b_air</th>\n",
       "      <th>secondary_cleaner.state.floatbank4_b_level</th>\n",
       "      <th>secondary_cleaner.state.floatbank5_a_air</th>\n",
       "      <th>secondary_cleaner.state.floatbank5_a_level</th>\n",
       "      <th>secondary_cleaner.state.floatbank5_b_air</th>\n",
       "      <th>secondary_cleaner.state.floatbank5_b_level</th>\n",
       "      <th>secondary_cleaner.state.floatbank6_a_air</th>\n",
       "      <th>secondary_cleaner.state.floatbank6_a_level</th>\n",
       "    </tr>\n",
       "    <tr>\n",
       "      <th>date</th>\n",
       "      <th></th>\n",
       "      <th></th>\n",
       "      <th></th>\n",
       "      <th></th>\n",
       "      <th></th>\n",
       "      <th></th>\n",
       "      <th></th>\n",
       "      <th></th>\n",
       "      <th></th>\n",
       "      <th></th>\n",
       "      <th></th>\n",
       "      <th></th>\n",
       "      <th></th>\n",
       "      <th></th>\n",
       "      <th></th>\n",
       "      <th></th>\n",
       "      <th></th>\n",
       "      <th></th>\n",
       "      <th></th>\n",
       "      <th></th>\n",
       "      <th></th>\n",
       "    </tr>\n",
       "  </thead>\n",
       "  <tbody>\n",
       "    <tr>\n",
       "      <th>2016-01-15 00:00:00</th>\n",
       "      <td>6.055403</td>\n",
       "      <td>9.889648</td>\n",
       "      <td>5.507324</td>\n",
       "      <td>42.192020</td>\n",
       "      <td>70.541216</td>\n",
       "      <td>10.411962</td>\n",
       "      <td>0.895447</td>\n",
       "      <td>16.904297</td>\n",
       "      <td>2.143149</td>\n",
       "      <td>127.092003</td>\n",
       "      <td>...</td>\n",
       "      <td>14.016835</td>\n",
       "      <td>-502.488007</td>\n",
       "      <td>12.099931</td>\n",
       "      <td>-504.715942</td>\n",
       "      <td>9.925633</td>\n",
       "      <td>-498.310211</td>\n",
       "      <td>8.079666</td>\n",
       "      <td>-500.470978</td>\n",
       "      <td>14.151341</td>\n",
       "      <td>-605.841980</td>\n",
       "    </tr>\n",
       "    <tr>\n",
       "      <th>2016-01-15 01:00:00</th>\n",
       "      <td>6.029369</td>\n",
       "      <td>9.968944</td>\n",
       "      <td>5.257781</td>\n",
       "      <td>42.701629</td>\n",
       "      <td>69.266198</td>\n",
       "      <td>10.462676</td>\n",
       "      <td>0.927452</td>\n",
       "      <td>16.634514</td>\n",
       "      <td>2.224930</td>\n",
       "      <td>125.629232</td>\n",
       "      <td>...</td>\n",
       "      <td>13.992281</td>\n",
       "      <td>-505.503262</td>\n",
       "      <td>11.950531</td>\n",
       "      <td>-501.331529</td>\n",
       "      <td>10.039245</td>\n",
       "      <td>-500.169983</td>\n",
       "      <td>7.984757</td>\n",
       "      <td>-500.582168</td>\n",
       "      <td>13.998353</td>\n",
       "      <td>-599.787184</td>\n",
       "    </tr>\n",
       "    <tr>\n",
       "      <th>2016-01-15 02:00:00</th>\n",
       "      <td>6.055926</td>\n",
       "      <td>10.213995</td>\n",
       "      <td>5.383759</td>\n",
       "      <td>42.657501</td>\n",
       "      <td>68.116445</td>\n",
       "      <td>10.507046</td>\n",
       "      <td>0.953716</td>\n",
       "      <td>16.208849</td>\n",
       "      <td>2.257889</td>\n",
       "      <td>123.819808</td>\n",
       "      <td>...</td>\n",
       "      <td>14.015015</td>\n",
       "      <td>-502.520901</td>\n",
       "      <td>11.912783</td>\n",
       "      <td>-501.133383</td>\n",
       "      <td>10.070913</td>\n",
       "      <td>-500.129135</td>\n",
       "      <td>8.013877</td>\n",
       "      <td>-500.517572</td>\n",
       "      <td>14.028663</td>\n",
       "      <td>-601.427363</td>\n",
       "    </tr>\n",
       "    <tr>\n",
       "      <th>2016-01-15 03:00:00</th>\n",
       "      <td>6.047977</td>\n",
       "      <td>9.977019</td>\n",
       "      <td>4.858634</td>\n",
       "      <td>42.689819</td>\n",
       "      <td>68.347543</td>\n",
       "      <td>10.422762</td>\n",
       "      <td>0.883763</td>\n",
       "      <td>16.532835</td>\n",
       "      <td>2.146849</td>\n",
       "      <td>122.270188</td>\n",
       "      <td>...</td>\n",
       "      <td>14.036510</td>\n",
       "      <td>-500.857308</td>\n",
       "      <td>11.999550</td>\n",
       "      <td>-501.193686</td>\n",
       "      <td>9.970366</td>\n",
       "      <td>-499.201640</td>\n",
       "      <td>7.977324</td>\n",
       "      <td>-500.255908</td>\n",
       "      <td>14.005551</td>\n",
       "      <td>-599.996129</td>\n",
       "    </tr>\n",
       "    <tr>\n",
       "      <th>2016-01-15 04:00:00</th>\n",
       "      <td>6.148599</td>\n",
       "      <td>10.142511</td>\n",
       "      <td>4.939416</td>\n",
       "      <td>42.774141</td>\n",
       "      <td>66.927016</td>\n",
       "      <td>10.360302</td>\n",
       "      <td>0.792826</td>\n",
       "      <td>16.525686</td>\n",
       "      <td>2.055292</td>\n",
       "      <td>117.988169</td>\n",
       "      <td>...</td>\n",
       "      <td>14.027298</td>\n",
       "      <td>-499.838632</td>\n",
       "      <td>11.953070</td>\n",
       "      <td>-501.053894</td>\n",
       "      <td>9.925709</td>\n",
       "      <td>-501.686727</td>\n",
       "      <td>7.894242</td>\n",
       "      <td>-500.356035</td>\n",
       "      <td>13.996647</td>\n",
       "      <td>-601.496691</td>\n",
       "    </tr>\n",
       "  </tbody>\n",
       "</table>\n",
       "<p>5 rows × 86 columns</p>\n",
       "</div>"
      ],
      "text/plain": [
       "                     final.output.concentrate_ag  final.output.concentrate_pb  \\\n",
       "date                                                                            \n",
       "2016-01-15 00:00:00                     6.055403                     9.889648   \n",
       "2016-01-15 01:00:00                     6.029369                     9.968944   \n",
       "2016-01-15 02:00:00                     6.055926                    10.213995   \n",
       "2016-01-15 03:00:00                     6.047977                     9.977019   \n",
       "2016-01-15 04:00:00                     6.148599                    10.142511   \n",
       "\n",
       "                     final.output.concentrate_sol  \\\n",
       "date                                                \n",
       "2016-01-15 00:00:00                      5.507324   \n",
       "2016-01-15 01:00:00                      5.257781   \n",
       "2016-01-15 02:00:00                      5.383759   \n",
       "2016-01-15 03:00:00                      4.858634   \n",
       "2016-01-15 04:00:00                      4.939416   \n",
       "\n",
       "                     final.output.concentrate_au  final.output.recovery  \\\n",
       "date                                                                      \n",
       "2016-01-15 00:00:00                    42.192020              70.541216   \n",
       "2016-01-15 01:00:00                    42.701629              69.266198   \n",
       "2016-01-15 02:00:00                    42.657501              68.116445   \n",
       "2016-01-15 03:00:00                    42.689819              68.347543   \n",
       "2016-01-15 04:00:00                    42.774141              66.927016   \n",
       "\n",
       "                     final.output.tail_ag  final.output.tail_pb  \\\n",
       "date                                                              \n",
       "2016-01-15 00:00:00             10.411962              0.895447   \n",
       "2016-01-15 01:00:00             10.462676              0.927452   \n",
       "2016-01-15 02:00:00             10.507046              0.953716   \n",
       "2016-01-15 03:00:00             10.422762              0.883763   \n",
       "2016-01-15 04:00:00             10.360302              0.792826   \n",
       "\n",
       "                     final.output.tail_sol  final.output.tail_au  \\\n",
       "date                                                               \n",
       "2016-01-15 00:00:00              16.904297              2.143149   \n",
       "2016-01-15 01:00:00              16.634514              2.224930   \n",
       "2016-01-15 02:00:00              16.208849              2.257889   \n",
       "2016-01-15 03:00:00              16.532835              2.146849   \n",
       "2016-01-15 04:00:00              16.525686              2.055292   \n",
       "\n",
       "                     primary_cleaner.input.sulfate  ...  \\\n",
       "date                                                ...   \n",
       "2016-01-15 00:00:00                     127.092003  ...   \n",
       "2016-01-15 01:00:00                     125.629232  ...   \n",
       "2016-01-15 02:00:00                     123.819808  ...   \n",
       "2016-01-15 03:00:00                     122.270188  ...   \n",
       "2016-01-15 04:00:00                     117.988169  ...   \n",
       "\n",
       "                     secondary_cleaner.state.floatbank4_a_air  \\\n",
       "date                                                            \n",
       "2016-01-15 00:00:00                                 14.016835   \n",
       "2016-01-15 01:00:00                                 13.992281   \n",
       "2016-01-15 02:00:00                                 14.015015   \n",
       "2016-01-15 03:00:00                                 14.036510   \n",
       "2016-01-15 04:00:00                                 14.027298   \n",
       "\n",
       "                     secondary_cleaner.state.floatbank4_a_level  \\\n",
       "date                                                              \n",
       "2016-01-15 00:00:00                                 -502.488007   \n",
       "2016-01-15 01:00:00                                 -505.503262   \n",
       "2016-01-15 02:00:00                                 -502.520901   \n",
       "2016-01-15 03:00:00                                 -500.857308   \n",
       "2016-01-15 04:00:00                                 -499.838632   \n",
       "\n",
       "                     secondary_cleaner.state.floatbank4_b_air  \\\n",
       "date                                                            \n",
       "2016-01-15 00:00:00                                 12.099931   \n",
       "2016-01-15 01:00:00                                 11.950531   \n",
       "2016-01-15 02:00:00                                 11.912783   \n",
       "2016-01-15 03:00:00                                 11.999550   \n",
       "2016-01-15 04:00:00                                 11.953070   \n",
       "\n",
       "                     secondary_cleaner.state.floatbank4_b_level  \\\n",
       "date                                                              \n",
       "2016-01-15 00:00:00                                 -504.715942   \n",
       "2016-01-15 01:00:00                                 -501.331529   \n",
       "2016-01-15 02:00:00                                 -501.133383   \n",
       "2016-01-15 03:00:00                                 -501.193686   \n",
       "2016-01-15 04:00:00                                 -501.053894   \n",
       "\n",
       "                     secondary_cleaner.state.floatbank5_a_air  \\\n",
       "date                                                            \n",
       "2016-01-15 00:00:00                                  9.925633   \n",
       "2016-01-15 01:00:00                                 10.039245   \n",
       "2016-01-15 02:00:00                                 10.070913   \n",
       "2016-01-15 03:00:00                                  9.970366   \n",
       "2016-01-15 04:00:00                                  9.925709   \n",
       "\n",
       "                     secondary_cleaner.state.floatbank5_a_level  \\\n",
       "date                                                              \n",
       "2016-01-15 00:00:00                                 -498.310211   \n",
       "2016-01-15 01:00:00                                 -500.169983   \n",
       "2016-01-15 02:00:00                                 -500.129135   \n",
       "2016-01-15 03:00:00                                 -499.201640   \n",
       "2016-01-15 04:00:00                                 -501.686727   \n",
       "\n",
       "                     secondary_cleaner.state.floatbank5_b_air  \\\n",
       "date                                                            \n",
       "2016-01-15 00:00:00                                  8.079666   \n",
       "2016-01-15 01:00:00                                  7.984757   \n",
       "2016-01-15 02:00:00                                  8.013877   \n",
       "2016-01-15 03:00:00                                  7.977324   \n",
       "2016-01-15 04:00:00                                  7.894242   \n",
       "\n",
       "                     secondary_cleaner.state.floatbank5_b_level  \\\n",
       "date                                                              \n",
       "2016-01-15 00:00:00                                 -500.470978   \n",
       "2016-01-15 01:00:00                                 -500.582168   \n",
       "2016-01-15 02:00:00                                 -500.517572   \n",
       "2016-01-15 03:00:00                                 -500.255908   \n",
       "2016-01-15 04:00:00                                 -500.356035   \n",
       "\n",
       "                     secondary_cleaner.state.floatbank6_a_air  \\\n",
       "date                                                            \n",
       "2016-01-15 00:00:00                                 14.151341   \n",
       "2016-01-15 01:00:00                                 13.998353   \n",
       "2016-01-15 02:00:00                                 14.028663   \n",
       "2016-01-15 03:00:00                                 14.005551   \n",
       "2016-01-15 04:00:00                                 13.996647   \n",
       "\n",
       "                     secondary_cleaner.state.floatbank6_a_level  \n",
       "date                                                             \n",
       "2016-01-15 00:00:00                                 -605.841980  \n",
       "2016-01-15 01:00:00                                 -599.787184  \n",
       "2016-01-15 02:00:00                                 -601.427363  \n",
       "2016-01-15 03:00:00                                 -599.996129  \n",
       "2016-01-15 04:00:00                                 -601.496691  \n",
       "\n",
       "[5 rows x 86 columns]"
      ]
     },
     "metadata": {},
     "output_type": "display_data"
    }
   ],
   "source": [
    "df_train = df_train.set_index('date')\n",
    "df_test = df_test.set_index('date')\n",
    "df_full = df_full.set_index('date')\n",
    "\n",
    "display(df_train.head())\n",
    "#display(df_test.head())\n",
    "#display(df_full.head())"
   ]
  },
  {
   "cell_type": "markdown",
   "metadata": {},
   "source": [
    "Заполним пропущенные значения во всех датафреймах, пропуски можно заменить средним значением столбцов так как их кол-во по сравнению с объёмами датафреймов небольшой."
   ]
  },
  {
   "cell_type": "code",
   "execution_count": 6,
   "metadata": {},
   "outputs": [
    {
     "name": "stdout",
     "output_type": "stream",
     "text": [
      "0.007067637288854336 final.output.concentrate_ag\n",
      "0.007067637288854336 final.output.concentrate_pb\n",
      "1.491271467948265 final.output.concentrate_sol\n",
      "0.7067637288854336 final.output.tail_pb\n",
      "0.035338186444271676 final.output.tail_sol\n",
      "0.1413527457770867 primary_cleaner.input.sulfate\n",
      "0.22616439324333876 primary_cleaner.input.depressant\n",
      "0.7067637288854336 primary_cleaner.input.xanthate\n",
      "0.6078168068414729 primary_cleaner.output.concentrate_pb\n",
      "2.02134426461234 primary_cleaner.output.concentrate_sol\n",
      "0.007067637288854336 primary_cleaner.output.tail_ag\n",
      "0.10601455933281505 primary_cleaner.output.tail_pb\n",
      "0.3251113152872995 primary_cleaner.output.tail_sol\n",
      "0.028270549155417345 primary_cleaner.state.floatbank8_a_air\n",
      "0.007067637288854336 primary_cleaner.state.floatbank8_a_level\n",
      "0.028270549155417345 primary_cleaner.state.floatbank8_b_air\n",
      "0.007067637288854336 primary_cleaner.state.floatbank8_b_level\n",
      "0.014135274577708672 primary_cleaner.state.floatbank8_c_air\n",
      "0.007067637288854336 primary_cleaner.state.floatbank8_c_level\n",
      "0.021202911866563007 primary_cleaner.state.floatbank8_d_air\n",
      "0.007067637288854336 primary_cleaner.state.floatbank8_d_level\n",
      "0.007067637288854336 rougher.calculation.sulfate_to_au_concentrate\n",
      "0.007067637288854336 rougher.calculation.floatbank10_sulfate_to_au_feed\n",
      "0.007067637288854336 rougher.calculation.floatbank11_sulfate_to_au_feed\n",
      "0.7067637288854336 rougher.input.feed_pb\n",
      "0.05654109831083469 rougher.input.feed_rate\n",
      "1.0177397695950243 rougher.input.feed_size\n",
      "0.5512757085306382 rougher.input.feed_sol\n",
      "0.20496148137677575 rougher.input.floatbank10_sulfate\n",
      "0.05654109831083469 rougher.input.floatbank10_xanthate\n",
      "0.2544349423987561 rougher.input.floatbank11_sulfate\n",
      "3.024948759629656 rougher.input.floatbank11_xanthate\n",
      "0.1554880203547954 rougher.output.concentrate_sol\n",
      "0.007067637288854336 rougher.output.tail_ag\n",
      "0.007067637288854336 rougher.state.floatbank10_a_air\n",
      "0.007067637288854336 rougher.state.floatbank10_a_level\n",
      "0.007067637288854336 rougher.state.floatbank10_b_air\n",
      "0.007067637288854336 rougher.state.floatbank10_b_level\n",
      "0.007067637288854336 rougher.state.floatbank10_c_air\n",
      "0.007067637288854336 rougher.state.floatbank10_c_level\n",
      "3.0814898579404906 rougher.state.floatbank10_e_air\n",
      "0.014135274577708672 secondary_cleaner.output.tail_ag\n",
      "0.07067637288854335 secondary_cleaner.output.tail_pb\n",
      "11.343557848611209 secondary_cleaner.output.tail_sol\n",
      "1.533677291681391 secondary_cleaner.state.floatbank2_a_air\n",
      "0.007067637288854336 secondary_cleaner.state.floatbank2_a_level\n",
      "0.14842038306594105 secondary_cleaner.state.floatbank2_b_air\n",
      "0.007067637288854336 secondary_cleaner.state.floatbank2_b_level\n",
      "0.028270549155417345 secondary_cleaner.state.floatbank3_a_air\n",
      "0.007067637288854336 secondary_cleaner.state.floatbank3_a_level\n",
      "0.007067637288854336 secondary_cleaner.state.floatbank3_b_air\n",
      "0.007067637288854336 secondary_cleaner.state.floatbank3_b_level\n",
      "0.042405823733126013 secondary_cleaner.state.floatbank4_a_air\n",
      "0.007067637288854336 secondary_cleaner.state.floatbank4_a_level\n",
      "0.007067637288854336 secondary_cleaner.state.floatbank4_b_air\n",
      "0.007067637288854336 secondary_cleaner.state.floatbank4_b_level\n",
      "0.007067637288854336 secondary_cleaner.state.floatbank5_a_air\n",
      "0.007067637288854336 secondary_cleaner.state.floatbank5_a_level\n",
      "0.007067637288854336 secondary_cleaner.state.floatbank5_b_air\n",
      "0.007067637288854336 secondary_cleaner.state.floatbank5_b_level\n",
      "0.014135274577708672 secondary_cleaner.state.floatbank6_a_air\n",
      "0.007067637288854336 secondary_cleaner.state.floatbank6_a_level\n"
     ]
    }
   ],
   "source": [
    "def find_pass(df):\n",
    "    for elem in df:\n",
    "        if df[elem].isnull().sum() != 0:\n",
    "            print(df[elem].isnull().sum() / len(df) * 100, elem)\n",
    "        else:\n",
    "            continue\n",
    "\n",
    "find_pass(df_train)\n",
    "#find_pass(df_test)\n",
    "#find_pass(df_full)"
   ]
  },
  {
   "cell_type": "markdown",
   "metadata": {},
   "source": [
    "Рассмотрим распределние значений в столбце secondary_cleaner.output.tail_sol."
   ]
  },
  {
   "cell_type": "code",
   "execution_count": 7,
   "metadata": {},
   "outputs": [
    {
     "data": {
      "image/png": "[encoded data removed]",
      "text/plain": [
       "<Figure size 432x288 with 1 Axes>"
      ]
     },
     "metadata": {
      "needs_background": "light"
     },
     "output_type": "display_data"
    }
   ],
   "source": [
    "df_train['secondary_cleaner.output.tail_sol'].plot(kind = 'hist', bins = 100)\n",
    "plt.show()"
   ]
  },
  {
   "cell_type": "markdown",
   "metadata": {},
   "source": [
    "Заполним пропуски и нули на соседние значения."
   ]
  },
  {
   "cell_type": "code",
   "execution_count": 8,
   "metadata": {},
   "outputs": [
    {
     "name": "stdout",
     "output_type": "stream",
     "text": [
      "Количество пропусков в столбце secondary_cleaner.output.tail_sol (df_train):\n",
      "0.0 \n",
      "\n",
      "Количество пропусков в столбце secondary_cleaner.output.tail_sol (df_train):\n",
      "0.0\n"
     ]
    },
    {
     "data": {
      "image/png": "[encoded data removed]",
      "text/plain": [
       "<Figure size 432x288 with 1 Axes>"
      ]
     },
     "metadata": {
      "needs_background": "light"
     },
     "output_type": "display_data"
    }
   ],
   "source": [
    "\n",
    "def filling_gaps_nearby(df):\n",
    "    for i in range(0, len(df) - 1):\n",
    "        if np.isnan(df['secondary_cleaner.output.tail_sol'][i]) == True or df['secondary_cleaner.output.tail_sol'][i] == 0:\n",
    "            if i == 0:\n",
    "                df['secondary_cleaner.output.tail_sol'][i] = df['secondary_cleaner.output.tail_sol'][i + 1]\n",
    "            else:\n",
    "                df['secondary_cleaner.output.tail_sol'][i] = df['secondary_cleaner.output.tail_sol'][i - 1]\n",
    "        else:\n",
    "            continue\n",
    "\n",
    "filling_gaps_nearby(df_train)\n",
    "filling_gaps_nearby(df_full)\n",
    "            \n",
    "print('Количество пропусков в столбце secondary_cleaner.output.tail_sol (df_train):')\n",
    "print(df_train['secondary_cleaner.output.tail_sol'].isnull().sum() / len(df_train) * 100, '\\n')\n",
    "\n",
    "print('Количество пропусков в столбце secondary_cleaner.output.tail_sol (df_train):')\n",
    "print(df_full['secondary_cleaner.output.tail_sol'].isnull().sum() / len(df_full) * 100)\n",
    "\n",
    "df_train['secondary_cleaner.output.tail_sol'].plot(kind = 'hist', bins = 100)\n",
    "plt.show()"
   ]
  },
  {
   "cell_type": "markdown",
   "metadata": {},
   "source": [
    "В оставшихся столбцах где присутствуют пропущенные значения можно заполнить средним, так как кол-во пропусков минимально."
   ]
  },
  {
   "cell_type": "code",
   "execution_count": 9,
   "metadata": {},
   "outputs": [
    {
     "name": "stdout",
     "output_type": "stream",
     "text": [
      "Кол-во пропущенных значений в df_train: 0\n",
      "Кол-во пропущенных значений в df_test: 0\n",
      "Кол-во пропущенных значений в df_full: 0\n"
     ]
    }
   ],
   "source": [
    "def filling_gaps(df):\n",
    "    for elem in df:\n",
    "        if df[elem].isnull().sum() != 0:\n",
    "            df[elem] = df[elem].fillna(df[elem].mean())\n",
    "        else:\n",
    "            continue\n",
    "\n",
    "filling_gaps(df_train)\n",
    "filling_gaps(df_test)\n",
    "filling_gaps(df_full)\n",
    "\n",
    "print('Кол-во пропущенных значений в df_train:', df_train.isnull().sum().sum())\n",
    "print('Кол-во пропущенных значений в df_test:', df_test.isnull().sum().sum())\n",
    "print('Кол-во пропущенных значений в df_full:', df_full.isnull().sum().sum())"
   ]
  },
  {
   "cell_type": "code",
   "execution_count": 10,
   "metadata": {},
   "outputs": [
    {
     "name": "stdout",
     "output_type": "stream",
     "text": [
      "<class 'pandas.core.frame.DataFrame'>\n",
      "Index: 19439 entries, 2016-01-15 00:00:00 to 2018-08-18 10:59:59\n",
      "Data columns (total 86 columns):\n",
      " #   Column                                              Non-Null Count  Dtype  \n",
      "---  ------                                              --------------  -----  \n",
      " 0   final.output.concentrate_ag                         19439 non-null  float64\n",
      " 1   final.output.concentrate_pb                         19439 non-null  float64\n",
      " 2   final.output.concentrate_sol                        19439 non-null  float64\n",
      " 3   final.output.concentrate_au                         19439 non-null  float64\n",
      " 4   final.output.recovery                               19439 non-null  float64\n",
      " 5   final.output.tail_ag                                19439 non-null  float64\n",
      " 6   final.output.tail_pb                                19439 non-null  float64\n",
      " 7   final.output.tail_sol                               19439 non-null  float64\n",
      " 8   final.output.tail_au                                19439 non-null  float64\n",
      " 9   primary_cleaner.input.sulfate                       19439 non-null  float64\n",
      " 10  primary_cleaner.input.depressant                    19439 non-null  float64\n",
      " 11  primary_cleaner.input.feed_size                     19439 non-null  float64\n",
      " 12  primary_cleaner.input.xanthate                      19439 non-null  float64\n",
      " 13  primary_cleaner.output.concentrate_ag               19439 non-null  float64\n",
      " 14  primary_cleaner.output.concentrate_pb               19439 non-null  float64\n",
      " 15  primary_cleaner.output.concentrate_sol              19439 non-null  float64\n",
      " 16  primary_cleaner.output.concentrate_au               19439 non-null  float64\n",
      " 17  primary_cleaner.output.tail_ag                      19439 non-null  float64\n",
      " 18  primary_cleaner.output.tail_pb                      19439 non-null  float64\n",
      " 19  primary_cleaner.output.tail_sol                     19439 non-null  float64\n",
      " 20  primary_cleaner.output.tail_au                      19439 non-null  float64\n",
      " 21  primary_cleaner.state.floatbank8_a_air              19439 non-null  float64\n",
      " 22  primary_cleaner.state.floatbank8_a_level            19439 non-null  float64\n",
      " 23  primary_cleaner.state.floatbank8_b_air              19439 non-null  float64\n",
      " 24  primary_cleaner.state.floatbank8_b_level            19439 non-null  float64\n",
      " 25  primary_cleaner.state.floatbank8_c_air              19439 non-null  float64\n",
      " 26  primary_cleaner.state.floatbank8_c_level            19439 non-null  float64\n",
      " 27  primary_cleaner.state.floatbank8_d_air              19439 non-null  float64\n",
      " 28  primary_cleaner.state.floatbank8_d_level            19439 non-null  float64\n",
      " 29  rougher.calculation.sulfate_to_au_concentrate       19439 non-null  float64\n",
      " 30  rougher.calculation.floatbank10_sulfate_to_au_feed  19439 non-null  float64\n",
      " 31  rougher.calculation.floatbank11_sulfate_to_au_feed  19439 non-null  float64\n",
      " 32  rougher.calculation.au_pb_ratio                     19439 non-null  float64\n",
      " 33  rougher.input.feed_ag                               19439 non-null  float64\n",
      " 34  rougher.input.feed_pb                               19439 non-null  float64\n",
      " 35  rougher.input.feed_rate                             19439 non-null  float64\n",
      " 36  rougher.input.feed_size                             19439 non-null  float64\n",
      " 37  rougher.input.feed_sol                              19439 non-null  float64\n",
      " 38  rougher.input.feed_au                               19439 non-null  float64\n",
      " 39  rougher.input.floatbank10_sulfate                   19439 non-null  float64\n",
      " 40  rougher.input.floatbank10_xanthate                  19439 non-null  float64\n",
      " 41  rougher.input.floatbank11_sulfate                   19439 non-null  float64\n",
      " 42  rougher.input.floatbank11_xanthate                  19439 non-null  float64\n",
      " 43  rougher.output.concentrate_ag                       19439 non-null  float64\n",
      " 44  rougher.output.concentrate_pb                       19439 non-null  float64\n",
      " 45  rougher.output.concentrate_sol                      19439 non-null  float64\n",
      " 46  rougher.output.concentrate_au                       19439 non-null  float64\n",
      " 47  rougher.output.recovery                             19439 non-null  float64\n",
      " 48  rougher.output.tail_ag                              19439 non-null  float64\n",
      " 49  rougher.output.tail_pb                              19439 non-null  float64\n",
      " 50  rougher.output.tail_sol                             19439 non-null  float64\n",
      " 51  rougher.output.tail_au                              19439 non-null  float64\n",
      " 52  rougher.state.floatbank10_a_air                     19439 non-null  float64\n",
      " 53  rougher.state.floatbank10_a_level                   19439 non-null  float64\n",
      " 54  rougher.state.floatbank10_b_air                     19439 non-null  float64\n",
      " 55  rougher.state.floatbank10_b_level                   19439 non-null  float64\n",
      " 56  rougher.state.floatbank10_c_air                     19439 non-null  float64\n",
      " 57  rougher.state.floatbank10_c_level                   19439 non-null  float64\n",
      " 58  rougher.state.floatbank10_d_air                     19439 non-null  float64\n",
      " 59  rougher.state.floatbank10_d_level                   19439 non-null  float64\n",
      " 60  rougher.state.floatbank10_e_air                     19439 non-null  float64\n",
      " 61  rougher.state.floatbank10_e_level                   19439 non-null  float64\n",
      " 62  rougher.state.floatbank10_f_air                     19439 non-null  float64\n",
      " 63  rougher.state.floatbank10_f_level                   19439 non-null  float64\n",
      " 64  secondary_cleaner.output.tail_ag                    19439 non-null  float64\n",
      " 65  secondary_cleaner.output.tail_pb                    19439 non-null  float64\n",
      " 66  secondary_cleaner.output.tail_sol                   19439 non-null  float64\n",
      " 67  secondary_cleaner.output.tail_au                    19439 non-null  float64\n",
      " 68  secondary_cleaner.state.floatbank2_a_air            19439 non-null  float64\n",
      " 69  secondary_cleaner.state.floatbank2_a_level          19439 non-null  float64\n",
      " 70  secondary_cleaner.state.floatbank2_b_air            19439 non-null  float64\n",
      " 71  secondary_cleaner.state.floatbank2_b_level          19439 non-null  float64\n",
      " 72  secondary_cleaner.state.floatbank3_a_air            19439 non-null  float64\n",
      " 73  secondary_cleaner.state.floatbank3_a_level          19439 non-null  float64\n",
      " 74  secondary_cleaner.state.floatbank3_b_air            19439 non-null  float64\n",
      " 75  secondary_cleaner.state.floatbank3_b_level          19439 non-null  float64\n",
      " 76  secondary_cleaner.state.floatbank4_a_air            19439 non-null  float64\n",
      " 77  secondary_cleaner.state.floatbank4_a_level          19439 non-null  float64\n",
      " 78  secondary_cleaner.state.floatbank4_b_air            19439 non-null  float64\n",
      " 79  secondary_cleaner.state.floatbank4_b_level          19439 non-null  float64\n",
      " 80  secondary_cleaner.state.floatbank5_a_air            19439 non-null  float64\n",
      " 81  secondary_cleaner.state.floatbank5_a_level          19439 non-null  float64\n",
      " 82  secondary_cleaner.state.floatbank5_b_air            19439 non-null  float64\n",
      " 83  secondary_cleaner.state.floatbank5_b_level          19439 non-null  float64\n",
      " 84  secondary_cleaner.state.floatbank6_a_air            19439 non-null  float64\n",
      " 85  secondary_cleaner.state.floatbank6_a_level          19439 non-null  float64\n",
      "dtypes: float64(86)\n",
      "memory usage: 13.4+ MB\n"
     ]
    },
    {
     "data": {
      "text/plain": [
       "None"
      ]
     },
     "metadata": {},
     "output_type": "display_data"
    }
   ],
   "source": [
    "display(df_full.info())"
   ]
  },
  {
   "cell_type": "markdown",
   "metadata": {},
   "source": [
    "## Анализ данных"
   ]
  },
  {
   "cell_type": "markdown",
   "metadata": {},
   "source": [
    "Посторим графики изменения количества элементов в смеси золотоносной руды в процессе её обработки."
   ]
  },
  {
   "cell_type": "code",
   "execution_count": 11,
   "metadata": {},
   "outputs": [
    {
     "data": {
      "image/png": "[encoded data removed]",
      "text/plain": [
       "<Figure size 432x288 with 1 Axes>"
      ]
     },
     "metadata": {
      "needs_background": "light"
     },
     "output_type": "display_data"
    },
    {
     "data": {
      "image/png": "[encoded data removed]",
      "text/plain": [
       "<Figure size 432x288 with 1 Axes>"
      ]
     },
     "metadata": {
      "needs_background": "light"
     },
     "output_type": "display_data"
    },
    {
     "data": {
      "image/png": "[encoded data removed]",
      "text/plain": [
       "<Figure size 432x288 with 1 Axes>"
      ]
     },
     "metadata": {
      "needs_background": "light"
     },
     "output_type": "display_data"
    },
    {
     "data": {
      "image/png": "[encoded data removed]",
      "text/plain": [
       "<Figure size 432x288 with 1 Axes>"
      ]
     },
     "metadata": {
      "needs_background": "light"
     },
     "output_type": "display_data"
    },
    {
     "name": "stdout",
     "output_type": "stream",
     "text": [
      "CPU times: user 31.5 s, sys: 239 ms, total: 31.7 s\n",
      "Wall time: 31.7 s\n"
     ]
    },
    {
     "data": {
      "text/plain": [
       "\"\\nplt.figure(figsize=(10, 5))\\nplt.plot(stages, au_mean, label = 'Кол-во золота Au')\\nplt.plot(stages, ag_mean, label = 'Кол-во серебра Ag')\\nplt.plot(stages, pb_mean, label = 'Кол-во свинца Pb')\\nplt.plot(stages, sol_mean, label = 'Кол-во Sol')\\nplt.legend()\\nplt.title('Количество элементов на этапах обработки')\\nplt.grid()\\nplt.show()\\n\""
      ]
     },
     "execution_count": 11,
     "metadata": {},
     "output_type": "execute_result"
    }
   ],
   "source": [
    "%%time\n",
    "\n",
    "stages = ['Перед флотацией', 'После флотации', 'После очистки', 'Финальная концентрация']\n",
    "\n",
    "au = [df_full['rougher.input.feed_au'], df_full['rougher.output.concentrate_au'], \n",
    "      df_full['primary_cleaner.output.concentrate_au'], df_full['final.output.concentrate_au']]\n",
    "ag = [df_full['rougher.input.feed_ag'], df_full['rougher.output.concentrate_ag'], \n",
    "      df_full['primary_cleaner.output.concentrate_ag'], df_full['final.output.concentrate_ag']]\n",
    "pb = [df_full['rougher.input.feed_pb'], df_full['rougher.output.concentrate_pb'], \n",
    "      df_full['primary_cleaner.output.concentrate_pb'], df_full['final.output.concentrate_pb']]\n",
    "sol = [df_full['rougher.input.feed_sol'], df_full['rougher.output.concentrate_sol'], \n",
    "        df_full['primary_cleaner.output.concentrate_sol'], df_full['final.output.concentrate_sol']]\n",
    "           \n",
    "def plot_metals(metal, name_metal):\n",
    "    metal[0].hist(bins = 1000, label = 'Перед флотацией')\n",
    "    metal[1].hist(bins = 1000, label = 'После флотации')\n",
    "    metal[2].hist(bins = 1000, label = 'После очистки')\n",
    "    metal[3].hist(bins = 1000, label = 'Финальная концентрация')\n",
    "    plt.title(name_metal)\n",
    "    plt.legend()\n",
    "    plt.show()\n",
    "\n",
    "plot_metals(au, 'Распределение Au от этапа к этапу')\n",
    "plot_metals(ag, 'Распределение Ag от этапа к этапу')\n",
    "plot_metals(pb, 'Распределение Pb от этапа к этапу')\n",
    "plot_metals(sol,'Распределение Sol от этапа к этапу')\n",
    "'''\n",
    "plt.figure(figsize=(10, 5))\n",
    "plt.plot(stages, au_mean, label = 'Кол-во золота Au')\n",
    "plt.plot(stages, ag_mean, label = 'Кол-во серебра Ag')\n",
    "plt.plot(stages, pb_mean, label = 'Кол-во свинца Pb')\n",
    "plt.plot(stages, sol_mean, label = 'Кол-во Sol')\n",
    "plt.legend()\n",
    "plt.title('Количество элементов на этапах обработки')\n",
    "plt.grid()\n",
    "plt.show()\n",
    "'''"
   ]
  },
  {
   "cell_type": "markdown",
   "metadata": {},
   "source": [
    "Сравним распределение размеров гранул сырь на обучающей и тестовой выборках."
   ]
  },
  {
   "cell_type": "code",
   "execution_count": 12,
   "metadata": {},
   "outputs": [
    {
     "data": {
      "image/png": "[encoded data removed]",
      "text/plain": [
       "<Figure size 720x360 with 1 Axes>"
      ]
     },
     "metadata": {
      "needs_background": "light"
     },
     "output_type": "display_data"
    },
    {
     "data": {
      "image/png": "[encoded data removed]",
      "text/plain": [
       "<Figure size 720x360 with 1 Axes>"
      ]
     },
     "metadata": {
      "needs_background": "light"
     },
     "output_type": "display_data"
    }
   ],
   "source": [
    "plt.figure(figsize=(10, 5))\n",
    "df_train['rougher.input.feed_size'].plot.density(label = 'Гранулы на обучающей выборке')\n",
    "df_test['rougher.input.feed_size'].plot.density(label = 'Гранулы на тестовой выборке')\n",
    "plt.legend()\n",
    "plt.title('Размер гранул на этапе флотации')\n",
    "plt.ylabel('Размер гранул')\n",
    "plt.show()\n",
    "\n",
    "plt.figure(figsize=(10, 5))\n",
    "df_train['primary_cleaner.input.feed_size'].plot.density(label = 'Гранулы на обучающей выборке')\n",
    "df_test['primary_cleaner.input.feed_size'].plot.density(label = 'Гранулы на тестовой выборке')\n",
    "plt.legend()\n",
    "plt.title('Размер гранул на этапе первичной очистки')\n",
    "plt.ylabel('Размер гранул')\n",
    "plt.show()"
   ]
  },
  {
   "cell_type": "markdown",
   "metadata": {},
   "source": [
    "На этапе флотации размер гранул в выборках не сильно отличается, на графиках рспределние величин схоже и на тестовой и на обучающей выборках. Заметна большая разница в кол-ве данных в выборках."
   ]
  },
  {
   "cell_type": "markdown",
   "metadata": {},
   "source": [
    "Исследуем суммарную концентрацию всех веществ на разных стадиях: в сырье, в черновом и финальном концентратах."
   ]
  },
  {
   "cell_type": "code",
   "execution_count": 13,
   "metadata": {},
   "outputs": [
    {
     "data": {
      "image/png": "[encoded data removed]",
      "text/plain": [
       "<Figure size 720x360 with 1 Axes>"
      ]
     },
     "metadata": {
      "needs_background": "light"
     },
     "output_type": "display_data"
    }
   ],
   "source": [
    "def sum_columns(fist, second, third, fourth):\n",
    "    sum_result = df_full[[fist, second, third, fourth]].sum(axis = 1)\n",
    "    return sum_result\n",
    "\n",
    "rougher_input = sum_columns('rougher.input.feed_au', 'rougher.input.feed_ag', \\\n",
    "                        'rougher.input.feed_sol', 'rougher.input.feed_pb')\n",
    "rougher_output = sum_columns('rougher.output.concentrate_au', 'rougher.output.concentrate_ag', \\\n",
    "                         'rougher.output.concentrate_sol', 'rougher.output.concentrate_pb')\n",
    "primary_cleaner = sum_columns('primary_cleaner.output.concentrate_au', 'primary_cleaner.output.concentrate_ag', \\\n",
    "                          'primary_cleaner.output.concentrate_pb', 'primary_cleaner.output.concentrate_sol')\n",
    "final = sum_columns('final.output.concentrate_au', 'final.output.concentrate_ag', \\\n",
    "                'final.output.concentrate_sol', 'final.output.concentrate_pb')\n",
    "\n",
    "plt.figure(figsize=(10, 5))\n",
    "rougher_input.plot(kind = 'hist', bins = 100, label = 'Перед флотацией')\n",
    "rougher_output.plot(kind = 'hist', bins = 100, label = 'После флотации')\n",
    "primary_cleaner.plot(kind = 'hist', bins = 100, label = 'После первичной очитски')\n",
    "final.plot(kind = 'hist', bins = 100, label = 'Финальная концентрация')\n",
    "plt.grid()\n",
    "plt.legend()\n",
    "plt.title('Распределение количества металлов на разных этапах очистки')\n",
    "plt.show()"
   ]
  },
  {
   "cell_type": "markdown",
   "metadata": {},
   "source": [
    "На графике присутствуют выбросы у нулевого значения, что говорит о отсутствии элементов, такие значения можно удалить из таблицы. Концентрация металов увеличивается к финальному этапу. Распределение всех металов нормальное."
   ]
  },
  {
   "cell_type": "markdown",
   "metadata": {},
   "source": [
    "Уберём около нулевые значения из таблицы."
   ]
  },
  {
   "cell_type": "code",
   "execution_count": 14,
   "metadata": {},
   "outputs": [],
   "source": [
    "stages = ['final.output.concentrate_au', 'rougher.input.feed_ag', 'rougher.input.feed_sol',\\\n",
    "          'rougher.input.feed_pb', 'rougher.output.concentrate_au', 'rougher.output.concentrate_ag',\\\n",
    "          'rougher.output.concentrate_sol', 'rougher.output.concentrate_pb', 'primary_cleaner.output.concentrate_au',\\\n",
    "          'primary_cleaner.output.concentrate_ag', 'primary_cleaner.output.concentrate_sol', \\\n",
    "          'primary_cleaner.output.concentrate_pb', 'final.output.concentrate_au', 'final.output.concentrate_ag',\\\n",
    "          'final.output.concentrate_sol', 'final.output.concentrate_pb']\n",
    "\n",
    "for elem in stages:\n",
    "    df_full = df_full[df_full[elem] > 0.1]\n",
    "    \n",
    "for elem in stages:\n",
    "    df_train = df_train[df_train[elem] > 0.1]\n",
    "    \n",
    "#print(df_full.info())"
   ]
  },
  {
   "cell_type": "markdown",
   "metadata": {},
   "source": [
    "Проверим распределние."
   ]
  },
  {
   "cell_type": "code",
   "execution_count": 15,
   "metadata": {},
   "outputs": [
    {
     "data": {
      "image/png": "[encoded data removed]",
      "text/plain": [
       "<Figure size 720x360 with 1 Axes>"
      ]
     },
     "metadata": {
      "needs_background": "light"
     },
     "output_type": "display_data"
    }
   ],
   "source": [
    "rougher_input_two = sum_columns('rougher.input.feed_au', 'rougher.input.feed_ag', \\\n",
    "                        'rougher.input.feed_sol', 'rougher.input.feed_pb')\n",
    "rougher_output_two = sum_columns('rougher.output.concentrate_au', 'rougher.output.concentrate_ag', \\\n",
    "                         'rougher.output.concentrate_sol', 'rougher.output.concentrate_pb')\n",
    "primary_cleaner_two = sum_columns('primary_cleaner.output.concentrate_au', 'primary_cleaner.output.concentrate_ag', \\\n",
    "                          'primary_cleaner.output.concentrate_pb', 'primary_cleaner.output.concentrate_sol')\n",
    "final_two = sum_columns('final.output.concentrate_au', 'final.output.concentrate_ag', \\\n",
    "                'final.output.concentrate_sol', 'final.output.concentrate_pb')\n",
    "\n",
    "plt.figure(figsize=(10, 5))\n",
    "rougher_input_two.plot(kind = 'hist', bins = 100, label = 'Перед флотацией')\n",
    "rougher_output_two.plot(kind = 'hist', bins = 100, label = 'После флотации')\n",
    "primary_cleaner_two.plot(kind = 'hist', bins = 100, label = 'После первичной очитски')\n",
    "final_two.plot(kind = 'hist', bins = 100, label = 'Финальная концентрация')\n",
    "plt.grid()\n",
    "plt.legend()\n",
    "plt.title('Распределение количества металлов на разных этапах очистки')\n",
    "plt.show()"
   ]
  },
  {
   "cell_type": "markdown",
   "metadata": {},
   "source": [
    "## Модель"
   ]
  },
  {
   "cell_type": "markdown",
   "metadata": {},
   "source": [
    "Создадим функцию вычислени метрики качества sMAPE.\n",
    "\n",
    "sMAPE вычисляется по формуле:\n",
    "\n",
    "$$ sMAPE = \\frac{1}{N} * \\sum_{i=1}^{N}\\frac{|y_i - \\hat{y_i}|}{(|y_i| + |\\hat{y_i}|) * 0.5} * 100 \\% $$\n",
    "\n",
    "где:\n",
    "* $$ y_i $$ - значение целевого признака для объекта с порядковым номером i в выборке, на которой измеряетс качество;\n",
    "* $$ \\hat{y_i} $$ - значение предсказания для объекта с порядковым номером i, например в тестовой выборке;\n",
    "* $$ N $$ - количество элементов в выборке.\n"
   ]
  },
  {
   "cell_type": "code",
   "execution_count": 16,
   "metadata": {},
   "outputs": [],
   "source": [
    "def smape(target_true, target_prediction):\n",
    "    n = np.abs(target_true - target_prediction)\n",
    "    d = (np.abs(target_true) + np.abs(target_prediction)) / 2\n",
    "    return 1 / len(target_true) * np.sum(n / d) * 100\n",
    "\n",
    "\n",
    "def final_smape(smape_one, smape_two):\n",
    "    return 0.25 * smape_one + 0.75 * smape_two"
   ]
  },
  {
   "cell_type": "markdown",
   "metadata": {},
   "source": [
    "Подговим данные для обучения моделей."
   ]
  },
  {
   "cell_type": "markdown",
   "metadata": {},
   "source": [
    "В тестовой выборке отсутствуют целевые признаки rougher.output.recovery и final.output.recovery. Добавим их в тестовую выборку из df_full. Признаки необходимы для расчета иетрики качества."
   ]
  },
  {
   "cell_type": "code",
   "execution_count": 17,
   "metadata": {},
   "outputs": [],
   "source": [
    "df_test = df_test.merge(df_full.loc[:, ['rougher.output.recovery','final.output.recovery']], on='date')\n",
    "\n",
    "delete = not_in_test - set(['rougher.output.recovery','final.output.recovery'])\n",
    "\n",
    "df_train = df_train.drop(columns = delete, axis = 1)"
   ]
  },
  {
   "cell_type": "code",
   "execution_count": 18,
   "metadata": {},
   "outputs": [
    {
     "name": "stdout",
     "output_type": "stream",
     "text": [
      "features_train_rougher: (13597, 52)\n",
      "target_train_rougher: (13597,) \n",
      "\n",
      "features_train_final: (13597, 52)\n",
      "target_train_final (13597,) \n",
      "\n"
     ]
    }
   ],
   "source": [
    "#создадим выборки признаков и таргетов для rougher используя обучающую выборку \n",
    "features_train_rougher = df_train.drop(['rougher.output.recovery','final.output.recovery'], axis=1)\n",
    "target_train_rougher = df_train['rougher.output.recovery']\n",
    "\n",
    "#создадим выборки признаков и таргетов для final используя обучающую выборку\n",
    "features_train_final = features_train_rougher\n",
    "target_train_final = df_train['final.output.recovery']\n",
    "\n",
    "print('features_train_rougher:', features_train_rougher.shape)\n",
    "print('target_train_rougher:', target_train_rougher.shape, '\\n')\n",
    "\n",
    "print('features_train_final:', features_train_final.shape)\n",
    "print('target_train_final', target_train_final.shape, '\\n')"
   ]
  },
  {
   "cell_type": "code",
   "execution_count": 19,
   "metadata": {},
   "outputs": [],
   "source": [
    "features_test = df_test.drop(['rougher.output.recovery','final.output.recovery'], axis=1)\n",
    "target_test_rougher = df_test['rougher.output.recovery']\n",
    "target_test_final = df_test['final.output.recovery']"
   ]
  },
  {
   "cell_type": "code",
   "execution_count": 20,
   "metadata": {},
   "outputs": [
    {
     "name": "stdout",
     "output_type": "stream",
     "text": [
      "features_test: (5123, 52)\n",
      "target_test_rougher: (5123,)\n",
      "target_test_final: (5123,)\n"
     ]
    }
   ],
   "source": [
    "print('features_test:', features_test.shape)\n",
    "print('target_test_rougher:', target_test_rougher.shape)\n",
    "print('target_test_final:', target_test_final.shape)"
   ]
  },
  {
   "cell_type": "markdown",
   "metadata": {},
   "source": [
    "Обучение для rougher."
   ]
  },
  {
   "cell_type": "code",
   "execution_count": 21,
   "metadata": {},
   "outputs": [],
   "source": [
    "smape_scorer = make_scorer(smape, greater_is_better=False)"
   ]
  },
  {
   "cell_type": "code",
   "execution_count": 22,
   "metadata": {},
   "outputs": [
    {
     "name": "stdout",
     "output_type": "stream",
     "text": [
      "SMAPE: 7.256935763419259\n",
      "CPU times: user 528 ms, sys: 827 ms, total: 1.35 s\n",
      "Wall time: 1.29 s\n"
     ]
    }
   ],
   "source": [
    "%%time \n",
    "\n",
    "model_one = LinearRegression()\n",
    "result_one = cross_val_score(model_one, features_train_rougher, target_train_rougher, scoring = smape_scorer, cv = 5)\n",
    "\n",
    "result_one_rougher_train = result_one.mean() * (-1)\n",
    "print('SMAPE:', result_one_rougher_train)"
   ]
  },
  {
   "cell_type": "markdown",
   "metadata": {},
   "source": [
    "Обучение для final."
   ]
  },
  {
   "cell_type": "code",
   "execution_count": 23,
   "metadata": {},
   "outputs": [
    {
     "name": "stdout",
     "output_type": "stream",
     "text": [
      "SMAPE: 11.297664856062742\n"
     ]
    }
   ],
   "source": [
    "model_two = LinearRegression()\n",
    "result_two = cross_val_score(model_two, features_train_final, target_train_final, scoring = smape_scorer, cv = 5)\n",
    "\n",
    "result_two_final_train = result_two.mean() * (-1)\n",
    "print('SMAPE:', result_two_final_train)"
   ]
  },
  {
   "cell_type": "markdown",
   "metadata": {},
   "source": [
    "Обучение второй модели."
   ]
  },
  {
   "cell_type": "code",
   "execution_count": 24,
   "metadata": {},
   "outputs": [
    {
     "data": {
      "text/plain": [
       "\"\\n%%time\\n\\nparam_grid = {'n_estimators': range (10, 100, 30),\\n              'max_depth': range (4,13, 2),}\\n \\nmodel_4 = RandomForestRegressor(random_state=131296)\\nsearch_two = GridSearchCV(model_4, param_grid, cv=5, scoring=smape_scorer)\\nsearch_two.fit(features_train_final, target_train_final)\\nprint(-search_two.best_score_)\\n\""
      ]
     },
     "execution_count": 24,
     "metadata": {},
     "output_type": "execute_result"
    }
   ],
   "source": [
    "'''\n",
    "%%time\n",
    "\n",
    "param_grid = {'n_estimators': range (10, 100, 30),\n",
    "              'max_depth': range (4,13, 2),}\n",
    " \n",
    "model_4 = RandomForestRegressor(random_state=131296)\n",
    "search_two = GridSearchCV(model_4, param_grid, cv=5, scoring=smape_scorer)\n",
    "search_two.fit(features_train_final, target_train_final)\n",
    "print(-search_two.best_score_)\n",
    "'''"
   ]
  },
  {
   "cell_type": "markdown",
   "metadata": {},
   "source": [
    "Обучение для rougher."
   ]
  },
  {
   "cell_type": "code",
   "execution_count": 25,
   "metadata": {},
   "outputs": [
    {
     "name": "stdout",
     "output_type": "stream",
     "text": [
      "SMAPE: 6.6596518345563\n",
      "CPU times: user 6.61 s, sys: 16.3 ms, total: 6.62 s\n",
      "Wall time: 6.62 s\n"
     ]
    }
   ],
   "source": [
    "%%time\n",
    "\n",
    "state = np.random.RandomState(12345)\n",
    "\n",
    "model_three = RandomForestRegressor(n_estimators=10, max_depth = 4, random_state=state)\n",
    "smape_three = cross_val_score(model_three, features_train_rougher, target_train_rougher, scoring = smape_scorer, cv =5)\n",
    "\n",
    "result_smape_three_rougher = smape_three.mean() * (-1)\n",
    "\n",
    "print('SMAPE:', result_smape_three_rougher)"
   ]
  },
  {
   "cell_type": "markdown",
   "metadata": {},
   "source": [
    "Обучение для final."
   ]
  },
  {
   "cell_type": "code",
   "execution_count": 26,
   "metadata": {},
   "outputs": [
    {
     "name": "stdout",
     "output_type": "stream",
     "text": [
      "SMAPE: 9.273166237869894\n",
      "CPU times: user 6.76 s, sys: 12 ms, total: 6.77 s\n",
      "Wall time: 6.78 s\n"
     ]
    }
   ],
   "source": [
    "%%time\n",
    "\n",
    "state = np.random.RandomState(12345)\n",
    "\n",
    "model_four = RandomForestRegressor(n_estimators=10, max_depth = 4, random_state=state)\n",
    "smape_four = cross_val_score(model_four, features_train_final, target_train_final, scoring = smape_scorer, cv =5)\n",
    "\n",
    "result_smape_four_final = smape_four.mean() * (-1)\n",
    "\n",
    "print('SMAPE:', result_smape_four_final)"
   ]
  },
  {
   "cell_type": "code",
   "execution_count": 27,
   "metadata": {},
   "outputs": [
    {
     "name": "stdout",
     "output_type": "stream",
     "text": [
      "Финальный SMAPE для линеной регресии: 10.287482582901871\n",
      "Финальный SMAPE для случайного леса: 8.619787637041496\n"
     ]
    }
   ],
   "source": [
    "print('Финальный SMAPE для линеной регресии:', final_smape(result_one_rougher_train, result_two_final_train))\n",
    "print('Финальный SMAPE для случайного леса:', final_smape(result_smape_three_rougher, result_smape_four_final))"
   ]
  },
  {
   "cell_type": "markdown",
   "metadata": {},
   "source": [
    "Лучшая модель RandomForestRegressor.\n",
    "\n",
    "Протестируем модель на тестовой выборке."
   ]
  },
  {
   "cell_type": "code",
   "execution_count": 28,
   "metadata": {},
   "outputs": [],
   "source": [
    "model_rougher = RandomForestRegressor(n_estimators = 10, max_depth = 4, random_state = state)\n",
    "model_rougher.fit(features_train_rougher, target_train_rougher)\n",
    "predicted_rougher = model_rougher.predict(features_test)\n",
    "smape_rougher = smape(target_test_rougher, predicted_rougher)"
   ]
  },
  {
   "cell_type": "code",
   "execution_count": 29,
   "metadata": {},
   "outputs": [],
   "source": [
    "model_final = RandomForestRegressor(n_estimators = 10, max_depth = 4, random_state = state)\n",
    "model_final.fit(features_train_final, target_train_final)\n",
    "predicted_final = model_final.predict(features_test)\n",
    "smape_final = smape(target_test_final, predicted_final)"
   ]
  },
  {
   "cell_type": "code",
   "execution_count": 30,
   "metadata": {},
   "outputs": [
    {
     "name": "stdout",
     "output_type": "stream",
     "text": [
      "7.447944330052415\n"
     ]
    }
   ],
   "source": [
    "smape_all = final_smape(smape_rougher, smape_final)\n",
    "\n",
    "print(smape_all)"
   ]
  },
  {
   "cell_type": "markdown",
   "metadata": {},
   "source": [
    "Проверим модель на адекватность. Для этого обучим константную модель и сравним метрику с лучшей моделью."
   ]
  },
  {
   "cell_type": "code",
   "execution_count": 31,
   "metadata": {},
   "outputs": [
    {
     "name": "stdout",
     "output_type": "stream",
     "text": [
      "7.779503190711726\n"
     ]
    }
   ],
   "source": [
    "dummy_rougher = DummyRegressor(strategy=\"mean\")\n",
    "dummy_rougher.fit(features_train_rougher, target_train_rougher)\n",
    "predicted_rougher = dummy_rougher.predict(features_test)\n",
    "smape_rougher = smape(target_test_rougher, predicted_rougher)\n",
    "\n",
    "dummy_final = DummyRegressor(strategy=\"mean\")\n",
    "dummy_final.fit(features_train_final, target_train_final)\n",
    "predicted_final = dummy_final.predict(features_test)\n",
    "smape_final = smape(target_test_final, predicted_final)\n",
    "\n",
    "final_smape_dummy = final_smape(smape_rougher, smape_final)\n",
    "print(final_smape_dummy)"
   ]
  },
  {
   "cell_type": "markdown",
   "metadata": {},
   "source": [
    "**Вывод:**\n",
    "\n",
    "\n",
    "Для подготвки обучения моделей с предоставленными данными были проведены следующие действи: была проверена правильность эффективности обогощаения, для этого посчитали значение MAE между полученными значениями по формуле и значением признака, получил положительный результат. В данных присутствовали незначительные пропуски их заменили на среднее значение в этих же столбцах, для столбца с пропусками данных более 11% заменили пропущенные значения соседними. \n",
    "\n",
    "В процессе анализа данных проверили правильность соблюдения технологического процесса и распределение величин от этапа  к этапу. Были построены графики по которым можно сделать вывод, что технолгия не неарушена.\n",
    "\n",
    "Для обучения были выбраны две модели LinearRegression и RandomForestRegressor, используя метрику качества была выбрана лучшая модель - RandomForestRegressor, с показателем smape равным 8.619787637041496. Обучив лучшую модель и проверив её на тестовой выборке получили значение smape равное 7.447944330052415. Для проверки модели на адекватность использовал константную модель DummyRegressor, обучив её получил значение 7.779503190711726. Сравнив значения на тестовой модели и константной можно сделать выод что полученная модель адекватна, так как её метрика не сильно отличается от метрики полученной на константной модели."
   ]
  }
 ],
 "metadata": {
  "ExecuteTimeLog": [
   {
    "duration": 397,
    "start_time": "2022-10-20T09:32:38.446Z"
   },
   {
    "duration": 103,
    "start_time": "2022-10-20T09:33:59.365Z"
   },
   {
    "duration": 833,
    "start_time": "2022-10-20T09:34:29.666Z"
   },
   {
    "duration": 269,
    "start_time": "2022-10-20T09:35:24.613Z"
   },
   {
    "duration": 502,
    "start_time": "2022-10-20T09:35:29.240Z"
   },
   {
    "duration": 261,
    "start_time": "2022-10-20T09:35:37.624Z"
   },
   {
    "duration": 899,
    "start_time": "2022-10-20T09:37:03.050Z"
   },
   {
    "duration": 674,
    "start_time": "2022-10-20T09:37:26.750Z"
   },
   {
    "duration": 65,
    "start_time": "2022-10-20T09:38:37.070Z"
   },
   {
    "duration": 346,
    "start_time": "2022-10-20T19:03:16.132Z"
   },
   {
    "duration": 1440,
    "start_time": "2022-10-20T19:03:16.743Z"
   },
   {
    "duration": 46,
    "start_time": "2022-10-20T19:03:25.419Z"
   },
   {
    "duration": 9,
    "start_time": "2022-10-20T19:14:46.772Z"
   },
   {
    "duration": 623,
    "start_time": "2022-10-20T19:16:28.735Z"
   },
   {
    "duration": 1051,
    "start_time": "2022-10-20T19:16:37.892Z"
   },
   {
    "duration": 649,
    "start_time": "2022-10-20T19:16:38.945Z"
   },
   {
    "duration": 10,
    "start_time": "2022-10-20T19:16:39.596Z"
   },
   {
    "duration": 1143,
    "start_time": "2022-10-21T09:23:45.532Z"
   },
   {
    "duration": 1426,
    "start_time": "2022-10-21T09:23:46.677Z"
   },
   {
    "duration": 7,
    "start_time": "2022-10-21T09:23:48.104Z"
   },
   {
    "duration": 213,
    "start_time": "2022-10-21T09:37:40.942Z"
   },
   {
    "duration": 259,
    "start_time": "2022-10-21T09:37:48.793Z"
   },
   {
    "duration": 182,
    "start_time": "2022-10-21T09:37:51.242Z"
   },
   {
    "duration": 5,
    "start_time": "2022-10-21T09:44:56.168Z"
   },
   {
    "duration": 4,
    "start_time": "2022-10-21T09:45:01.146Z"
   },
   {
    "duration": 12,
    "start_time": "2022-10-21T09:45:51.659Z"
   },
   {
    "duration": 46,
    "start_time": "2022-10-21T09:52:49.534Z"
   },
   {
    "duration": 4,
    "start_time": "2022-10-21T09:52:54.733Z"
   },
   {
    "duration": 5,
    "start_time": "2022-10-21T09:53:46.300Z"
   },
   {
    "duration": 1091,
    "start_time": "2022-10-21T09:53:54.477Z"
   },
   {
    "duration": 665,
    "start_time": "2022-10-21T09:53:55.569Z"
   },
   {
    "duration": 8,
    "start_time": "2022-10-21T09:53:56.235Z"
   },
   {
    "duration": 4,
    "start_time": "2022-10-21T09:53:56.245Z"
   },
   {
    "duration": 4,
    "start_time": "2022-10-21T09:54:25.627Z"
   },
   {
    "duration": 5,
    "start_time": "2022-10-21T09:55:46.026Z"
   },
   {
    "duration": 4,
    "start_time": "2022-10-21T09:56:07.139Z"
   },
   {
    "duration": 117,
    "start_time": "2022-10-21T09:57:13.765Z"
   },
   {
    "duration": 13,
    "start_time": "2022-10-21T09:57:20.927Z"
   },
   {
    "duration": 140,
    "start_time": "2022-10-21T09:57:46.028Z"
   },
   {
    "duration": 12,
    "start_time": "2022-10-21T09:57:48.165Z"
   },
   {
    "duration": 6,
    "start_time": "2022-10-21T09:57:51.242Z"
   },
   {
    "duration": 4,
    "start_time": "2022-10-21T09:58:27.865Z"
   },
   {
    "duration": 3,
    "start_time": "2022-10-21T09:58:34.666Z"
   },
   {
    "duration": 9,
    "start_time": "2022-10-21T10:03:27.274Z"
   },
   {
    "duration": 4,
    "start_time": "2022-10-21T10:03:36.913Z"
   },
   {
    "duration": 6,
    "start_time": "2022-10-21T11:25:46.098Z"
   },
   {
    "duration": 5,
    "start_time": "2022-10-21T11:25:47.329Z"
   },
   {
    "duration": 7,
    "start_time": "2022-10-21T11:52:25.912Z"
   },
   {
    "duration": 10,
    "start_time": "2022-10-21T11:52:36.535Z"
   },
   {
    "duration": 26,
    "start_time": "2022-10-21T11:52:51.549Z"
   },
   {
    "duration": 8,
    "start_time": "2022-10-21T11:52:58.018Z"
   },
   {
    "duration": 9,
    "start_time": "2022-10-21T11:53:07.140Z"
   },
   {
    "duration": 9,
    "start_time": "2022-10-21T11:54:54.225Z"
   },
   {
    "duration": 20,
    "start_time": "2022-10-21T11:55:11.155Z"
   },
   {
    "duration": 1063,
    "start_time": "2022-10-21T11:55:22.206Z"
   },
   {
    "duration": 727,
    "start_time": "2022-10-21T11:55:23.271Z"
   },
   {
    "duration": 12,
    "start_time": "2022-10-21T11:55:24.000Z"
   },
   {
    "duration": 15,
    "start_time": "2022-10-21T11:55:24.013Z"
   },
   {
    "duration": 43,
    "start_time": "2022-10-21T11:55:24.030Z"
   },
   {
    "duration": 23,
    "start_time": "2022-10-21T11:55:31.113Z"
   },
   {
    "duration": 75,
    "start_time": "2022-10-21T11:57:13.314Z"
   },
   {
    "duration": 107,
    "start_time": "2022-10-21T11:57:55.164Z"
   },
   {
    "duration": 1048,
    "start_time": "2022-10-21T11:57:59.951Z"
   },
   {
    "duration": 708,
    "start_time": "2022-10-21T11:58:01.001Z"
   },
   {
    "duration": 7,
    "start_time": "2022-10-21T11:58:01.711Z"
   },
   {
    "duration": 25,
    "start_time": "2022-10-21T11:58:01.720Z"
   },
   {
    "duration": 55,
    "start_time": "2022-10-21T11:58:01.747Z"
   },
   {
    "duration": 1068,
    "start_time": "2022-10-21T11:58:29.764Z"
   },
   {
    "duration": 689,
    "start_time": "2022-10-21T11:58:30.834Z"
   },
   {
    "duration": 7,
    "start_time": "2022-10-21T11:58:31.525Z"
   },
   {
    "duration": 108,
    "start_time": "2022-10-21T11:58:31.533Z"
   },
   {
    "duration": 122,
    "start_time": "2022-10-21T11:58:31.643Z"
   },
   {
    "duration": 12,
    "start_time": "2022-10-21T12:00:24.615Z"
   },
   {
    "duration": 15,
    "start_time": "2022-10-21T12:00:47.140Z"
   },
   {
    "duration": 1033,
    "start_time": "2022-10-21T12:01:36.319Z"
   },
   {
    "duration": 667,
    "start_time": "2022-10-21T12:01:37.354Z"
   },
   {
    "duration": 8,
    "start_time": "2022-10-21T12:01:38.022Z"
   },
   {
    "duration": 66,
    "start_time": "2022-10-21T12:01:38.032Z"
   },
   {
    "duration": 88,
    "start_time": "2022-10-21T12:01:38.099Z"
   },
   {
    "duration": 16,
    "start_time": "2022-10-21T12:01:38.189Z"
   },
   {
    "duration": 8,
    "start_time": "2022-10-21T12:03:00.790Z"
   },
   {
    "duration": 18,
    "start_time": "2022-10-21T12:03:05.564Z"
   },
   {
    "duration": 56,
    "start_time": "2022-10-21T13:18:50.954Z"
   },
   {
    "duration": 51,
    "start_time": "2022-10-21T13:18:54.873Z"
   },
   {
    "duration": 1095,
    "start_time": "2022-10-21T13:19:06.962Z"
   },
   {
    "duration": 760,
    "start_time": "2022-10-21T13:19:08.059Z"
   },
   {
    "duration": 12,
    "start_time": "2022-10-21T13:19:08.821Z"
   },
   {
    "duration": 4,
    "start_time": "2022-10-21T13:19:08.835Z"
   },
   {
    "duration": 45,
    "start_time": "2022-10-21T13:19:08.841Z"
   },
   {
    "duration": 55,
    "start_time": "2022-10-21T13:19:08.908Z"
   },
   {
    "duration": 44,
    "start_time": "2022-10-21T13:19:40.555Z"
   },
   {
    "duration": 45,
    "start_time": "2022-10-21T13:19:50.019Z"
   },
   {
    "duration": 1096,
    "start_time": "2022-10-21T13:20:27.928Z"
   },
   {
    "duration": 737,
    "start_time": "2022-10-21T13:20:29.026Z"
   },
   {
    "duration": 8,
    "start_time": "2022-10-21T13:20:29.765Z"
   },
   {
    "duration": 5,
    "start_time": "2022-10-21T13:20:29.774Z"
   },
   {
    "duration": 47,
    "start_time": "2022-10-21T13:20:29.781Z"
   },
   {
    "duration": 38,
    "start_time": "2022-10-21T13:20:29.830Z"
   },
   {
    "duration": 60,
    "start_time": "2022-10-21T13:20:29.870Z"
   },
   {
    "duration": 41,
    "start_time": "2022-10-21T13:27:39.341Z"
   },
   {
    "duration": 93,
    "start_time": "2022-10-21T13:34:27.685Z"
   },
   {
    "duration": 108,
    "start_time": "2022-10-21T13:34:42.295Z"
   },
   {
    "duration": 91,
    "start_time": "2022-10-21T13:34:50.434Z"
   },
   {
    "duration": 1034,
    "start_time": "2022-10-21T13:35:05.064Z"
   },
   {
    "duration": 650,
    "start_time": "2022-10-21T13:35:06.101Z"
   },
   {
    "duration": 7,
    "start_time": "2022-10-21T13:35:06.753Z"
   },
   {
    "duration": 6,
    "start_time": "2022-10-21T13:35:06.762Z"
   },
   {
    "duration": 51,
    "start_time": "2022-10-21T13:35:06.769Z"
   },
   {
    "duration": 109,
    "start_time": "2022-10-21T13:35:06.823Z"
   },
   {
    "duration": 424,
    "start_time": "2022-10-21T14:03:08.997Z"
   },
   {
    "duration": 1319,
    "start_time": "2022-10-21T14:03:17.028Z"
   },
   {
    "duration": 712,
    "start_time": "2022-10-21T14:03:18.349Z"
   },
   {
    "duration": 7,
    "start_time": "2022-10-21T14:03:19.062Z"
   },
   {
    "duration": 13,
    "start_time": "2022-10-21T14:03:19.071Z"
   },
   {
    "duration": 49,
    "start_time": "2022-10-21T14:03:19.085Z"
   },
   {
    "duration": 91,
    "start_time": "2022-10-21T14:03:19.136Z"
   },
   {
    "duration": 6,
    "start_time": "2022-10-21T14:03:19.229Z"
   },
   {
    "duration": 213,
    "start_time": "2022-10-21T14:03:49.498Z"
   },
   {
    "duration": 105,
    "start_time": "2022-10-21T14:06:24.236Z"
   },
   {
    "duration": 101,
    "start_time": "2022-10-21T14:06:42.336Z"
   },
   {
    "duration": 129,
    "start_time": "2022-10-21T14:06:52.638Z"
   },
   {
    "duration": 104,
    "start_time": "2022-10-21T14:07:00.588Z"
   },
   {
    "duration": 110,
    "start_time": "2022-10-21T14:07:23.761Z"
   },
   {
    "duration": 146,
    "start_time": "2022-10-21T14:07:55.650Z"
   },
   {
    "duration": 108,
    "start_time": "2022-10-21T14:08:04.812Z"
   },
   {
    "duration": 113,
    "start_time": "2022-10-21T14:08:13.988Z"
   },
   {
    "duration": 101,
    "start_time": "2022-10-21T14:08:49.463Z"
   },
   {
    "duration": 116,
    "start_time": "2022-10-21T14:08:56.051Z"
   },
   {
    "duration": 112,
    "start_time": "2022-10-21T14:10:30.487Z"
   },
   {
    "duration": 351,
    "start_time": "2022-10-21T14:16:32.231Z"
   },
   {
    "duration": 429,
    "start_time": "2022-10-21T14:19:59.909Z"
   },
   {
    "duration": 118,
    "start_time": "2022-10-21T14:21:12.461Z"
   },
   {
    "duration": 408,
    "start_time": "2022-10-21T14:21:17.201Z"
   },
   {
    "duration": 422,
    "start_time": "2022-10-21T14:21:27.135Z"
   },
   {
    "duration": 47,
    "start_time": "2022-10-21T14:22:52.808Z"
   },
   {
    "duration": 422,
    "start_time": "2022-10-21T14:22:57.973Z"
   },
   {
    "duration": 498,
    "start_time": "2022-10-21T14:23:15.812Z"
   },
   {
    "duration": 548,
    "start_time": "2022-10-21T14:24:52.613Z"
   },
   {
    "duration": 153,
    "start_time": "2022-10-21T14:25:13.848Z"
   },
   {
    "duration": 132,
    "start_time": "2022-10-21T15:30:11.456Z"
   },
   {
    "duration": 201,
    "start_time": "2022-10-21T15:30:19.430Z"
   },
   {
    "duration": 1273,
    "start_time": "2022-10-21T15:30:25.258Z"
   },
   {
    "duration": 12160,
    "start_time": "2022-10-21T15:30:32.956Z"
   },
   {
    "duration": 2392,
    "start_time": "2022-10-21T15:31:58.095Z"
   },
   {
    "duration": 1288,
    "start_time": "2022-10-21T15:32:06.897Z"
   },
   {
    "duration": 234,
    "start_time": "2022-10-21T15:32:44.007Z"
   },
   {
    "duration": 600,
    "start_time": "2022-10-21T15:34:14.645Z"
   },
   {
    "duration": 660,
    "start_time": "2022-10-21T15:35:21.371Z"
   },
   {
    "duration": 734,
    "start_time": "2022-10-21T15:36:24.960Z"
   },
   {
    "duration": 669,
    "start_time": "2022-10-21T15:37:03.485Z"
   },
   {
    "duration": 1001,
    "start_time": "2022-10-21T16:28:16.111Z"
   },
   {
    "duration": 991,
    "start_time": "2022-10-21T18:16:50.567Z"
   },
   {
    "duration": 1089,
    "start_time": "2022-10-21T18:17:43.770Z"
   },
   {
    "duration": 1140,
    "start_time": "2022-10-21T18:18:05.106Z"
   },
   {
    "duration": 906,
    "start_time": "2022-10-21T18:18:44.342Z"
   },
   {
    "duration": 823,
    "start_time": "2022-10-21T18:22:17.933Z"
   },
   {
    "duration": 1395,
    "start_time": "2022-10-22T08:43:50.036Z"
   },
   {
    "duration": 3223,
    "start_time": "2022-10-22T08:43:51.433Z"
   },
   {
    "duration": 9,
    "start_time": "2022-10-22T08:43:54.658Z"
   },
   {
    "duration": 4,
    "start_time": "2022-10-22T08:43:54.669Z"
   },
   {
    "duration": 47,
    "start_time": "2022-10-22T08:43:54.674Z"
   },
   {
    "duration": 102,
    "start_time": "2022-10-22T08:43:54.723Z"
   },
   {
    "duration": 153,
    "start_time": "2022-10-22T08:43:54.827Z"
   },
   {
    "duration": 889,
    "start_time": "2022-10-22T08:43:54.982Z"
   },
   {
    "duration": 3,
    "start_time": "2022-10-22T08:43:55.873Z"
   },
   {
    "duration": 1236,
    "start_time": "2022-10-22T08:44:14.074Z"
   },
   {
    "duration": 645,
    "start_time": "2022-10-22T08:44:15.312Z"
   },
   {
    "duration": 9,
    "start_time": "2022-10-22T08:44:15.959Z"
   },
   {
    "duration": 4,
    "start_time": "2022-10-22T08:44:15.970Z"
   },
   {
    "duration": 58,
    "start_time": "2022-10-22T08:44:15.977Z"
   },
   {
    "duration": 104,
    "start_time": "2022-10-22T08:44:16.036Z"
   },
   {
    "duration": 166,
    "start_time": "2022-10-22T08:44:16.141Z"
   },
   {
    "duration": 932,
    "start_time": "2022-10-22T08:44:16.309Z"
   },
   {
    "duration": 4,
    "start_time": "2022-10-22T08:44:17.242Z"
   },
   {
    "duration": 1297,
    "start_time": "2022-10-22T08:44:52.391Z"
   },
   {
    "duration": 679,
    "start_time": "2022-10-22T08:44:53.691Z"
   },
   {
    "duration": 8,
    "start_time": "2022-10-22T08:44:54.371Z"
   },
   {
    "duration": 4,
    "start_time": "2022-10-22T08:44:54.381Z"
   },
   {
    "duration": 54,
    "start_time": "2022-10-22T08:44:54.387Z"
   },
   {
    "duration": 120,
    "start_time": "2022-10-22T08:44:54.442Z"
   },
   {
    "duration": 150,
    "start_time": "2022-10-22T08:44:54.565Z"
   },
   {
    "duration": 913,
    "start_time": "2022-10-22T08:44:54.717Z"
   },
   {
    "duration": 3,
    "start_time": "2022-10-22T08:44:55.632Z"
   },
   {
    "duration": 226,
    "start_time": "2022-10-22T08:57:57.440Z"
   },
   {
    "duration": 87,
    "start_time": "2022-10-22T08:58:06.677Z"
   },
   {
    "duration": 123,
    "start_time": "2022-10-22T08:59:01.299Z"
   },
   {
    "duration": 115,
    "start_time": "2022-10-22T08:59:09.959Z"
   },
   {
    "duration": 100,
    "start_time": "2022-10-22T08:59:15.868Z"
   },
   {
    "duration": 101,
    "start_time": "2022-10-22T08:59:21.631Z"
   },
   {
    "duration": 83,
    "start_time": "2022-10-22T08:59:24.868Z"
   },
   {
    "duration": 99,
    "start_time": "2022-10-22T08:59:29.330Z"
   },
   {
    "duration": 99,
    "start_time": "2022-10-22T08:59:31.908Z"
   },
   {
    "duration": 101,
    "start_time": "2022-10-22T08:59:38.521Z"
   },
   {
    "duration": 91,
    "start_time": "2022-10-22T08:59:41.220Z"
   },
   {
    "duration": 119,
    "start_time": "2022-10-22T08:59:45.308Z"
   },
   {
    "duration": 187,
    "start_time": "2022-10-22T09:00:07.711Z"
   },
   {
    "duration": 96,
    "start_time": "2022-10-22T09:00:10.988Z"
   },
   {
    "duration": 107,
    "start_time": "2022-10-22T09:00:18.866Z"
   },
   {
    "duration": 93,
    "start_time": "2022-10-22T09:00:23.296Z"
   },
   {
    "duration": 93,
    "start_time": "2022-10-22T09:00:26.505Z"
   },
   {
    "duration": 178,
    "start_time": "2022-10-22T09:03:49.381Z"
   },
   {
    "duration": 182,
    "start_time": "2022-10-22T09:04:08.831Z"
   },
   {
    "duration": 183,
    "start_time": "2022-10-22T09:26:42.968Z"
   },
   {
    "duration": 237,
    "start_time": "2022-10-22T09:33:57.198Z"
   },
   {
    "duration": 319,
    "start_time": "2022-10-22T09:40:12.976Z"
   },
   {
    "duration": 228,
    "start_time": "2022-10-22T09:40:40.488Z"
   },
   {
    "duration": 282,
    "start_time": "2022-10-22T09:41:57.839Z"
   },
   {
    "duration": 250,
    "start_time": "2022-10-22T09:42:51.801Z"
   },
   {
    "duration": 292,
    "start_time": "2022-10-22T09:42:57.149Z"
   },
   {
    "duration": 331,
    "start_time": "2022-10-22T09:43:02.118Z"
   },
   {
    "duration": 249,
    "start_time": "2022-10-22T09:43:10.690Z"
   },
   {
    "duration": 1208,
    "start_time": "2022-10-22T09:59:42.946Z"
   },
   {
    "duration": 668,
    "start_time": "2022-10-22T09:59:44.156Z"
   },
   {
    "duration": 7,
    "start_time": "2022-10-22T09:59:44.826Z"
   },
   {
    "duration": 7,
    "start_time": "2022-10-22T09:59:44.836Z"
   },
   {
    "duration": 41,
    "start_time": "2022-10-22T09:59:44.845Z"
   },
   {
    "duration": 108,
    "start_time": "2022-10-22T09:59:44.887Z"
   },
   {
    "duration": 172,
    "start_time": "2022-10-22T09:59:45.006Z"
   },
   {
    "duration": 923,
    "start_time": "2022-10-22T09:59:45.180Z"
   },
   {
    "duration": 21545,
    "start_time": "2022-10-22T09:59:46.104Z"
   },
   {
    "duration": 0,
    "start_time": "2022-10-22T10:00:07.651Z"
   },
   {
    "duration": 496,
    "start_time": "2022-10-22T10:00:19.598Z"
   },
   {
    "duration": 489,
    "start_time": "2022-10-22T10:03:03.373Z"
   },
   {
    "duration": 1376,
    "start_time": "2022-10-22T10:04:12.459Z"
   },
   {
    "duration": 884,
    "start_time": "2022-10-22T10:04:25.537Z"
   },
   {
    "duration": 1026,
    "start_time": "2022-10-22T10:06:43.297Z"
   },
   {
    "duration": 869,
    "start_time": "2022-10-22T10:07:34.612Z"
   },
   {
    "duration": 901,
    "start_time": "2022-10-22T10:07:49.116Z"
   },
   {
    "duration": 2434,
    "start_time": "2022-10-22T10:08:03.276Z"
   },
   {
    "duration": 876,
    "start_time": "2022-10-22T10:08:26.151Z"
   },
   {
    "duration": 4,
    "start_time": "2022-10-22T10:17:53.337Z"
   },
   {
    "duration": 1058,
    "start_time": "2022-10-22T10:18:03.605Z"
   },
   {
    "duration": 7,
    "start_time": "2022-10-22T10:18:16.218Z"
   },
   {
    "duration": 7,
    "start_time": "2022-10-22T10:18:27.417Z"
   },
   {
    "duration": 6,
    "start_time": "2022-10-22T10:18:33.393Z"
   },
   {
    "duration": 1082,
    "start_time": "2022-10-22T10:18:48.534Z"
   },
   {
    "duration": 12,
    "start_time": "2022-10-22T10:18:56.219Z"
   },
   {
    "duration": 7,
    "start_time": "2022-10-22T10:19:02.956Z"
   },
   {
    "duration": 5,
    "start_time": "2022-10-22T10:19:06.381Z"
   },
   {
    "duration": 4,
    "start_time": "2022-10-22T10:25:48.286Z"
   },
   {
    "duration": 24,
    "start_time": "2022-10-22T10:25:59.332Z"
   },
   {
    "duration": 51,
    "start_time": "2022-10-22T10:29:22.143Z"
   },
   {
    "duration": 571,
    "start_time": "2022-10-22T10:29:55.811Z"
   },
   {
    "duration": 1293,
    "start_time": "2022-10-22T10:30:01.282Z"
   },
   {
    "duration": 657,
    "start_time": "2022-10-22T10:30:02.576Z"
   },
   {
    "duration": 8,
    "start_time": "2022-10-22T10:30:03.234Z"
   },
   {
    "duration": 3,
    "start_time": "2022-10-22T10:30:03.244Z"
   },
   {
    "duration": 39,
    "start_time": "2022-10-22T10:30:03.249Z"
   },
   {
    "duration": 100,
    "start_time": "2022-10-22T10:30:03.305Z"
   },
   {
    "duration": 162,
    "start_time": "2022-10-22T10:30:03.407Z"
   },
   {
    "duration": 910,
    "start_time": "2022-10-22T10:30:03.570Z"
   },
   {
    "duration": 862,
    "start_time": "2022-10-22T10:30:04.482Z"
   },
   {
    "duration": 63,
    "start_time": "2022-10-22T10:30:05.345Z"
   },
   {
    "duration": 3,
    "start_time": "2022-10-22T10:30:05.409Z"
   },
   {
    "duration": 38,
    "start_time": "2022-10-22T10:32:06.471Z"
   },
   {
    "duration": 824,
    "start_time": "2022-10-22T10:32:39.688Z"
   },
   {
    "duration": 744,
    "start_time": "2022-10-22T10:33:51.142Z"
   },
   {
    "duration": 858,
    "start_time": "2022-10-22T10:37:04.406Z"
   },
   {
    "duration": 743,
    "start_time": "2022-10-22T10:37:15.528Z"
   },
   {
    "duration": 870,
    "start_time": "2022-10-22T10:37:22.951Z"
   },
   {
    "duration": 1224,
    "start_time": "2022-10-22T10:37:28.808Z"
   },
   {
    "duration": 659,
    "start_time": "2022-10-22T10:37:30.034Z"
   },
   {
    "duration": 12,
    "start_time": "2022-10-22T10:37:30.694Z"
   },
   {
    "duration": 13,
    "start_time": "2022-10-22T10:37:30.708Z"
   },
   {
    "duration": 45,
    "start_time": "2022-10-22T10:37:30.723Z"
   },
   {
    "duration": 95,
    "start_time": "2022-10-22T10:37:30.769Z"
   },
   {
    "duration": 162,
    "start_time": "2022-10-22T10:37:30.866Z"
   },
   {
    "duration": 894,
    "start_time": "2022-10-22T10:37:31.029Z"
   },
   {
    "duration": 894,
    "start_time": "2022-10-22T10:37:31.924Z"
   },
   {
    "duration": 166,
    "start_time": "2022-10-22T10:37:32.819Z"
   },
   {
    "duration": 0,
    "start_time": "2022-10-22T10:37:32.986Z"
   },
   {
    "duration": 874,
    "start_time": "2022-10-22T10:37:48.156Z"
   },
   {
    "duration": 764,
    "start_time": "2022-10-22T10:38:31.390Z"
   },
   {
    "duration": 852,
    "start_time": "2022-10-22T10:38:40.790Z"
   },
   {
    "duration": 4,
    "start_time": "2022-10-22T14:41:01.066Z"
   },
   {
    "duration": 3,
    "start_time": "2022-10-22T14:41:09.923Z"
   },
   {
    "duration": 3,
    "start_time": "2022-10-22T14:41:21.560Z"
   },
   {
    "duration": 5,
    "start_time": "2022-10-22T14:41:31.097Z"
   },
   {
    "duration": 788,
    "start_time": "2022-10-22T14:42:13.896Z"
   },
   {
    "duration": 4,
    "start_time": "2022-10-22T14:42:18.109Z"
   },
   {
    "duration": 4,
    "start_time": "2022-10-22T14:42:19.134Z"
   },
   {
    "duration": 46,
    "start_time": "2022-10-22T14:43:13.987Z"
   },
   {
    "duration": 12,
    "start_time": "2022-10-22T14:44:12.924Z"
   },
   {
    "duration": 10,
    "start_time": "2022-10-22T14:44:46.877Z"
   },
   {
    "duration": 1265,
    "start_time": "2022-10-22T14:44:54.803Z"
   },
   {
    "duration": 642,
    "start_time": "2022-10-22T14:44:56.070Z"
   },
   {
    "duration": 11,
    "start_time": "2022-10-22T14:44:56.714Z"
   },
   {
    "duration": 3,
    "start_time": "2022-10-22T14:44:56.727Z"
   },
   {
    "duration": 37,
    "start_time": "2022-10-22T14:44:56.732Z"
   },
   {
    "duration": 113,
    "start_time": "2022-10-22T14:44:56.770Z"
   },
   {
    "duration": 153,
    "start_time": "2022-10-22T14:44:56.884Z"
   },
   {
    "duration": 991,
    "start_time": "2022-10-22T14:44:57.039Z"
   },
   {
    "duration": 857,
    "start_time": "2022-10-22T14:44:58.032Z"
   },
   {
    "duration": 896,
    "start_time": "2022-10-22T14:44:58.890Z"
   },
   {
    "duration": 3,
    "start_time": "2022-10-22T14:44:59.788Z"
   },
   {
    "duration": 58,
    "start_time": "2022-10-22T14:44:59.792Z"
   },
   {
    "duration": 154,
    "start_time": "2022-10-22T14:45:50.211Z"
   },
   {
    "duration": 144,
    "start_time": "2022-10-22T14:46:02.101Z"
   },
   {
    "duration": 149,
    "start_time": "2022-10-22T14:46:31.787Z"
   },
   {
    "duration": 4,
    "start_time": "2022-10-22T14:47:59.660Z"
   },
   {
    "duration": 61,
    "start_time": "2022-10-22T14:48:01.010Z"
   },
   {
    "duration": 142,
    "start_time": "2022-10-22T15:23:15.498Z"
   },
   {
    "duration": 51,
    "start_time": "2022-10-22T15:23:41.329Z"
   },
   {
    "duration": 3,
    "start_time": "2022-10-22T15:23:48.529Z"
   },
   {
    "duration": 34,
    "start_time": "2022-10-22T15:24:26.930Z"
   },
   {
    "duration": 38,
    "start_time": "2022-10-22T15:24:33.004Z"
   },
   {
    "duration": 34,
    "start_time": "2022-10-22T15:26:43.507Z"
   },
   {
    "duration": 43,
    "start_time": "2022-10-22T15:29:03.706Z"
   },
   {
    "duration": 1193,
    "start_time": "2022-10-22T15:43:34.734Z"
   },
   {
    "duration": 1219,
    "start_time": "2022-10-22T15:43:51.606Z"
   },
   {
    "duration": 633,
    "start_time": "2022-10-22T15:43:52.827Z"
   },
   {
    "duration": 11,
    "start_time": "2022-10-22T15:43:53.462Z"
   },
   {
    "duration": 4,
    "start_time": "2022-10-22T15:43:53.474Z"
   },
   {
    "duration": 49,
    "start_time": "2022-10-22T15:43:53.479Z"
   },
   {
    "duration": 103,
    "start_time": "2022-10-22T15:43:53.530Z"
   },
   {
    "duration": 165,
    "start_time": "2022-10-22T15:43:53.635Z"
   },
   {
    "duration": 916,
    "start_time": "2022-10-22T15:43:53.801Z"
   },
   {
    "duration": 864,
    "start_time": "2022-10-22T15:43:54.719Z"
   },
   {
    "duration": 890,
    "start_time": "2022-10-22T15:43:55.585Z"
   },
   {
    "duration": 3,
    "start_time": "2022-10-22T15:43:56.476Z"
   },
   {
    "duration": 72,
    "start_time": "2022-10-22T15:43:56.481Z"
   },
   {
    "duration": 1224,
    "start_time": "2022-10-22T15:47:57.823Z"
   },
   {
    "duration": 632,
    "start_time": "2022-10-22T15:47:59.048Z"
   },
   {
    "duration": 23,
    "start_time": "2022-10-22T15:47:59.682Z"
   },
   {
    "duration": 4,
    "start_time": "2022-10-22T15:47:59.706Z"
   },
   {
    "duration": 38,
    "start_time": "2022-10-22T15:47:59.712Z"
   },
   {
    "duration": 104,
    "start_time": "2022-10-22T15:47:59.751Z"
   },
   {
    "duration": 170,
    "start_time": "2022-10-22T15:47:59.856Z"
   },
   {
    "duration": 918,
    "start_time": "2022-10-22T15:48:00.027Z"
   },
   {
    "duration": 854,
    "start_time": "2022-10-22T15:48:00.948Z"
   },
   {
    "duration": 901,
    "start_time": "2022-10-22T15:48:01.804Z"
   },
   {
    "duration": 4,
    "start_time": "2022-10-22T15:48:02.707Z"
   },
   {
    "duration": 163,
    "start_time": "2022-10-22T15:48:02.712Z"
   },
   {
    "duration": 1128,
    "start_time": "2022-10-22T15:48:19.620Z"
   },
   {
    "duration": 1259,
    "start_time": "2022-10-22T15:48:39.679Z"
   },
   {
    "duration": 642,
    "start_time": "2022-10-22T15:48:40.940Z"
   },
   {
    "duration": 13,
    "start_time": "2022-10-22T15:48:41.584Z"
   },
   {
    "duration": 4,
    "start_time": "2022-10-22T15:48:41.605Z"
   },
   {
    "duration": 38,
    "start_time": "2022-10-22T15:48:41.611Z"
   },
   {
    "duration": 106,
    "start_time": "2022-10-22T15:48:41.651Z"
   },
   {
    "duration": 164,
    "start_time": "2022-10-22T15:48:41.759Z"
   },
   {
    "duration": 972,
    "start_time": "2022-10-22T15:48:41.924Z"
   },
   {
    "duration": 869,
    "start_time": "2022-10-22T15:48:42.897Z"
   },
   {
    "duration": 900,
    "start_time": "2022-10-22T15:48:43.768Z"
   },
   {
    "duration": 4,
    "start_time": "2022-10-22T15:48:44.669Z"
   },
   {
    "duration": 62,
    "start_time": "2022-10-22T15:48:44.674Z"
   },
   {
    "duration": 1300,
    "start_time": "2022-10-22T16:39:03.066Z"
   },
   {
    "duration": 670,
    "start_time": "2022-10-22T16:39:04.368Z"
   },
   {
    "duration": 12,
    "start_time": "2022-10-22T16:39:05.039Z"
   },
   {
    "duration": 4,
    "start_time": "2022-10-22T16:39:05.053Z"
   },
   {
    "duration": 54,
    "start_time": "2022-10-22T16:39:05.058Z"
   },
   {
    "duration": 99,
    "start_time": "2022-10-22T16:39:05.114Z"
   },
   {
    "duration": 170,
    "start_time": "2022-10-22T16:39:05.214Z"
   },
   {
    "duration": 906,
    "start_time": "2022-10-22T16:39:05.385Z"
   },
   {
    "duration": 885,
    "start_time": "2022-10-22T16:39:06.293Z"
   },
   {
    "duration": 1006,
    "start_time": "2022-10-22T16:39:07.180Z"
   },
   {
    "duration": 3,
    "start_time": "2022-10-22T16:39:08.188Z"
   },
   {
    "duration": 1355,
    "start_time": "2022-10-22T16:39:08.193Z"
   },
   {
    "duration": 147,
    "start_time": "2022-10-22T16:39:43.485Z"
   },
   {
    "duration": 1176,
    "start_time": "2022-10-22T16:39:47.356Z"
   },
   {
    "duration": 647,
    "start_time": "2022-10-22T16:39:48.534Z"
   },
   {
    "duration": 12,
    "start_time": "2022-10-22T16:39:49.182Z"
   },
   {
    "duration": 4,
    "start_time": "2022-10-22T16:39:49.204Z"
   },
   {
    "duration": 43,
    "start_time": "2022-10-22T16:39:49.209Z"
   },
   {
    "duration": 100,
    "start_time": "2022-10-22T16:39:49.253Z"
   },
   {
    "duration": 168,
    "start_time": "2022-10-22T16:39:49.355Z"
   },
   {
    "duration": 944,
    "start_time": "2022-10-22T16:39:49.525Z"
   },
   {
    "duration": 893,
    "start_time": "2022-10-22T16:39:50.470Z"
   },
   {
    "duration": 923,
    "start_time": "2022-10-22T16:39:51.365Z"
   },
   {
    "duration": 3,
    "start_time": "2022-10-22T16:39:52.290Z"
   },
   {
    "duration": 149,
    "start_time": "2022-10-22T16:39:52.295Z"
   },
   {
    "duration": 157,
    "start_time": "2022-10-22T16:41:24.153Z"
   },
   {
    "duration": 1182,
    "start_time": "2022-10-22T16:41:28.661Z"
   },
   {
    "duration": 671,
    "start_time": "2022-10-22T16:41:29.845Z"
   },
   {
    "duration": 13,
    "start_time": "2022-10-22T16:41:30.518Z"
   },
   {
    "duration": 9,
    "start_time": "2022-10-22T16:41:30.533Z"
   },
   {
    "duration": 60,
    "start_time": "2022-10-22T16:41:30.544Z"
   },
   {
    "duration": 100,
    "start_time": "2022-10-22T16:41:30.606Z"
   },
   {
    "duration": 165,
    "start_time": "2022-10-22T16:41:30.707Z"
   },
   {
    "duration": 884,
    "start_time": "2022-10-22T16:41:30.874Z"
   },
   {
    "duration": 893,
    "start_time": "2022-10-22T16:41:31.760Z"
   },
   {
    "duration": 922,
    "start_time": "2022-10-22T16:41:32.655Z"
   },
   {
    "duration": 2,
    "start_time": "2022-10-22T16:41:33.579Z"
   },
   {
    "duration": 158,
    "start_time": "2022-10-22T16:41:33.583Z"
   },
   {
    "duration": 1211,
    "start_time": "2022-10-22T16:43:45.924Z"
   },
   {
    "duration": 684,
    "start_time": "2022-10-22T16:43:47.137Z"
   },
   {
    "duration": 12,
    "start_time": "2022-10-22T16:43:47.823Z"
   },
   {
    "duration": 4,
    "start_time": "2022-10-22T16:43:47.837Z"
   },
   {
    "duration": 39,
    "start_time": "2022-10-22T16:43:47.842Z"
   },
   {
    "duration": 131,
    "start_time": "2022-10-22T16:43:47.883Z"
   },
   {
    "duration": 176,
    "start_time": "2022-10-22T16:43:48.016Z"
   },
   {
    "duration": 909,
    "start_time": "2022-10-22T16:43:48.193Z"
   },
   {
    "duration": 886,
    "start_time": "2022-10-22T16:43:49.105Z"
   },
   {
    "duration": 958,
    "start_time": "2022-10-22T16:43:49.994Z"
   },
   {
    "duration": 4,
    "start_time": "2022-10-22T16:43:50.954Z"
   },
   {
    "duration": 125,
    "start_time": "2022-10-22T16:43:50.959Z"
   },
   {
    "duration": 1455,
    "start_time": "2022-10-23T08:26:23.428Z"
   },
   {
    "duration": 1481,
    "start_time": "2022-10-23T08:26:24.885Z"
   },
   {
    "duration": 12,
    "start_time": "2022-10-23T08:26:26.367Z"
   },
   {
    "duration": 4,
    "start_time": "2022-10-23T08:26:26.380Z"
   },
   {
    "duration": 44,
    "start_time": "2022-10-23T08:26:26.385Z"
   },
   {
    "duration": 95,
    "start_time": "2022-10-23T08:26:26.431Z"
   },
   {
    "duration": 195,
    "start_time": "2022-10-23T08:26:26.528Z"
   },
   {
    "duration": 922,
    "start_time": "2022-10-23T08:26:26.724Z"
   },
   {
    "duration": 919,
    "start_time": "2022-10-23T08:26:27.647Z"
   },
   {
    "duration": 936,
    "start_time": "2022-10-23T08:26:28.569Z"
   },
   {
    "duration": 17,
    "start_time": "2022-10-23T08:26:29.507Z"
   },
   {
    "duration": 103,
    "start_time": "2022-10-23T08:26:29.525Z"
   },
   {
    "duration": 109,
    "start_time": "2022-10-23T08:35:47.610Z"
   },
   {
    "duration": 100,
    "start_time": "2022-10-23T08:37:50.021Z"
   },
   {
    "duration": 104,
    "start_time": "2022-10-23T08:38:01.691Z"
   },
   {
    "duration": 48,
    "start_time": "2022-10-23T08:45:52.030Z"
   },
   {
    "duration": 107,
    "start_time": "2022-10-23T08:45:56.602Z"
   },
   {
    "duration": 76,
    "start_time": "2022-10-23T08:55:15.607Z"
   },
   {
    "duration": 109,
    "start_time": "2022-10-23T08:55:58.676Z"
   },
   {
    "duration": 257,
    "start_time": "2022-10-23T08:57:12.477Z"
   },
   {
    "duration": 1231,
    "start_time": "2022-10-23T08:57:30.957Z"
   },
   {
    "duration": 775,
    "start_time": "2022-10-23T08:57:32.190Z"
   },
   {
    "duration": 12,
    "start_time": "2022-10-23T08:57:32.967Z"
   },
   {
    "duration": 6,
    "start_time": "2022-10-23T08:57:32.980Z"
   },
   {
    "duration": 49,
    "start_time": "2022-10-23T08:57:32.987Z"
   },
   {
    "duration": 108,
    "start_time": "2022-10-23T08:57:33.038Z"
   },
   {
    "duration": 203,
    "start_time": "2022-10-23T08:57:33.148Z"
   },
   {
    "duration": 972,
    "start_time": "2022-10-23T08:57:33.353Z"
   },
   {
    "duration": 957,
    "start_time": "2022-10-23T08:57:34.327Z"
   },
   {
    "duration": 964,
    "start_time": "2022-10-23T08:57:35.287Z"
   },
   {
    "duration": 3,
    "start_time": "2022-10-23T08:57:36.252Z"
   },
   {
    "duration": 259,
    "start_time": "2022-10-23T08:57:36.257Z"
   },
   {
    "duration": 0,
    "start_time": "2022-10-23T08:57:36.518Z"
   },
   {
    "duration": 137,
    "start_time": "2022-10-23T08:58:17.576Z"
   },
   {
    "duration": 137,
    "start_time": "2022-10-23T08:58:55.049Z"
   },
   {
    "duration": 104,
    "start_time": "2022-10-23T08:59:16.097Z"
   },
   {
    "duration": 84,
    "start_time": "2022-10-23T10:15:39.848Z"
   },
   {
    "duration": 1432,
    "start_time": "2022-10-23T10:25:07.959Z"
   },
   {
    "duration": 0,
    "start_time": "2022-10-23T10:25:09.393Z"
   },
   {
    "duration": 0,
    "start_time": "2022-10-23T10:25:09.395Z"
   },
   {
    "duration": 0,
    "start_time": "2022-10-23T10:25:09.395Z"
   },
   {
    "duration": 0,
    "start_time": "2022-10-23T10:25:09.396Z"
   },
   {
    "duration": 0,
    "start_time": "2022-10-23T10:25:09.398Z"
   },
   {
    "duration": 0,
    "start_time": "2022-10-23T10:25:09.399Z"
   },
   {
    "duration": 0,
    "start_time": "2022-10-23T10:25:09.412Z"
   },
   {
    "duration": 0,
    "start_time": "2022-10-23T10:25:09.413Z"
   },
   {
    "duration": 1,
    "start_time": "2022-10-23T10:25:09.413Z"
   },
   {
    "duration": 0,
    "start_time": "2022-10-23T10:25:09.414Z"
   },
   {
    "duration": 0,
    "start_time": "2022-10-23T10:25:09.415Z"
   },
   {
    "duration": 0,
    "start_time": "2022-10-23T10:25:09.415Z"
   },
   {
    "duration": 1365,
    "start_time": "2022-10-23T10:25:19.179Z"
   },
   {
    "duration": 0,
    "start_time": "2022-10-23T10:25:20.545Z"
   },
   {
    "duration": 0,
    "start_time": "2022-10-23T10:25:20.546Z"
   },
   {
    "duration": 0,
    "start_time": "2022-10-23T10:25:20.547Z"
   },
   {
    "duration": 0,
    "start_time": "2022-10-23T10:25:20.548Z"
   },
   {
    "duration": 0,
    "start_time": "2022-10-23T10:25:20.549Z"
   },
   {
    "duration": 0,
    "start_time": "2022-10-23T10:25:20.550Z"
   },
   {
    "duration": 0,
    "start_time": "2022-10-23T10:25:20.551Z"
   },
   {
    "duration": 0,
    "start_time": "2022-10-23T10:25:20.552Z"
   },
   {
    "duration": 0,
    "start_time": "2022-10-23T10:25:20.553Z"
   },
   {
    "duration": 0,
    "start_time": "2022-10-23T10:25:20.554Z"
   },
   {
    "duration": 0,
    "start_time": "2022-10-23T10:25:20.555Z"
   },
   {
    "duration": 0,
    "start_time": "2022-10-23T10:25:20.556Z"
   },
   {
    "duration": 1347,
    "start_time": "2022-10-23T10:25:42.529Z"
   },
   {
    "duration": 714,
    "start_time": "2022-10-23T10:25:43.878Z"
   },
   {
    "duration": 22,
    "start_time": "2022-10-23T10:25:44.593Z"
   },
   {
    "duration": 8,
    "start_time": "2022-10-23T10:25:44.618Z"
   },
   {
    "duration": 38,
    "start_time": "2022-10-23T10:25:44.627Z"
   },
   {
    "duration": 98,
    "start_time": "2022-10-23T10:25:44.667Z"
   },
   {
    "duration": 201,
    "start_time": "2022-10-23T10:25:44.767Z"
   },
   {
    "duration": 936,
    "start_time": "2022-10-23T10:25:44.969Z"
   },
   {
    "duration": 939,
    "start_time": "2022-10-23T10:25:45.907Z"
   },
   {
    "duration": 943,
    "start_time": "2022-10-23T10:25:46.849Z"
   },
   {
    "duration": 4,
    "start_time": "2022-10-23T10:25:47.793Z"
   },
   {
    "duration": 129,
    "start_time": "2022-10-23T10:25:47.798Z"
   },
   {
    "duration": 70,
    "start_time": "2022-10-23T10:25:47.929Z"
   },
   {
    "duration": 1557,
    "start_time": "2022-10-23T16:02:33.297Z"
   },
   {
    "duration": 3522,
    "start_time": "2022-10-23T16:02:34.856Z"
   },
   {
    "duration": 13,
    "start_time": "2022-10-23T16:02:38.379Z"
   },
   {
    "duration": 4,
    "start_time": "2022-10-23T16:02:38.395Z"
   },
   {
    "duration": 51,
    "start_time": "2022-10-23T16:02:38.401Z"
   },
   {
    "duration": 105,
    "start_time": "2022-10-23T16:02:38.453Z"
   },
   {
    "duration": 190,
    "start_time": "2022-10-23T16:02:38.560Z"
   },
   {
    "duration": 976,
    "start_time": "2022-10-23T16:02:38.752Z"
   },
   {
    "duration": 968,
    "start_time": "2022-10-23T16:02:39.730Z"
   },
   {
    "duration": 987,
    "start_time": "2022-10-23T16:02:40.701Z"
   },
   {
    "duration": 3,
    "start_time": "2022-10-23T16:02:41.690Z"
   },
   {
    "duration": 144,
    "start_time": "2022-10-23T16:02:41.694Z"
   },
   {
    "duration": 93,
    "start_time": "2022-10-23T16:02:41.839Z"
   },
   {
    "duration": 370,
    "start_time": "2022-10-23T16:02:41.934Z"
   },
   {
    "duration": 10,
    "start_time": "2022-10-23T16:04:49.427Z"
   },
   {
    "duration": 4,
    "start_time": "2022-10-23T16:05:18.223Z"
   },
   {
    "duration": 1402,
    "start_time": "2022-10-23T16:05:24.259Z"
   },
   {
    "duration": 772,
    "start_time": "2022-10-23T16:05:25.663Z"
   },
   {
    "duration": 13,
    "start_time": "2022-10-23T16:05:26.437Z"
   },
   {
    "duration": 5,
    "start_time": "2022-10-23T16:05:26.451Z"
   },
   {
    "duration": 39,
    "start_time": "2022-10-23T16:05:26.458Z"
   },
   {
    "duration": 133,
    "start_time": "2022-10-23T16:05:26.498Z"
   },
   {
    "duration": 198,
    "start_time": "2022-10-23T16:05:26.633Z"
   },
   {
    "duration": 1060,
    "start_time": "2022-10-23T16:05:26.833Z"
   },
   {
    "duration": 1077,
    "start_time": "2022-10-23T16:05:27.895Z"
   },
   {
    "duration": 1030,
    "start_time": "2022-10-23T16:05:28.975Z"
   },
   {
    "duration": 4,
    "start_time": "2022-10-23T16:05:30.007Z"
   },
   {
    "duration": 138,
    "start_time": "2022-10-23T16:05:30.012Z"
   },
   {
    "duration": 102,
    "start_time": "2022-10-23T16:05:30.152Z"
   },
   {
    "duration": 1377,
    "start_time": "2022-10-23T16:05:30.256Z"
   },
   {
    "duration": 1710,
    "start_time": "2022-10-23T16:08:56.554Z"
   },
   {
    "duration": 7,
    "start_time": "2022-10-23T16:21:51.051Z"
   },
   {
    "duration": 5,
    "start_time": "2022-10-23T16:22:00.232Z"
   },
   {
    "duration": 3,
    "start_time": "2022-10-23T16:22:14.742Z"
   },
   {
    "duration": 1466,
    "start_time": "2022-10-23T16:22:20.371Z"
   },
   {
    "duration": 732,
    "start_time": "2022-10-23T16:22:21.839Z"
   },
   {
    "duration": 18,
    "start_time": "2022-10-23T16:22:22.573Z"
   },
   {
    "duration": 6,
    "start_time": "2022-10-23T16:22:22.595Z"
   },
   {
    "duration": 71,
    "start_time": "2022-10-23T16:22:22.604Z"
   },
   {
    "duration": 107,
    "start_time": "2022-10-23T16:22:22.678Z"
   },
   {
    "duration": 234,
    "start_time": "2022-10-23T16:22:22.787Z"
   },
   {
    "duration": 1064,
    "start_time": "2022-10-23T16:22:23.023Z"
   },
   {
    "duration": 1065,
    "start_time": "2022-10-23T16:22:24.089Z"
   },
   {
    "duration": 1099,
    "start_time": "2022-10-23T16:22:25.157Z"
   },
   {
    "duration": 6,
    "start_time": "2022-10-23T16:22:26.258Z"
   },
   {
    "duration": 197,
    "start_time": "2022-10-23T16:22:26.265Z"
   },
   {
    "duration": 128,
    "start_time": "2022-10-23T16:22:26.464Z"
   },
   {
    "duration": 1564,
    "start_time": "2022-10-23T16:22:26.594Z"
   },
   {
    "duration": 1493,
    "start_time": "2022-10-23T16:23:06.440Z"
   },
   {
    "duration": 1238,
    "start_time": "2022-10-23T16:23:23.990Z"
   },
   {
    "duration": 1653,
    "start_time": "2022-10-23T16:38:19.381Z"
   },
   {
    "duration": 6782,
    "start_time": "2022-10-23T16:38:44.260Z"
   },
   {
    "duration": 3,
    "start_time": "2022-10-23T16:42:00.752Z"
   },
   {
    "duration": 3510,
    "start_time": "2022-10-23T16:42:03.524Z"
   },
   {
    "duration": 3579,
    "start_time": "2022-10-23T16:42:27.351Z"
   },
   {
    "duration": 2843,
    "start_time": "2022-10-23T18:36:00.691Z"
   },
   {
    "duration": 10,
    "start_time": "2022-10-23T18:36:31.630Z"
   },
   {
    "duration": 10,
    "start_time": "2022-10-23T18:37:12.143Z"
   },
   {
    "duration": 1295,
    "start_time": "2022-10-23T18:37:52.252Z"
   },
   {
    "duration": 703,
    "start_time": "2022-10-23T18:37:53.549Z"
   },
   {
    "duration": 13,
    "start_time": "2022-10-23T18:37:54.254Z"
   },
   {
    "duration": 11,
    "start_time": "2022-10-23T18:37:54.270Z"
   },
   {
    "duration": 71,
    "start_time": "2022-10-23T18:37:54.283Z"
   },
   {
    "duration": 110,
    "start_time": "2022-10-23T18:37:54.356Z"
   },
   {
    "duration": 187,
    "start_time": "2022-10-23T18:37:54.468Z"
   },
   {
    "duration": 998,
    "start_time": "2022-10-23T18:37:54.658Z"
   },
   {
    "duration": 1001,
    "start_time": "2022-10-23T18:37:55.658Z"
   },
   {
    "duration": 984,
    "start_time": "2022-10-23T18:37:56.661Z"
   },
   {
    "duration": 5,
    "start_time": "2022-10-23T18:37:57.646Z"
   },
   {
    "duration": 140,
    "start_time": "2022-10-23T18:37:57.652Z"
   },
   {
    "duration": 100,
    "start_time": "2022-10-23T18:37:57.793Z"
   },
   {
    "duration": 116,
    "start_time": "2022-10-23T18:37:57.895Z"
   },
   {
    "duration": 10,
    "start_time": "2022-10-23T18:41:27.056Z"
   },
   {
    "duration": 1338,
    "start_time": "2022-10-23T18:41:34.894Z"
   },
   {
    "duration": 1079,
    "start_time": "2022-10-23T20:41:01.057Z"
   },
   {
    "duration": 178743,
    "start_time": "2022-10-23T20:41:10.105Z"
   },
   {
    "duration": 9678,
    "start_time": "2022-10-23T20:44:42.769Z"
   },
   {
    "duration": 891136,
    "start_time": "2022-10-23T20:44:55.409Z"
   },
   {
    "duration": 13,
    "start_time": "2022-10-23T21:00:06.103Z"
   },
   {
    "duration": 10,
    "start_time": "2022-10-23T21:02:39.178Z"
   },
   {
    "duration": 1556,
    "start_time": "2022-10-23T21:03:15.140Z"
   },
   {
    "duration": 0,
    "start_time": "2022-10-23T21:03:16.699Z"
   },
   {
    "duration": 0,
    "start_time": "2022-10-23T21:03:16.699Z"
   },
   {
    "duration": 0,
    "start_time": "2022-10-23T21:03:16.701Z"
   },
   {
    "duration": 0,
    "start_time": "2022-10-23T21:03:16.702Z"
   },
   {
    "duration": 0,
    "start_time": "2022-10-23T21:03:16.703Z"
   },
   {
    "duration": 0,
    "start_time": "2022-10-23T21:03:16.704Z"
   },
   {
    "duration": 0,
    "start_time": "2022-10-23T21:03:16.706Z"
   },
   {
    "duration": 0,
    "start_time": "2022-10-23T21:03:16.707Z"
   },
   {
    "duration": 0,
    "start_time": "2022-10-23T21:03:16.708Z"
   },
   {
    "duration": 0,
    "start_time": "2022-10-23T21:03:16.709Z"
   },
   {
    "duration": 0,
    "start_time": "2022-10-23T21:03:16.710Z"
   },
   {
    "duration": 0,
    "start_time": "2022-10-23T21:03:16.711Z"
   },
   {
    "duration": 0,
    "start_time": "2022-10-23T21:03:16.729Z"
   },
   {
    "duration": 0,
    "start_time": "2022-10-23T21:03:16.731Z"
   },
   {
    "duration": 1493,
    "start_time": "2022-10-23T21:03:44.996Z"
   },
   {
    "duration": 0,
    "start_time": "2022-10-23T21:03:46.491Z"
   },
   {
    "duration": 0,
    "start_time": "2022-10-23T21:03:46.493Z"
   },
   {
    "duration": 0,
    "start_time": "2022-10-23T21:03:46.494Z"
   },
   {
    "duration": 0,
    "start_time": "2022-10-23T21:03:46.494Z"
   },
   {
    "duration": 0,
    "start_time": "2022-10-23T21:03:46.495Z"
   },
   {
    "duration": 0,
    "start_time": "2022-10-23T21:03:46.497Z"
   },
   {
    "duration": 0,
    "start_time": "2022-10-23T21:03:46.498Z"
   },
   {
    "duration": 0,
    "start_time": "2022-10-23T21:03:46.499Z"
   },
   {
    "duration": 0,
    "start_time": "2022-10-23T21:03:46.500Z"
   },
   {
    "duration": 0,
    "start_time": "2022-10-23T21:03:46.501Z"
   },
   {
    "duration": 0,
    "start_time": "2022-10-23T21:03:46.502Z"
   },
   {
    "duration": 0,
    "start_time": "2022-10-23T21:03:46.502Z"
   },
   {
    "duration": 0,
    "start_time": "2022-10-23T21:03:46.503Z"
   },
   {
    "duration": 0,
    "start_time": "2022-10-23T21:03:46.505Z"
   },
   {
    "duration": 1438,
    "start_time": "2022-10-23T21:03:56.424Z"
   },
   {
    "duration": 773,
    "start_time": "2022-10-23T21:03:57.864Z"
   },
   {
    "duration": 14,
    "start_time": "2022-10-23T21:03:58.639Z"
   },
   {
    "duration": 5,
    "start_time": "2022-10-23T21:03:58.655Z"
   },
   {
    "duration": 47,
    "start_time": "2022-10-23T21:03:58.661Z"
   },
   {
    "duration": 130,
    "start_time": "2022-10-23T21:03:58.709Z"
   },
   {
    "duration": 190,
    "start_time": "2022-10-23T21:03:58.840Z"
   },
   {
    "duration": 1010,
    "start_time": "2022-10-23T21:03:59.032Z"
   },
   {
    "duration": 970,
    "start_time": "2022-10-23T21:04:00.043Z"
   },
   {
    "duration": 1062,
    "start_time": "2022-10-23T21:04:01.016Z"
   },
   {
    "duration": 5,
    "start_time": "2022-10-23T21:04:02.080Z"
   },
   {
    "duration": 152,
    "start_time": "2022-10-23T21:04:02.088Z"
   },
   {
    "duration": 107,
    "start_time": "2022-10-23T21:04:02.241Z"
   },
   {
    "duration": 5611,
    "start_time": "2022-10-23T21:04:02.350Z"
   },
   {
    "duration": 0,
    "start_time": "2022-10-23T21:04:07.970Z"
   },
   {
    "duration": 7,
    "start_time": "2022-10-23T21:04:13.017Z"
   },
   {
    "duration": 12,
    "start_time": "2022-10-23T21:04:24.081Z"
   },
   {
    "duration": 1570,
    "start_time": "2022-10-24T15:28:41.706Z"
   },
   {
    "duration": 1387,
    "start_time": "2022-10-24T15:28:55.503Z"
   },
   {
    "duration": 1184,
    "start_time": "2022-10-24T15:28:56.893Z"
   },
   {
    "duration": 13,
    "start_time": "2022-10-24T15:28:58.079Z"
   },
   {
    "duration": 5,
    "start_time": "2022-10-24T15:28:58.094Z"
   },
   {
    "duration": 60,
    "start_time": "2022-10-24T15:28:58.101Z"
   },
   {
    "duration": 139,
    "start_time": "2022-10-24T15:28:58.163Z"
   },
   {
    "duration": 251,
    "start_time": "2022-10-24T15:28:58.304Z"
   },
   {
    "duration": 1475,
    "start_time": "2022-10-24T15:28:58.557Z"
   },
   {
    "duration": 1275,
    "start_time": "2022-10-24T15:29:00.035Z"
   },
   {
    "duration": 1043,
    "start_time": "2022-10-24T15:29:01.312Z"
   },
   {
    "duration": 4,
    "start_time": "2022-10-24T15:29:02.357Z"
   },
   {
    "duration": 139,
    "start_time": "2022-10-24T15:29:02.363Z"
   },
   {
    "duration": 96,
    "start_time": "2022-10-24T15:29:02.504Z"
   },
   {
    "duration": 5015,
    "start_time": "2022-10-24T15:29:02.602Z"
   },
   {
    "duration": 2548,
    "start_time": "2022-10-24T15:29:07.619Z"
   },
   {
    "duration": 4,
    "start_time": "2022-10-24T15:29:33.138Z"
   },
   {
    "duration": 4,
    "start_time": "2022-10-24T16:17:50.897Z"
   },
   {
    "duration": 4,
    "start_time": "2022-10-24T16:18:44.412Z"
   },
   {
    "duration": 1308,
    "start_time": "2022-10-24T16:20:00.827Z"
   },
   {
    "duration": 1246,
    "start_time": "2022-10-24T16:20:30.895Z"
   },
   {
    "duration": 1344,
    "start_time": "2022-10-24T16:21:57.794Z"
   },
   {
    "duration": 1188,
    "start_time": "2022-10-24T18:10:59.452Z"
   },
   {
    "duration": 1381,
    "start_time": "2022-10-24T18:11:06.753Z"
   },
   {
    "duration": 290765,
    "start_time": "2022-10-24T18:26:45.709Z"
   },
   {
    "duration": 1060,
    "start_time": "2022-10-24T18:31:36.476Z"
   },
   {
    "duration": 29476,
    "start_time": "2022-10-24T18:31:55.172Z"
   },
   {
    "duration": 884,
    "start_time": "2022-10-24T18:32:24.650Z"
   },
   {
    "duration": 955,
    "start_time": "2022-10-24T18:32:29.291Z"
   },
   {
    "duration": 12020,
    "start_time": "2022-10-24T18:33:21.603Z"
   },
   {
    "duration": 12,
    "start_time": "2022-10-24T18:43:38.314Z"
   },
   {
    "duration": 49,
    "start_time": "2022-10-24T18:44:14.063Z"
   },
   {
    "duration": 10,
    "start_time": "2022-10-24T18:44:20.006Z"
   },
   {
    "duration": 1755411,
    "start_time": "2022-10-24T18:44:38.419Z"
   },
   {
    "duration": 1740,
    "start_time": "2022-10-24T19:13:53.833Z"
   },
   {
    "duration": 4,
    "start_time": "2022-10-24T19:15:13.517Z"
   },
   {
    "duration": 1200,
    "start_time": "2022-10-24T19:16:42.135Z"
   },
   {
    "duration": 1229825,
    "start_time": "2022-10-24T19:17:42.762Z"
   },
   {
    "duration": 53,
    "start_time": "2022-10-24T19:39:24.721Z"
   },
   {
    "duration": 4,
    "start_time": "2022-10-24T19:39:31.558Z"
   },
   {
    "duration": 74,
    "start_time": "2022-10-24T21:23:59.119Z"
   },
   {
    "duration": 4,
    "start_time": "2022-10-24T21:26:24.771Z"
   },
   {
    "duration": 4,
    "start_time": "2022-10-24T21:26:26.998Z"
   },
   {
    "duration": 4,
    "start_time": "2022-10-24T21:28:48.164Z"
   },
   {
    "duration": 1663,
    "start_time": "2022-10-24T21:28:57.477Z"
   },
   {
    "duration": 3,
    "start_time": "2022-10-24T21:39:39.428Z"
   },
   {
    "duration": 5,
    "start_time": "2022-10-24T21:40:00.545Z"
   },
   {
    "duration": 57,
    "start_time": "2022-10-24T21:42:09.197Z"
   },
   {
    "duration": 2857,
    "start_time": "2022-10-25T17:11:40.382Z"
   },
   {
    "duration": 2853,
    "start_time": "2022-10-25T17:11:43.244Z"
   },
   {
    "duration": 8,
    "start_time": "2022-10-25T17:12:33.367Z"
   },
   {
    "duration": 5,
    "start_time": "2022-10-25T17:12:39.728Z"
   },
   {
    "duration": 5,
    "start_time": "2022-10-25T17:12:54.182Z"
   },
   {
    "duration": 44,
    "start_time": "2022-10-26T08:35:28.046Z"
   },
   {
    "duration": 1741,
    "start_time": "2022-10-26T08:35:30.058Z"
   },
   {
    "duration": 1859,
    "start_time": "2022-10-26T08:35:31.801Z"
   },
   {
    "duration": 162,
    "start_time": "2022-10-26T08:40:23.473Z"
   },
   {
    "duration": 4,
    "start_time": "2022-10-26T08:40:31.594Z"
   },
   {
    "duration": 604,
    "start_time": "2022-10-26T08:40:46.279Z"
   },
   {
    "duration": 627,
    "start_time": "2022-10-26T08:42:53.399Z"
   },
   {
    "duration": 73,
    "start_time": "2022-10-26T08:57:31.081Z"
   },
   {
    "duration": 72,
    "start_time": "2022-10-26T08:57:54.864Z"
   },
   {
    "duration": 18,
    "start_time": "2022-10-26T08:59:35.549Z"
   },
   {
    "duration": 16,
    "start_time": "2022-10-26T09:03:10.647Z"
   },
   {
    "duration": 16,
    "start_time": "2022-10-26T09:05:01.748Z"
   },
   {
    "duration": 15,
    "start_time": "2022-10-26T09:05:04.347Z"
   },
   {
    "duration": 15,
    "start_time": "2022-10-26T09:05:12.363Z"
   },
   {
    "duration": 10,
    "start_time": "2022-10-26T09:08:11.546Z"
   },
   {
    "duration": 4,
    "start_time": "2022-10-26T09:08:16.148Z"
   },
   {
    "duration": 8,
    "start_time": "2022-10-26T09:09:17.461Z"
   },
   {
    "duration": 8,
    "start_time": "2022-10-26T09:09:58.498Z"
   },
   {
    "duration": 4,
    "start_time": "2022-10-26T09:10:21.885Z"
   },
   {
    "duration": 5,
    "start_time": "2022-10-26T09:10:58.059Z"
   },
   {
    "duration": 4,
    "start_time": "2022-10-26T09:12:27.141Z"
   },
   {
    "duration": 5,
    "start_time": "2022-10-26T09:12:44.348Z"
   },
   {
    "duration": 77,
    "start_time": "2022-10-26T09:13:56.842Z"
   },
   {
    "duration": 87,
    "start_time": "2022-10-26T09:29:13.465Z"
   },
   {
    "duration": 11,
    "start_time": "2022-10-26T09:29:22.137Z"
   },
   {
    "duration": 10,
    "start_time": "2022-10-26T09:30:49.438Z"
   },
   {
    "duration": 10,
    "start_time": "2022-10-26T09:31:00.985Z"
   },
   {
    "duration": 9,
    "start_time": "2022-10-26T09:33:08.446Z"
   },
   {
    "duration": 39,
    "start_time": "2022-10-26T09:33:35.146Z"
   },
   {
    "duration": 57,
    "start_time": "2022-10-26T09:34:03.285Z"
   },
   {
    "duration": 63,
    "start_time": "2022-10-26T09:34:35.919Z"
   },
   {
    "duration": 53,
    "start_time": "2022-10-26T09:34:54.420Z"
   },
   {
    "duration": 47,
    "start_time": "2022-10-26T09:35:25.447Z"
   },
   {
    "duration": 43,
    "start_time": "2022-10-27T17:19:26.244Z"
   },
   {
    "duration": 1394,
    "start_time": "2022-10-27T17:19:41.199Z"
   },
   {
    "duration": 3394,
    "start_time": "2022-10-27T17:19:43.514Z"
   },
   {
    "duration": 25,
    "start_time": "2022-10-27T17:19:48.989Z"
   },
   {
    "duration": 8,
    "start_time": "2022-10-27T17:19:52.890Z"
   },
   {
    "duration": 35,
    "start_time": "2022-10-27T17:19:55.888Z"
   },
   {
    "duration": 54,
    "start_time": "2022-10-27T17:19:57.026Z"
   },
   {
    "duration": 5,
    "start_time": "2022-10-27T17:20:00.653Z"
   },
   {
    "duration": 4,
    "start_time": "2022-10-27T17:20:49.351Z"
   },
   {
    "duration": 21,
    "start_time": "2022-10-27T17:21:40.625Z"
   },
   {
    "duration": 8,
    "start_time": "2022-10-27T17:22:11.126Z"
   },
   {
    "duration": 10,
    "start_time": "2022-10-27T17:22:16.864Z"
   },
   {
    "duration": 94,
    "start_time": "2022-10-27T17:25:50.346Z"
   },
   {
    "duration": 54,
    "start_time": "2022-10-27T17:26:20.691Z"
   },
   {
    "duration": 50,
    "start_time": "2022-10-27T17:26:27.353Z"
   },
   {
    "duration": 50,
    "start_time": "2022-10-27T17:29:45.344Z"
   },
   {
    "duration": 57,
    "start_time": "2022-10-27T17:29:58.644Z"
   },
   {
    "duration": 52,
    "start_time": "2022-10-27T17:30:38.369Z"
   },
   {
    "duration": 3384,
    "start_time": "2022-10-27T17:31:02.983Z"
   },
   {
    "duration": 1823,
    "start_time": "2022-10-27T17:31:27.545Z"
   },
   {
    "duration": 1685,
    "start_time": "2022-10-27T17:31:30.782Z"
   },
   {
    "duration": 66,
    "start_time": "2022-10-27T17:31:43.258Z"
   },
   {
    "duration": 1775,
    "start_time": "2022-10-27T17:31:48.270Z"
   },
   {
    "duration": 3,
    "start_time": "2022-10-27T17:35:56.849Z"
   },
   {
    "duration": 681,
    "start_time": "2022-10-27T17:35:57.846Z"
   },
   {
    "duration": 18,
    "start_time": "2022-10-27T17:35:58.529Z"
   },
   {
    "duration": 7,
    "start_time": "2022-10-27T17:35:59.681Z"
   },
   {
    "duration": 35,
    "start_time": "2022-10-27T17:36:01.163Z"
   },
   {
    "duration": 56,
    "start_time": "2022-10-27T17:36:01.969Z"
   },
   {
    "duration": 211,
    "start_time": "2022-10-27T17:36:34.747Z"
   },
   {
    "duration": 2086,
    "start_time": "2022-10-27T17:37:13.347Z"
   },
   {
    "duration": 106,
    "start_time": "2022-10-27T17:37:26.572Z"
   },
   {
    "duration": 55,
    "start_time": "2022-10-27T17:41:23.075Z"
   },
   {
    "duration": 93,
    "start_time": "2022-10-27T17:41:32.112Z"
   },
   {
    "duration": 93,
    "start_time": "2022-10-27T17:41:36.486Z"
   },
   {
    "duration": 3671,
    "start_time": "2022-10-27T17:43:39.713Z"
   },
   {
    "duration": 739,
    "start_time": "2022-10-27T17:44:03.327Z"
   },
   {
    "duration": 707,
    "start_time": "2022-10-27T17:44:24.875Z"
   },
   {
    "duration": 101,
    "start_time": "2022-10-27T17:44:40.737Z"
   },
   {
    "duration": 92,
    "start_time": "2022-10-27T17:44:40.976Z"
   },
   {
    "duration": 96,
    "start_time": "2022-10-27T17:44:51.112Z"
   },
   {
    "duration": 176,
    "start_time": "2022-10-27T17:44:56.403Z"
   },
   {
    "duration": 200,
    "start_time": "2022-10-27T17:45:40.379Z"
   },
   {
    "duration": 1277,
    "start_time": "2022-10-27T17:46:02.211Z"
   },
   {
    "duration": 645,
    "start_time": "2022-10-27T17:46:03.490Z"
   },
   {
    "duration": 20,
    "start_time": "2022-10-27T17:46:04.139Z"
   },
   {
    "duration": 6,
    "start_time": "2022-10-27T17:46:04.161Z"
   },
   {
    "duration": 58,
    "start_time": "2022-10-27T17:46:04.168Z"
   },
   {
    "duration": 49,
    "start_time": "2022-10-27T17:46:04.228Z"
   },
   {
    "duration": 258,
    "start_time": "2022-10-27T17:46:04.279Z"
   },
   {
    "duration": 402,
    "start_time": "2022-10-27T17:46:04.538Z"
   },
   {
    "duration": 93,
    "start_time": "2022-10-27T17:46:04.943Z"
   },
   {
    "duration": 223,
    "start_time": "2022-10-27T17:46:05.038Z"
   },
   {
    "duration": 829,
    "start_time": "2022-10-27T17:46:05.262Z"
   },
   {
    "duration": 954,
    "start_time": "2022-10-27T17:46:06.093Z"
   },
   {
    "duration": 813,
    "start_time": "2022-10-27T17:46:07.048Z"
   },
   {
    "duration": 3,
    "start_time": "2022-10-27T17:46:07.862Z"
   },
   {
    "duration": 121,
    "start_time": "2022-10-27T17:46:07.866Z"
   },
   {
    "duration": 1334,
    "start_time": "2022-10-27T17:46:07.989Z"
   },
   {
    "duration": 1100,
    "start_time": "2022-10-27T17:46:09.325Z"
   },
   {
    "duration": 1176,
    "start_time": "2022-10-27T17:46:51.275Z"
   },
   {
    "duration": 654,
    "start_time": "2022-10-27T17:46:52.453Z"
   },
   {
    "duration": 21,
    "start_time": "2022-10-27T17:46:53.109Z"
   },
   {
    "duration": 6,
    "start_time": "2022-10-27T17:46:53.132Z"
   },
   {
    "duration": 38,
    "start_time": "2022-10-27T17:46:53.140Z"
   },
   {
    "duration": 71,
    "start_time": "2022-10-27T17:46:53.179Z"
   },
   {
    "duration": 237,
    "start_time": "2022-10-27T17:46:53.251Z"
   },
   {
    "duration": 494,
    "start_time": "2022-10-27T17:46:53.489Z"
   },
   {
    "duration": 99,
    "start_time": "2022-10-27T17:46:53.985Z"
   },
   {
    "duration": 226,
    "start_time": "2022-10-27T17:46:54.086Z"
   },
   {
    "duration": 857,
    "start_time": "2022-10-27T17:46:54.314Z"
   },
   {
    "duration": 982,
    "start_time": "2022-10-27T17:46:55.173Z"
   },
   {
    "duration": 824,
    "start_time": "2022-10-27T17:46:56.156Z"
   },
   {
    "duration": 3,
    "start_time": "2022-10-27T17:46:56.982Z"
   },
   {
    "duration": 123,
    "start_time": "2022-10-27T17:46:56.986Z"
   },
   {
    "duration": 1312,
    "start_time": "2022-10-27T17:46:57.111Z"
   },
   {
    "duration": 1198,
    "start_time": "2022-10-27T17:46:58.425Z"
   },
   {
    "duration": 1219,
    "start_time": "2022-10-27T17:47:44.769Z"
   },
   {
    "duration": 650,
    "start_time": "2022-10-27T17:47:45.990Z"
   },
   {
    "duration": 20,
    "start_time": "2022-10-27T17:47:46.642Z"
   },
   {
    "duration": 6,
    "start_time": "2022-10-27T17:47:46.664Z"
   },
   {
    "duration": 53,
    "start_time": "2022-10-27T17:47:46.671Z"
   },
   {
    "duration": 50,
    "start_time": "2022-10-27T17:47:46.725Z"
   },
   {
    "duration": 1283,
    "start_time": "2022-10-27T17:47:46.777Z"
   },
   {
    "duration": 1643,
    "start_time": "2022-10-27T17:47:48.062Z"
   },
   {
    "duration": 105,
    "start_time": "2022-10-27T17:47:49.707Z"
   },
   {
    "duration": 178,
    "start_time": "2022-10-27T17:47:49.814Z"
   },
   {
    "duration": 981,
    "start_time": "2022-10-27T17:47:49.994Z"
   },
   {
    "duration": 904,
    "start_time": "2022-10-27T17:47:50.977Z"
   },
   {
    "duration": 910,
    "start_time": "2022-10-27T17:47:51.883Z"
   },
   {
    "duration": 3,
    "start_time": "2022-10-27T17:47:52.794Z"
   },
   {
    "duration": 117,
    "start_time": "2022-10-27T17:47:52.798Z"
   },
   {
    "duration": 1211,
    "start_time": "2022-10-27T17:47:52.917Z"
   },
   {
    "duration": 1193,
    "start_time": "2022-10-27T17:47:54.131Z"
   },
   {
    "duration": 1229,
    "start_time": "2022-10-27T17:48:53.641Z"
   },
   {
    "duration": 639,
    "start_time": "2022-10-27T17:48:54.872Z"
   },
   {
    "duration": 24,
    "start_time": "2022-10-27T17:48:55.513Z"
   },
   {
    "duration": 6,
    "start_time": "2022-10-27T17:48:55.539Z"
   },
   {
    "duration": 37,
    "start_time": "2022-10-27T17:48:55.547Z"
   },
   {
    "duration": 63,
    "start_time": "2022-10-27T17:48:55.586Z"
   },
   {
    "duration": 258,
    "start_time": "2022-10-27T17:48:55.651Z"
   },
   {
    "duration": 453,
    "start_time": "2022-10-27T17:48:55.910Z"
   },
   {
    "duration": 98,
    "start_time": "2022-10-27T17:48:56.364Z"
   },
   {
    "duration": 216,
    "start_time": "2022-10-27T17:48:56.464Z"
   },
   {
    "duration": 847,
    "start_time": "2022-10-27T17:48:56.681Z"
   },
   {
    "duration": 997,
    "start_time": "2022-10-27T17:48:57.530Z"
   },
   {
    "duration": 958,
    "start_time": "2022-10-27T17:48:58.530Z"
   },
   {
    "duration": 3,
    "start_time": "2022-10-27T17:48:59.490Z"
   },
   {
    "duration": 135,
    "start_time": "2022-10-27T17:48:59.494Z"
   },
   {
    "duration": 1592,
    "start_time": "2022-10-27T17:48:59.631Z"
   },
   {
    "duration": 1199,
    "start_time": "2022-10-27T17:49:01.225Z"
   },
   {
    "duration": 1654254,
    "start_time": "2022-10-27T17:49:02.426Z"
   },
   {
    "duration": 1111870,
    "start_time": "2022-10-27T18:16:36.682Z"
   },
   {
    "duration": 220,
    "start_time": "2022-10-27T18:55:31.028Z"
   },
   {
    "duration": 333,
    "start_time": "2022-10-27T18:56:10.780Z"
   },
   {
    "duration": 1226,
    "start_time": "2022-10-27T19:00:11.170Z"
   },
   {
    "duration": 663,
    "start_time": "2022-10-27T19:00:12.398Z"
   },
   {
    "duration": 21,
    "start_time": "2022-10-27T19:00:13.062Z"
   },
   {
    "duration": 6,
    "start_time": "2022-10-27T19:00:13.086Z"
   },
   {
    "duration": 50,
    "start_time": "2022-10-27T19:00:13.093Z"
   },
   {
    "duration": 56,
    "start_time": "2022-10-27T19:00:13.144Z"
   },
   {
    "duration": 251,
    "start_time": "2022-10-27T19:00:13.202Z"
   },
   {
    "duration": 451,
    "start_time": "2022-10-27T19:00:13.454Z"
   },
   {
    "duration": 58,
    "start_time": "2022-10-27T19:00:13.907Z"
   },
   {
    "duration": 234,
    "start_time": "2022-10-27T19:00:13.967Z"
   },
   {
    "duration": 858,
    "start_time": "2022-10-27T19:00:14.203Z"
   },
   {
    "duration": 981,
    "start_time": "2022-10-27T19:00:15.063Z"
   },
   {
    "duration": 826,
    "start_time": "2022-10-27T19:00:16.045Z"
   },
   {
    "duration": 3,
    "start_time": "2022-10-27T19:00:16.873Z"
   },
   {
    "duration": 129,
    "start_time": "2022-10-27T19:00:16.877Z"
   },
   {
    "duration": 1316,
    "start_time": "2022-10-27T19:00:17.007Z"
   },
   {
    "duration": 1001,
    "start_time": "2022-10-27T19:00:18.324Z"
   },
   {
    "duration": 1237,
    "start_time": "2022-10-27T19:02:40.162Z"
   },
   {
    "duration": 677,
    "start_time": "2022-10-27T19:02:41.400Z"
   },
   {
    "duration": 20,
    "start_time": "2022-10-27T19:02:42.078Z"
   },
   {
    "duration": 6,
    "start_time": "2022-10-27T19:02:42.100Z"
   },
   {
    "duration": 35,
    "start_time": "2022-10-27T19:02:42.121Z"
   },
   {
    "duration": 73,
    "start_time": "2022-10-27T19:02:42.157Z"
   },
   {
    "duration": 235,
    "start_time": "2022-10-27T19:02:42.231Z"
   },
   {
    "duration": 1131,
    "start_time": "2022-10-27T19:02:42.468Z"
   },
   {
    "duration": 0,
    "start_time": "2022-10-27T19:02:43.600Z"
   },
   {
    "duration": 0,
    "start_time": "2022-10-27T19:02:43.601Z"
   },
   {
    "duration": 0,
    "start_time": "2022-10-27T19:02:43.602Z"
   },
   {
    "duration": 0,
    "start_time": "2022-10-27T19:02:43.603Z"
   },
   {
    "duration": 0,
    "start_time": "2022-10-27T19:02:43.604Z"
   },
   {
    "duration": 0,
    "start_time": "2022-10-27T19:02:43.606Z"
   },
   {
    "duration": 0,
    "start_time": "2022-10-27T19:02:43.606Z"
   },
   {
    "duration": 0,
    "start_time": "2022-10-27T19:02:43.607Z"
   },
   {
    "duration": 0,
    "start_time": "2022-10-27T19:02:43.609Z"
   },
   {
    "duration": 0,
    "start_time": "2022-10-27T19:02:43.610Z"
   },
   {
    "duration": 0,
    "start_time": "2022-10-27T19:02:43.610Z"
   },
   {
    "duration": 659,
    "start_time": "2022-10-27T19:03:11.767Z"
   },
   {
    "duration": 52,
    "start_time": "2022-10-27T19:06:52.269Z"
   },
   {
    "duration": 67,
    "start_time": "2022-10-27T19:07:00.857Z"
   },
   {
    "duration": 168,
    "start_time": "2022-10-27T19:07:47.373Z"
   },
   {
    "duration": 49,
    "start_time": "2022-10-27T19:10:26.235Z"
   },
   {
    "duration": 1282,
    "start_time": "2022-10-27T19:10:30.791Z"
   },
   {
    "duration": 661,
    "start_time": "2022-10-27T19:10:32.075Z"
   },
   {
    "duration": 21,
    "start_time": "2022-10-27T19:10:32.738Z"
   },
   {
    "duration": 6,
    "start_time": "2022-10-27T19:10:32.760Z"
   },
   {
    "duration": 35,
    "start_time": "2022-10-27T19:10:32.768Z"
   },
   {
    "duration": 48,
    "start_time": "2022-10-27T19:10:32.823Z"
   },
   {
    "duration": 259,
    "start_time": "2022-10-27T19:10:32.873Z"
   },
   {
    "duration": 789,
    "start_time": "2022-10-27T19:10:33.134Z"
   },
   {
    "duration": 106,
    "start_time": "2022-10-27T19:10:33.925Z"
   },
   {
    "duration": 234,
    "start_time": "2022-10-27T19:10:34.035Z"
   },
   {
    "duration": 832,
    "start_time": "2022-10-27T19:10:34.270Z"
   },
   {
    "duration": 1026,
    "start_time": "2022-10-27T19:10:35.104Z"
   },
   {
    "duration": 804,
    "start_time": "2022-10-27T19:10:36.132Z"
   },
   {
    "duration": 3,
    "start_time": "2022-10-27T19:10:36.937Z"
   },
   {
    "duration": 118,
    "start_time": "2022-10-27T19:10:36.941Z"
   },
   {
    "duration": 1160,
    "start_time": "2022-10-27T19:10:37.061Z"
   },
   {
    "duration": 902,
    "start_time": "2022-10-27T19:10:38.224Z"
   },
   {
    "duration": 1304,
    "start_time": "2022-10-27T19:15:31.409Z"
   },
   {
    "duration": 675,
    "start_time": "2022-10-27T19:15:32.715Z"
   },
   {
    "duration": 21,
    "start_time": "2022-10-27T19:15:33.391Z"
   },
   {
    "duration": 9,
    "start_time": "2022-10-27T19:15:33.423Z"
   },
   {
    "duration": 47,
    "start_time": "2022-10-27T19:15:33.434Z"
   },
   {
    "duration": 66,
    "start_time": "2022-10-27T19:15:33.482Z"
   },
   {
    "duration": 265,
    "start_time": "2022-10-27T19:15:33.550Z"
   },
   {
    "duration": 116,
    "start_time": "2022-10-27T19:15:33.816Z"
   },
   {
    "duration": 0,
    "start_time": "2022-10-27T19:15:33.934Z"
   },
   {
    "duration": 0,
    "start_time": "2022-10-27T19:15:33.935Z"
   },
   {
    "duration": 0,
    "start_time": "2022-10-27T19:15:33.936Z"
   },
   {
    "duration": 0,
    "start_time": "2022-10-27T19:15:33.937Z"
   },
   {
    "duration": 0,
    "start_time": "2022-10-27T19:15:33.938Z"
   },
   {
    "duration": 0,
    "start_time": "2022-10-27T19:15:33.939Z"
   },
   {
    "duration": 0,
    "start_time": "2022-10-27T19:15:33.940Z"
   },
   {
    "duration": 0,
    "start_time": "2022-10-27T19:15:33.941Z"
   },
   {
    "duration": 0,
    "start_time": "2022-10-27T19:15:33.941Z"
   },
   {
    "duration": 0,
    "start_time": "2022-10-27T19:15:33.943Z"
   },
   {
    "duration": 0,
    "start_time": "2022-10-27T19:15:33.944Z"
   },
   {
    "duration": 1498,
    "start_time": "2022-10-27T19:16:10.674Z"
   },
   {
    "duration": 694,
    "start_time": "2022-10-27T19:16:12.174Z"
   },
   {
    "duration": 22,
    "start_time": "2022-10-27T19:16:12.869Z"
   },
   {
    "duration": 6,
    "start_time": "2022-10-27T19:16:12.894Z"
   },
   {
    "duration": 35,
    "start_time": "2022-10-27T19:16:12.922Z"
   },
   {
    "duration": 70,
    "start_time": "2022-10-27T19:16:12.958Z"
   },
   {
    "duration": 267,
    "start_time": "2022-10-27T19:16:13.030Z"
   },
   {
    "duration": 125,
    "start_time": "2022-10-27T19:16:13.299Z"
   },
   {
    "duration": 0,
    "start_time": "2022-10-27T19:16:13.426Z"
   },
   {
    "duration": 0,
    "start_time": "2022-10-27T19:16:13.428Z"
   },
   {
    "duration": 0,
    "start_time": "2022-10-27T19:16:13.429Z"
   },
   {
    "duration": 0,
    "start_time": "2022-10-27T19:16:13.430Z"
   },
   {
    "duration": 0,
    "start_time": "2022-10-27T19:16:13.431Z"
   },
   {
    "duration": 0,
    "start_time": "2022-10-27T19:16:13.432Z"
   },
   {
    "duration": 0,
    "start_time": "2022-10-27T19:16:13.433Z"
   },
   {
    "duration": 0,
    "start_time": "2022-10-27T19:16:13.434Z"
   },
   {
    "duration": 0,
    "start_time": "2022-10-27T19:16:13.436Z"
   },
   {
    "duration": 0,
    "start_time": "2022-10-27T19:16:13.438Z"
   },
   {
    "duration": 0,
    "start_time": "2022-10-27T19:16:13.439Z"
   },
   {
    "duration": 1300,
    "start_time": "2022-10-27T19:16:46.992Z"
   },
   {
    "duration": 690,
    "start_time": "2022-10-27T19:16:48.294Z"
   },
   {
    "duration": 23,
    "start_time": "2022-10-27T19:16:48.987Z"
   },
   {
    "duration": 14,
    "start_time": "2022-10-27T19:16:49.012Z"
   },
   {
    "duration": 51,
    "start_time": "2022-10-27T19:16:49.027Z"
   },
   {
    "duration": 71,
    "start_time": "2022-10-27T19:16:49.080Z"
   },
   {
    "duration": 260,
    "start_time": "2022-10-27T19:16:49.153Z"
   },
   {
    "duration": 802,
    "start_time": "2022-10-27T19:16:49.415Z"
   },
   {
    "duration": 108,
    "start_time": "2022-10-27T19:16:50.222Z"
   },
   {
    "duration": 226,
    "start_time": "2022-10-27T19:16:50.334Z"
   },
   {
    "duration": 824,
    "start_time": "2022-10-27T19:16:50.562Z"
   },
   {
    "duration": 983,
    "start_time": "2022-10-27T19:16:51.388Z"
   },
   {
    "duration": 815,
    "start_time": "2022-10-27T19:16:52.373Z"
   },
   {
    "duration": 4,
    "start_time": "2022-10-27T19:16:53.189Z"
   },
   {
    "duration": 133,
    "start_time": "2022-10-27T19:16:53.195Z"
   },
   {
    "duration": 1496,
    "start_time": "2022-10-27T19:16:53.329Z"
   },
   {
    "duration": 1003,
    "start_time": "2022-10-27T19:16:54.827Z"
   },
   {
    "duration": 1278,
    "start_time": "2022-10-27T19:20:25.106Z"
   },
   {
    "duration": 683,
    "start_time": "2022-10-27T19:20:26.385Z"
   },
   {
    "duration": 22,
    "start_time": "2022-10-27T19:20:27.069Z"
   },
   {
    "duration": 6,
    "start_time": "2022-10-27T19:20:27.093Z"
   },
   {
    "duration": 67,
    "start_time": "2022-10-27T19:20:27.101Z"
   },
   {
    "duration": 127,
    "start_time": "2022-10-27T19:20:27.170Z"
   },
   {
    "duration": 273,
    "start_time": "2022-10-27T19:20:27.299Z"
   },
   {
    "duration": 768,
    "start_time": "2022-10-27T19:20:27.573Z"
   },
   {
    "duration": 113,
    "start_time": "2022-10-27T19:20:28.343Z"
   },
   {
    "duration": 228,
    "start_time": "2022-10-27T19:20:28.458Z"
   },
   {
    "duration": 924,
    "start_time": "2022-10-27T19:20:28.688Z"
   },
   {
    "duration": 962,
    "start_time": "2022-10-27T19:20:29.614Z"
   },
   {
    "duration": 807,
    "start_time": "2022-10-27T19:20:30.577Z"
   },
   {
    "duration": 3,
    "start_time": "2022-10-27T19:20:31.386Z"
   },
   {
    "duration": 132,
    "start_time": "2022-10-27T19:20:31.390Z"
   },
   {
    "duration": 999,
    "start_time": "2022-10-27T19:20:31.524Z"
   },
   {
    "duration": 901,
    "start_time": "2022-10-27T19:20:32.525Z"
   },
   {
    "duration": 1672183,
    "start_time": "2022-10-27T19:20:33.431Z"
   },
   {
    "duration": 53,
    "start_time": "2022-10-28T10:28:14.530Z"
   },
   {
    "duration": 1495,
    "start_time": "2022-10-28T10:28:26.824Z"
   },
   {
    "duration": 2996,
    "start_time": "2022-10-28T10:28:28.321Z"
   },
   {
    "duration": 21,
    "start_time": "2022-10-28T10:28:31.319Z"
   },
   {
    "duration": 23,
    "start_time": "2022-10-28T10:28:31.342Z"
   },
   {
    "duration": 50,
    "start_time": "2022-10-28T10:28:31.366Z"
   },
   {
    "duration": 71,
    "start_time": "2022-10-28T10:28:31.418Z"
   },
   {
    "duration": 266,
    "start_time": "2022-10-28T10:28:31.491Z"
   },
   {
    "duration": 932,
    "start_time": "2022-10-28T10:28:31.759Z"
   },
   {
    "duration": 124,
    "start_time": "2022-10-28T10:28:32.693Z"
   },
   {
    "duration": 399,
    "start_time": "2022-10-28T10:28:32.819Z"
   },
   {
    "duration": 961,
    "start_time": "2022-10-28T10:28:33.220Z"
   },
   {
    "duration": 1205,
    "start_time": "2022-10-28T10:28:34.183Z"
   },
   {
    "duration": 964,
    "start_time": "2022-10-28T10:28:35.390Z"
   },
   {
    "duration": 3,
    "start_time": "2022-10-28T10:28:36.355Z"
   },
   {
    "duration": 139,
    "start_time": "2022-10-28T10:28:36.360Z"
   },
   {
    "duration": 1476,
    "start_time": "2022-10-28T10:28:36.501Z"
   },
   {
    "duration": 1201,
    "start_time": "2022-10-28T10:28:37.979Z"
   },
   {
    "duration": 0,
    "start_time": "2022-10-28T10:29:54.151Z"
   },
   {
    "duration": 0,
    "start_time": "2022-10-28T10:29:54.153Z"
   },
   {
    "duration": 0,
    "start_time": "2022-10-28T10:29:54.155Z"
   },
   {
    "duration": 4,
    "start_time": "2022-10-28T10:30:03.906Z"
   },
   {
    "duration": 542,
    "start_time": "2022-10-28T10:30:25.335Z"
   },
   {
    "duration": 348,
    "start_time": "2022-10-28T10:30:34.869Z"
   },
   {
    "duration": 347,
    "start_time": "2022-10-28T10:31:18.235Z"
   },
   {
    "duration": 865,
    "start_time": "2022-10-28T10:31:36.134Z"
   },
   {
    "duration": 5751,
    "start_time": "2022-10-28T10:31:48.456Z"
   },
   {
    "duration": 12279,
    "start_time": "2022-10-28T10:32:37.757Z"
   },
   {
    "duration": 22,
    "start_time": "2022-10-28T10:34:59.451Z"
   },
   {
    "duration": 25255,
    "start_time": "2022-10-28T10:36:27.109Z"
   },
   {
    "duration": 25035,
    "start_time": "2022-10-28T10:37:07.312Z"
   },
   {
    "duration": 51,
    "start_time": "2022-10-28T10:46:36.390Z"
   },
   {
    "duration": 77,
    "start_time": "2022-10-28T10:47:03.542Z"
   },
   {
    "duration": 27074,
    "start_time": "2022-10-28T10:47:15.539Z"
   },
   {
    "duration": 33965,
    "start_time": "2022-10-28T10:56:34.466Z"
   },
   {
    "duration": 13460,
    "start_time": "2022-10-28T10:57:15.634Z"
   },
   {
    "duration": 65,
    "start_time": "2022-10-28T11:02:46.236Z"
   },
   {
    "duration": 22754,
    "start_time": "2022-10-28T11:02:50.611Z"
   },
   {
    "duration": 5660,
    "start_time": "2022-10-28T11:09:19.137Z"
   },
   {
    "duration": 5688,
    "start_time": "2022-10-28T11:09:36.625Z"
   },
   {
    "duration": 256,
    "start_time": "2022-10-28T11:10:30.002Z"
   },
   {
    "duration": 1404,
    "start_time": "2022-10-28T11:12:39.131Z"
   },
   {
    "duration": 28,
    "start_time": "2022-10-28T11:14:35.619Z"
   },
   {
    "duration": 24032,
    "start_time": "2022-10-28T11:14:49.716Z"
   },
   {
    "duration": 29552,
    "start_time": "2022-10-28T11:17:00.343Z"
   },
   {
    "duration": 30734,
    "start_time": "2022-10-28T11:18:17.946Z"
   },
   {
    "duration": 1440,
    "start_time": "2022-10-28T11:37:05.941Z"
   },
   {
    "duration": 1422,
    "start_time": "2022-10-28T11:37:36.647Z"
   },
   {
    "duration": 959,
    "start_time": "2022-10-28T11:40:47.796Z"
   },
   {
    "duration": 59,
    "start_time": "2022-10-28T11:41:25.284Z"
   },
   {
    "duration": 3067,
    "start_time": "2022-10-28T11:41:29.120Z"
   },
   {
    "duration": 1179,
    "start_time": "2022-10-28T11:41:51.469Z"
   },
   {
    "duration": 948,
    "start_time": "2022-10-28T11:45:55.685Z"
   },
   {
    "duration": 1556,
    "start_time": "2022-10-28T11:46:23.853Z"
   },
   {
    "duration": 1754,
    "start_time": "2022-10-28T11:46:30.537Z"
   },
   {
    "duration": 1563,
    "start_time": "2022-10-28T11:47:08.117Z"
   },
   {
    "duration": 1304,
    "start_time": "2022-10-28T11:47:36.972Z"
   },
   {
    "duration": 81,
    "start_time": "2022-10-28T11:50:26.883Z"
   },
   {
    "duration": 1566,
    "start_time": "2022-10-28T14:12:35.625Z"
   },
   {
    "duration": 1812,
    "start_time": "2022-10-28T14:12:37.193Z"
   },
   {
    "duration": 21,
    "start_time": "2022-10-28T14:12:39.007Z"
   },
   {
    "duration": 7,
    "start_time": "2022-10-28T14:12:39.030Z"
   },
   {
    "duration": 59,
    "start_time": "2022-10-28T14:12:39.039Z"
   },
   {
    "duration": 51,
    "start_time": "2022-10-28T14:12:39.100Z"
   },
   {
    "duration": 291,
    "start_time": "2022-10-28T14:12:39.153Z"
   },
   {
    "duration": 863,
    "start_time": "2022-10-28T14:12:39.445Z"
   },
   {
    "duration": 133,
    "start_time": "2022-10-28T14:12:40.310Z"
   },
   {
    "duration": 98,
    "start_time": "2022-10-28T14:12:40.445Z"
   },
   {
    "duration": 27790,
    "start_time": "2022-10-28T14:12:40.544Z"
   },
   {
    "duration": 1284,
    "start_time": "2022-10-28T14:13:08.335Z"
   },
   {
    "duration": 1459,
    "start_time": "2022-10-28T14:13:09.622Z"
   },
   {
    "duration": 963,
    "start_time": "2022-10-28T14:13:11.083Z"
   },
   {
    "duration": 3,
    "start_time": "2022-10-28T14:13:12.048Z"
   },
   {
    "duration": 148,
    "start_time": "2022-10-28T14:13:12.053Z"
   },
   {
    "duration": 1396,
    "start_time": "2022-10-28T14:13:12.202Z"
   },
   {
    "duration": 1191,
    "start_time": "2022-10-28T14:13:13.600Z"
   },
   {
    "duration": 5,
    "start_time": "2022-10-28T14:13:14.793Z"
   },
   {
    "duration": 12,
    "start_time": "2022-10-28T14:13:14.799Z"
   },
   {
    "duration": 79,
    "start_time": "2022-10-28T14:22:32.338Z"
   },
   {
    "duration": 1223,
    "start_time": "2022-10-28T14:25:30.922Z"
   },
   {
    "duration": 1141,
    "start_time": "2022-10-28T14:25:43.781Z"
   },
   {
    "duration": 1167,
    "start_time": "2022-10-28T14:27:03.842Z"
   },
   {
    "duration": 1072,
    "start_time": "2022-10-28T14:38:45.017Z"
   },
   {
    "duration": 962,
    "start_time": "2022-10-28T14:39:31.564Z"
   },
   {
    "duration": 128,
    "start_time": "2022-10-28T14:39:57.988Z"
   },
   {
    "duration": 939,
    "start_time": "2022-10-28T14:40:28.975Z"
   },
   {
    "duration": 798,
    "start_time": "2022-10-28T14:43:46.948Z"
   },
   {
    "duration": 883,
    "start_time": "2022-10-28T14:44:14.486Z"
   },
   {
    "duration": 879,
    "start_time": "2022-10-28T14:46:52.475Z"
   },
   {
    "duration": 831,
    "start_time": "2022-10-28T14:52:20.092Z"
   },
   {
    "duration": 1099,
    "start_time": "2022-10-28T14:52:46.781Z"
   },
   {
    "duration": 119,
    "start_time": "2022-10-28T14:55:17.580Z"
   },
   {
    "duration": 790,
    "start_time": "2022-10-28T14:55:18.204Z"
   },
   {
    "duration": 1366,
    "start_time": "2022-10-28T14:55:24.294Z"
   },
   {
    "duration": 729,
    "start_time": "2022-10-28T14:55:25.662Z"
   },
   {
    "duration": 22,
    "start_time": "2022-10-28T14:55:26.392Z"
   },
   {
    "duration": 7,
    "start_time": "2022-10-28T14:55:26.416Z"
   },
   {
    "duration": 39,
    "start_time": "2022-10-28T14:55:26.425Z"
   },
   {
    "duration": 85,
    "start_time": "2022-10-28T14:55:26.465Z"
   },
   {
    "duration": 365,
    "start_time": "2022-10-28T14:55:26.552Z"
   },
   {
    "duration": 923,
    "start_time": "2022-10-28T14:55:26.919Z"
   },
   {
    "duration": 130,
    "start_time": "2022-10-28T14:55:27.844Z"
   },
   {
    "duration": 114,
    "start_time": "2022-10-28T14:55:27.977Z"
   },
   {
    "duration": 30215,
    "start_time": "2022-10-28T14:55:28.093Z"
   },
   {
    "duration": 1203,
    "start_time": "2022-10-28T14:55:58.310Z"
   },
   {
    "duration": 1288,
    "start_time": "2022-10-28T14:55:59.514Z"
   },
   {
    "duration": 129,
    "start_time": "2022-10-28T14:56:00.804Z"
   },
   {
    "duration": 845,
    "start_time": "2022-10-28T14:56:00.935Z"
   },
   {
    "duration": 9,
    "start_time": "2022-10-28T14:56:01.782Z"
   },
   {
    "duration": 138,
    "start_time": "2022-10-28T14:56:01.793Z"
   },
   {
    "duration": 1262,
    "start_time": "2022-10-28T14:56:01.933Z"
   },
   {
    "duration": 1200,
    "start_time": "2022-10-28T14:56:03.197Z"
   },
   {
    "duration": 98,
    "start_time": "2022-10-28T14:56:04.400Z"
   },
   {
    "duration": 7,
    "start_time": "2022-10-28T14:56:04.500Z"
   },
   {
    "duration": 1520,
    "start_time": "2022-10-29T09:18:46.496Z"
   },
   {
    "duration": 2983,
    "start_time": "2022-10-29T09:18:48.017Z"
   },
   {
    "duration": 19,
    "start_time": "2022-10-29T09:18:51.002Z"
   },
   {
    "duration": 7,
    "start_time": "2022-10-29T09:18:51.023Z"
   },
   {
    "duration": 34,
    "start_time": "2022-10-29T09:18:51.032Z"
   },
   {
    "duration": 60,
    "start_time": "2022-10-29T09:18:51.068Z"
   },
   {
    "duration": 250,
    "start_time": "2022-10-29T09:18:51.130Z"
   },
   {
    "duration": 869,
    "start_time": "2022-10-29T09:18:51.381Z"
   },
   {
    "duration": 106,
    "start_time": "2022-10-29T09:18:52.251Z"
   },
   {
    "duration": 92,
    "start_time": "2022-10-29T09:18:52.359Z"
   },
   {
    "duration": 24920,
    "start_time": "2022-10-29T09:18:52.453Z"
   },
   {
    "duration": 1392,
    "start_time": "2022-10-29T09:19:17.374Z"
   },
   {
    "duration": 1288,
    "start_time": "2022-10-29T09:19:18.768Z"
   },
   {
    "duration": 117,
    "start_time": "2022-10-29T09:19:20.058Z"
   },
   {
    "duration": 837,
    "start_time": "2022-10-29T09:19:20.176Z"
   },
   {
    "duration": 4,
    "start_time": "2022-10-29T09:19:21.015Z"
   },
   {
    "duration": 132,
    "start_time": "2022-10-29T09:19:21.021Z"
   },
   {
    "duration": 1857,
    "start_time": "2022-10-29T09:19:21.155Z"
   },
   {
    "duration": 1396,
    "start_time": "2022-10-29T09:19:23.014Z"
   },
   {
    "duration": 3,
    "start_time": "2022-10-29T09:19:24.412Z"
   },
   {
    "duration": 14,
    "start_time": "2022-10-29T09:19:24.417Z"
   },
   {
    "duration": 1634,
    "start_time": "2022-10-29T15:32:35.678Z"
   },
   {
    "duration": 3474,
    "start_time": "2022-10-29T15:32:37.314Z"
   },
   {
    "duration": 19,
    "start_time": "2022-10-29T15:32:40.790Z"
   },
   {
    "duration": 7,
    "start_time": "2022-10-29T15:32:40.811Z"
   },
   {
    "duration": 33,
    "start_time": "2022-10-29T15:32:40.820Z"
   },
   {
    "duration": 74,
    "start_time": "2022-10-29T15:32:40.854Z"
   },
   {
    "duration": 246,
    "start_time": "2022-10-29T15:32:40.930Z"
   },
   {
    "duration": 839,
    "start_time": "2022-10-29T15:32:41.177Z"
   },
   {
    "duration": 104,
    "start_time": "2022-10-29T15:32:42.018Z"
   },
   {
    "duration": 90,
    "start_time": "2022-10-29T15:32:42.125Z"
   },
   {
    "duration": 24414,
    "start_time": "2022-10-29T15:32:42.217Z"
   },
   {
    "duration": 1182,
    "start_time": "2022-10-29T15:33:06.633Z"
   },
   {
    "duration": 1081,
    "start_time": "2022-10-29T15:33:07.817Z"
   },
   {
    "duration": 116,
    "start_time": "2022-10-29T15:33:08.900Z"
   },
   {
    "duration": 714,
    "start_time": "2022-10-29T15:33:09.018Z"
   },
   {
    "duration": 3,
    "start_time": "2022-10-29T15:33:09.734Z"
   },
   {
    "duration": 119,
    "start_time": "2022-10-29T15:33:09.739Z"
   },
   {
    "duration": 1158,
    "start_time": "2022-10-29T15:33:09.859Z"
   },
   {
    "duration": 1193,
    "start_time": "2022-10-29T15:33:11.020Z"
   },
   {
    "duration": 6,
    "start_time": "2022-10-29T15:33:12.214Z"
   },
   {
    "duration": 99,
    "start_time": "2022-10-29T15:33:12.222Z"
   },
   {
    "duration": 221,
    "start_time": "2022-10-29T15:48:07.206Z"
   },
   {
    "duration": 4,
    "start_time": "2022-10-29T15:48:12.459Z"
   },
   {
    "duration": 103,
    "start_time": "2022-10-29T15:48:13.597Z"
   },
   {
    "duration": 1211,
    "start_time": "2022-10-29T15:48:17.202Z"
   },
   {
    "duration": 5,
    "start_time": "2022-10-29T16:01:04.482Z"
   },
   {
    "duration": 113,
    "start_time": "2022-10-29T16:01:07.171Z"
   },
   {
    "duration": 1078,
    "start_time": "2022-10-29T16:01:10.132Z"
   },
   {
    "duration": 652,
    "start_time": "2022-10-29T16:01:13.660Z"
   },
   {
    "duration": 4,
    "start_time": "2022-10-29T16:01:15.759Z"
   },
   {
    "duration": 3,
    "start_time": "2022-10-29T16:01:17.794Z"
   },
   {
    "duration": 697,
    "start_time": "2022-10-29T17:41:38.550Z"
   },
   {
    "duration": 16,
    "start_time": "2022-10-29T17:47:22.021Z"
   },
   {
    "duration": 12,
    "start_time": "2022-10-29T17:47:30.087Z"
   },
   {
    "duration": 20,
    "start_time": "2022-10-29T17:47:41.128Z"
   },
   {
    "duration": 12,
    "start_time": "2022-10-29T17:48:57.525Z"
   },
   {
    "duration": 14,
    "start_time": "2022-10-29T17:49:04.380Z"
   },
   {
    "duration": 18,
    "start_time": "2022-10-29T17:49:43.185Z"
   },
   {
    "duration": 4,
    "start_time": "2022-10-29T17:50:07.202Z"
   },
   {
    "duration": 16,
    "start_time": "2022-10-29T17:50:10.621Z"
   },
   {
    "duration": 15,
    "start_time": "2022-10-29T17:50:16.793Z"
   },
   {
    "duration": 18,
    "start_time": "2022-10-29T18:06:01.278Z"
   },
   {
    "duration": 1327,
    "start_time": "2022-10-29T18:06:07.077Z"
   },
   {
    "duration": 698,
    "start_time": "2022-10-29T18:06:08.406Z"
   },
   {
    "duration": 19,
    "start_time": "2022-10-29T18:06:09.106Z"
   },
   {
    "duration": 6,
    "start_time": "2022-10-29T18:06:09.127Z"
   },
   {
    "duration": 36,
    "start_time": "2022-10-29T18:06:09.134Z"
   },
   {
    "duration": 69,
    "start_time": "2022-10-29T18:06:09.171Z"
   },
   {
    "duration": 254,
    "start_time": "2022-10-29T18:06:09.242Z"
   },
   {
    "duration": 800,
    "start_time": "2022-10-29T18:06:09.498Z"
   },
   {
    "duration": 101,
    "start_time": "2022-10-29T18:06:10.299Z"
   },
   {
    "duration": 81,
    "start_time": "2022-10-29T18:06:10.408Z"
   },
   {
    "duration": 1381,
    "start_time": "2022-10-29T18:06:32.122Z"
   },
   {
    "duration": 698,
    "start_time": "2022-10-29T18:06:33.505Z"
   },
   {
    "duration": 22,
    "start_time": "2022-10-29T18:06:34.204Z"
   },
   {
    "duration": 6,
    "start_time": "2022-10-29T18:06:34.228Z"
   },
   {
    "duration": 38,
    "start_time": "2022-10-29T18:06:34.236Z"
   },
   {
    "duration": 67,
    "start_time": "2022-10-29T18:06:34.276Z"
   },
   {
    "duration": 299,
    "start_time": "2022-10-29T18:06:34.345Z"
   },
   {
    "duration": 850,
    "start_time": "2022-10-29T18:06:34.646Z"
   },
   {
    "duration": 102,
    "start_time": "2022-10-29T18:06:35.498Z"
   },
   {
    "duration": 77,
    "start_time": "2022-10-29T18:06:35.608Z"
   },
   {
    "duration": 24717,
    "start_time": "2022-10-29T18:06:35.686Z"
   },
   {
    "duration": 1209,
    "start_time": "2022-10-29T18:07:00.405Z"
   },
   {
    "duration": 1093,
    "start_time": "2022-10-29T18:07:01.616Z"
   },
   {
    "duration": 115,
    "start_time": "2022-10-29T18:07:02.711Z"
   },
   {
    "duration": 734,
    "start_time": "2022-10-29T18:07:02.828Z"
   },
   {
    "duration": 3,
    "start_time": "2022-10-29T18:07:03.564Z"
   },
   {
    "duration": 10,
    "start_time": "2022-10-29T18:07:03.569Z"
   },
   {
    "duration": 163,
    "start_time": "2022-10-29T18:07:03.580Z"
   },
   {
    "duration": 0,
    "start_time": "2022-10-29T18:07:03.744Z"
   },
   {
    "duration": 0,
    "start_time": "2022-10-29T18:07:03.745Z"
   },
   {
    "duration": 0,
    "start_time": "2022-10-29T18:07:03.747Z"
   },
   {
    "duration": 0,
    "start_time": "2022-10-29T18:07:03.748Z"
   },
   {
    "duration": 0,
    "start_time": "2022-10-29T18:07:03.749Z"
   },
   {
    "duration": 16,
    "start_time": "2022-10-29T18:15:09.016Z"
   },
   {
    "duration": 19,
    "start_time": "2022-10-29T18:16:05.678Z"
   },
   {
    "duration": 1293,
    "start_time": "2022-10-29T18:16:15.516Z"
   },
   {
    "duration": 710,
    "start_time": "2022-10-29T18:16:16.811Z"
   },
   {
    "duration": 19,
    "start_time": "2022-10-29T18:16:17.522Z"
   },
   {
    "duration": 8,
    "start_time": "2022-10-29T18:16:17.544Z"
   },
   {
    "duration": 62,
    "start_time": "2022-10-29T18:16:17.554Z"
   },
   {
    "duration": 52,
    "start_time": "2022-10-29T18:16:17.618Z"
   },
   {
    "duration": 267,
    "start_time": "2022-10-29T18:16:17.671Z"
   },
   {
    "duration": 793,
    "start_time": "2022-10-29T18:16:17.940Z"
   },
   {
    "duration": 102,
    "start_time": "2022-10-29T18:16:18.734Z"
   },
   {
    "duration": 82,
    "start_time": "2022-10-29T18:16:18.838Z"
   },
   {
    "duration": 24259,
    "start_time": "2022-10-29T18:16:18.921Z"
   },
   {
    "duration": 1246,
    "start_time": "2022-10-29T18:16:43.182Z"
   },
   {
    "duration": 1132,
    "start_time": "2022-10-29T18:16:44.430Z"
   },
   {
    "duration": 118,
    "start_time": "2022-10-29T18:16:45.564Z"
   },
   {
    "duration": 737,
    "start_time": "2022-10-29T18:16:45.684Z"
   },
   {
    "duration": 3,
    "start_time": "2022-10-29T18:16:46.423Z"
   },
   {
    "duration": 12,
    "start_time": "2022-10-29T18:16:46.428Z"
   },
   {
    "duration": 148,
    "start_time": "2022-10-29T18:16:46.442Z"
   },
   {
    "duration": 0,
    "start_time": "2022-10-29T18:16:46.591Z"
   },
   {
    "duration": 0,
    "start_time": "2022-10-29T18:16:46.593Z"
   },
   {
    "duration": 0,
    "start_time": "2022-10-29T18:16:46.594Z"
   },
   {
    "duration": 0,
    "start_time": "2022-10-29T18:16:46.596Z"
   },
   {
    "duration": 0,
    "start_time": "2022-10-29T18:16:46.609Z"
   },
   {
    "duration": 1286,
    "start_time": "2022-10-29T18:17:46.807Z"
   },
   {
    "duration": 679,
    "start_time": "2022-10-29T18:17:48.095Z"
   },
   {
    "duration": 19,
    "start_time": "2022-10-29T18:17:48.776Z"
   },
   {
    "duration": 16,
    "start_time": "2022-10-29T18:17:48.797Z"
   },
   {
    "duration": 35,
    "start_time": "2022-10-29T18:17:48.814Z"
   },
   {
    "duration": 65,
    "start_time": "2022-10-29T18:17:48.850Z"
   },
   {
    "duration": 247,
    "start_time": "2022-10-29T18:17:48.916Z"
   },
   {
    "duration": 801,
    "start_time": "2022-10-29T18:17:49.165Z"
   },
   {
    "duration": 106,
    "start_time": "2022-10-29T18:17:49.968Z"
   },
   {
    "duration": 88,
    "start_time": "2022-10-29T18:17:50.076Z"
   },
   {
    "duration": 24419,
    "start_time": "2022-10-29T18:17:50.165Z"
   },
   {
    "duration": 1241,
    "start_time": "2022-10-29T18:18:14.586Z"
   },
   {
    "duration": 1128,
    "start_time": "2022-10-29T18:18:15.828Z"
   },
   {
    "duration": 113,
    "start_time": "2022-10-29T18:18:16.957Z"
   },
   {
    "duration": 739,
    "start_time": "2022-10-29T18:18:17.071Z"
   },
   {
    "duration": 3,
    "start_time": "2022-10-29T18:18:17.811Z"
   },
   {
    "duration": 9,
    "start_time": "2022-10-29T18:18:17.816Z"
   },
   {
    "duration": 131,
    "start_time": "2022-10-29T18:18:17.826Z"
   },
   {
    "duration": 0,
    "start_time": "2022-10-29T18:18:17.959Z"
   },
   {
    "duration": 0,
    "start_time": "2022-10-29T18:18:17.960Z"
   },
   {
    "duration": 0,
    "start_time": "2022-10-29T18:18:17.961Z"
   },
   {
    "duration": 0,
    "start_time": "2022-10-29T18:18:17.962Z"
   },
   {
    "duration": 0,
    "start_time": "2022-10-29T18:18:17.963Z"
   },
   {
    "duration": 30,
    "start_time": "2022-10-29T18:19:15.045Z"
   },
   {
    "duration": 26,
    "start_time": "2022-10-29T18:20:21.343Z"
   },
   {
    "duration": 31,
    "start_time": "2022-10-29T18:20:52.015Z"
   },
   {
    "duration": 26,
    "start_time": "2022-10-29T18:21:18.920Z"
   },
   {
    "duration": 10,
    "start_time": "2022-10-29T18:21:23.248Z"
   },
   {
    "duration": 5,
    "start_time": "2022-10-29T18:22:24.671Z"
   },
   {
    "duration": 15,
    "start_time": "2022-10-29T18:32:52.815Z"
   },
   {
    "duration": 17,
    "start_time": "2022-10-29T18:34:12.196Z"
   },
   {
    "duration": 17,
    "start_time": "2022-10-29T18:34:29.563Z"
   },
   {
    "duration": 52,
    "start_time": "2022-10-29T20:32:10.662Z"
   },
   {
    "duration": 3,
    "start_time": "2022-10-29T20:32:16.201Z"
   },
   {
    "duration": 1232,
    "start_time": "2022-10-29T20:32:17.080Z"
   },
   {
    "duration": 1380,
    "start_time": "2022-10-29T20:33:40.829Z"
   },
   {
    "duration": 1585,
    "start_time": "2022-10-29T20:34:46.630Z"
   },
   {
    "duration": 2,
    "start_time": "2022-10-29T20:36:05.831Z"
   },
   {
    "duration": 1099,
    "start_time": "2022-10-29T20:36:06.117Z"
   },
   {
    "duration": 1954,
    "start_time": "2022-10-29T20:36:08.155Z"
   },
   {
    "duration": 1556,
    "start_time": "2022-10-29T20:37:10.356Z"
   },
   {
    "duration": 363306,
    "start_time": "2022-10-29T20:42:14.162Z"
   },
   {
    "duration": 6309,
    "start_time": "2022-10-29T20:48:17.469Z"
   },
   {
    "duration": 0,
    "start_time": "2022-10-29T20:48:39.842Z"
   },
   {
    "duration": 0,
    "start_time": "2022-10-29T20:48:39.848Z"
   },
   {
    "duration": 6717,
    "start_time": "2022-10-29T20:48:41.634Z"
   },
   {
    "duration": 15,
    "start_time": "2022-10-29T20:49:04.774Z"
   },
   {
    "duration": 4,
    "start_time": "2022-10-29T20:49:26.527Z"
   },
   {
    "duration": 5,
    "start_time": "2022-10-29T20:49:27.813Z"
   },
   {
    "duration": 18,
    "start_time": "2022-10-29T20:49:28.296Z"
   },
   {
    "duration": 2,
    "start_time": "2022-10-29T20:49:30.012Z"
   },
   {
    "duration": 1497,
    "start_time": "2022-10-29T20:49:30.413Z"
   },
   {
    "duration": 1801,
    "start_time": "2022-10-29T20:49:32.812Z"
   },
   {
    "duration": 4,
    "start_time": "2022-10-29T20:49:35.439Z"
   },
   {
    "duration": 2063373,
    "start_time": "2022-10-29T21:30:59.295Z"
   },
   {
    "duration": 77127,
    "start_time": "2022-10-29T22:05:22.670Z"
   },
   {
    "duration": 4,
    "start_time": "2022-10-29T22:06:39.799Z"
   },
   {
    "duration": 34,
    "start_time": "2022-10-29T22:06:39.804Z"
   },
   {
    "duration": 0,
    "start_time": "2022-10-29T22:06:39.840Z"
   },
   {
    "duration": 45,
    "start_time": "2022-10-29T22:10:37.669Z"
   },
   {
    "duration": 784,
    "start_time": "2022-10-29T22:10:47.829Z"
   },
   {
    "duration": 656,
    "start_time": "2022-10-29T22:15:36.397Z"
   },
   {
    "duration": 12,
    "start_time": "2022-10-29T22:16:03.483Z"
   },
   {
    "duration": 1263,
    "start_time": "2022-10-29T22:16:17.741Z"
   },
   {
    "duration": 669,
    "start_time": "2022-10-29T22:16:19.006Z"
   },
   {
    "duration": 18,
    "start_time": "2022-10-29T22:16:19.677Z"
   },
   {
    "duration": 14,
    "start_time": "2022-10-29T22:16:19.697Z"
   },
   {
    "duration": 33,
    "start_time": "2022-10-29T22:16:19.712Z"
   },
   {
    "duration": 63,
    "start_time": "2022-10-29T22:16:19.747Z"
   },
   {
    "duration": 242,
    "start_time": "2022-10-29T22:16:19.811Z"
   },
   {
    "duration": 785,
    "start_time": "2022-10-29T22:16:20.054Z"
   },
   {
    "duration": 102,
    "start_time": "2022-10-29T22:16:20.840Z"
   },
   {
    "duration": 84,
    "start_time": "2022-10-29T22:16:20.945Z"
   },
   {
    "duration": 23584,
    "start_time": "2022-10-29T22:16:21.031Z"
   },
   {
    "duration": 1189,
    "start_time": "2022-10-29T22:16:44.616Z"
   },
   {
    "duration": 1075,
    "start_time": "2022-10-29T22:16:45.806Z"
   },
   {
    "duration": 113,
    "start_time": "2022-10-29T22:16:46.883Z"
   },
   {
    "duration": 725,
    "start_time": "2022-10-29T22:16:46.998Z"
   },
   {
    "duration": 4,
    "start_time": "2022-10-29T22:16:47.724Z"
   },
   {
    "duration": 6,
    "start_time": "2022-10-29T22:16:47.730Z"
   },
   {
    "duration": 18,
    "start_time": "2022-10-29T22:16:47.737Z"
   },
   {
    "duration": 792,
    "start_time": "2022-10-29T22:16:47.756Z"
   },
   {
    "duration": 0,
    "start_time": "2022-10-29T22:16:48.550Z"
   },
   {
    "duration": 0,
    "start_time": "2022-10-29T22:16:48.551Z"
   },
   {
    "duration": 0,
    "start_time": "2022-10-29T22:16:48.552Z"
   },
   {
    "duration": 0,
    "start_time": "2022-10-29T22:16:48.553Z"
   },
   {
    "duration": 0,
    "start_time": "2022-10-29T22:16:48.557Z"
   },
   {
    "duration": 0,
    "start_time": "2022-10-29T22:16:48.559Z"
   },
   {
    "duration": 0,
    "start_time": "2022-10-29T22:16:48.560Z"
   },
   {
    "duration": 709,
    "start_time": "2022-10-29T22:17:06.097Z"
   },
   {
    "duration": 17,
    "start_time": "2022-10-29T22:19:52.425Z"
   },
   {
    "duration": 19,
    "start_time": "2022-10-29T22:22:42.499Z"
   },
   {
    "duration": 13,
    "start_time": "2022-10-29T22:24:37.528Z"
   },
   {
    "duration": 16,
    "start_time": "2022-10-29T22:25:47.365Z"
   },
   {
    "duration": 14,
    "start_time": "2022-10-29T22:25:55.706Z"
   },
   {
    "duration": 15,
    "start_time": "2022-10-29T22:26:02.177Z"
   },
   {
    "duration": 56,
    "start_time": "2022-10-29T22:31:44.370Z"
   },
   {
    "duration": 46,
    "start_time": "2022-10-29T22:31:55.867Z"
   },
   {
    "duration": 91,
    "start_time": "2022-10-29T22:32:02.330Z"
   },
   {
    "duration": 1244,
    "start_time": "2022-10-29T22:32:36.366Z"
   },
   {
    "duration": 672,
    "start_time": "2022-10-29T22:32:37.612Z"
   },
   {
    "duration": 26,
    "start_time": "2022-10-29T22:32:38.285Z"
   },
   {
    "duration": 7,
    "start_time": "2022-10-29T22:32:38.313Z"
   },
   {
    "duration": 32,
    "start_time": "2022-10-29T22:32:38.321Z"
   },
   {
    "duration": 67,
    "start_time": "2022-10-29T22:32:38.354Z"
   },
   {
    "duration": 242,
    "start_time": "2022-10-29T22:32:38.422Z"
   },
   {
    "duration": 779,
    "start_time": "2022-10-29T22:32:38.665Z"
   },
   {
    "duration": 101,
    "start_time": "2022-10-29T22:32:39.445Z"
   },
   {
    "duration": 85,
    "start_time": "2022-10-29T22:32:39.548Z"
   },
   {
    "duration": 23678,
    "start_time": "2022-10-29T22:32:39.635Z"
   },
   {
    "duration": 1216,
    "start_time": "2022-10-29T22:33:03.315Z"
   },
   {
    "duration": 1053,
    "start_time": "2022-10-29T22:33:04.532Z"
   },
   {
    "duration": 111,
    "start_time": "2022-10-29T22:33:05.587Z"
   },
   {
    "duration": 732,
    "start_time": "2022-10-29T22:33:05.699Z"
   },
   {
    "duration": 3,
    "start_time": "2022-10-29T22:33:06.433Z"
   },
   {
    "duration": 30,
    "start_time": "2022-10-29T22:33:06.438Z"
   },
   {
    "duration": 4,
    "start_time": "2022-10-29T22:33:06.470Z"
   },
   {
    "duration": 1133,
    "start_time": "2022-10-29T22:33:06.477Z"
   },
   {
    "duration": 1700,
    "start_time": "2022-10-29T22:33:07.612Z"
   },
   {
    "duration": 4,
    "start_time": "2022-10-29T22:33:09.314Z"
   },
   {
    "duration": 24622,
    "start_time": "2022-10-29T22:33:09.410Z"
   },
   {
    "duration": 3,
    "start_time": "2022-10-29T22:33:34.034Z"
   },
   {
    "duration": 12,
    "start_time": "2022-10-29T22:33:34.039Z"
   },
   {
    "duration": 5,
    "start_time": "2022-10-29T22:33:34.053Z"
   },
   {
    "duration": 24500,
    "start_time": "2022-10-29T22:33:59.015Z"
   },
   {
    "duration": 24351,
    "start_time": "2022-10-29T22:35:18.391Z"
   },
   {
    "duration": 1452,
    "start_time": "2022-10-30T09:56:37.092Z"
   },
   {
    "duration": 2996,
    "start_time": "2022-10-30T09:56:38.546Z"
   },
   {
    "duration": 26,
    "start_time": "2022-10-30T09:56:41.547Z"
   },
   {
    "duration": 9,
    "start_time": "2022-10-30T09:56:41.576Z"
   },
   {
    "duration": 48,
    "start_time": "2022-10-30T09:56:41.587Z"
   },
   {
    "duration": 74,
    "start_time": "2022-10-30T09:56:41.636Z"
   },
   {
    "duration": 296,
    "start_time": "2022-10-30T09:56:41.712Z"
   },
   {
    "duration": 844,
    "start_time": "2022-10-30T09:56:42.010Z"
   },
   {
    "duration": 118,
    "start_time": "2022-10-30T09:56:42.856Z"
   },
   {
    "duration": 105,
    "start_time": "2022-10-30T09:56:42.976Z"
   },
   {
    "duration": 28519,
    "start_time": "2022-10-30T09:56:43.083Z"
   },
   {
    "duration": 1252,
    "start_time": "2022-10-30T09:57:11.604Z"
   },
   {
    "duration": 1252,
    "start_time": "2022-10-30T09:57:12.858Z"
   },
   {
    "duration": 136,
    "start_time": "2022-10-30T09:57:14.111Z"
   },
   {
    "duration": 808,
    "start_time": "2022-10-30T09:57:14.249Z"
   },
   {
    "duration": 4,
    "start_time": "2022-10-30T09:57:15.059Z"
   },
   {
    "duration": 38,
    "start_time": "2022-10-30T09:57:15.064Z"
   },
   {
    "duration": 2,
    "start_time": "2022-10-30T09:57:15.104Z"
   },
   {
    "duration": 1152,
    "start_time": "2022-10-30T09:57:15.108Z"
   },
   {
    "duration": 1998,
    "start_time": "2022-10-30T09:57:16.262Z"
   },
   {
    "duration": 4,
    "start_time": "2022-10-30T09:57:18.262Z"
   },
   {
    "duration": 21121,
    "start_time": "2022-10-30T09:57:18.268Z"
   },
   {
    "duration": 4,
    "start_time": "2022-10-30T09:57:39.390Z"
   },
   {
    "duration": 12,
    "start_time": "2022-10-30T09:57:39.396Z"
   },
   {
    "duration": 10,
    "start_time": "2022-10-30T09:57:39.410Z"
   },
   {
    "duration": 813,
    "start_time": "2022-10-30T11:42:43.891Z"
   },
   {
    "duration": 39,
    "start_time": "2022-10-30T11:43:15.629Z"
   },
   {
    "duration": 6466,
    "start_time": "2022-10-30T11:47:48.516Z"
   },
   {
    "duration": 3623,
    "start_time": "2022-10-30T11:48:27.347Z"
   },
   {
    "duration": 2855,
    "start_time": "2022-10-30T11:48:33.408Z"
   },
   {
    "duration": 4,
    "start_time": "2022-10-30T11:52:35.260Z"
   },
   {
    "duration": 6420,
    "start_time": "2022-10-30T11:52:58.372Z"
   },
   {
    "duration": 10775,
    "start_time": "2022-10-30T11:53:37.524Z"
   },
   {
    "duration": 13,
    "start_time": "2022-10-30T11:55:06.248Z"
   },
   {
    "duration": 1838,
    "start_time": "2022-10-30T11:55:29.922Z"
   },
   {
    "duration": 10,
    "start_time": "2022-10-30T11:55:34.199Z"
   },
   {
    "duration": 1657,
    "start_time": "2022-10-30T11:56:05.901Z"
   },
   {
    "duration": 2097,
    "start_time": "2022-10-30T11:56:07.561Z"
   },
   {
    "duration": 10,
    "start_time": "2022-10-30T11:56:12.937Z"
   },
   {
    "duration": 4,
    "start_time": "2022-10-30T11:56:17.487Z"
   },
   {
    "duration": 30,
    "start_time": "2022-10-30T11:56:18.702Z"
   },
   {
    "duration": 3,
    "start_time": "2022-10-30T11:56:20.111Z"
   },
   {
    "duration": 1960,
    "start_time": "2022-10-30T11:56:20.399Z"
   },
   {
    "duration": 2393,
    "start_time": "2022-10-30T11:56:22.362Z"
   },
   {
    "duration": 4,
    "start_time": "2022-10-30T11:56:24.757Z"
   },
   {
    "duration": 4,
    "start_time": "2022-10-30T11:57:20.113Z"
   },
   {
    "duration": 4,
    "start_time": "2022-10-30T11:57:41.999Z"
   },
   {
    "duration": 6314,
    "start_time": "2022-10-30T11:58:49.226Z"
   },
   {
    "duration": 10433,
    "start_time": "2022-10-30T11:58:55.543Z"
   },
   {
    "duration": 5,
    "start_time": "2022-10-30T11:59:13.612Z"
   },
   {
    "duration": 4,
    "start_time": "2022-10-30T12:01:57.954Z"
   },
   {
    "duration": 47,
    "start_time": "2022-10-30T12:02:05.365Z"
   },
   {
    "duration": 802,
    "start_time": "2022-10-30T12:03:24.642Z"
   },
   {
    "duration": 10,
    "start_time": "2022-10-30T14:35:40.685Z"
   },
   {
    "duration": 17,
    "start_time": "2022-10-30T14:36:00.772Z"
   },
   {
    "duration": 759,
    "start_time": "2022-10-30T14:36:11.673Z"
   },
   {
    "duration": 10,
    "start_time": "2022-10-30T14:40:08.714Z"
   },
   {
    "duration": 15,
    "start_time": "2022-10-30T14:40:23.761Z"
   },
   {
    "duration": 29,
    "start_time": "2022-10-30T14:40:35.615Z"
   },
   {
    "duration": 27,
    "start_time": "2022-10-30T14:41:02.351Z"
   },
   {
    "duration": 1426,
    "start_time": "2022-10-30T14:41:11.496Z"
   },
   {
    "duration": 763,
    "start_time": "2022-10-30T14:41:12.924Z"
   },
   {
    "duration": 24,
    "start_time": "2022-10-30T14:41:13.688Z"
   },
   {
    "duration": 5,
    "start_time": "2022-10-30T14:41:13.714Z"
   },
   {
    "duration": 61,
    "start_time": "2022-10-30T14:41:13.720Z"
   },
   {
    "duration": 83,
    "start_time": "2022-10-30T14:41:13.783Z"
   },
   {
    "duration": 282,
    "start_time": "2022-10-30T14:41:13.868Z"
   },
   {
    "duration": 930,
    "start_time": "2022-10-30T14:41:14.153Z"
   },
   {
    "duration": 131,
    "start_time": "2022-10-30T14:41:15.085Z"
   },
   {
    "duration": 118,
    "start_time": "2022-10-30T14:41:15.219Z"
   },
   {
    "duration": 30957,
    "start_time": "2022-10-30T14:41:15.340Z"
   },
   {
    "duration": 1287,
    "start_time": "2022-10-30T14:41:46.299Z"
   },
   {
    "duration": 1302,
    "start_time": "2022-10-30T14:41:47.588Z"
   },
   {
    "duration": 132,
    "start_time": "2022-10-30T14:41:48.892Z"
   },
   {
    "duration": 788,
    "start_time": "2022-10-30T14:41:49.026Z"
   },
   {
    "duration": 4,
    "start_time": "2022-10-30T14:41:49.815Z"
   },
   {
    "duration": 44,
    "start_time": "2022-10-30T14:41:49.821Z"
   },
   {
    "duration": 120,
    "start_time": "2022-10-30T14:41:49.867Z"
   },
   {
    "duration": 0,
    "start_time": "2022-10-30T14:41:49.988Z"
   },
   {
    "duration": 0,
    "start_time": "2022-10-30T14:41:49.989Z"
   },
   {
    "duration": 0,
    "start_time": "2022-10-30T14:41:49.990Z"
   },
   {
    "duration": 1,
    "start_time": "2022-10-30T14:41:49.991Z"
   },
   {
    "duration": 0,
    "start_time": "2022-10-30T14:41:49.992Z"
   },
   {
    "duration": 0,
    "start_time": "2022-10-30T14:41:49.994Z"
   },
   {
    "duration": 0,
    "start_time": "2022-10-30T14:41:49.994Z"
   },
   {
    "duration": 13,
    "start_time": "2022-10-30T14:42:48.089Z"
   },
   {
    "duration": 19,
    "start_time": "2022-10-30T14:43:02.116Z"
   },
   {
    "duration": 19,
    "start_time": "2022-10-30T14:43:22.214Z"
   },
   {
    "duration": 42,
    "start_time": "2022-10-30T14:43:45.541Z"
   },
   {
    "duration": 26,
    "start_time": "2022-10-30T14:43:53.317Z"
   },
   {
    "duration": 28,
    "start_time": "2022-10-30T14:46:46.153Z"
   },
   {
    "duration": 1282,
    "start_time": "2022-10-30T14:47:02.612Z"
   },
   {
    "duration": 730,
    "start_time": "2022-10-30T14:47:03.896Z"
   },
   {
    "duration": 30,
    "start_time": "2022-10-30T14:47:04.628Z"
   },
   {
    "duration": 8,
    "start_time": "2022-10-30T14:47:04.661Z"
   },
   {
    "duration": 47,
    "start_time": "2022-10-30T14:47:04.671Z"
   },
   {
    "duration": 78,
    "start_time": "2022-10-30T14:47:04.720Z"
   },
   {
    "duration": 284,
    "start_time": "2022-10-30T14:47:04.799Z"
   },
   {
    "duration": 947,
    "start_time": "2022-10-30T14:47:05.085Z"
   },
   {
    "duration": 140,
    "start_time": "2022-10-30T14:47:06.034Z"
   },
   {
    "duration": 123,
    "start_time": "2022-10-30T14:47:06.177Z"
   },
   {
    "duration": 30569,
    "start_time": "2022-10-30T14:47:06.302Z"
   },
   {
    "duration": 1213,
    "start_time": "2022-10-30T14:47:36.872Z"
   },
   {
    "duration": 1442,
    "start_time": "2022-10-30T14:47:38.087Z"
   },
   {
    "duration": 150,
    "start_time": "2022-10-30T14:47:39.530Z"
   },
   {
    "duration": 897,
    "start_time": "2022-10-30T14:47:39.682Z"
   },
   {
    "duration": 3,
    "start_time": "2022-10-30T14:47:40.582Z"
   },
   {
    "duration": 40,
    "start_time": "2022-10-30T14:47:40.587Z"
   },
   {
    "duration": 56,
    "start_time": "2022-10-30T14:47:40.630Z"
   },
   {
    "duration": 31,
    "start_time": "2022-10-30T14:47:40.688Z"
   },
   {
    "duration": 14,
    "start_time": "2022-10-30T14:47:40.721Z"
   },
   {
    "duration": 2721,
    "start_time": "2022-10-30T14:47:40.738Z"
   },
   {
    "duration": 3407,
    "start_time": "2022-10-30T14:47:43.460Z"
   },
   {
    "duration": 111,
    "start_time": "2022-10-30T14:47:46.869Z"
   },
   {
    "duration": 6730,
    "start_time": "2022-10-30T14:47:47.055Z"
   },
   {
    "duration": 10539,
    "start_time": "2022-10-30T14:47:53.788Z"
   },
   {
    "duration": 10,
    "start_time": "2022-10-30T14:48:04.329Z"
   },
   {
    "duration": 5,
    "start_time": "2022-10-30T14:48:16.774Z"
   },
   {
    "duration": 12,
    "start_time": "2022-10-30T14:48:53.353Z"
   },
   {
    "duration": 1516,
    "start_time": "2022-10-30T15:02:09.346Z"
   },
   {
    "duration": 2523,
    "start_time": "2022-10-30T15:02:12.248Z"
   },
   {
    "duration": 4,
    "start_time": "2022-10-30T15:02:16.573Z"
   },
   {
    "duration": 6830,
    "start_time": "2022-10-30T15:02:17.974Z"
   },
   {
    "duration": 10695,
    "start_time": "2022-10-30T15:02:25.785Z"
   },
   {
    "duration": 10,
    "start_time": "2022-10-30T15:02:38.334Z"
   },
   {
    "duration": 4,
    "start_time": "2022-10-30T15:02:45.022Z"
   },
   {
    "duration": 1813,
    "start_time": "2022-10-30T15:05:39.699Z"
   },
   {
    "duration": 1495,
    "start_time": "2022-10-30T15:06:03.813Z"
   },
   {
    "duration": 773,
    "start_time": "2022-10-30T15:06:05.310Z"
   },
   {
    "duration": 26,
    "start_time": "2022-10-30T15:06:06.086Z"
   },
   {
    "duration": 7,
    "start_time": "2022-10-30T15:06:06.115Z"
   },
   {
    "duration": 66,
    "start_time": "2022-10-30T15:06:06.124Z"
   },
   {
    "duration": 70,
    "start_time": "2022-10-30T15:06:06.192Z"
   },
   {
    "duration": 294,
    "start_time": "2022-10-30T15:06:06.265Z"
   },
   {
    "duration": 957,
    "start_time": "2022-10-30T15:06:06.564Z"
   },
   {
    "duration": 139,
    "start_time": "2022-10-30T15:06:07.523Z"
   },
   {
    "duration": 111,
    "start_time": "2022-10-30T15:06:07.665Z"
   },
   {
    "duration": 32748,
    "start_time": "2022-10-30T15:06:07.778Z"
   },
   {
    "duration": 1386,
    "start_time": "2022-10-30T15:06:40.528Z"
   },
   {
    "duration": 1470,
    "start_time": "2022-10-30T15:06:41.916Z"
   },
   {
    "duration": 139,
    "start_time": "2022-10-30T15:06:43.388Z"
   },
   {
    "duration": 944,
    "start_time": "2022-10-30T15:06:43.529Z"
   },
   {
    "duration": 4,
    "start_time": "2022-10-30T15:06:44.475Z"
   },
   {
    "duration": 20,
    "start_time": "2022-10-30T15:06:44.481Z"
   },
   {
    "duration": 31,
    "start_time": "2022-10-30T15:06:44.504Z"
   },
   {
    "duration": 22,
    "start_time": "2022-10-30T15:06:44.538Z"
   },
   {
    "duration": 19,
    "start_time": "2022-10-30T15:06:44.562Z"
   },
   {
    "duration": 1890,
    "start_time": "2022-10-30T15:06:44.583Z"
   },
   {
    "duration": 2691,
    "start_time": "2022-10-30T15:06:46.476Z"
   },
   {
    "duration": 4,
    "start_time": "2022-10-30T15:06:49.171Z"
   },
   {
    "duration": 6873,
    "start_time": "2022-10-30T15:06:49.177Z"
   },
   {
    "duration": 11020,
    "start_time": "2022-10-30T15:06:56.057Z"
   },
   {
    "duration": 4,
    "start_time": "2022-10-30T15:07:07.078Z"
   },
   {
    "duration": 4501,
    "start_time": "2022-10-30T15:07:07.084Z"
   },
   {
    "duration": 5,
    "start_time": "2022-10-30T15:08:34.802Z"
   },
   {
    "duration": 12,
    "start_time": "2022-10-30T15:08:36.449Z"
   },
   {
    "duration": 29,
    "start_time": "2022-10-30T15:08:37.194Z"
   },
   {
    "duration": 4,
    "start_time": "2022-10-30T15:08:37.512Z"
   },
   {
    "duration": 1356,
    "start_time": "2022-10-30T15:08:43.237Z"
   },
   {
    "duration": 790,
    "start_time": "2022-10-30T15:08:44.595Z"
   },
   {
    "duration": 25,
    "start_time": "2022-10-30T15:08:45.388Z"
   },
   {
    "duration": 5,
    "start_time": "2022-10-30T15:08:45.415Z"
   },
   {
    "duration": 59,
    "start_time": "2022-10-30T15:08:45.421Z"
   },
   {
    "duration": 79,
    "start_time": "2022-10-30T15:08:45.481Z"
   },
   {
    "duration": 282,
    "start_time": "2022-10-30T15:08:45.561Z"
   },
   {
    "duration": 966,
    "start_time": "2022-10-30T15:08:45.845Z"
   },
   {
    "duration": 128,
    "start_time": "2022-10-30T15:08:46.813Z"
   },
   {
    "duration": 123,
    "start_time": "2022-10-30T15:08:46.944Z"
   },
   {
    "duration": 31024,
    "start_time": "2022-10-30T15:08:47.069Z"
   },
   {
    "duration": 1384,
    "start_time": "2022-10-30T15:09:18.095Z"
   },
   {
    "duration": 1414,
    "start_time": "2022-10-30T15:09:19.481Z"
   },
   {
    "duration": 138,
    "start_time": "2022-10-30T15:09:20.897Z"
   },
   {
    "duration": 1012,
    "start_time": "2022-10-30T15:09:21.037Z"
   },
   {
    "duration": 10,
    "start_time": "2022-10-30T15:09:22.053Z"
   },
   {
    "duration": 26,
    "start_time": "2022-10-30T15:09:22.065Z"
   },
   {
    "duration": 26,
    "start_time": "2022-10-30T15:09:22.093Z"
   },
   {
    "duration": 4,
    "start_time": "2022-10-30T15:09:22.121Z"
   },
   {
    "duration": 6,
    "start_time": "2022-10-30T15:09:22.127Z"
   },
   {
    "duration": 2027,
    "start_time": "2022-10-30T15:09:22.134Z"
   },
   {
    "duration": 3412,
    "start_time": "2022-10-30T15:09:24.164Z"
   },
   {
    "duration": 82,
    "start_time": "2022-10-30T15:09:27.580Z"
   },
   {
    "duration": 6856,
    "start_time": "2022-10-30T15:09:27.664Z"
   },
   {
    "duration": 10899,
    "start_time": "2022-10-30T15:09:34.521Z"
   },
   {
    "duration": 4,
    "start_time": "2022-10-30T15:09:45.423Z"
   },
   {
    "duration": 4561,
    "start_time": "2022-10-30T15:09:45.429Z"
   },
   {
    "duration": 4105,
    "start_time": "2022-10-30T15:12:35.982Z"
   },
   {
    "duration": 4246,
    "start_time": "2022-10-30T15:12:57.356Z"
   },
   {
    "duration": 4220,
    "start_time": "2022-10-30T15:13:19.680Z"
   },
   {
    "duration": 5,
    "start_time": "2022-10-30T15:13:55.517Z"
   },
   {
    "duration": 4311,
    "start_time": "2022-10-30T15:14:00.168Z"
   },
   {
    "duration": 4522,
    "start_time": "2022-10-30T15:14:09.344Z"
   },
   {
    "duration": 4511,
    "start_time": "2022-10-30T15:14:48.897Z"
   },
   {
    "duration": 4382,
    "start_time": "2022-10-30T15:15:10.320Z"
   },
   {
    "duration": 4296,
    "start_time": "2022-10-30T15:16:11.609Z"
   },
   {
    "duration": 10,
    "start_time": "2022-10-30T15:16:15.908Z"
   },
   {
    "duration": 5,
    "start_time": "2022-10-30T15:16:54.084Z"
   },
   {
    "duration": 3,
    "start_time": "2022-10-30T15:16:59.409Z"
   },
   {
    "duration": 4151,
    "start_time": "2022-10-30T15:17:13.021Z"
   },
   {
    "duration": 4154,
    "start_time": "2022-10-30T15:17:31.321Z"
   },
   {
    "duration": 4696,
    "start_time": "2022-10-30T15:17:47.496Z"
   },
   {
    "duration": 27,
    "start_time": "2022-10-30T15:18:01.646Z"
   },
   {
    "duration": 4311,
    "start_time": "2022-10-30T15:18:20.496Z"
   },
   {
    "duration": 4407,
    "start_time": "2022-10-30T15:18:30.598Z"
   },
   {
    "duration": 4186,
    "start_time": "2022-10-30T15:19:06.534Z"
   },
   {
    "duration": 11,
    "start_time": "2022-10-30T15:19:14.159Z"
   },
   {
    "duration": 1339,
    "start_time": "2022-10-30T15:19:20.151Z"
   },
   {
    "duration": 778,
    "start_time": "2022-10-30T15:19:21.493Z"
   },
   {
    "duration": 28,
    "start_time": "2022-10-30T15:19:22.273Z"
   },
   {
    "duration": 13,
    "start_time": "2022-10-30T15:19:22.303Z"
   },
   {
    "duration": 75,
    "start_time": "2022-10-30T15:19:22.317Z"
   },
   {
    "duration": 78,
    "start_time": "2022-10-30T15:19:22.394Z"
   },
   {
    "duration": 271,
    "start_time": "2022-10-30T15:19:22.474Z"
   },
   {
    "duration": 860,
    "start_time": "2022-10-30T15:19:22.747Z"
   },
   {
    "duration": 128,
    "start_time": "2022-10-30T15:19:23.609Z"
   },
   {
    "duration": 120,
    "start_time": "2022-10-30T15:19:23.739Z"
   },
   {
    "duration": 30968,
    "start_time": "2022-10-30T15:19:23.861Z"
   },
   {
    "duration": 1250,
    "start_time": "2022-10-30T15:19:54.831Z"
   },
   {
    "duration": 1363,
    "start_time": "2022-10-30T15:19:56.082Z"
   },
   {
    "duration": 141,
    "start_time": "2022-10-30T15:19:57.446Z"
   },
   {
    "duration": 822,
    "start_time": "2022-10-30T15:19:57.589Z"
   },
   {
    "duration": 4,
    "start_time": "2022-10-30T15:19:58.413Z"
   },
   {
    "duration": 16,
    "start_time": "2022-10-30T15:19:58.419Z"
   },
   {
    "duration": 35,
    "start_time": "2022-10-30T15:19:58.437Z"
   },
   {
    "duration": 4,
    "start_time": "2022-10-30T15:19:58.473Z"
   },
   {
    "duration": 12,
    "start_time": "2022-10-30T15:19:58.479Z"
   },
   {
    "duration": 1970,
    "start_time": "2022-10-30T15:19:58.493Z"
   },
   {
    "duration": 4210,
    "start_time": "2022-10-30T15:20:00.468Z"
   },
   {
    "duration": 78,
    "start_time": "2022-10-30T15:20:04.684Z"
   },
   {
    "duration": 6988,
    "start_time": "2022-10-30T15:20:04.764Z"
   },
   {
    "duration": 10855,
    "start_time": "2022-10-30T15:20:11.755Z"
   },
   {
    "duration": 3,
    "start_time": "2022-10-30T15:20:22.612Z"
   },
   {
    "duration": 4367,
    "start_time": "2022-10-30T15:20:22.617Z"
   },
   {
    "duration": 116,
    "start_time": "2022-10-30T15:20:26.987Z"
   },
   {
    "duration": 0,
    "start_time": "2022-10-30T15:20:27.105Z"
   },
   {
    "duration": 4,
    "start_time": "2022-10-30T15:21:00.932Z"
   },
   {
    "duration": 4325,
    "start_time": "2022-10-30T15:21:09.795Z"
   },
   {
    "duration": 10,
    "start_time": "2022-10-30T15:21:20.832Z"
   },
   {
    "duration": 3,
    "start_time": "2022-10-30T15:22:24.444Z"
   },
   {
    "duration": 4368,
    "start_time": "2022-10-30T15:22:33.518Z"
   },
   {
    "duration": 4327,
    "start_time": "2022-10-30T15:22:51.407Z"
   },
   {
    "duration": 1309,
    "start_time": "2022-10-30T15:25:01.902Z"
   },
   {
    "duration": 785,
    "start_time": "2022-10-30T15:25:03.214Z"
   },
   {
    "duration": 26,
    "start_time": "2022-10-30T15:25:04.003Z"
   },
   {
    "duration": 5,
    "start_time": "2022-10-30T15:25:04.030Z"
   },
   {
    "duration": 50,
    "start_time": "2022-10-30T15:25:04.053Z"
   },
   {
    "duration": 65,
    "start_time": "2022-10-30T15:25:04.106Z"
   },
   {
    "duration": 297,
    "start_time": "2022-10-30T15:25:04.173Z"
   },
   {
    "duration": 901,
    "start_time": "2022-10-30T15:25:04.472Z"
   },
   {
    "duration": 119,
    "start_time": "2022-10-30T15:25:05.376Z"
   },
   {
    "duration": 128,
    "start_time": "2022-10-30T15:25:05.496Z"
   },
   {
    "duration": 31101,
    "start_time": "2022-10-30T15:25:05.625Z"
   },
   {
    "duration": 1270,
    "start_time": "2022-10-30T15:25:36.728Z"
   },
   {
    "duration": 1407,
    "start_time": "2022-10-30T15:25:37.999Z"
   },
   {
    "duration": 143,
    "start_time": "2022-10-30T15:25:39.408Z"
   },
   {
    "duration": 866,
    "start_time": "2022-10-30T15:25:39.552Z"
   },
   {
    "duration": 4,
    "start_time": "2022-10-30T15:25:40.421Z"
   },
   {
    "duration": 19,
    "start_time": "2022-10-30T15:25:40.427Z"
   },
   {
    "duration": 29,
    "start_time": "2022-10-30T15:25:40.456Z"
   },
   {
    "duration": 3,
    "start_time": "2022-10-30T15:25:40.487Z"
   },
   {
    "duration": 8,
    "start_time": "2022-10-30T15:25:40.492Z"
   },
   {
    "duration": 2184,
    "start_time": "2022-10-30T15:25:40.501Z"
   },
   {
    "duration": 3080,
    "start_time": "2022-10-30T15:25:42.687Z"
   },
   {
    "duration": 4,
    "start_time": "2022-10-30T15:25:45.771Z"
   },
   {
    "duration": 6781,
    "start_time": "2022-10-30T15:25:45.777Z"
   },
   {
    "duration": 11220,
    "start_time": "2022-10-30T15:25:52.563Z"
   },
   {
    "duration": 4,
    "start_time": "2022-10-30T15:26:03.785Z"
   },
   {
    "duration": 4585,
    "start_time": "2022-10-30T15:26:03.793Z"
   },
   {
    "duration": 0,
    "start_time": "2022-10-30T15:26:08.380Z"
   },
   {
    "duration": 0,
    "start_time": "2022-10-30T15:26:08.382Z"
   },
   {
    "duration": 1679,
    "start_time": "2022-10-30T15:26:45.266Z"
   },
   {
    "duration": 2755,
    "start_time": "2022-10-30T15:26:49.073Z"
   },
   {
    "duration": 3,
    "start_time": "2022-10-30T15:27:12.874Z"
   },
   {
    "duration": 4,
    "start_time": "2022-10-30T15:27:27.924Z"
   },
   {
    "duration": 4,
    "start_time": "2022-10-30T15:27:46.560Z"
   },
   {
    "duration": 5,
    "start_time": "2022-10-30T15:31:25.676Z"
   },
   {
    "duration": 1315,
    "start_time": "2022-10-30T15:32:45.441Z"
   },
   {
    "duration": 762,
    "start_time": "2022-10-30T15:32:46.758Z"
   },
   {
    "duration": 37,
    "start_time": "2022-10-30T15:32:47.526Z"
   },
   {
    "duration": 5,
    "start_time": "2022-10-30T15:32:47.565Z"
   },
   {
    "duration": 56,
    "start_time": "2022-10-30T15:32:47.572Z"
   },
   {
    "duration": 66,
    "start_time": "2022-10-30T15:32:47.629Z"
   },
   {
    "duration": 302,
    "start_time": "2022-10-30T15:32:47.697Z"
   },
   {
    "duration": 856,
    "start_time": "2022-10-30T15:32:48.001Z"
   },
   {
    "duration": 124,
    "start_time": "2022-10-30T15:32:48.860Z"
   },
   {
    "duration": 109,
    "start_time": "2022-10-30T15:32:48.986Z"
   },
   {
    "duration": 29302,
    "start_time": "2022-10-30T15:32:49.097Z"
   },
   {
    "duration": 1185,
    "start_time": "2022-10-30T15:33:18.401Z"
   },
   {
    "duration": 1370,
    "start_time": "2022-10-30T15:33:19.588Z"
   },
   {
    "duration": 135,
    "start_time": "2022-10-30T15:33:20.959Z"
   },
   {
    "duration": 917,
    "start_time": "2022-10-30T15:33:21.096Z"
   },
   {
    "duration": 4,
    "start_time": "2022-10-30T15:33:22.015Z"
   },
   {
    "duration": 9,
    "start_time": "2022-10-30T15:33:22.021Z"
   },
   {
    "duration": 125,
    "start_time": "2022-10-30T15:33:22.031Z"
   },
   {
    "duration": 0,
    "start_time": "2022-10-30T15:33:22.158Z"
   },
   {
    "duration": 0,
    "start_time": "2022-10-30T15:33:22.159Z"
   },
   {
    "duration": 0,
    "start_time": "2022-10-30T15:33:22.160Z"
   },
   {
    "duration": 0,
    "start_time": "2022-10-30T15:33:22.161Z"
   },
   {
    "duration": 0,
    "start_time": "2022-10-30T15:33:22.161Z"
   },
   {
    "duration": 0,
    "start_time": "2022-10-30T15:33:22.162Z"
   },
   {
    "duration": 1,
    "start_time": "2022-10-30T15:33:22.163Z"
   },
   {
    "duration": 0,
    "start_time": "2022-10-30T15:33:22.164Z"
   },
   {
    "duration": 0,
    "start_time": "2022-10-30T15:33:22.165Z"
   },
   {
    "duration": 0,
    "start_time": "2022-10-30T15:33:22.166Z"
   },
   {
    "duration": 0,
    "start_time": "2022-10-30T15:33:22.167Z"
   },
   {
    "duration": 0,
    "start_time": "2022-10-30T15:33:22.168Z"
   },
   {
    "duration": 0,
    "start_time": "2022-10-30T15:33:22.169Z"
   },
   {
    "duration": 0,
    "start_time": "2022-10-30T15:33:22.171Z"
   },
   {
    "duration": 9,
    "start_time": "2022-10-30T15:33:54.952Z"
   },
   {
    "duration": 16,
    "start_time": "2022-10-30T15:33:58.513Z"
   },
   {
    "duration": 5,
    "start_time": "2022-10-30T15:34:10.097Z"
   },
   {
    "duration": 3,
    "start_time": "2022-10-30T15:34:14.327Z"
   },
   {
    "duration": 618,
    "start_time": "2022-10-30T15:34:14.738Z"
   },
   {
    "duration": 846,
    "start_time": "2022-10-30T15:34:16.214Z"
   },
   {
    "duration": 4,
    "start_time": "2022-10-30T15:34:21.152Z"
   },
   {
    "duration": 3836,
    "start_time": "2022-10-30T15:34:22.176Z"
   },
   {
    "duration": 4035,
    "start_time": "2022-10-30T15:34:26.014Z"
   },
   {
    "duration": 7,
    "start_time": "2022-10-30T15:34:30.050Z"
   },
   {
    "duration": 980,
    "start_time": "2022-10-30T15:34:33.863Z"
   },
   {
    "duration": 4,
    "start_time": "2022-10-30T15:35:24.341Z"
   },
   {
    "duration": 1456,
    "start_time": "2022-10-30T15:43:39.170Z"
   },
   {
    "duration": 816,
    "start_time": "2022-10-30T15:43:40.628Z"
   },
   {
    "duration": 37,
    "start_time": "2022-10-30T15:43:41.446Z"
   },
   {
    "duration": 50,
    "start_time": "2022-10-30T15:43:41.484Z"
   },
   {
    "duration": 81,
    "start_time": "2022-10-30T15:43:41.536Z"
   },
   {
    "duration": 82,
    "start_time": "2022-10-30T15:43:41.620Z"
   },
   {
    "duration": 344,
    "start_time": "2022-10-30T15:43:41.704Z"
   },
   {
    "duration": 958,
    "start_time": "2022-10-30T15:43:42.050Z"
   },
   {
    "duration": 131,
    "start_time": "2022-10-30T15:43:43.010Z"
   },
   {
    "duration": 129,
    "start_time": "2022-10-30T15:43:43.142Z"
   },
   {
    "duration": 33202,
    "start_time": "2022-10-30T15:43:43.273Z"
   },
   {
    "duration": 1241,
    "start_time": "2022-10-30T15:44:16.476Z"
   },
   {
    "duration": 1479,
    "start_time": "2022-10-30T15:44:17.719Z"
   },
   {
    "duration": 155,
    "start_time": "2022-10-30T15:44:19.202Z"
   },
   {
    "duration": 997,
    "start_time": "2022-10-30T15:44:19.360Z"
   },
   {
    "duration": 8,
    "start_time": "2022-10-30T15:44:20.361Z"
   },
   {
    "duration": 0,
    "start_time": "2022-10-30T15:44:20.536Z"
   },
   {
    "duration": 1,
    "start_time": "2022-10-30T15:44:20.538Z"
   },
   {
    "duration": 0,
    "start_time": "2022-10-30T15:44:20.554Z"
   },
   {
    "duration": 0,
    "start_time": "2022-10-30T15:44:20.554Z"
   },
   {
    "duration": 0,
    "start_time": "2022-10-30T15:44:20.555Z"
   },
   {
    "duration": 0,
    "start_time": "2022-10-30T15:44:20.556Z"
   },
   {
    "duration": 0,
    "start_time": "2022-10-30T15:44:20.557Z"
   },
   {
    "duration": 0,
    "start_time": "2022-10-30T15:44:20.558Z"
   },
   {
    "duration": 0,
    "start_time": "2022-10-30T15:44:20.558Z"
   },
   {
    "duration": 0,
    "start_time": "2022-10-30T15:44:20.559Z"
   },
   {
    "duration": 0,
    "start_time": "2022-10-30T15:44:20.563Z"
   },
   {
    "duration": 0,
    "start_time": "2022-10-30T15:44:20.565Z"
   },
   {
    "duration": 0,
    "start_time": "2022-10-30T15:44:20.566Z"
   },
   {
    "duration": 0,
    "start_time": "2022-10-30T15:44:20.570Z"
   },
   {
    "duration": 0,
    "start_time": "2022-10-30T15:44:20.574Z"
   },
   {
    "duration": 0,
    "start_time": "2022-10-30T15:44:20.577Z"
   },
   {
    "duration": 0,
    "start_time": "2022-10-30T15:44:20.578Z"
   },
   {
    "duration": 4,
    "start_time": "2022-10-30T15:44:27.084Z"
   },
   {
    "duration": 12,
    "start_time": "2022-10-30T15:44:28.721Z"
   },
   {
    "duration": 26,
    "start_time": "2022-10-30T15:44:37.547Z"
   },
   {
    "duration": 22,
    "start_time": "2022-10-30T15:44:39.074Z"
   },
   {
    "duration": 12,
    "start_time": "2022-10-30T15:45:28.184Z"
   },
   {
    "duration": 1617,
    "start_time": "2022-10-30T15:47:40.505Z"
   },
   {
    "duration": 895,
    "start_time": "2022-10-30T15:47:42.125Z"
   },
   {
    "duration": 39,
    "start_time": "2022-10-30T15:47:43.022Z"
   },
   {
    "duration": 6,
    "start_time": "2022-10-30T15:47:43.065Z"
   },
   {
    "duration": 41,
    "start_time": "2022-10-30T15:47:43.073Z"
   },
   {
    "duration": 80,
    "start_time": "2022-10-30T15:47:43.115Z"
   },
   {
    "duration": 315,
    "start_time": "2022-10-30T15:47:43.196Z"
   },
   {
    "duration": 953,
    "start_time": "2022-10-30T15:47:43.513Z"
   },
   {
    "duration": 128,
    "start_time": "2022-10-30T15:47:44.468Z"
   },
   {
    "duration": 128,
    "start_time": "2022-10-30T15:47:44.599Z"
   },
   {
    "duration": 31065,
    "start_time": "2022-10-30T15:47:44.729Z"
   },
   {
    "duration": 1202,
    "start_time": "2022-10-30T15:48:15.796Z"
   },
   {
    "duration": 1372,
    "start_time": "2022-10-30T15:48:17.000Z"
   },
   {
    "duration": 139,
    "start_time": "2022-10-30T15:48:18.374Z"
   },
   {
    "duration": 887,
    "start_time": "2022-10-30T15:48:18.515Z"
   },
   {
    "duration": 3,
    "start_time": "2022-10-30T15:48:19.404Z"
   },
   {
    "duration": 20,
    "start_time": "2022-10-30T15:48:19.409Z"
   },
   {
    "duration": 32,
    "start_time": "2022-10-30T15:48:19.431Z"
   },
   {
    "duration": 122,
    "start_time": "2022-10-30T15:48:19.466Z"
   },
   {
    "duration": 0,
    "start_time": "2022-10-30T15:48:19.590Z"
   },
   {
    "duration": 0,
    "start_time": "2022-10-30T15:48:19.592Z"
   },
   {
    "duration": 0,
    "start_time": "2022-10-30T15:48:19.593Z"
   },
   {
    "duration": 0,
    "start_time": "2022-10-30T15:48:19.593Z"
   },
   {
    "duration": 0,
    "start_time": "2022-10-30T15:48:19.595Z"
   },
   {
    "duration": 0,
    "start_time": "2022-10-30T15:48:19.595Z"
   },
   {
    "duration": 0,
    "start_time": "2022-10-30T15:48:19.596Z"
   },
   {
    "duration": 0,
    "start_time": "2022-10-30T15:48:19.597Z"
   },
   {
    "duration": 0,
    "start_time": "2022-10-30T15:48:19.598Z"
   },
   {
    "duration": 0,
    "start_time": "2022-10-30T15:48:19.599Z"
   },
   {
    "duration": 0,
    "start_time": "2022-10-30T15:48:19.600Z"
   },
   {
    "duration": 0,
    "start_time": "2022-10-30T15:48:19.601Z"
   },
   {
    "duration": 0,
    "start_time": "2022-10-30T15:48:19.602Z"
   },
   {
    "duration": 0,
    "start_time": "2022-10-30T15:48:19.603Z"
   },
   {
    "duration": 0,
    "start_time": "2022-10-30T15:48:19.604Z"
   },
   {
    "duration": 33,
    "start_time": "2022-10-30T15:51:15.052Z"
   },
   {
    "duration": 1465,
    "start_time": "2022-10-30T15:51:30.648Z"
   },
   {
    "duration": 749,
    "start_time": "2022-10-30T15:51:32.115Z"
   },
   {
    "duration": 24,
    "start_time": "2022-10-30T15:51:32.866Z"
   },
   {
    "duration": 6,
    "start_time": "2022-10-30T15:51:32.891Z"
   },
   {
    "duration": 60,
    "start_time": "2022-10-30T15:51:32.898Z"
   },
   {
    "duration": 65,
    "start_time": "2022-10-30T15:51:32.960Z"
   },
   {
    "duration": 295,
    "start_time": "2022-10-30T15:51:33.027Z"
   },
   {
    "duration": 887,
    "start_time": "2022-10-30T15:51:33.324Z"
   },
   {
    "duration": 148,
    "start_time": "2022-10-30T15:51:34.212Z"
   },
   {
    "duration": 114,
    "start_time": "2022-10-30T15:51:34.364Z"
   },
   {
    "duration": 29313,
    "start_time": "2022-10-30T15:51:34.480Z"
   },
   {
    "duration": 1175,
    "start_time": "2022-10-30T15:52:03.794Z"
   },
   {
    "duration": 1336,
    "start_time": "2022-10-30T15:52:04.970Z"
   },
   {
    "duration": 137,
    "start_time": "2022-10-30T15:52:06.308Z"
   },
   {
    "duration": 851,
    "start_time": "2022-10-30T15:52:06.447Z"
   },
   {
    "duration": 4,
    "start_time": "2022-10-30T15:52:07.300Z"
   },
   {
    "duration": 22,
    "start_time": "2022-10-30T15:52:07.306Z"
   },
   {
    "duration": 30,
    "start_time": "2022-10-30T15:52:07.330Z"
   },
   {
    "duration": 125,
    "start_time": "2022-10-30T15:52:07.363Z"
   },
   {
    "duration": 0,
    "start_time": "2022-10-30T15:52:07.490Z"
   },
   {
    "duration": 0,
    "start_time": "2022-10-30T15:52:07.492Z"
   },
   {
    "duration": 0,
    "start_time": "2022-10-30T15:52:07.493Z"
   },
   {
    "duration": 0,
    "start_time": "2022-10-30T15:52:07.495Z"
   },
   {
    "duration": 0,
    "start_time": "2022-10-30T15:52:07.497Z"
   },
   {
    "duration": 0,
    "start_time": "2022-10-30T15:52:07.498Z"
   },
   {
    "duration": 0,
    "start_time": "2022-10-30T15:52:07.499Z"
   },
   {
    "duration": 0,
    "start_time": "2022-10-30T15:52:07.501Z"
   },
   {
    "duration": 0,
    "start_time": "2022-10-30T15:52:07.502Z"
   },
   {
    "duration": 0,
    "start_time": "2022-10-30T15:52:07.504Z"
   },
   {
    "duration": 0,
    "start_time": "2022-10-30T15:52:07.505Z"
   },
   {
    "duration": 0,
    "start_time": "2022-10-30T15:52:07.507Z"
   },
   {
    "duration": 0,
    "start_time": "2022-10-30T15:52:07.509Z"
   },
   {
    "duration": 0,
    "start_time": "2022-10-30T15:52:07.510Z"
   },
   {
    "duration": 0,
    "start_time": "2022-10-30T15:52:07.511Z"
   },
   {
    "duration": 1330,
    "start_time": "2022-10-30T15:52:59.449Z"
   },
   {
    "duration": 804,
    "start_time": "2022-10-30T15:53:00.781Z"
   },
   {
    "duration": 31,
    "start_time": "2022-10-30T15:53:01.587Z"
   },
   {
    "duration": 19,
    "start_time": "2022-10-30T15:53:01.621Z"
   },
   {
    "duration": 74,
    "start_time": "2022-10-30T15:53:01.642Z"
   },
   {
    "duration": 70,
    "start_time": "2022-10-30T15:53:01.717Z"
   },
   {
    "duration": 298,
    "start_time": "2022-10-30T15:53:01.789Z"
   },
   {
    "duration": 868,
    "start_time": "2022-10-30T15:53:02.088Z"
   },
   {
    "duration": 117,
    "start_time": "2022-10-30T15:53:02.957Z"
   },
   {
    "duration": 105,
    "start_time": "2022-10-30T15:53:03.077Z"
   },
   {
    "duration": 29935,
    "start_time": "2022-10-30T15:53:03.184Z"
   },
   {
    "duration": 1232,
    "start_time": "2022-10-30T15:53:33.121Z"
   },
   {
    "duration": 1361,
    "start_time": "2022-10-30T15:53:34.355Z"
   },
   {
    "duration": 149,
    "start_time": "2022-10-30T15:53:35.719Z"
   },
   {
    "duration": 815,
    "start_time": "2022-10-30T15:53:35.870Z"
   },
   {
    "duration": 4,
    "start_time": "2022-10-30T15:53:36.688Z"
   },
   {
    "duration": 18,
    "start_time": "2022-10-30T15:53:36.693Z"
   },
   {
    "duration": 13,
    "start_time": "2022-10-30T15:53:36.713Z"
   },
   {
    "duration": 7,
    "start_time": "2022-10-30T15:53:36.727Z"
   },
   {
    "duration": 5,
    "start_time": "2022-10-30T15:53:36.754Z"
   },
   {
    "duration": 6,
    "start_time": "2022-10-30T15:53:36.761Z"
   },
   {
    "duration": 9,
    "start_time": "2022-10-30T15:53:36.769Z"
   },
   {
    "duration": 1277,
    "start_time": "2022-10-30T15:53:36.779Z"
   },
   {
    "duration": 1498,
    "start_time": "2022-10-30T15:53:38.058Z"
   },
   {
    "duration": 4,
    "start_time": "2022-10-30T15:53:39.559Z"
   },
   {
    "duration": 6396,
    "start_time": "2022-10-30T15:53:39.565Z"
   },
   {
    "duration": 6464,
    "start_time": "2022-10-30T15:53:45.962Z"
   },
   {
    "duration": 4,
    "start_time": "2022-10-30T15:53:52.429Z"
   },
   {
    "duration": 18,
    "start_time": "2022-10-30T15:53:52.434Z"
   },
   {
    "duration": 1600,
    "start_time": "2022-10-30T15:53:52.454Z"
   },
   {
    "duration": 118,
    "start_time": "2022-10-30T15:53:54.056Z"
   },
   {
    "duration": 0,
    "start_time": "2022-10-30T15:53:54.175Z"
   },
   {
    "duration": 0,
    "start_time": "2022-10-30T15:53:54.177Z"
   },
   {
    "duration": 0,
    "start_time": "2022-10-30T15:53:54.178Z"
   },
   {
    "duration": 4,
    "start_time": "2022-10-30T15:54:18.467Z"
   },
   {
    "duration": 1649,
    "start_time": "2022-10-30T15:54:20.491Z"
   },
   {
    "duration": 11,
    "start_time": "2022-10-30T15:54:25.816Z"
   },
   {
    "duration": 10,
    "start_time": "2022-10-30T15:54:44.905Z"
   },
   {
    "duration": 13,
    "start_time": "2022-10-30T15:55:00.691Z"
   },
   {
    "duration": 10,
    "start_time": "2022-10-30T15:55:15.993Z"
   },
   {
    "duration": 10,
    "start_time": "2022-10-30T15:55:37.068Z"
   },
   {
    "duration": 4,
    "start_time": "2022-10-30T15:55:45.280Z"
   },
   {
    "duration": 10,
    "start_time": "2022-10-30T15:56:17.094Z"
   },
   {
    "duration": 4,
    "start_time": "2022-10-30T15:57:10.006Z"
   },
   {
    "duration": 4,
    "start_time": "2022-10-30T15:57:20.981Z"
   },
   {
    "duration": 18,
    "start_time": "2022-10-30T15:57:26.644Z"
   },
   {
    "duration": 48,
    "start_time": "2022-10-30T15:58:50.541Z"
   },
   {
    "duration": 10,
    "start_time": "2022-10-30T15:58:59.720Z"
   },
   {
    "duration": 4,
    "start_time": "2022-10-30T16:01:39.036Z"
   },
   {
    "duration": 49,
    "start_time": "2022-10-30T16:02:16.197Z"
   },
   {
    "duration": 22,
    "start_time": "2022-10-30T16:02:21.148Z"
   },
   {
    "duration": 3,
    "start_time": "2022-10-30T16:09:03.039Z"
   },
   {
    "duration": 4,
    "start_time": "2022-10-30T16:09:06.300Z"
   },
   {
    "duration": 20,
    "start_time": "2022-10-30T16:09:09.811Z"
   },
   {
    "duration": 4,
    "start_time": "2022-10-30T16:09:26.389Z"
   },
   {
    "duration": 14,
    "start_time": "2022-10-30T16:09:32.926Z"
   },
   {
    "duration": 10,
    "start_time": "2022-10-30T16:10:12.440Z"
   },
   {
    "duration": 1570,
    "start_time": "2022-10-30T16:11:11.790Z"
   },
   {
    "duration": 4,
    "start_time": "2022-10-30T16:11:14.013Z"
   },
   {
    "duration": 1583,
    "start_time": "2022-10-30T16:11:14.317Z"
   },
   {
    "duration": 10,
    "start_time": "2022-10-30T16:11:29.914Z"
   },
   {
    "duration": 5,
    "start_time": "2022-10-30T16:11:51.565Z"
   },
   {
    "duration": 3,
    "start_time": "2022-10-30T16:11:57.991Z"
   },
   {
    "duration": 3,
    "start_time": "2022-10-30T16:12:01.039Z"
   },
   {
    "duration": 3,
    "start_time": "2022-10-30T16:12:06.653Z"
   },
   {
    "duration": 1382,
    "start_time": "2022-10-30T16:12:10.982Z"
   },
   {
    "duration": 725,
    "start_time": "2022-10-30T16:12:12.366Z"
   },
   {
    "duration": 25,
    "start_time": "2022-10-30T16:12:13.095Z"
   },
   {
    "duration": 6,
    "start_time": "2022-10-30T16:12:13.122Z"
   },
   {
    "duration": 56,
    "start_time": "2022-10-30T16:12:13.129Z"
   },
   {
    "duration": 80,
    "start_time": "2022-10-30T16:12:13.186Z"
   },
   {
    "duration": 270,
    "start_time": "2022-10-30T16:12:13.268Z"
   },
   {
    "duration": 828,
    "start_time": "2022-10-30T16:12:13.541Z"
   },
   {
    "duration": 120,
    "start_time": "2022-10-30T16:12:14.372Z"
   },
   {
    "duration": 114,
    "start_time": "2022-10-30T16:12:14.493Z"
   },
   {
    "duration": 29628,
    "start_time": "2022-10-30T16:12:14.609Z"
   },
   {
    "duration": 1260,
    "start_time": "2022-10-30T16:12:44.239Z"
   },
   {
    "duration": 1380,
    "start_time": "2022-10-30T16:12:45.501Z"
   },
   {
    "duration": 133,
    "start_time": "2022-10-30T16:12:46.883Z"
   },
   {
    "duration": 822,
    "start_time": "2022-10-30T16:12:47.017Z"
   },
   {
    "duration": 3,
    "start_time": "2022-10-30T16:12:47.841Z"
   },
   {
    "duration": 22,
    "start_time": "2022-10-30T16:12:47.846Z"
   },
   {
    "duration": 12,
    "start_time": "2022-10-30T16:12:47.870Z"
   },
   {
    "duration": 6,
    "start_time": "2022-10-30T16:12:47.884Z"
   },
   {
    "duration": 11,
    "start_time": "2022-10-30T16:12:47.892Z"
   },
   {
    "duration": 5,
    "start_time": "2022-10-30T16:12:47.904Z"
   },
   {
    "duration": 5,
    "start_time": "2022-10-30T16:12:47.911Z"
   },
   {
    "duration": 1238,
    "start_time": "2022-10-30T16:12:47.918Z"
   },
   {
    "duration": 1297,
    "start_time": "2022-10-30T16:12:49.158Z"
   },
   {
    "duration": 5,
    "start_time": "2022-10-30T16:12:50.457Z"
   },
   {
    "duration": 6281,
    "start_time": "2022-10-30T16:12:50.554Z"
   },
   {
    "duration": 6323,
    "start_time": "2022-10-30T16:12:56.839Z"
   },
   {
    "duration": 5,
    "start_time": "2022-10-30T16:13:03.164Z"
   },
   {
    "duration": 10,
    "start_time": "2022-10-30T16:13:03.170Z"
   },
   {
    "duration": 1573,
    "start_time": "2022-10-30T16:13:03.181Z"
   },
   {
    "duration": 4,
    "start_time": "2022-10-30T16:13:04.756Z"
   },
   {
    "duration": 1605,
    "start_time": "2022-10-30T16:13:04.762Z"
   },
   {
    "duration": 4,
    "start_time": "2022-10-30T16:13:06.369Z"
   },
   {
    "duration": 10,
    "start_time": "2022-10-30T16:18:51.594Z"
   },
   {
    "duration": 9,
    "start_time": "2022-10-30T16:19:06.079Z"
   },
   {
    "duration": 39,
    "start_time": "2022-10-30T19:04:39.400Z"
   },
   {
    "duration": 68,
    "start_time": "2022-10-30T19:06:30.041Z"
   },
   {
    "duration": 61,
    "start_time": "2022-10-30T19:08:00.927Z"
   },
   {
    "duration": 1460,
    "start_time": "2022-10-30T19:25:00.708Z"
   },
   {
    "duration": 783,
    "start_time": "2022-10-30T19:25:02.170Z"
   },
   {
    "duration": 25,
    "start_time": "2022-10-30T19:25:02.956Z"
   },
   {
    "duration": 6,
    "start_time": "2022-10-30T19:25:02.984Z"
   },
   {
    "duration": 63,
    "start_time": "2022-10-30T19:25:02.991Z"
   },
   {
    "duration": 58,
    "start_time": "2022-10-30T19:25:03.056Z"
   },
   {
    "duration": 289,
    "start_time": "2022-10-30T19:25:03.117Z"
   },
   {
    "duration": 890,
    "start_time": "2022-10-30T19:25:03.408Z"
   },
   {
    "duration": 131,
    "start_time": "2022-10-30T19:25:04.300Z"
   },
   {
    "duration": 121,
    "start_time": "2022-10-30T19:25:04.434Z"
   },
   {
    "duration": 31756,
    "start_time": "2022-10-30T19:25:04.557Z"
   },
   {
    "duration": 1404,
    "start_time": "2022-10-30T19:25:36.315Z"
   },
   {
    "duration": 1353,
    "start_time": "2022-10-30T19:25:37.721Z"
   },
   {
    "duration": 144,
    "start_time": "2022-10-30T19:25:39.076Z"
   },
   {
    "duration": 855,
    "start_time": "2022-10-30T19:25:39.221Z"
   },
   {
    "duration": 3,
    "start_time": "2022-10-30T19:25:40.078Z"
   },
   {
    "duration": 24,
    "start_time": "2022-10-30T19:25:40.083Z"
   },
   {
    "duration": 10,
    "start_time": "2022-10-30T19:25:40.108Z"
   },
   {
    "duration": 15,
    "start_time": "2022-10-30T19:25:40.119Z"
   },
   {
    "duration": 5,
    "start_time": "2022-10-30T19:25:40.155Z"
   },
   {
    "duration": 7,
    "start_time": "2022-10-30T19:25:40.162Z"
   },
   {
    "duration": 1386,
    "start_time": "2022-10-30T19:25:40.172Z"
   },
   {
    "duration": 1592,
    "start_time": "2022-10-30T19:25:41.562Z"
   },
   {
    "duration": 5,
    "start_time": "2022-10-30T19:25:43.157Z"
   },
   {
    "duration": 6725,
    "start_time": "2022-10-30T19:25:43.165Z"
   },
   {
    "duration": 6782,
    "start_time": "2022-10-30T19:25:49.892Z"
   },
   {
    "duration": 6,
    "start_time": "2022-10-30T19:25:56.676Z"
   },
   {
    "duration": 1659,
    "start_time": "2022-10-30T19:25:56.686Z"
   },
   {
    "duration": 1713,
    "start_time": "2022-10-30T19:25:58.347Z"
   },
   {
    "duration": 4,
    "start_time": "2022-10-30T19:26:00.062Z"
   },
   {
    "duration": 28,
    "start_time": "2022-10-30T19:26:00.067Z"
   }
  ],
  "kernelspec": {
   "display_name": "Python 3 (ipykernel)",
   "language": "python",
   "name": "python3"
  },
  "language_info": {
   "codemirror_mode": {
    "name": "ipython",
    "version": 3
   },
   "file_extension": ".py",
   "mimetype": "text/x-python",
   "name": "python",
   "nbconvert_exporter": "python",
   "pygments_lexer": "ipython3",
   "version": "3.11.4"
  },
  "toc": {
   "base_numbering": 1,
   "nav_menu": {},
   "number_sections": true,
   "sideBar": true,
   "skip_h1_title": true,
   "title_cell": "Содержание",
   "title_sidebar": "Contents",
   "toc_cell": true,
   "toc_position": {},
   "toc_section_display": true,
   "toc_window_display": true
  }
 },
 "nbformat": 4,
 "nbformat_minor": 2
}
